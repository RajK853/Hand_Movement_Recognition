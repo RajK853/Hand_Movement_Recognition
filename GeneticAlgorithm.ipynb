{
 "cells": [
  {
   "cell_type": "code",
   "execution_count": 1,
   "metadata": {},
   "outputs": [
    {
     "name": "stderr",
     "output_type": "stream",
     "text": [
      "Using TensorFlow backend.\n"
     ]
    }
   ],
   "source": [
    "import os.path\n",
    "import numpy as np\n",
    "from datetime import datetime\n",
    "import matplotlib.pyplot as plt\n",
    "\n",
    "import keras\n",
    "from keras.models import Model\n",
    "from keras.layers import Dense, Input, LSTM\n",
    "\n",
    "import sys\n",
    "sys.path.insert(0, \"src\")\n",
    "from Utils import load_processed_data, LABELS\n",
    "\n",
    "import random\n",
    "import IPython"
   ]
  },
  {
   "cell_type": "code",
   "execution_count": 2,
   "metadata": {},
   "outputs": [],
   "source": [
    "def execute_layers(inputs, layers):\n",
    "    \"\"\"\n",
    "    Computes each input to all given layers and return their outputs\n",
    "    @param inputs : List of inputs to be passed through the given layer(s)\n",
    "    @param layers : List of layers though which each input will be passed\n",
    "    @return       : List of output generated from each input\n",
    "    \"\"\"\n",
    "    outputs = []\n",
    "    for _input in inputs:\n",
    "        _output = _input\n",
    "        for layer in layers:\n",
    "            _output = layer(_output)\n",
    "        outputs.append(_output)\n",
    "    return outputs\n"
   ]
  },
  {
   "cell_type": "code",
   "execution_count": 3,
   "metadata": {},
   "outputs": [
    {
     "name": "stdout",
     "output_type": "stream",
     "text": [
      "Train data: 65, Test data: 725\n"
     ]
    }
   ],
   "source": [
    "max_review_length = 150\n",
    "NUM_LABELS = len(LABELS)\n",
    "data_train, labels_train, data_test, labels_test = load_processed_data(\"Processed Data 12.06.2019 00.05.csv\", \n",
    "                                                                       review_length=max_review_length, \n",
    "                                                                       pad_pos=\"start\",\n",
    "                                                                       train_ratio=0.08)\n",
    "print(\"Train data: {}, Test data: {}\".format(len(labels_train), len(labels_test)))"
   ]
  },
  {
   "cell_type": "code",
   "execution_count": 4,
   "metadata": {},
   "outputs": [],
   "source": [
    "class Host(object):\n",
    "    def __init__(self, _param=None, _score=0):\n",
    "        self.param = _param\n",
    "        self.score = _score\n",
    "\n",
    "    @property\n",
    "    def param_str(self):\n",
    "        return \",\".join(map(str, self.param))\n",
    "    \n",
    "    @param_str.setter\n",
    "    def param_str(self, value):\n",
    "        print(\"Permission denied!\")"
   ]
  },
  {
   "cell_type": "code",
   "execution_count": 12,
   "metadata": {},
   "outputs": [],
   "source": [
    "class Evolver(object):\n",
    "    def __init__(self, mask=\"111111\", decay_rate=0.022, mutate_prob=0.8, log_file=None):\n",
    "        self.mask = mask\n",
    "        self.decay_rate = decay_rate             # 0.022\n",
    "        self.decay = self.getDecay(t=0)\n",
    "        self.mutate_prob = mutate_prob\n",
    "        self.hosts = []\n",
    "        self.scores = []\n",
    "        self.host_num = 0\n",
    "        self.log_dir = \"Log\"\n",
    "        self.log_file = log_file or \"Log {date}.txt\".format(date=datetime.now().strftime(\"%d.%m.%Y %H.%M\"))\n",
    "        if not os.path.exists(self.log_dir):\n",
    "            print(\"- Creating log directory {}\".format(self.log_dir))\n",
    "            os.mkdir(self.log_dir)\n",
    "    \n",
    "    def generateModels(self, num_of_models=10, param=None, file_name=None):\n",
    "        self.hosts.clear()\n",
    "        if param:\n",
    "            if type(param) in (list, tuple):\n",
    "                print(\"Generating model from parameters!\")\n",
    "                self.hosts += [Host(p, score=0) for p in param]\n",
    "            else:\n",
    "                print(\"x Invalid param type received; {}\".format(type(param)))\n",
    "        elif file_name:\n",
    "            print(\"Generating model from a file!\")\n",
    "            self.loadParameters(file_name)\n",
    "        else:\n",
    "            print(\"Generating random models!\")\n",
    "            for i in range(num_of_models):\n",
    "                param = np.random.randint(low=1, high=256, size=4)\n",
    "                #param = [random.randint(1+i*10, 10+(i+2)*10) for i in range(4, 0, -1)]\n",
    "                self.hosts.append(Host(param, 0))\n",
    "        self.host_num = len(self.hosts)\n",
    "\n",
    "    def loadParameters(self, file_name):\n",
    "        def str2list(string):\n",
    "            string = string.rstrip(\"\\n\")\n",
    "            param, score = string.split(\"=\")\n",
    "            return (list(map(int, param.split(\",\"))), float(score))\n",
    "\n",
    "        with open(file_name, \"r\") as file:\n",
    "            self.hosts.clear()\n",
    "            for param in file:\n",
    "                _param, _score = str2list(param)\n",
    "                self.hosts.append(Host(_param, _score))\n",
    "        print(\"Parameters loaded from {}!\".format(file_name))\n",
    "            \n",
    "    def saveParameters(self, file_name, file_mode=\"w\"):\n",
    "        list2str = lambda array: \",\".join(map(str, array))\n",
    "        with open(os.path.join(self.log_dir, file_name), file_mode) as out_file:\n",
    "            for host in self.hosts:\n",
    "                out_file.write(\"{}={}\\n\".format(host.param_str, host.score))\n",
    "        print(\"Parameters saved at {}!\".format(file_name))\n",
    "            \n",
    "    def createModel(self, param, input_shape, output_size, name=\"Unknown\"):\n",
    "        input_x = Input(shape=input_shape, name=\"Acceleration_x\")\n",
    "        input_y = Input(shape=input_shape, name=\"Acceleration_y\")\n",
    "        input_z = Input(shape=input_shape, name=\"Acceleration_z\")\n",
    "        shared_layers = (LSTM(param[0],  activation=\"tanh\", name=\"Shared_LSTM\", dropout=0.5),\n",
    "                         Dense(param[1], activation=\"relu\", name=\"Shared_Dense_1\"),\n",
    "                         Dense(param[2], activation=\"relu\", name=\"Shared_Dense_2\"))\n",
    "        shared_output = execute_layers(inputs=(input_x, input_y, input_z), layers=shared_layers)\n",
    "        concat        = keras.layers.concatenate(shared_output,  name=\"Concatenate\")\n",
    "        dense_1       = Dense(param[3],    activation=\"relu\",    name=\"Dense_1\")(concat)\n",
    "        main_output   = Dense(output_size, activation=\"softmax\", name=\"Classification_Layer\")(dense_1)\n",
    "        return Model(inputs=[input_x, input_y, input_z], outputs=main_output)\n",
    "\n",
    "    def testModel(self, model, epochs=8, batch_size=10, verbose=0):\n",
    "        model.compile(loss='categorical_crossentropy', optimizer=\"adam\", metrics=['accuracy'])\n",
    "        model.fit(x=[*data_train], y=labels_train, epochs=epochs, batch_size=batch_size, verbose=verbose)\n",
    "        scores = model.evaluate(x=[*data_test], y=labels_test, batch_size=batch_size, verbose=verbose)\n",
    "        #print(\"Accuracy: %.2f%%\" % (scores[1]*100))\n",
    "        return scores[1]\n",
    "\n",
    "    def runTest(self):\n",
    "        progressPercent = lambda n: float(n)/self.host_num\n",
    "        out = display(IPython.display.Pretty(\" \"), display_id=True)\n",
    "        for i, host in enumerate(self.hosts):\n",
    "            out.update(IPython.display.Pretty(\"@ Training progress: {:>4.1f}%\".format(progressPercent(i+1)*100)))\n",
    "            if host.score == 0:\n",
    "                model = self.createModel(host.param, (1, max_review_length), NUM_LABELS, name=\"Model {}\".format(i))\n",
    "                fitness = self.testModel(model, epochs=5)\n",
    "                keras.backend.clear_session()\n",
    "                self.hosts[i].score = fitness\n",
    "        self.sortFitness()\n",
    "        self.saveParameters(self.log_file, \"a\")\n",
    "        self.scores.append(self.averageScore(self.host_num))\n",
    "    \n",
    "    def evolve(self, t):\n",
    "        evolve_num = int(self.host_num/2)\n",
    "        new_hosts = []\n",
    "        print(\"\\n- Evolving the hosts\")\n",
    "        print(\"  - Removing half of the weaker hosts\")\n",
    "        del self.hosts[-evolve_num:]\n",
    "        print(\"  - Crossovering top 2 hosts\")\n",
    "        crossover_param = self.crossover(self.hosts[0].param.copy(), self.hosts[1].param.copy(), 4)\n",
    "        for param in crossover_param:\n",
    "            new_hosts.append(Host(param, 0))\n",
    "        print(\"  - Mutating remaining top hosts\")\n",
    "        mutation_num = evolve_num - len(crossover_param)\n",
    "        self.decay = self.getDecay(t)\n",
    "        for _ in range(mutation_num):\n",
    "            param = random.choice(self.hosts).param.copy()\n",
    "            mutated_param = self.mutate(param)\n",
    "            new_hosts.append(Host(mutated_param, 0))\n",
    "        print(\"  - Adding hosts\")\n",
    "        print(\"    {}\".format(\", \".join(\"[{}]\".format(host.param_str) for host in new_hosts)))\n",
    "        self.hosts += new_hosts\n",
    "        new_hosts.clear()\n",
    "\n",
    "    def sortFitness(self):\n",
    "        self.hosts = sorted(self.hosts, key=lambda host: host.score, reverse=True)\n",
    "\n",
    "    def _maskHost(self, host, mask):\n",
    "        return [value for value, mask_bit in zip(host, mask) if mask_bit == \"1\"]\n",
    "\n",
    "    def masking(*host_indexs):\n",
    "        def decorator(func):\n",
    "            @wraps(func)\n",
    "            def wrapper(self, *args, **kwargs):\n",
    "                mask = kwargs.get(\"mask\", self.mask)\n",
    "                if args:\n",
    "                    args = list(args)\n",
    "                for i in host_indexs:\n",
    "                    args[i] = self._maskHost(args[i], mask)\n",
    "                result = func(self, *args, **kwargs)\n",
    "                return result\n",
    "            return wrapper\n",
    "        return decorator\n",
    "\n",
    "    def crossover(self, paramA, paramB, max_crossover=None, mask=None):\n",
    "        assert len(paramA) == len(paramB), \"Host A and B are not of same length; {} and {}\".format(len(paramA), len(paramB))\n",
    "        HOST_LEN = len(paramA)\n",
    "        max_crossover = max_crossover or HOST_LEN\n",
    "        assert 0 <= max_crossover <= HOST_LEN, \"Maximum cross number greater than crossable host length\"\n",
    "\n",
    "        cross_index = {random.randint(0, HOST_LEN-1) for _ in range(max_crossover)}\n",
    "        cross_index_A = list(cross_index.copy())\n",
    "        cross_index_B = list(cross_index.copy())\n",
    "        del cross_index\n",
    "        random.shuffle(cross_index_B)\n",
    "\n",
    "        print(\"    {} & {}\".format(paramA, paramB), end=\" >> \")\n",
    "        print(cross_index_A, cross_index_B, sep=\" & \", end=\" >> \")\n",
    "        for i, j in zip(cross_index_A, cross_index_B):\n",
    "            paramA[i], paramB[j] = paramB[j], paramA[i]\n",
    "        print(\"{} & {}\".format(paramA, paramB))\n",
    "        return paramA, paramB\n",
    "\n",
    "    def getDecay(self, t=0):\n",
    "        e = 2.718\n",
    "        return e**(-self.decay_rate*t)\n",
    "\n",
    "    def mutate(self, param, mask=None):\n",
    "        PARAM_LEN = len(param)\n",
    "        print(\"   \", param, end=\" >> \")\n",
    "        mutate_prob = self.mutate_prob*self.decay\n",
    "        mutate_limit = max(1, round(20*self.decay))\n",
    "        for i in range(PARAM_LEN):\n",
    "            if random.random() <= mutate_prob:\n",
    "                rand_value = random.randint(-mutate_limit, mutate_limit)\n",
    "                param[i] = max(8, param[i] + rand_value)\n",
    "                del rand_value\n",
    "        print(param)\n",
    "        return param\n",
    "\n",
    "    def printHosts(self):\n",
    "        print(\"\\n# All hosts\")\n",
    "        for i in range(self.host_num):\n",
    "            print(\" {:>2}) {}: {:.5f}\".format(i+1, self.hosts[i].param, self.hosts[i].score), end=\"\\t\\t\")\n",
    "            if not (i+1)%2:\n",
    "                print()\n",
    "        print(\"- Average score: {:.5f}\".format(self.scores[-1]))\n",
    "\n",
    "    def averageScore(self, num=3):\n",
    "        assert 0 < num <= self.host_num, \"Given number out of range!\"\n",
    "        mean_score = sum(self.hosts[i].score for i in range(num))/num\n",
    "        return mean_score"
   ]
  },
  {
   "cell_type": "code",
   "execution_count": 13,
   "metadata": {},
   "outputs": [
    {
     "name": "stdout",
     "output_type": "stream",
     "text": [
      "Generating random models!\n"
     ]
    }
   ],
   "source": [
    "evo = Evolver(decay_rate=0.001)\n",
    "evo.generateModels(20)"
   ]
  },
  {
   "cell_type": "code",
   "execution_count": 14,
   "metadata": {
    "scrolled": true
   },
   "outputs": [
    {
     "name": "stdout",
     "output_type": "stream",
     "text": [
      "# Generation 0\n"
     ]
    },
    {
     "data": {
      "text/plain": [
       "@ Training progress: 100.0%"
      ]
     },
     "metadata": {},
     "output_type": "display_data"
    },
    {
     "name": "stdout",
     "output_type": "stream",
     "text": [
      "Parameters saved at Log 05.08.2019 16.17.txt!\n",
      "\n",
      "# All hosts\n",
      "  1) [215  57  99 247]: 0.88414\t\t  2) [205 156 144 105]: 0.87448\t\t\n",
      "  3) [137  37  50 162]: 0.85655\t\t  4) [ 85 251 240 102]: 0.83310\t\t\n",
      "  5) [174  51 160 191]: 0.82621\t\t  6) [127 245  29 190]: 0.81793\t\t\n",
      "  7) [230  79 100  44]: 0.81379\t\t  8) [ 26 237 106 171]: 0.77793\t\t\n",
      "  9) [ 66  42 116 205]: 0.76966\t\t 10) [244  85  50 210]: 0.76000\t\t\n",
      " 11) [ 28  53 222 121]: 0.74897\t\t 12) [122 133 131  21]: 0.72966\t\t\n",
      " 13) [  5 126 210 219]: 0.70345\t\t 14) [134 142 177  59]: 0.69517\t\t\n",
      " 15) [ 57  56 201  72]: 0.69379\t\t 16) [231   3 235 253]: 0.68690\t\t\n",
      " 17) [134  79  96  84]: 0.65931\t\t 18) [ 92 235  16 156]: 0.57103\t\t\n",
      " 19) [180 125  10  32]: 0.50759\t\t 20) [212  73 146   8]: 0.40828\t\t\n",
      "- Average score: 0.73090\n",
      "\n",
      "- Evolving the hosts\n",
      "  - Removing half of the weaker hosts\n",
      "  - Crossovering top 2 hosts\n",
      "    [215  57  99 247] & [205 156 144 105] >> [0, 3] & [0, 3] >> [205  57  99 105] & [215 156 144 247]\n",
      "  - Mutating remaining top hosts\n",
      "    [ 66  42 116 205] >> [ 80  42 116 197]\n",
      "    [ 26 237 106 171] >> [ 35 237  97 183]\n",
      "    [244  85  50 210] >> [264  79  32 210]\n",
      "    [215  57  99 247] >> [234  46 114 260]\n",
      "    [137  37  50 162] >> [148  45  50 171]\n",
      "    [127 245  29 190] >> [109 227  43 190]\n",
      "    [127 245  29 190] >> [127 236  27 198]\n",
      "    [ 26 237 106 171] >> [ 19 240 106 152]\n",
      "  - Adding hosts\n",
      "    [205,57,99,105], [215,156,144,247], [80,42,116,197], [35,237,97,183], [264,79,32,210], [234,46,114,260], [148,45,50,171], [109,227,43,190], [127,236,27,198], [19,240,106,152]\n",
      "\n",
      "# Generation 1\n"
     ]
    },
    {
     "data": {
      "text/plain": [
       "@ Training progress: 100.0%"
      ]
     },
     "metadata": {},
     "output_type": "display_data"
    },
    {
     "name": "stdout",
     "output_type": "stream",
     "text": [
      "Parameters saved at Log 05.08.2019 16.17.txt!\n",
      "\n",
      "# All hosts\n",
      "  1) [205  57  99 105]: 0.89103\t\t  2) [127 236  27 198]: 0.88690\t\t\n",
      "  3) [215  57  99 247]: 0.88414\t\t  4) [264  79  32 210]: 0.87586\t\t\n",
      "  5) [205 156 144 105]: 0.87448\t\t  6) [137  37  50 162]: 0.85655\t\t\n",
      "  7) [234  46 114 260]: 0.84414\t\t  8) [ 85 251 240 102]: 0.83310\t\t\n",
      "  9) [ 35 237  97 183]: 0.82897\t\t 10) [174  51 160 191]: 0.82621\t\t\n",
      " 11) [127 245  29 190]: 0.81793\t\t 12) [230  79 100  44]: 0.81379\t\t\n",
      " 13) [109 227  43 190]: 0.79862\t\t 14) [ 26 237 106 171]: 0.77793\t\t\n",
      " 15) [ 66  42 116 205]: 0.76966\t\t 16) [244  85  50 210]: 0.76000\t\t\n",
      " 17) [215 156 144 247]: 0.74345\t\t 18) [ 80  42 116 197]: 0.73517\t\t\n",
      " 19) [148  45  50 171]: 0.63034\t\t 20) [ 19 240 106 152]: 0.60414\t\t\n",
      "- Average score: 0.80262\n",
      "\n",
      "- Evolving the hosts\n",
      "  - Removing half of the weaker hosts\n",
      "  - Crossovering top 2 hosts\n",
      "    [205  57  99 105] & [127 236  27 198] >> [1, 3] & [1, 3] >> [205 236  99 198] & [127  57  27 105]\n",
      "  - Mutating remaining top hosts\n",
      "    [264  79  32 210] >> [275  84  46 227]\n",
      "    [137  37  50 162] >> [147  40  50 167]\n",
      "    [205  57  99 105] >> [215  52  87  97]\n",
      "    [174  51 160 191] >> [194  67 174 174]\n",
      "    [174  51 160 191] >> [166  51 160 206]\n",
      "    [137  37  50 162] >> [127  39  44 158]\n",
      "    [264  79  32 210] >> [267  78  24 210]\n",
      "    [127 236  27 198] >> [120 236  31 205]\n",
      "  - Adding hosts\n",
      "    [205,236,99,198], [127,57,27,105], [275,84,46,227], [147,40,50,167], [215,52,87,97], [194,67,174,174], [166,51,160,206], [127,39,44,158], [267,78,24,210], [120,236,31,205]\n",
      "\n",
      "# Generation 2\n"
     ]
    },
    {
     "data": {
      "text/plain": [
       "@ Training progress: 100.0%"
      ]
     },
     "metadata": {},
     "output_type": "display_data"
    },
    {
     "name": "stdout",
     "output_type": "stream",
     "text": [
      "Parameters saved at Log 05.08.2019 16.17.txt!\n",
      "\n",
      "# All hosts\n",
      "  1) [275  84  46 227]: 0.90207\t\t  2) [215  52  87  97]: 0.89931\t\t\n",
      "  3) [205  57  99 105]: 0.89103\t\t  4) [127 236  27 198]: 0.88690\t\t\n",
      "  5) [215  57  99 247]: 0.88414\t\t  6) [166  51 160 206]: 0.88000\t\t\n",
      "  7) [264  79  32 210]: 0.87586\t\t  8) [205 156 144 105]: 0.87448\t\t\n",
      "  9) [194  67 174 174]: 0.86897\t\t 10) [137  37  50 162]: 0.85655\t\t\n",
      " 11) [234  46 114 260]: 0.84414\t\t 12) [147  40  50 167]: 0.83862\t\t\n",
      " 13) [ 85 251 240 102]: 0.83310\t\t 14) [ 35 237  97 183]: 0.82897\t\t\n",
      " 15) [174  51 160 191]: 0.82621\t\t 16) [120 236  31 205]: 0.80000\t\t\n",
      " 17) [127  39  44 158]: 0.76552\t\t 18) [267  78  24 210]: 0.75586\t\t\n",
      " 19) [205 236  99 198]: 0.74345\t\t 20) [127  57  27 105]: 0.57241\t\t\n",
      "- Average score: 0.83138\n",
      "\n",
      "- Evolving the hosts\n",
      "  - Removing half of the weaker hosts\n",
      "  - Crossovering top 2 hosts\n",
      "    [275  84  46 227] & [215  52  87  97] >> [0, 1, 2, 3] & [2, 3, 0, 1] >> [ 87  97 215  52] & [ 46 227 275  84]\n",
      "  - Mutating remaining top hosts\n",
      "    [194  67 174 174] >> [176  73 174 174]\n",
      "    [205 156 144 105] >> [196 157 127 119]\n",
      "    [215  57  99 247] >> [215  38  84 267]\n",
      "    [194  67 174 174] >> [214  67 155 182]\n",
      "    [127 236  27 198] >> [139 231  11 198]\n",
      "    [205  57  99 105] >> [205  47  82 105]\n",
      "    [215  52  87  97] >> [206  66  87  90]\n",
      "    [194  67 174 174] >> [211  83 174 173]\n",
      "  - Adding hosts\n",
      "    [87,97,215,52], [46,227,275,84], [176,73,174,174], [196,157,127,119], [215,38,84,267], [214,67,155,182], [139,231,11,198], [205,47,82,105], [206,66,87,90], [211,83,174,173]\n",
      "\n",
      "# Generation 3\n"
     ]
    },
    {
     "data": {
      "text/plain": [
       "@ Training progress: 100.0%"
      ]
     },
     "metadata": {},
     "output_type": "display_data"
    },
    {
     "name": "stdout",
     "output_type": "stream",
     "text": [
      "Parameters saved at Log 05.08.2019 16.17.txt!\n",
      "\n",
      "# All hosts\n",
      "  1) [275  84  46 227]: 0.90207\t\t  2) [215  52  87  97]: 0.89931\t\t\n",
      "  3) [196 157 127 119]: 0.89241\t\t  4) [215  38  84 267]: 0.89241\t\t\n",
      "  5) [205  57  99 105]: 0.89103\t\t  6) [ 87  97 215  52]: 0.88966\t\t\n",
      "  7) [214  67 155 182]: 0.88966\t\t  8) [127 236  27 198]: 0.88690\t\t\n",
      "  9) [215  57  99 247]: 0.88414\t\t 10) [166  51 160 206]: 0.88000\t\t\n",
      " 11) [264  79  32 210]: 0.87586\t\t 12) [205 156 144 105]: 0.87448\t\t\n",
      " 13) [211  83 174 173]: 0.87310\t\t 14) [194  67 174 174]: 0.86897\t\t\n",
      " 15) [137  37  50 162]: 0.85655\t\t 16) [206  66  87  90]: 0.83310\t\t\n",
      " 17) [205  47  82 105]: 0.81793\t\t 18) [176  73 174 174]: 0.74483\t\t\n",
      " 19) [139 231  11 198]: 0.72276\t\t 20) [ 46 227 275  84]: 0.69931\t\t\n",
      "- Average score: 0.85372\n",
      "\n",
      "- Evolving the hosts\n",
      "  - Removing half of the weaker hosts\n",
      "  - Crossovering top 2 hosts\n",
      "    [275  84  46 227] & [215  52  87  97] >> [1, 3] & [1, 3] >> [275  52  46  97] & [215  84  87 227]\n",
      "  - Mutating remaining top hosts\n",
      "    [ 87  97 215  52] >> [ 67 108 204  64]\n",
      "    [166  51 160 206] >> [177  65 155 204]\n",
      "    [127 236  27 198] >> [146 236  16 178]\n",
      "    [214  67 155 182] >> [210  60 165 191]\n",
      "    [275  84  46 227] >> [290  65  46 227]\n",
      "    [205  57  99 105] >> [205  65  88 103]\n",
      "    [ 87  97 215  52] >> [ 87  86 235  52]\n",
      "    [214  67 155 182] >> [214  67 157 180]\n",
      "  - Adding hosts\n",
      "    [275,52,46,97], [215,84,87,227], [67,108,204,64], [177,65,155,204], [146,236,16,178], [210,60,165,191], [290,65,46,227], [205,65,88,103], [87,86,235,52], [214,67,157,180]\n",
      "\n",
      "# Generation 4\n"
     ]
    },
    {
     "data": {
      "text/plain": [
       "@ Training progress: 100.0%"
      ]
     },
     "metadata": {},
     "output_type": "display_data"
    },
    {
     "name": "stdout",
     "output_type": "stream",
     "text": [
      "Parameters saved at Log 05.08.2019 16.17.txt!\n",
      "\n",
      "# All hosts\n",
      "  1) [275  84  46 227]: 0.90207\t\t  2) [215  52  87  97]: 0.89931\t\t\n",
      "  3) [196 157 127 119]: 0.89241\t\t  4) [215  38  84 267]: 0.89241\t\t\n",
      "  5) [177  65 155 204]: 0.89103\t\t  6) [205  57  99 105]: 0.89103\t\t\n",
      "  7) [ 87  97 215  52]: 0.88966\t\t  8) [214  67 157 180]: 0.88966\t\t\n",
      "  9) [214  67 155 182]: 0.88966\t\t 10) [127 236  27 198]: 0.88690\t\t\n",
      " 11) [215  57  99 247]: 0.88414\t\t 12) [166  51 160 206]: 0.88000\t\t\n",
      " 13) [215  84  87 227]: 0.87310\t\t 14) [290  65  46 227]: 0.86483\t\t\n",
      " 15) [275  52  46  97]: 0.85241\t\t 16) [210  60 165 191]: 0.84966\t\t\n",
      " 17) [205  65  88 103]: 0.83448\t\t 18) [146 236  16 178]: 0.77655\t\t\n",
      " 19) [ 87  86 235  52]: 0.74207\t\t 20) [ 67 108 204  64]: 0.71172\t\t\n",
      "- Average score: 0.85966\n",
      "\n",
      "- Evolving the hosts\n",
      "  - Removing half of the weaker hosts\n",
      "  - Crossovering top 2 hosts\n",
      "    [275  84  46 227] & [215  52  87  97] >> [0, 1, 2, 3] & [2, 1, 3, 0] >> [ 87  52  97 215] & [227  84 275  46]\n",
      "  - Mutating remaining top hosts\n",
      "    [177  65 155 204] >> [180  54 136 213]\n",
      "    [214  67 155 182] >> [197  74 142 165]\n",
      "    [205  57  99 105] >> [205  57  92 120]\n",
      "    [215  52  87  97] >> [196  66  69 101]\n",
      "    [127 236  27 198] >> [120 230  23 194]\n",
      "    [177  65 155 204] >> [196  65 137 184]\n",
      "    [214  67 155 182] >> [230  67 136 172]\n",
      "    [214  67 155 182] >> [208  62 155 202]\n",
      "  - Adding hosts\n",
      "    [87,52,97,215], [227,84,275,46], [180,54,136,213], [197,74,142,165], [205,57,92,120], [196,66,69,101], [120,230,23,194], [196,65,137,184], [230,67,136,172], [208,62,155,202]\n",
      "\n",
      "# Generation 5\n"
     ]
    },
    {
     "data": {
      "text/plain": [
       "@ Training progress: 100.0%"
      ]
     },
     "metadata": {},
     "output_type": "display_data"
    },
    {
     "name": "stdout",
     "output_type": "stream",
     "text": [
      "Parameters saved at Log 05.08.2019 16.17.txt!\n",
      "\n",
      "# All hosts\n",
      "  1) [275  84  46 227]: 0.90207\t\t  2) [215  52  87  97]: 0.89931\t\t\n",
      "  3) [196  65 137 184]: 0.89793\t\t  4) [208  62 155 202]: 0.89517\t\t\n",
      "  5) [196 157 127 119]: 0.89241\t\t  6) [215  38  84 267]: 0.89241\t\t\n",
      "  7) [177  65 155 204]: 0.89103\t\t  8) [205  57  99 105]: 0.89103\t\t\n",
      "  9) [ 87  97 215  52]: 0.88966\t\t 10) [214  67 157 180]: 0.88966\t\t\n",
      " 11) [214  67 155 182]: 0.88966\t\t 12) [127 236  27 198]: 0.88690\t\t\n",
      " 13) [196  66  69 101]: 0.85517\t\t 14) [180  54 136 213]: 0.84966\t\t\n",
      " 15) [205  57  92 120]: 0.82759\t\t 16) [ 87  52  97 215]: 0.81517\t\t\n",
      " 17) [230  67 136 172]: 0.80828\t\t 18) [227  84 275  46]: 0.80552\t\t\n",
      " 19) [197  74 142 165]: 0.76414\t\t 20) [120 230  23 194]: 0.72000\t\t\n",
      "- Average score: 0.85814\n",
      "\n",
      "- Evolving the hosts\n",
      "  - Removing half of the weaker hosts\n",
      "  - Crossovering top 2 hosts\n",
      "    [275  84  46 227] & [215  52  87  97] >> [0, 1, 2] & [1, 2, 0] >> [ 52  87 215 227] & [ 46 275  84  97]\n",
      "  - Mutating remaining top hosts\n",
      "    [177  65 155 204] >> [188  53 148 185]\n",
      "    [ 87  97 215  52] >> [ 99  97 230  45]\n",
      "    [275  84  46 227] >> [289 104  46 215]\n",
      "    [215  38  84 267] >> [219  38  90 249]\n",
      "    [196 157 127 119] >> [214 151 133 123]\n",
      "    [177  65 155 204] >> [166  64 162 211]\n",
      "    [ 87  97 215  52] >> [ 76 100 215  42]\n",
      "    [177  65 155 204] >> [170  80 166 204]\n",
      "  - Adding hosts\n",
      "    [52,87,215,227], [46,275,84,97], [188,53,148,185], [99,97,230,45], [289,104,46,215], [219,38,90,249], [214,151,133,123], [166,64,162,211], [76,100,215,42], [170,80,166,204]\n",
      "\n",
      "# Generation 6\n"
     ]
    },
    {
     "data": {
      "text/plain": [
       "@ Training progress: 100.0%"
      ]
     },
     "metadata": {},
     "output_type": "display_data"
    },
    {
     "name": "stdout",
     "output_type": "stream",
     "text": [
      "Parameters saved at Log 05.08.2019 16.17.txt!\n",
      "\n",
      "# All hosts\n",
      "  1) [275  84  46 227]: 0.90207\t\t  2) [215  52  87  97]: 0.89931\t\t\n",
      "  3) [196  65 137 184]: 0.89793\t\t  4) [208  62 155 202]: 0.89517\t\t\n",
      "  5) [196 157 127 119]: 0.89241\t\t  6) [215  38  84 267]: 0.89241\t\t\n",
      "  7) [177  65 155 204]: 0.89103\t\t  8) [205  57  99 105]: 0.89103\t\t\n",
      "  9) [ 87  97 215  52]: 0.88966\t\t 10) [214  67 157 180]: 0.88966\t\t\n",
      " 11) [166  64 162 211]: 0.86621\t\t 12) [289 104  46 215]: 0.86207\t\t\n",
      " 13) [188  53 148 185]: 0.85517\t\t 14) [ 52  87 215 227]: 0.83448\t\t\n",
      " 15) [170  80 166 204]: 0.76828\t\t 16) [219  38  90 249]: 0.76138\t\t\n",
      " 17) [214 151 133 123]: 0.75448\t\t 18) [ 46 275  84  97]: 0.68966\t\t\n",
      " 19) [ 76 100 215  42]: 0.64276\t\t 20) [ 99  97 230  45]: 0.62207\t\t\n",
      "- Average score: 0.82986\n",
      "\n",
      "- Evolving the hosts\n",
      "  - Removing half of the weaker hosts\n",
      "  - Crossovering top 2 hosts\n",
      "    [275  84  46 227] & [215  52  87  97] >> [1, 2] & [1, 2] >> [275  52  87 227] & [215  84  46  97]\n",
      "  - Mutating remaining top hosts\n",
      "    [205  57  99 105] >> [208  57 116 125]\n",
      "    [208  62 155 202] >> [222  42 174 202]\n",
      "    [196  65 137 184] >> [181  51 120 204]\n",
      "    [177  65 155 204] >> [172  50 173 209]\n",
      "    [ 87  97 215  52] >> [ 87  93 195  33]\n",
      "    [ 87  97 215  52] >> [103  97 227  70]\n",
      "    [177  65 155 204] >> [159  74 140 191]\n",
      "    [215  38  84 267] >> [216  26  65 267]\n",
      "  - Adding hosts\n",
      "    [275,52,87,227], [215,84,46,97], [208,57,116,125], [222,42,174,202], [181,51,120,204], [172,50,173,209], [87,93,195,33], [103,97,227,70], [159,74,140,191], [216,26,65,267]\n",
      "\n",
      "# Generation 7\n"
     ]
    },
    {
     "data": {
      "text/plain": [
       "@ Training progress: 100.0%"
      ]
     },
     "metadata": {},
     "output_type": "display_data"
    },
    {
     "name": "stdout",
     "output_type": "stream",
     "text": [
      "Parameters saved at Log 05.08.2019 16.17.txt!\n",
      "\n",
      "# All hosts\n",
      "  1) [275  84  46 227]: 0.90207\t\t  2) [215  52  87  97]: 0.89931\t\t\n",
      "  3) [196  65 137 184]: 0.89793\t\t  4) [208  62 155 202]: 0.89517\t\t\n",
      "  5) [196 157 127 119]: 0.89241\t\t  6) [215  38  84 267]: 0.89241\t\t\n",
      "  7) [177  65 155 204]: 0.89103\t\t  8) [205  57  99 105]: 0.89103\t\t\n",
      "  9) [ 87  97 215  52]: 0.88966\t\t 10) [214  67 157 180]: 0.88966\t\t\n",
      " 11) [222  42 174 202]: 0.88414\t\t 12) [216  26  65 267]: 0.87448\t\t\n",
      " 13) [103  97 227  70]: 0.86621\t\t 14) [208  57 116 125]: 0.86069\t\t\n",
      " 15) [159  74 140 191]: 0.85655\t\t 16) [172  50 173 209]: 0.81793\t\t\n",
      " 17) [181  51 120 204]: 0.77379\t\t 18) [215  84  46  97]: 0.75310\t\t\n",
      " 19) [275  52  87 227]: 0.70345\t\t 20) [ 87  93 195  33]: 0.59586\t\t\n",
      "- Average score: 0.84634\n",
      "\n",
      "- Evolving the hosts\n",
      "  - Removing half of the weaker hosts\n",
      "  - Crossovering top 2 hosts\n",
      "    [275  84  46 227] & [215  52  87  97] >> [1, 2, 3] & [3, 2, 1] >> [275  97  87  52] & [215 227  46  84]\n",
      "  - Mutating remaining top hosts\n",
      "    [275  84  46 227] >> [282  92  48 239]\n",
      "    [208  62 155 202] >> [201  42 141 186]\n",
      "    [177  65 155 204] >> [178  70 139 186]\n",
      "    [215  52  87  97] >> [230  67  99  96]\n",
      "    [ 87  97 215  52] >> [106 115 204  52]\n",
      "    [214  67 157 180] >> [198  47 140 167]\n",
      "    [205  57  99 105] >> [205  74  89 105]\n",
      "    [205  57  99 105] >> [218  43  99 105]\n",
      "  - Adding hosts\n",
      "    [275,97,87,52], [215,227,46,84], [282,92,48,239], [201,42,141,186], [178,70,139,186], [230,67,99,96], [106,115,204,52], [198,47,140,167], [205,74,89,105], [218,43,99,105]\n",
      "\n",
      "# Generation 8\n"
     ]
    },
    {
     "data": {
      "text/plain": [
       "@ Training progress: 100.0%"
      ]
     },
     "metadata": {},
     "output_type": "display_data"
    },
    {
     "name": "stdout",
     "output_type": "stream",
     "text": [
      "Parameters saved at Log 05.08.2019 16.17.txt!\n",
      "\n",
      "# All hosts\n",
      "  1) [275  84  46 227]: 0.90207\t\t  2) [275  97  87  52]: 0.90207\t\t\n",
      "  3) [215  52  87  97]: 0.89931\t\t  4) [196  65 137 184]: 0.89793\t\t\n",
      "  5) [208  62 155 202]: 0.89517\t\t  6) [196 157 127 119]: 0.89241\t\t\n",
      "  7) [215  38  84 267]: 0.89241\t\t  8) [198  47 140 167]: 0.89241\t\t\n",
      "  9) [177  65 155 204]: 0.89103\t\t 10) [205  57  99 105]: 0.89103\t\t\n",
      " 11) [ 87  97 215  52]: 0.88966\t\t 12) [214  67 157 180]: 0.88966\t\t\n",
      " 13) [178  70 139 186]: 0.88690\t\t 14) [201  42 141 186]: 0.85931\t\t\n",
      " 15) [205  74  89 105]: 0.85655\t\t 16) [218  43  99 105]: 0.84276\t\t\n",
      " 17) [230  67  99  96]: 0.84138\t\t 18) [282  92  48 239]: 0.82621\t\t\n",
      " 19) [215 227  46  84]: 0.81931\t\t 20) [106 115 204  52]: 0.65517\t\t\n",
      "- Average score: 0.86614\n",
      "\n",
      "- Evolving the hosts\n",
      "  - Removing half of the weaker hosts\n",
      "  - Crossovering top 2 hosts\n",
      "    [275  84  46 227] & [275  97  87  52] >> [0, 1, 2] & [1, 0, 2] >> [ 97 275  87 227] & [ 84 275  46  52]\n",
      "  - Mutating remaining top hosts\n",
      "    [208  62 155 202] >> [219  73 137 202]\n",
      "    [275  97  87  52] >> [275  79 100  38]\n",
      "    [208  62 155 202] >> [191  81 145 188]\n",
      "    [205  57  99 105] >> [224  70  83 108]\n",
      "    [215  52  87  97] >> [201  64  99  97]\n",
      "    [196 157 127 119] >> [198 173 114 128]\n",
      "    [205  57  99 105] >> [203  57  91 115]\n",
      "    [196 157 127 119] >> [198 147 141 109]\n",
      "  - Adding hosts\n",
      "    [97,275,87,227], [84,275,46,52], [219,73,137,202], [275,79,100,38], [191,81,145,188], [224,70,83,108], [201,64,99,97], [198,173,114,128], [203,57,91,115], [198,147,141,109]\n",
      "\n",
      "# Generation 9\n"
     ]
    },
    {
     "data": {
      "text/plain": [
       "@ Training progress: 100.0%"
      ]
     },
     "metadata": {},
     "output_type": "display_data"
    },
    {
     "name": "stdout",
     "output_type": "stream",
     "text": [
      "Parameters saved at Log 05.08.2019 16.17.txt!\n",
      "\n",
      "# All hosts\n",
      "  1) [275  84  46 227]: 0.90207\t\t  2) [275  97  87  52]: 0.90207\t\t\n",
      "  3) [215  52  87  97]: 0.89931\t\t  4) [196  65 137 184]: 0.89793\t\t\n",
      "  5) [208  62 155 202]: 0.89517\t\t  6) [201  64  99  97]: 0.89379\t\t\n",
      "  7) [196 157 127 119]: 0.89241\t\t  8) [215  38  84 267]: 0.89241\t\t\n",
      "  9) [198  47 140 167]: 0.89241\t\t 10) [177  65 155 204]: 0.89103\t\t\n",
      " 11) [205  57  99 105]: 0.89103\t\t 12) [198 147 141 109]: 0.88276\t\t\n",
      " 13) [203  57  91 115]: 0.87172\t\t 14) [224  70  83 108]: 0.84690\t\t\n",
      " 15) [191  81 145 188]: 0.83034\t\t 16) [198 173 114 128]: 0.80414\t\t\n",
      " 17) [219  73 137 202]: 0.78897\t\t 18) [ 97 275  87 227]: 0.73517\t\t\n",
      " 19) [275  79 100  38]: 0.68276\t\t 20) [ 84 275  46  52]: 0.64414\t\t\n",
      "- Average score: 0.84683\n",
      "\n",
      "- Evolving the hosts\n",
      "  - Removing half of the weaker hosts\n",
      "  - Crossovering top 2 hosts\n",
      "    [275  84  46 227] & [275  97  87  52] >> [2, 3] & [3, 2] >> [275  84  52  87] & [275  97 227  46]\n",
      "  - Mutating remaining top hosts\n",
      "    [208  62 155 202] >> [194  62 155 187]\n",
      "    [215  52  87  97] >> [215  70  74 113]\n",
      "    [208  62 155 202] >> [212  58 146 183]\n",
      "    [177  65 155 204] >> [158  74 162 197]\n",
      "    [208  62 155 202] >> [213  80 155 202]\n",
      "    [196  65 137 184] >> [181  79 155 187]\n",
      "    [215  52  87  97] >> [199  50  87  88]\n",
      "    [215  38  84 267] >> [235  29  73 262]\n",
      "  - Adding hosts\n",
      "    [275,84,52,87], [275,97,227,46], [194,62,155,187], [215,70,74,113], [212,58,146,183], [158,74,162,197], [213,80,155,202], [181,79,155,187], [199,50,87,88], [235,29,73,262]\n",
      "\n",
      "# Generation 10\n"
     ]
    },
    {
     "data": {
      "text/plain": [
       "@ Training progress: 100.0%"
      ]
     },
     "metadata": {},
     "output_type": "display_data"
    },
    {
     "name": "stdout",
     "output_type": "stream",
     "text": [
      "Parameters saved at Log 05.08.2019 16.17.txt!\n",
      "\n",
      "# All hosts\n",
      "  1) [215  70  74 113]: 0.90345\t\t  2) [275  84  46 227]: 0.90207\t\t\n",
      "  3) [275  97  87  52]: 0.90207\t\t  4) [215  52  87  97]: 0.89931\t\t\n",
      "  5) [196  65 137 184]: 0.89793\t\t  6) [208  62 155 202]: 0.89517\t\t\n",
      "  7) [201  64  99  97]: 0.89379\t\t  8) [196 157 127 119]: 0.89241\t\t\n",
      "  9) [215  38  84 267]: 0.89241\t\t 10) [198  47 140 167]: 0.89241\t\t\n",
      " 11) [177  65 155 204]: 0.89103\t\t 12) [275  84  52  87]: 0.86621\t\t\n",
      " 13) [181  79 155 187]: 0.85931\t\t 14) [213  80 155 202]: 0.84414\t\t\n",
      " 15) [275  97 227  46]: 0.83172\t\t 16) [212  58 146 183]: 0.80414\t\t\n",
      " 17) [194  62 155 187]: 0.80138\t\t 18) [199  50  87  88]: 0.78345\t\t\n",
      " 19) [235  29  73 262]: 0.78207\t\t 20) [158  74 162 197]: 0.76552\t\t\n",
      "- Average score: 0.86000\n",
      "\n",
      "- Evolving the hosts\n",
      "  - Removing half of the weaker hosts\n",
      "  - Crossovering top 2 hosts\n",
      "    [215  70  74 113] & [275  84  46 227] >> [0, 1, 2] & [2, 0, 1] >> [ 46 275  84 113] & [ 70  74 215 227]\n",
      "  - Mutating remaining top hosts\n",
      "    [196  65 137 184] >> [186  74 138 203]\n",
      "    [196 157 127 119] >> [196 151 134 134]\n",
      "    [275  84  46 227] >> [275  81  32 227]\n",
      "    [201  64  99  97] >> [198  50 111 103]\n",
      "    [198  47 140 167] >> [188  47 151 177]\n",
      "    [198  47 140 167] >> [216  30 140 170]\n",
      "    [198  47 140 167] >> [198  47 130 169]\n",
      "    [275  97  87  52] >> [257 114  76  52]\n",
      "  - Adding hosts\n",
      "    [46,275,84,113], [70,74,215,227], [186,74,138,203], [196,151,134,134], [275,81,32,227], [198,50,111,103], [188,47,151,177], [216,30,140,170], [198,47,130,169], [257,114,76,52]\n",
      "\n",
      "# Generation 11\n"
     ]
    },
    {
     "data": {
      "text/plain": [
       "@ Training progress: 100.0%"
      ]
     },
     "metadata": {},
     "output_type": "display_data"
    },
    {
     "name": "stdout",
     "output_type": "stream",
     "text": [
      "Parameters saved at Log 05.08.2019 16.17.txt!\n",
      "\n",
      "# All hosts\n",
      "  1) [215  70  74 113]: 0.90345\t\t  2) [275  84  46 227]: 0.90207\t\t\n",
      "  3) [275  97  87  52]: 0.90207\t\t  4) [215  52  87  97]: 0.89931\t\t\n",
      "  5) [196  65 137 184]: 0.89793\t\t  6) [208  62 155 202]: 0.89517\t\t\n",
      "  7) [201  64  99  97]: 0.89379\t\t  8) [196 157 127 119]: 0.89241\t\t\n",
      "  9) [215  38  84 267]: 0.89241\t\t 10) [198  47 140 167]: 0.89241\t\t\n",
      " 11) [198  47 130 169]: 0.89103\t\t 12) [257 114  76  52]: 0.88552\t\t\n",
      " 13) [275  81  32 227]: 0.88414\t\t 14) [188  47 151 177]: 0.84828\t\t\n",
      " 15) [ 70  74 215 227]: 0.84000\t\t 16) [216  30 140 170]: 0.83586\t\t\n",
      " 17) [186  74 138 203]: 0.83034\t\t 18) [196 151 134 134]: 0.79034\t\t\n",
      " 19) [198  50 111 103]: 0.76552\t\t 20) [ 46 275  84 113]: 0.73931\t\t\n",
      "- Average score: 0.86407\n",
      "\n",
      "- Evolving the hosts\n",
      "  - Removing half of the weaker hosts\n",
      "  - Crossovering top 2 hosts\n",
      "    [215  70  74 113] & [275  84  46 227] >> [1, 2] & [1, 2] >> [215  84  46 113] & [275  70  74 227]\n",
      "  - Mutating remaining top hosts\n",
      "    [275  84  46 227] >> [275  81  35 215]\n",
      "    [215  38  84 267] >> [217  38  73 248]\n",
      "    [201  64  99  97] >> [186  62 116 101]\n",
      "    [215  70  74 113] >> [208  66  74 113]\n",
      "    [215  52  87  97] >> [199  52 101  95]\n",
      "    [275  84  46 227] >> [275  84  45 224]\n",
      "    [275  84  46 227] >> [288  65  26 209]\n",
      "    [215  52  87  97] >> [234  40  82  97]\n",
      "  - Adding hosts\n",
      "    [215,84,46,113], [275,70,74,227], [275,81,35,215], [217,38,73,248], [186,62,116,101], [208,66,74,113], [199,52,101,95], [275,84,45,224], [288,65,26,209], [234,40,82,97]\n",
      "\n",
      "# Generation 12\n"
     ]
    },
    {
     "data": {
      "text/plain": [
       "@ Training progress: 100.0%"
      ]
     },
     "metadata": {},
     "output_type": "display_data"
    },
    {
     "name": "stdout",
     "output_type": "stream",
     "text": [
      "Parameters saved at Log 05.08.2019 16.17.txt!\n",
      "\n",
      "# All hosts\n",
      "  1) [215  70  74 113]: 0.90345\t\t  2) [186  62 116 101]: 0.90207\t\t\n",
      "  3) [275  84  46 227]: 0.90207\t\t  4) [275  97  87  52]: 0.90207\t\t\n",
      "  5) [215  52  87  97]: 0.89931\t\t  6) [196  65 137 184]: 0.89793\t\t\n",
      "  7) [208  62 155 202]: 0.89517\t\t  8) [201  64  99  97]: 0.89379\t\t\n",
      "  9) [196 157 127 119]: 0.89241\t\t 10) [215  38  84 267]: 0.89241\t\t\n",
      " 11) [208  66  74 113]: 0.89241\t\t 12) [198  47 140 167]: 0.89241\t\t\n",
      " 13) [275  70  74 227]: 0.88690\t\t 14) [234  40  82  97]: 0.88000\t\t\n",
      " 15) [275  84  45 224]: 0.88000\t\t 16) [275  81  35 215]: 0.87724\t\t\n",
      " 17) [217  38  73 248]: 0.87034\t\t 18) [199  52 101  95]: 0.84276\t\t\n",
      " 19) [288  65  26 209]: 0.83586\t\t 20) [215  84  46 113]: 0.73793\t\t\n",
      "- Average score: 0.87883\n",
      "\n",
      "- Evolving the hosts\n",
      "  - Removing half of the weaker hosts\n",
      "  - Crossovering top 2 hosts\n",
      "    [215  70  74 113] & [186  62 116 101] >> [0, 2] & [0, 2] >> [186  70 116 113] & [215  62  74 101]\n",
      "  - Mutating remaining top hosts\n",
      "    [201  64  99  97] >> [194  75  86 111]\n",
      "    [201  64  99  97] >> [190  64 103 107]\n",
      "    [186  62 116 101] >> [190  55 116  94]\n",
      "    [275  97  87  52] >> [295  93  90  55]\n",
      "    [208  62 155 202] >> [199  62 136 220]\n",
      "    [186  62 116 101] >> [182  61 132  96]\n",
      "    [215  38  84 267] >> [229  41  72 275]\n",
      "    [275  97  87  52] >> [275  97 106  66]\n",
      "  - Adding hosts\n",
      "    [186,70,116,113], [215,62,74,101], [194,75,86,111], [190,64,103,107], [190,55,116,94], [295,93,90,55], [199,62,136,220], [182,61,132,96], [229,41,72,275], [275,97,106,66]\n",
      "\n",
      "# Generation 13\n"
     ]
    },
    {
     "data": {
      "text/plain": [
       "@ Training progress: 100.0%"
      ]
     },
     "metadata": {},
     "output_type": "display_data"
    },
    {
     "name": "stdout",
     "output_type": "stream",
     "text": [
      "Parameters saved at Log 05.08.2019 16.17.txt!\n",
      "\n",
      "# All hosts\n",
      "  1) [229  41  72 275]: 0.91448\t\t  2) [215  70  74 113]: 0.90345\t\t\n",
      "  3) [186  62 116 101]: 0.90207\t\t  4) [275  84  46 227]: 0.90207\t\t\n",
      "  5) [275  97  87  52]: 0.90207\t\t  6) [215  52  87  97]: 0.89931\t\t\n",
      "  7) [196  65 137 184]: 0.89793\t\t  8) [208  62 155 202]: 0.89517\t\t\n",
      "  9) [201  64  99  97]: 0.89379\t\t 10) [196 157 127 119]: 0.89241\t\t\n",
      " 11) [215  38  84 267]: 0.89241\t\t 12) [182  61 132  96]: 0.86897\t\t\n",
      " 13) [295  93  90  55]: 0.85103\t\t 14) [199  62 136 220]: 0.83724\t\t\n",
      " 15) [190  55 116  94]: 0.83172\t\t 16) [215  62  74 101]: 0.81379\t\t\n",
      " 17) [190  64 103 107]: 0.78069\t\t 18) [275  97 106  66]: 0.75310\t\t\n",
      " 19) [194  75  86 111]: 0.72690\t\t 20) [186  70 116 113]: 0.72276\t\t\n",
      "- Average score: 0.85407\n",
      "\n",
      "- Evolving the hosts\n",
      "  - Removing half of the weaker hosts\n",
      "  - Crossovering top 2 hosts\n",
      "    [229  41  72 275] & [215  70  74 113] >> [0, 2, 3] & [3, 0, 2] >> [113  41 215  74] & [ 72  70 275 229]\n",
      "  - Mutating remaining top hosts\n",
      "    [275  97  87  52] >> [277 104  81  70]\n",
      "    [215  70  74 113] >> [215  70  87 118]\n",
      "    [208  62 155 202] >> [197  65 148 220]\n",
      "    [215  70  74 113] >> [226  70  67 113]\n",
      "    [186  62 116 101] >> [175  45 116  88]\n",
      "    [196  65 137 184] >> [216  77 137 170]\n",
      "    [186  62 116 101] >> [172  44 110 101]\n",
      "    [215  70  74 113] >> [215  70  87 133]\n",
      "  - Adding hosts\n",
      "    [113,41,215,74], [72,70,275,229], [277,104,81,70], [215,70,87,118], [197,65,148,220], [226,70,67,113], [175,45,116,88], [216,77,137,170], [172,44,110,101], [215,70,87,133]\n",
      "\n",
      "# Generation 14\n"
     ]
    },
    {
     "data": {
      "text/plain": [
       "@ Training progress: 100.0%"
      ]
     },
     "metadata": {},
     "output_type": "display_data"
    },
    {
     "name": "stdout",
     "output_type": "stream",
     "text": [
      "Parameters saved at Log 05.08.2019 16.17.txt!\n",
      "\n",
      "# All hosts\n",
      "  1) [229  41  72 275]: 0.91448\t\t  2) [215  70  74 113]: 0.90345\t\t\n",
      "  3) [186  62 116 101]: 0.90207\t\t  4) [275  84  46 227]: 0.90207\t\t\n",
      "  5) [275  97  87  52]: 0.90207\t\t  6) [215  52  87  97]: 0.89931\t\t\n",
      "  7) [196  65 137 184]: 0.89793\t\t  8) [208  62 155 202]: 0.89517\t\t\n",
      "  9) [201  64  99  97]: 0.89379\t\t 10) [196 157 127 119]: 0.89241\t\t\n",
      " 11) [197  65 148 220]: 0.88828\t\t 12) [175  45 116  88]: 0.88414\t\t\n",
      " 13) [215  70  87 133]: 0.86483\t\t 14) [226  70  67 113]: 0.86345\t\t\n",
      " 15) [172  44 110 101]: 0.83724\t\t 16) [216  77 137 170]: 0.83724\t\t\n",
      " 17) [ 72  70 275 229]: 0.82759\t\t 18) [277 104  81  70]: 0.81517\t\t\n",
      " 19) [113  41 215  74]: 0.80828\t\t 20) [215  70  87 118]: 0.72414\t\t\n",
      "- Average score: 0.86766\n",
      "\n",
      "- Evolving the hosts\n",
      "  - Removing half of the weaker hosts\n",
      "  - Crossovering top 2 hosts\n",
      "    [229  41  72 275] & [215  70  74 113] >> [1, 2, 3] & [1, 2, 3] >> [229  70  74 113] & [215  41  72 275]\n",
      "  - Mutating remaining top hosts\n",
      "    [229  41  72 275] >> [229  41  75 278]\n",
      "    [196  65 137 184] >> [197  72 137 184]\n",
      "    [215  70  74 113] >> [198  77  72 102]\n",
      "    [215  70  74 113] >> [219  85  64 130]\n",
      "    [275  84  46 227] >> [292  90  62 219]\n",
      "    [275  84  46 227] >> [286  66  46 227]\n",
      "    [196  65 137 184] >> [205  75 137 194]\n",
      "    [275  97  87  52] >> [259 104  91  34]\n",
      "  - Adding hosts\n",
      "    [229,70,74,113], [215,41,72,275], [229,41,75,278], [197,72,137,184], [198,77,72,102], [219,85,64,130], [292,90,62,219], [286,66,46,227], [205,75,137,194], [259,104,91,34]\n",
      "\n",
      "# Generation 15\n"
     ]
    },
    {
     "data": {
      "text/plain": [
       "@ Training progress: 100.0%"
      ]
     },
     "metadata": {},
     "output_type": "display_data"
    },
    {
     "name": "stdout",
     "output_type": "stream",
     "text": [
      "Parameters saved at Log 05.08.2019 16.17.txt!\n",
      "\n",
      "# All hosts\n",
      "  1) [229  41  72 275]: 0.91448\t\t  2) [215  70  74 113]: 0.90345\t\t\n",
      "  3) [186  62 116 101]: 0.90207\t\t  4) [275  84  46 227]: 0.90207\t\t\n",
      "  5) [275  97  87  52]: 0.90207\t\t  6) [215  52  87  97]: 0.89931\t\t\n",
      "  7) [196  65 137 184]: 0.89793\t\t  8) [208  62 155 202]: 0.89517\t\t\n",
      "  9) [229  70  74 113]: 0.89379\t\t 10) [201  64  99  97]: 0.89379\t\t\n",
      " 11) [196 157 127 119]: 0.89241\t\t 12) [197  72 137 184]: 0.88828\t\t\n",
      " 13) [198  77  72 102]: 0.87034\t\t 14) [205  75 137 194]: 0.86207\t\t\n",
      " 15) [219  85  64 130]: 0.85517\t\t 16) [292  90  62 219]: 0.83310\t\t\n",
      " 17) [229  41  75 278]: 0.77379\t\t 18) [259 104  91  34]: 0.76552\t\t\n",
      " 19) [215  41  72 275]: 0.71034\t\t 20) [286  66  46 227]: 0.66069\t\t\n",
      "- Average score: 0.85579\n",
      "\n",
      "- Evolving the hosts\n",
      "  - Removing half of the weaker hosts\n",
      "  - Crossovering top 2 hosts\n",
      "    [229  41  72 275] & [215  70  74 113] >> [0, 1, 3] & [1, 0, 3] >> [ 70 215  72 113] & [ 41 229  74 275]\n",
      "  - Mutating remaining top hosts\n",
      "    [229  41  72 275] >> [227  33  72 268]\n",
      "    [275  97  87  52] >> [268  97  80  49]\n",
      "    [208  62 155 202] >> [188  49 146 196]\n",
      "    [275  97  87  52] >> [276 117 100  52]\n",
      "    [208  62 155 202] >> [222  49 155 188]\n",
      "    [229  70  74 113] >> [213  73  74 100]\n",
      "    [275  97  87  52] >> [291  79  87  57]\n",
      "    [215  70  74 113] >> [235  84  88 106]\n",
      "  - Adding hosts\n",
      "    [70,215,72,113], [41,229,74,275], [227,33,72,268], [268,97,80,49], [188,49,146,196], [276,117,100,52], [222,49,155,188], [213,73,74,100], [291,79,87,57], [235,84,88,106]\n",
      "\n",
      "# Generation 16\n"
     ]
    },
    {
     "data": {
      "text/plain": [
       "@ Training progress: 100.0%"
      ]
     },
     "metadata": {},
     "output_type": "display_data"
    },
    {
     "name": "stdout",
     "output_type": "stream",
     "text": [
      "Parameters saved at Log 05.08.2019 16.17.txt!\n",
      "\n",
      "# All hosts\n",
      "  1) [229  41  72 275]: 0.91448\t\t  2) [215  70  74 113]: 0.90345\t\t\n",
      "  3) [186  62 116 101]: 0.90207\t\t  4) [227  33  72 268]: 0.90207\t\t\n",
      "  5) [275  84  46 227]: 0.90207\t\t  6) [275  97  87  52]: 0.90207\t\t\n",
      "  7) [215  52  87  97]: 0.89931\t\t  8) [196  65 137 184]: 0.89793\t\t\n",
      "  9) [208  62 155 202]: 0.89517\t\t 10) [229  70  74 113]: 0.89379\t\t\n",
      " 11) [201  64  99  97]: 0.89379\t\t 12) [213  73  74 100]: 0.86069\t\t\n",
      " 13) [235  84  88 106]: 0.84690\t\t 14) [222  49 155 188]: 0.82621\t\t\n",
      " 15) [ 41 229  74 275]: 0.80552\t\t 16) [276 117 100  52]: 0.78207\t\t\n",
      " 17) [268  97  80  49]: 0.73241\t\t 18) [291  79  87  57]: 0.73241\t\t\n",
      " 19) [188  49 146 196]: 0.65655\t\t 20) [ 70 215  72 113]: 0.60138\t\t\n",
      "- Average score: 0.83752\n",
      "\n",
      "- Evolving the hosts\n",
      "  - Removing half of the weaker hosts\n",
      "  - Crossovering top 2 hosts\n",
      "    [229  41  72 275] & [215  70  74 113] >> [0, 2, 3] & [2, 3, 0] >> [ 74  41 113 215] & [275  70 229  72]\n",
      "  - Mutating remaining top hosts\n",
      "    [186  62 116 101] >> [175  77 131 121]\n",
      "    [275  84  46 227] >> [274  75  27 225]\n",
      "    [215  70  74 113] >> [225  51  74 113]\n",
      "    [186  62 116 101] >> [206  67 135  86]\n",
      "    [208  62 155 202] >> [208  81 170 202]\n",
      "    [208  62 155 202] >> [202  74 169 202]\n",
      "    [215  70  74 113] >> [228  70  74 104]\n",
      "    [275  97  87  52] >> [264 101 101  47]\n",
      "  - Adding hosts\n",
      "    [74,41,113,215], [275,70,229,72], [175,77,131,121], [274,75,27,225], [225,51,74,113], [206,67,135,86], [208,81,170,202], [202,74,169,202], [228,70,74,104], [264,101,101,47]\n",
      "\n",
      "# Generation 17\n"
     ]
    },
    {
     "data": {
      "text/plain": [
       "@ Training progress: 100.0%"
      ]
     },
     "metadata": {},
     "output_type": "display_data"
    },
    {
     "name": "stdout",
     "output_type": "stream",
     "text": [
      "Parameters saved at Log 05.08.2019 16.17.txt!\n",
      "\n",
      "# All hosts\n",
      "  1) [229  41  72 275]: 0.91448\t\t  2) [215  70  74 113]: 0.90345\t\t\n",
      "  3) [186  62 116 101]: 0.90207\t\t  4) [227  33  72 268]: 0.90207\t\t\n",
      "  5) [275  84  46 227]: 0.90207\t\t  6) [275  97  87  52]: 0.90207\t\t\n",
      "  7) [215  52  87  97]: 0.89931\t\t  8) [196  65 137 184]: 0.89793\t\t\n",
      "  9) [202  74 169 202]: 0.89793\t\t 10) [208  62 155 202]: 0.89517\t\t\n",
      " 11) [229  70  74 113]: 0.89379\t\t 12) [206  67 135  86]: 0.87034\t\t\n",
      " 13) [175  77 131 121]: 0.86621\t\t 14) [ 74  41 113 215]: 0.86483\t\t\n",
      " 15) [264 101 101  47]: 0.83724\t\t 16) [225  51  74 113]: 0.81931\t\t\n",
      " 17) [275  70 229  72]: 0.81655\t\t 18) [228  70  74 104]: 0.81655\t\t\n",
      " 19) [208  81 170 202]: 0.81241\t\t 20) [274  75  27 225]: 0.79034\t\t\n",
      "- Average score: 0.87021\n",
      "\n",
      "- Evolving the hosts\n",
      "  - Removing half of the weaker hosts\n",
      "  - Crossovering top 2 hosts\n",
      "    [229  41  72 275] & [215  70  74 113] >> [1, 2, 3] & [1, 3, 2] >> [229  70 113  74] & [215  41 275  72]\n",
      "  - Mutating remaining top hosts\n",
      "    [215  70  74 113] >> [230  64  69 114]\n",
      "    [215  52  87  97] >> [203  48 107  97]\n",
      "    [215  52  87  97] >> [205  58  87  77]\n",
      "    [229  41  72 275] >> [225  34  71 275]\n",
      "    [275  97  87  52] >> [266  91 103  32]\n",
      "    [275  84  46 227] >> [269 103  61 224]\n",
      "    [275  97  87  52] >> [275 111  95  51]\n",
      "    [208  62 155 202] >> [199  54 138 215]\n",
      "  - Adding hosts\n",
      "    [229,70,113,74], [215,41,275,72], [230,64,69,114], [203,48,107,97], [205,58,87,77], [225,34,71,275], [266,91,103,32], [269,103,61,224], [275,111,95,51], [199,54,138,215]\n",
      "\n",
      "# Generation 18\n"
     ]
    },
    {
     "data": {
      "text/plain": [
       "@ Training progress: 100.0%"
      ]
     },
     "metadata": {},
     "output_type": "display_data"
    },
    {
     "name": "stdout",
     "output_type": "stream",
     "text": [
      "Parameters saved at Log 05.08.2019 16.17.txt!\n",
      "\n",
      "# All hosts\n",
      "  1) [229  41  72 275]: 0.91448\t\t  2) [215  70  74 113]: 0.90345\t\t\n",
      "  3) [186  62 116 101]: 0.90207\t\t  4) [227  33  72 268]: 0.90207\t\t\n",
      "  5) [275  84  46 227]: 0.90207\t\t  6) [275  97  87  52]: 0.90207\t\t\n",
      "  7) [215  52  87  97]: 0.89931\t\t  8) [196  65 137 184]: 0.89793\t\t\n",
      "  9) [202  74 169 202]: 0.89793\t\t 10) [208  62 155 202]: 0.89517\t\t\n",
      " 11) [269 103  61 224]: 0.87034\t\t 12) [275 111  95  51]: 0.86069\t\t\n",
      " 13) [199  54 138 215]: 0.84828\t\t 14) [266  91 103  32]: 0.84276\t\t\n",
      " 15) [203  48 107  97]: 0.79724\t\t 16) [229  70 113  74]: 0.79172\t\t\n",
      " 17) [225  34  71 275]: 0.76276\t\t 18) [215  41 275  72]: 0.75862\t\t\n",
      " 19) [230  64  69 114]: 0.71310\t\t 20) [205  58  87  77]: 0.70069\t\t\n",
      "- Average score: 0.84814\n",
      "\n",
      "- Evolving the hosts\n",
      "  - Removing half of the weaker hosts\n",
      "  - Crossovering top 2 hosts\n",
      "    [229  41  72 275] & [215  70  74 113] >> [0, 1, 2, 3] & [0, 1, 2, 3] >> [215  70  74 113] & [229  41  72 275]\n",
      "  - Mutating remaining top hosts\n",
      "    [202  74 169 202] >> [202  74 189 202]\n",
      "    [275  84  46 227] >> [269  97  30 232]\n",
      "    [196  65 137 184] >> [177  70 137 186]\n",
      "    [275  97  87  52] >> [275 104  72  52]\n",
      "    [186  62 116 101] >> [204  59 135  93]\n",
      "    [227  33  72 268] >> [227  33  60 258]\n",
      "    [275  97  87  52] >> [274  79  89  38]\n",
      "    [215  52  87  97] >> [215  41  97  95]\n",
      "  - Adding hosts\n",
      "    [215,70,74,113], [229,41,72,275], [202,74,189,202], [269,97,30,232], [177,70,137,186], [275,104,72,52], [204,59,135,93], [227,33,60,258], [274,79,89,38], [215,41,97,95]\n",
      "\n",
      "# Generation 19\n"
     ]
    },
    {
     "data": {
      "text/plain": [
       "@ Training progress: 100.0%"
      ]
     },
     "metadata": {},
     "output_type": "display_data"
    },
    {
     "name": "stdout",
     "output_type": "stream",
     "text": [
      "Parameters saved at Log 05.08.2019 16.17.txt!\n",
      "\n",
      "# All hosts\n",
      "  1) [229  41  72 275]: 0.91448\t\t  2) [215  70  74 113]: 0.90345\t\t\n",
      "  3) [186  62 116 101]: 0.90207\t\t  4) [227  33  72 268]: 0.90207\t\t\n",
      "  5) [275  84  46 227]: 0.90207\t\t  6) [275  97  87  52]: 0.90207\t\t\n",
      "  7) [215  52  87  97]: 0.89931\t\t  8) [202  74 189 202]: 0.89793\t\t\n",
      "  9) [196  65 137 184]: 0.89793\t\t 10) [202  74 169 202]: 0.89793\t\t\n",
      " 11) [275 104  72  52]: 0.89655\t\t 12) [208  62 155 202]: 0.89517\t\t\n",
      " 13) [229  41  72 275]: 0.88138\t\t 14) [269  97  30 232]: 0.87310\t\t\n",
      " 15) [227  33  60 258]: 0.87172\t\t 16) [204  59 135  93]: 0.85793\t\t\n",
      " 17) [215  41  97  95]: 0.84000\t\t 18) [177  70 137 186]: 0.82207\t\t\n",
      " 19) [215  70  74 113]: 0.76414\t\t 20) [274  79  89  38]: 0.75034\t\t\n",
      "- Average score: 0.87359\n",
      "\n",
      "- Evolving the hosts\n",
      "  - Removing half of the weaker hosts\n",
      "  - Crossovering top 2 hosts\n",
      "    [229  41  72 275] & [215  70  74 113] >> [2, 3] & [2, 3] >> [229  41  74 113] & [215  70  72 275]\n",
      "  - Mutating remaining top hosts\n",
      "    [275  97  87  52] >> [258  79  81  45]\n",
      "    [202  74 169 202] >> [203  57 155 192]\n",
      "    [215  52  87  97] >> [206  50  87 117]\n",
      "    [215  52  87  97] >> [207  63  80  97]\n",
      "    [215  52  87  97] >> [213  64  97 101]\n",
      "    [186  62 116 101] >> [171  61 106 121]\n",
      "    [229  41  72 275] >> [249  33  72 280]\n",
      "    [186  62 116 101] >> [186  57 116 106]\n",
      "  - Adding hosts\n",
      "    [229,41,74,113], [215,70,72,275], [258,79,81,45], [203,57,155,192], [206,50,87,117], [207,63,80,97], [213,64,97,101], [171,61,106,121], [249,33,72,280], [186,57,116,106]\n",
      "\n",
      "# Generation 20\n"
     ]
    },
    {
     "data": {
      "text/plain": [
       "@ Training progress: 100.0%"
      ]
     },
     "metadata": {},
     "output_type": "display_data"
    },
    {
     "name": "stdout",
     "output_type": "stream",
     "text": [
      "Parameters saved at Log 05.08.2019 16.17.txt!\n",
      "\n",
      "# All hosts\n",
      "  1) [229  41  72 275]: 0.91448\t\t  2) [215  70  74 113]: 0.90345\t\t\n",
      "  3) [186  62 116 101]: 0.90207\t\t  4) [227  33  72 268]: 0.90207\t\t\n",
      "  5) [275  84  46 227]: 0.90207\t\t  6) [275  97  87  52]: 0.90207\t\t\n",
      "  7) [215  52  87  97]: 0.89931\t\t  8) [202  74 189 202]: 0.89793\t\t\n",
      "  9) [196  65 137 184]: 0.89793\t\t 10) [202  74 169 202]: 0.89793\t\t\n",
      " 11) [206  50  87 117]: 0.89517\t\t 12) [171  61 106 121]: 0.88276\t\t\n",
      " 13) [229  41  74 113]: 0.87172\t\t 14) [207  63  80  97]: 0.85379\t\t\n",
      " 15) [203  57 155 192]: 0.81655\t\t 16) [186  57 116 106]: 0.81103\t\t\n",
      " 17) [258  79  81  45]: 0.79586\t\t 18) [213  64  97 101]: 0.79310\t\t\n",
      " 19) [249  33  72 280]: 0.77931\t\t 20) [215  70  72 275]: 0.74759\t\t\n",
      "- Average score: 0.86331\n",
      "\n",
      "- Evolving the hosts\n",
      "  - Removing half of the weaker hosts\n",
      "  - Crossovering top 2 hosts\n",
      "    [229  41  72 275] & [215  70  74 113] >> [0, 1, 2] & [0, 2, 1] >> [215  74  70 275] & [229  72  41 113]\n",
      "  - Mutating remaining top hosts\n",
      "    [215  52  87  97] >> [232  47  87  97]\n",
      "    [215  70  74 113] >> [198  72  79 112]\n",
      "    [202  74 169 202] >> [191  94 169 187]\n",
      "    [186  62 116 101] >> [186  56 119  90]\n",
      "    [202  74 169 202] >> [202  74 169 201]\n",
      "    [215  70  74 113] >> [215  69  55 113]\n",
      "    [227  33  72 268] >> [227  33  60 268]\n",
      "    [196  65 137 184] >> [196  65 134 171]\n",
      "  - Adding hosts\n",
      "    [215,74,70,275], [229,72,41,113], [232,47,87,97], [198,72,79,112], [191,94,169,187], [186,56,119,90], [202,74,169,201], [215,69,55,113], [227,33,60,268], [196,65,134,171]\n",
      "\n",
      "# Generation 21\n"
     ]
    },
    {
     "data": {
      "text/plain": [
       "@ Training progress: 100.0%"
      ]
     },
     "metadata": {},
     "output_type": "display_data"
    },
    {
     "name": "stdout",
     "output_type": "stream",
     "text": [
      "Parameters saved at Log 05.08.2019 16.17.txt!\n",
      "\n",
      "# All hosts\n",
      "  1) [229  41  72 275]: 0.91448\t\t  2) [215  70  74 113]: 0.90345\t\t\n",
      "  3) [186  62 116 101]: 0.90207\t\t  4) [227  33  72 268]: 0.90207\t\t\n",
      "  5) [275  84  46 227]: 0.90207\t\t  6) [275  97  87  52]: 0.90207\t\t\n",
      "  7) [196  65 134 171]: 0.90069\t\t  8) [215  52  87  97]: 0.89931\t\t\n",
      "  9) [202  74 189 202]: 0.89793\t\t 10) [196  65 137 184]: 0.89793\t\t\n",
      " 11) [202  74 169 202]: 0.89793\t\t 12) [215  74  70 275]: 0.89517\t\t\n",
      " 13) [202  74 169 201]: 0.86483\t\t 14) [186  56 119  90]: 0.84138\t\t\n",
      " 15) [229  72  41 113]: 0.80138\t\t 16) [198  72  79 112]: 0.79448\t\t\n",
      " 17) [232  47  87  97]: 0.76138\t\t 18) [191  94 169 187]: 0.73103\t\t\n",
      " 19) [215  69  55 113]: 0.72552\t\t 20) [227  33  60 268]: 0.72000\t\t\n",
      "- Average score: 0.85276\n",
      "\n",
      "- Evolving the hosts\n",
      "  - Removing half of the weaker hosts\n",
      "  - Crossovering top 2 hosts\n",
      "    [229  41  72 275] & [215  70  74 113] >> [1, 2] & [1, 2] >> [229  70  74 275] & [215  41  72 113]\n",
      "  - Mutating remaining top hosts\n",
      "    [215  70  74 113] >> [226  51  62 131]\n",
      "    [186  62 116 101] >> [177  52 104  83]\n",
      "    [196  65 134 171] >> [210  65 146 171]\n",
      "    [215  70  74 113] >> [215  90  91 106]\n",
      "    [215  70  74 113] >> [225  54  66 113]\n",
      "    [196  65 134 171] >> [196  51 138 174]\n",
      "    [275  97  87  52] >> [263  85  78  43]\n",
      "    [275  97  87  52] >> [277 101  87  64]\n",
      "  - Adding hosts\n",
      "    [229,70,74,275], [215,41,72,113], [226,51,62,131], [177,52,104,83], [210,65,146,171], [215,90,91,106], [225,54,66,113], [196,51,138,174], [263,85,78,43], [277,101,87,64]\n",
      "\n",
      "# Generation 22\n"
     ]
    },
    {
     "data": {
      "text/plain": [
       "@ Training progress: 100.0%"
      ]
     },
     "metadata": {},
     "output_type": "display_data"
    },
    {
     "name": "stdout",
     "output_type": "stream",
     "text": [
      "Parameters saved at Log 05.08.2019 16.17.txt!\n",
      "\n",
      "# All hosts\n",
      "  1) [229  41  72 275]: 0.91448\t\t  2) [215  70  74 113]: 0.90345\t\t\n",
      "  3) [186  62 116 101]: 0.90207\t\t  4) [227  33  72 268]: 0.90207\t\t\n",
      "  5) [275  84  46 227]: 0.90207\t\t  6) [275  97  87  52]: 0.90207\t\t\n",
      "  7) [196  65 134 171]: 0.90069\t\t  8) [215  52  87  97]: 0.89931\t\t\n",
      "  9) [202  74 189 202]: 0.89793\t\t 10) [196  65 137 184]: 0.89793\t\t\n",
      " 11) [277 101  87  64]: 0.88690\t\t 12) [215  90  91 106]: 0.87034\t\t\n",
      " 13) [263  85  78  43]: 0.86483\t\t 14) [229  70  74 275]: 0.85103\t\t\n",
      " 15) [210  65 146 171]: 0.84414\t\t 16) [215  41  72 113]: 0.82897\t\t\n",
      " 17) [226  51  62 131]: 0.80552\t\t 18) [225  54  66 113]: 0.80276\t\t\n",
      " 19) [196  51 138 174]: 0.79724\t\t 20) [177  52 104  83]: 0.72138\t\t\n",
      "- Average score: 0.86476\n",
      "\n",
      "- Evolving the hosts\n",
      "  - Removing half of the weaker hosts\n",
      "  - Crossovering top 2 hosts\n",
      "    [229  41  72 275] & [215  70  74 113] >> [0, 1, 3] & [0, 3, 1] >> [215 113  72  70] & [229 275  74  41]\n",
      "  - Mutating remaining top hosts\n",
      "    [186  62 116 101] >> [186  62 120 101]\n",
      "    [202  74 189 202] >> [210  79 189 202]\n",
      "    [202  74 189 202] >> [200  88 172 205]\n",
      "    [186  62 116 101] >> [186  62 114  99]\n",
      "    [275  97  87  52] >> [268 117  95  37]\n",
      "    [275  97  87  52] >> [273  91  95  60]\n",
      "    [186  62 116 101] >> [191  50 120 101]\n",
      "    [202  74 189 202] >> [194  82 209 202]\n",
      "  - Adding hosts\n",
      "    [215,113,72,70], [229,275,74,41], [186,62,120,101], [210,79,189,202], [200,88,172,205], [186,62,114,99], [268,117,95,37], [273,91,95,60], [191,50,120,101], [194,82,209,202]\n",
      "\n",
      "# Generation 23\n"
     ]
    },
    {
     "data": {
      "text/plain": [
       "@ Training progress: 100.0%"
      ]
     },
     "metadata": {},
     "output_type": "display_data"
    },
    {
     "name": "stdout",
     "output_type": "stream",
     "text": [
      "Parameters saved at Log 05.08.2019 16.17.txt!\n",
      "\n",
      "# All hosts\n",
      "  1) [229  41  72 275]: 0.91448\t\t  2) [215  70  74 113]: 0.90345\t\t\n",
      "  3) [186  62 116 101]: 0.90207\t\t  4) [227  33  72 268]: 0.90207\t\t\n",
      "  5) [275  84  46 227]: 0.90207\t\t  6) [275  97  87  52]: 0.90207\t\t\n",
      "  7) [196  65 134 171]: 0.90069\t\t  8) [215  52  87  97]: 0.89931\t\t\n",
      "  9) [202  74 189 202]: 0.89793\t\t 10) [196  65 137 184]: 0.89793\t\t\n",
      " 11) [210  79 189 202]: 0.89241\t\t 12) [191  50 120 101]: 0.88690\t\t\n",
      " 13) [215 113  72  70]: 0.88138\t\t 14) [200  88 172 205]: 0.86897\t\t\n",
      " 15) [229 275  74  41]: 0.86759\t\t 16) [186  62 114  99]: 0.84414\t\t\n",
      " 17) [186  62 120 101]: 0.79310\t\t 18) [268 117  95  37]: 0.78897\t\t\n",
      " 19) [194  82 209 202]: 0.78621\t\t 20) [273  91  95  60]: 0.77517\t\t\n",
      "- Average score: 0.87034\n",
      "\n",
      "- Evolving the hosts\n",
      "  - Removing half of the weaker hosts\n",
      "  - Crossovering top 2 hosts\n",
      "    [229  41  72 275] & [215  70  74 113] >> [1, 2, 3] & [3, 2, 1] >> [229 113  74  70] & [215 275  72  41]\n",
      "  - Mutating remaining top hosts\n",
      "    [215  52  87  97] >> [215  57  87  86]\n",
      "    [196  65 137 184] >> [203  64 157 187]\n",
      "    [202  74 189 202] >> [199  54 175 197]\n",
      "    [275  97  87  52] >> [280  98 102  35]\n",
      "    [196  65 134 171] >> [210  60 133 187]\n",
      "    [275  84  46 227] >> [270 101  35 228]\n",
      "    [227  33  72 268] >> [215  33  92 266]\n",
      "    [196  65 137 184] >> [214  58 153 168]\n",
      "  - Adding hosts\n",
      "    [229,113,74,70], [215,275,72,41], [215,57,87,86], [203,64,157,187], [199,54,175,197], [280,98,102,35], [210,60,133,187], [270,101,35,228], [215,33,92,266], [214,58,153,168]\n",
      "\n",
      "# Generation 24\n"
     ]
    },
    {
     "data": {
      "text/plain": [
       "@ Training progress: 100.0%"
      ]
     },
     "metadata": {},
     "output_type": "display_data"
    },
    {
     "name": "stdout",
     "output_type": "stream",
     "text": [
      "Parameters saved at Log 05.08.2019 16.17.txt!\n",
      "\n",
      "# All hosts\n",
      "  1) [229  41  72 275]: 0.91448\t\t  2) [215  70  74 113]: 0.90345\t\t\n",
      "  3) [186  62 116 101]: 0.90207\t\t  4) [227  33  72 268]: 0.90207\t\t\n",
      "  5) [275  84  46 227]: 0.90207\t\t  6) [275  97  87  52]: 0.90207\t\t\n",
      "  7) [196  65 134 171]: 0.90069\t\t  8) [215  52  87  97]: 0.89931\t\t\n",
      "  9) [202  74 189 202]: 0.89793\t\t 10) [196  65 137 184]: 0.89793\t\t\n",
      " 11) [215  33  92 266]: 0.88690\t\t 12) [280  98 102  35]: 0.87862\t\t\n",
      " 13) [215  57  87  86]: 0.87448\t\t 14) [203  64 157 187]: 0.86483\t\t\n",
      " 15) [214  58 153 168]: 0.85931\t\t 16) [199  54 175 197]: 0.85517\t\t\n",
      " 17) [229 113  74  70]: 0.82759\t\t 18) [270 101  35 228]: 0.81517\t\t\n",
      " 19) [210  60 133 187]: 0.81103\t\t 20) [215 275  72  41]: 0.80552\t\t\n",
      "- Average score: 0.87503\n",
      "\n",
      "- Evolving the hosts\n",
      "  - Removing half of the weaker hosts\n",
      "  - Crossovering top 2 hosts\n",
      "    [229  41  72 275] & [215  70  74 113] >> [1, 2, 3] & [2, 3, 1] >> [229  74 113  70] & [215 275  41  72]\n",
      "  - Mutating remaining top hosts\n",
      "    [215  52  87  97] >> [207  62  77  94]\n",
      "    [275  97  87  52] >> [275  91  90  69]\n",
      "    [186  62 116 101] >> [186  79 108 113]\n",
      "    [202  74 189 202] >> [202  58 171 190]\n",
      "    [215  70  74 113] >> [215  51  74 113]\n",
      "    [186  62 116 101] >> [205  67 117  94]\n",
      "    [275  84  46 227] >> [259 101  41 227]\n",
      "    [186  62 116 101] >> [186  62 121 101]\n",
      "  - Adding hosts\n",
      "    [229,74,113,70], [215,275,41,72], [207,62,77,94], [275,91,90,69], [186,79,108,113], [202,58,171,190], [215,51,74,113], [205,67,117,94], [259,101,41,227], [186,62,121,101]\n",
      "\n",
      "# Generation 25\n"
     ]
    },
    {
     "data": {
      "text/plain": [
       "@ Training progress: 100.0%"
      ]
     },
     "metadata": {},
     "output_type": "display_data"
    },
    {
     "name": "stdout",
     "output_type": "stream",
     "text": [
      "Parameters saved at Log 05.08.2019 16.17.txt!\n",
      "\n",
      "# All hosts\n",
      "  1) [229  41  72 275]: 0.91448\t\t  2) [215  70  74 113]: 0.90345\t\t\n",
      "  3) [186  62 116 101]: 0.90207\t\t  4) [227  33  72 268]: 0.90207\t\t\n",
      "  5) [275  84  46 227]: 0.90207\t\t  6) [275  97  87  52]: 0.90207\t\t\n",
      "  7) [196  65 134 171]: 0.90069\t\t  8) [215  52  87  97]: 0.89931\t\t\n",
      "  9) [202  74 189 202]: 0.89793\t\t 10) [196  65 137 184]: 0.89793\t\t\n",
      " 11) [186  62 121 101]: 0.88276\t\t 12) [202  58 171 190]: 0.85241\t\t\n",
      " 13) [275  91  90  69]: 0.84828\t\t 14) [229  74 113  70]: 0.83862\t\t\n",
      " 15) [215 275  41  72]: 0.79724\t\t 16) [186  79 108 113]: 0.79724\t\t\n",
      " 17) [259 101  41 227]: 0.79172\t\t 18) [215  51  74 113]: 0.78483\t\t\n",
      " 19) [205  67 117  94]: 0.76966\t\t 20) [207  62  77  94]: 0.73931\t\t\n",
      "- Average score: 0.85621\n",
      "\n",
      "- Evolving the hosts\n",
      "  - Removing half of the weaker hosts\n",
      "  - Crossovering top 2 hosts\n",
      "    [229  41  72 275] & [215  70  74 113] >> [0, 2] & [0, 2] >> [215  41  74 275] & [229  70  72 113]\n",
      "  - Mutating remaining top hosts\n",
      "    [196  65 137 184] >> [179  65 126 204]\n",
      "    [229  41  72 275] >> [229  60  72 275]\n",
      "    [196  65 137 184] >> [202  65 135 175]\n",
      "    [275  97  87  52] >> [265  97  76  44]\n",
      "    [229  41  72 275] >> [229  55  69 275]\n",
      "    [275  97  87  52] >> [295  85 105  44]\n",
      "    [275  84  46 227] >> [255  94  47 233]\n",
      "    [227  33  72 268] >> [218  30  74 268]\n",
      "  - Adding hosts\n",
      "    [215,41,74,275], [229,70,72,113], [179,65,126,204], [229,60,72,275], [202,65,135,175], [265,97,76,44], [229,55,69,275], [295,85,105,44], [255,94,47,233], [218,30,74,268]\n",
      "\n",
      "# Generation 26\n"
     ]
    },
    {
     "data": {
      "text/plain": [
       "@ Training progress: 100.0%"
      ]
     },
     "metadata": {},
     "output_type": "display_data"
    },
    {
     "name": "stdout",
     "output_type": "stream",
     "text": [
      "Parameters saved at Log 05.08.2019 16.17.txt!\n",
      "\n",
      "# All hosts\n",
      "  1) [229  41  72 275]: 0.91448\t\t  2) [215  70  74 113]: 0.90345\t\t\n",
      "  3) [186  62 116 101]: 0.90207\t\t  4) [227  33  72 268]: 0.90207\t\t\n",
      "  5) [275  84  46 227]: 0.90207\t\t  6) [275  97  87  52]: 0.90207\t\t\n",
      "  7) [196  65 134 171]: 0.90069\t\t  8) [215  52  87  97]: 0.89931\t\t\n",
      "  9) [202  74 189 202]: 0.89793\t\t 10) [196  65 137 184]: 0.89793\t\t\n",
      " 11) [179  65 126 204]: 0.89793\t\t 12) [218  30  74 268]: 0.88138\t\t\n",
      " 13) [295  85 105  44]: 0.88000\t\t 14) [229  60  72 275]: 0.85655\t\t\n",
      " 15) [215  41  74 275]: 0.83724\t\t 16) [202  65 135 175]: 0.83034\t\t\n",
      " 17) [229  55  69 275]: 0.77655\t\t 18) [229  70  72 113]: 0.76552\t\t\n",
      " 19) [255  94  47 233]: 0.75448\t\t 20) [265  97  76  44]: 0.68414\t\t\n",
      "- Average score: 0.85931\n",
      "\n",
      "- Evolving the hosts\n",
      "  - Removing half of the weaker hosts\n",
      "  - Crossovering top 2 hosts\n",
      "    [229  41  72 275] & [215  70  74 113] >> [1, 3] & [1, 3] >> [229  70  72 113] & [215  41  74 275]\n",
      "  - Mutating remaining top hosts\n",
      "    [186  62 116 101] >> [186  63 133 101]\n",
      "    [275  84  46 227] >> [282 102  41 227]\n",
      "    [229  41  72 275] >> [229  55  55 280]\n",
      "    [227  33  72 268] >> [223  33  91 268]\n",
      "    [275  84  46 227] >> [281 103  51 232]\n",
      "    [275  84  46 227] >> [271 103  46 225]\n",
      "    [196  65 134 171] >> [196  74 134 153]\n",
      "    [227  33  72 268] >> [227  33  83 268]\n",
      "  - Adding hosts\n",
      "    [229,70,72,113], [215,41,74,275], [186,63,133,101], [282,102,41,227], [229,55,55,280], [223,33,91,268], [281,103,51,232], [271,103,46,225], [196,74,134,153], [227,33,83,268]\n",
      "\n",
      "# Generation 27\n"
     ]
    },
    {
     "data": {
      "text/plain": [
       "@ Training progress: 100.0%"
      ]
     },
     "metadata": {},
     "output_type": "display_data"
    },
    {
     "name": "stdout",
     "output_type": "stream",
     "text": [
      "Parameters saved at Log 05.08.2019 16.17.txt!\n",
      "\n",
      "# All hosts\n",
      "  1) [229  41  72 275]: 0.91448\t\t  2) [215  70  74 113]: 0.90345\t\t\n",
      "  3) [186  62 116 101]: 0.90207\t\t  4) [227  33  72 268]: 0.90207\t\t\n",
      "  5) [275  84  46 227]: 0.90207\t\t  6) [275  97  87  52]: 0.90207\t\t\n",
      "  7) [196  65 134 171]: 0.90069\t\t  8) [215  52  87  97]: 0.89931\t\t\n",
      "  9) [202  74 189 202]: 0.89793\t\t 10) [196  65 137 184]: 0.89793\t\t\n",
      " 11) [229  70  72 113]: 0.88414\t\t 12) [229  55  55 280]: 0.88276\t\t\n",
      " 13) [215  41  74 275]: 0.87310\t\t 14) [223  33  91 268]: 0.86207\t\t\n",
      " 15) [196  74 134 153]: 0.85655\t\t 16) [282 102  41 227]: 0.84966\t\t\n",
      " 17) [227  33  83 268]: 0.84000\t\t 18) [186  63 133 101]: 0.84000\t\t\n",
      " 19) [281 103  51 232]: 0.83034\t\t 20) [271 103  46 225]: 0.70621\t\t\n",
      "- Average score: 0.87234\n",
      "\n",
      "- Evolving the hosts\n",
      "  - Removing half of the weaker hosts\n",
      "  - Crossovering top 2 hosts\n",
      "    [229  41  72 275] & [215  70  74 113] >> [1, 2, 3] & [1, 2, 3] >> [229  70  74 113] & [215  41  72 275]\n",
      "  - Mutating remaining top hosts\n",
      "    [229  41  72 275] >> [217  37  77 275]\n",
      "    [215  52  87  97] >> [227  47  88  97]\n",
      "    [275  97  87  52] >> [265 111  82  71]\n",
      "    [275  97  87  52] >> [275 113  70  35]\n",
      "    [215  52  87  97] >> [215  46  87  99]\n",
      "    [215  52  87  97] >> [215  52  92 109]\n",
      "    [202  74 189 202] >> [190  86 182 209]\n",
      "    [229  41  72 275] >> [244  41  81 257]\n",
      "  - Adding hosts\n",
      "    [229,70,74,113], [215,41,72,275], [217,37,77,275], [227,47,88,97], [265,111,82,71], [275,113,70,35], [215,46,87,99], [215,52,92,109], [190,86,182,209], [244,41,81,257]\n",
      "\n",
      "# Generation 28\n"
     ]
    },
    {
     "data": {
      "text/plain": [
       "@ Training progress: 100.0%"
      ]
     },
     "metadata": {},
     "output_type": "display_data"
    },
    {
     "name": "stdout",
     "output_type": "stream",
     "text": [
      "Parameters saved at Log 05.08.2019 16.17.txt!\n",
      "\n",
      "# All hosts\n",
      "  1) [229  41  72 275]: 0.91448\t\t  2) [215  70  74 113]: 0.90345\t\t\n",
      "  3) [186  62 116 101]: 0.90207\t\t  4) [227  33  72 268]: 0.90207\t\t\n",
      "  5) [275  84  46 227]: 0.90207\t\t  6) [275  97  87  52]: 0.90207\t\t\n",
      "  7) [196  65 134 171]: 0.90069\t\t  8) [215  52  87  97]: 0.89931\t\t\n",
      "  9) [202  74 189 202]: 0.89793\t\t 10) [196  65 137 184]: 0.89793\t\t\n",
      " 11) [244  41  81 257]: 0.89103\t\t 12) [215  46  87  99]: 0.86207\t\t\n",
      " 13) [229  70  74 113]: 0.85793\t\t 14) [217  37  77 275]: 0.84966\t\t\n",
      " 15) [227  47  88  97]: 0.84414\t\t 16) [215  52  92 109]: 0.83586\t\t\n",
      " 17) [275 113  70  35]: 0.83172\t\t 18) [215  41  72 275]: 0.79862\t\t\n",
      " 19) [265 111  82  71]: 0.75448\t\t 20) [190  86 182 209]: 0.75034\t\t\n",
      "- Average score: 0.86490\n",
      "\n",
      "- Evolving the hosts\n",
      "  - Removing half of the weaker hosts\n",
      "  - Crossovering top 2 hosts\n",
      "    [229  41  72 275] & [215  70  74 113] >> [0, 2, 3] & [0, 3, 2] >> [215  41 113  74] & [229  70 275  72]\n",
      "  - Mutating remaining top hosts\n",
      "    [186  62 116 101] >> [189  66 116 109]\n",
      "    [227  33  72 268] >> [227  31  74 255]\n",
      "    [227  33  72 268] >> [240  45  72 279]\n",
      "    [227  33  72 268] >> [227  17  79 279]\n",
      "    [229  41  72 275] >> [216  36  89 275]\n",
      "    [186  62 116 101] >> [170  62  99  94]\n",
      "    [196  65 137 184] >> [196  72 137 184]\n",
      "    [275  84  46 227] >> [291  73  49 227]\n",
      "  - Adding hosts\n",
      "    [215,41,113,74], [229,70,275,72], [189,66,116,109], [227,31,74,255], [240,45,72,279], [227,17,79,279], [216,36,89,275], [170,62,99,94], [196,72,137,184], [291,73,49,227]\n",
      "\n",
      "# Generation 29\n"
     ]
    },
    {
     "data": {
      "text/plain": [
       "@ Training progress: 100.0%"
      ]
     },
     "metadata": {},
     "output_type": "display_data"
    },
    {
     "name": "stdout",
     "output_type": "stream",
     "text": [
      "Parameters saved at Log 05.08.2019 16.17.txt!\n",
      "\n",
      "# All hosts\n",
      "  1) [229  41  72 275]: 0.91448\t\t  2) [215  70  74 113]: 0.90345\t\t\n",
      "  3) [186  62 116 101]: 0.90207\t\t  4) [227  33  72 268]: 0.90207\t\t\n",
      "  5) [275  84  46 227]: 0.90207\t\t  6) [275  97  87  52]: 0.90207\t\t\n",
      "  7) [196  65 134 171]: 0.90069\t\t  8) [215  52  87  97]: 0.89931\t\t\n",
      "  9) [202  74 189 202]: 0.89793\t\t 10) [196  65 137 184]: 0.89793\t\t\n",
      " 11) [227  31  74 255]: 0.88138\t\t 12) [227  17  79 279]: 0.88000\t\t\n",
      " 13) [229  70 275  72]: 0.84828\t\t 14) [189  66 116 109]: 0.82345\t\t\n",
      " 15) [216  36  89 275]: 0.80828\t\t 16) [196  72 137 184]: 0.78759\t\t\n",
      " 17) [240  45  72 279]: 0.76690\t\t 18) [215  41 113  74]: 0.74897\t\t\n",
      " 19) [291  73  49 227]: 0.66759\t\t 20) [170  62  99  94]: 0.62483\t\t\n",
      "- Average score: 0.84297\n",
      "\n",
      "- Evolving the hosts\n",
      "  - Removing half of the weaker hosts\n",
      "  - Crossovering top 2 hosts\n",
      "    [229  41  72 275] & [215  70  74 113] >> [0, 1] & [0, 1] >> [215  70  72 275] & [229  41  74 113]\n",
      "  - Mutating remaining top hosts\n",
      "    [229  41  72 275] >> [229  42  81 292]\n",
      "    [227  33  72 268] >> [222  29  84 255]\n",
      "    [227  33  72 268] >> [227  33  76 281]\n",
      "    [275  97  87  52] >> [283  90  77  62]\n",
      "    [202  74 189 202] >> [202  62 171 216]\n",
      "    [229  41  72 275] >> [224  41  72 272]\n",
      "    [196  65 137 184] >> [196  65 133 176]\n",
      "    [202  74 189 202] >> [199  86 182 215]\n",
      "  - Adding hosts\n",
      "    [215,70,72,275], [229,41,74,113], [229,42,81,292], [222,29,84,255], [227,33,76,281], [283,90,77,62], [202,62,171,216], [224,41,72,272], [196,65,133,176], [199,86,182,215]\n",
      "\n",
      "# Generation 30\n"
     ]
    },
    {
     "data": {
      "text/plain": [
       "@ Training progress: 100.0%"
      ]
     },
     "metadata": {},
     "output_type": "display_data"
    },
    {
     "name": "stdout",
     "output_type": "stream",
     "text": [
      "Parameters saved at Log 05.08.2019 16.17.txt!\n",
      "\n",
      "# All hosts\n",
      "  1) [229  41  72 275]: 0.91448\t\t  2) [215  70  74 113]: 0.90345\t\t\n",
      "  3) [186  62 116 101]: 0.90207\t\t  4) [227  33  72 268]: 0.90207\t\t\n",
      "  5) [275  84  46 227]: 0.90207\t\t  6) [275  97  87  52]: 0.90207\t\t\n",
      "  7) [196  65 134 171]: 0.90069\t\t  8) [215  52  87  97]: 0.89931\t\t\n",
      "  9) [202  74 189 202]: 0.89793\t\t 10) [196  65 137 184]: 0.89793\t\t\n",
      " 11) [283  90  77  62]: 0.85241\t\t 12) [229  42  81 292]: 0.83448\t\t\n",
      " 13) [202  62 171 216]: 0.82345\t\t 14) [229  41  74 113]: 0.79862\t\t\n",
      " 15) [215  70  72 275]: 0.79172\t\t 16) [196  65 133 176]: 0.77931\t\t\n",
      " 17) [227  33  76 281]: 0.77517\t\t 18) [222  29  84 255]: 0.77379\t\t\n",
      " 19) [199  86 182 215]: 0.75724\t\t 20) [224  41  72 272]: 0.71448\t\t\n",
      "- Average score: 0.84614\n",
      "\n",
      "- Evolving the hosts\n",
      "  - Removing half of the weaker hosts\n",
      "  - Crossovering top 2 hosts\n",
      "    [229  41  72 275] & [215  70  74 113] >> [0, 1, 3] & [3, 1, 0] >> [113  70  72 215] & [275  41  74 229]\n",
      "  - Mutating remaining top hosts\n",
      "    [196  65 134 171] >> [193  71 140 173]\n",
      "    [229  41  72 275] >> [235  24  84 266]\n",
      "    [215  70  74 113] >> [219  67  85 105]\n",
      "    [196  65 134 171] >> [197  68 117 171]\n",
      "    [196  65 134 171] >> [201  83 134 176]\n",
      "    [196  65 137 184] >> [200  80 144 190]\n",
      "    [196  65 137 184] >> [202  65 153 189]\n",
      "    [202  74 189 202] >> [190  61 203 202]\n",
      "  - Adding hosts\n",
      "    [113,70,72,215], [275,41,74,229], [193,71,140,173], [235,24,84,266], [219,67,85,105], [197,68,117,171], [201,83,134,176], [200,80,144,190], [202,65,153,189], [190,61,203,202]\n",
      "\n",
      "# Generation 31\n"
     ]
    },
    {
     "data": {
      "text/plain": [
       "@ Training progress: 100.0%"
      ]
     },
     "metadata": {},
     "output_type": "display_data"
    },
    {
     "name": "stdout",
     "output_type": "stream",
     "text": [
      "Parameters saved at Log 05.08.2019 16.17.txt!\n",
      "\n",
      "# All hosts\n",
      "  1) [229  41  72 275]: 0.91448\t\t  2) [215  70  74 113]: 0.90345\t\t\n",
      "  3) [186  62 116 101]: 0.90207\t\t  4) [227  33  72 268]: 0.90207\t\t\n",
      "  5) [275  84  46 227]: 0.90207\t\t  6) [275  97  87  52]: 0.90207\t\t\n",
      "  7) [196  65 134 171]: 0.90069\t\t  8) [215  52  87  97]: 0.89931\t\t\n",
      "  9) [202  74 189 202]: 0.89793\t\t 10) [196  65 137 184]: 0.89793\t\t\n",
      " 11) [219  67  85 105]: 0.89517\t\t 12) [197  68 117 171]: 0.87862\t\t\n",
      " 13) [275  41  74 229]: 0.87724\t\t 14) [202  65 153 189]: 0.86345\t\t\n",
      " 15) [200  80 144 190]: 0.85241\t\t 16) [235  24  84 266]: 0.85103\t\t\n",
      " 17) [201  83 134 176]: 0.82759\t\t 18) [193  71 140 173]: 0.80138\t\t\n",
      " 19) [190  61 203 202]: 0.77793\t\t 20) [113  70  72 215]: 0.69793\t\t\n",
      "- Average score: 0.86724\n",
      "\n",
      "- Evolving the hosts\n",
      "  - Removing half of the weaker hosts\n",
      "  - Crossovering top 2 hosts\n",
      "    [229  41  72 275] & [215  70  74 113] >> [0, 1, 2, 3] & [1, 2, 3, 0] >> [ 70  74 113 215] & [275 229  41  72]\n",
      "  - Mutating remaining top hosts\n",
      "    [215  70  74 113] >> [211  88  65 113]\n",
      "    [196  65 137 184] >> [177  75 155 187]\n",
      "    [275  84  46 227] >> [256  90  53 233]\n",
      "    [227  33  72 268] >> [231  16  78 271]\n",
      "    [196  65 134 171] >> [199  70 124 183]\n",
      "    [196  65 137 184] >> [214  62 132 200]\n",
      "    [202  74 189 202] >> [198  61 197 206]\n",
      "    [275  84  46 227] >> [279  90  33 242]\n",
      "  - Adding hosts\n",
      "    [70,74,113,215], [275,229,41,72], [211,88,65,113], [177,75,155,187], [256,90,53,233], [231,16,78,271], [199,70,124,183], [214,62,132,200], [198,61,197,206], [279,90,33,242]\n",
      "\n",
      "# Generation 32\n"
     ]
    },
    {
     "data": {
      "text/plain": [
       "@ Training progress: 100.0%"
      ]
     },
     "metadata": {},
     "output_type": "display_data"
    },
    {
     "name": "stdout",
     "output_type": "stream",
     "text": [
      "Parameters saved at Log 05.08.2019 16.17.txt!\n",
      "\n",
      "# All hosts\n",
      "  1) [229  41  72 275]: 0.91448\t\t  2) [215  70  74 113]: 0.90345\t\t\n",
      "  3) [186  62 116 101]: 0.90207\t\t  4) [227  33  72 268]: 0.90207\t\t\n",
      "  5) [275  84  46 227]: 0.90207\t\t  6) [275  97  87  52]: 0.90207\t\t\n",
      "  7) [196  65 134 171]: 0.90069\t\t  8) [215  52  87  97]: 0.89931\t\t\n",
      "  9) [202  74 189 202]: 0.89793\t\t 10) [196  65 137 184]: 0.89793\t\t\n",
      " 11) [279  90  33 242]: 0.88552\t\t 12) [231  16  78 271]: 0.88414\t\t\n",
      " 13) [256  90  53 233]: 0.87172\t\t 14) [211  88  65 113]: 0.86621\t\t\n",
      " 15) [214  62 132 200]: 0.86207\t\t 16) [177  75 155 187]: 0.84690\t\t\n",
      " 17) [198  61 197 206]: 0.78345\t\t 18) [ 70  74 113 215]: 0.78069\t\t\n",
      " 19) [275 229  41  72]: 0.73103\t\t 20) [199  70 124 183]: 0.71172\t\t\n",
      "- Average score: 0.86228\n",
      "\n",
      "- Evolving the hosts\n",
      "  - Removing half of the weaker hosts\n",
      "  - Crossovering top 2 hosts\n",
      "    [229  41  72 275] & [215  70  74 113] >> [2, 3] & [3, 2] >> [229  41 113  74] & [215  70 275  72]\n",
      "  - Mutating remaining top hosts\n",
      "    [186  62 116 101] >> [186  62 129 101]\n",
      "    [196  65 137 184] >> [202  53 138 186]\n",
      "    [186  62 116 101] >> [183  62 129 120]\n",
      "    [275  97  87  52] >> [287 114  87  59]\n",
      "    [227  33  72 268] >> [237  15  71 265]\n",
      "    [196  65 137 184] >> [194  66 137 174]\n",
      "    [215  52  87  97] >> [221  48  76  97]\n",
      "    [215  70  74 113] >> [207  54  74 106]\n",
      "  - Adding hosts\n",
      "    [229,41,113,74], [215,70,275,72], [186,62,129,101], [202,53,138,186], [183,62,129,120], [287,114,87,59], [237,15,71,265], [194,66,137,174], [221,48,76,97], [207,54,74,106]\n",
      "\n",
      "# Generation 33\n"
     ]
    },
    {
     "data": {
      "text/plain": [
       "@ Training progress: 100.0%"
      ]
     },
     "metadata": {},
     "output_type": "display_data"
    },
    {
     "name": "stdout",
     "output_type": "stream",
     "text": [
      "Parameters saved at Log 05.08.2019 16.17.txt!\n",
      "\n",
      "# All hosts\n",
      "  1) [229  41  72 275]: 0.91448\t\t  2) [215  70  74 113]: 0.90345\t\t\n",
      "  3) [186  62 116 101]: 0.90207\t\t  4) [227  33  72 268]: 0.90207\t\t\n",
      "  5) [275  84  46 227]: 0.90207\t\t  6) [275  97  87  52]: 0.90207\t\t\n",
      "  7) [196  65 134 171]: 0.90069\t\t  8) [215  52  87  97]: 0.89931\t\t\n",
      "  9) [202  74 189 202]: 0.89793\t\t 10) [196  65 137 184]: 0.89793\t\t\n",
      " 11) [186  62 129 101]: 0.89379\t\t 12) [221  48  76  97]: 0.86759\t\t\n",
      " 13) [229  41 113  74]: 0.83448\t\t 14) [194  66 137 174]: 0.83310\t\t\n",
      " 15) [202  53 138 186]: 0.83172\t\t 16) [215  70 275  72]: 0.81517\t\t\n",
      " 17) [237  15  71 265]: 0.78207\t\t 18) [183  62 129 120]: 0.74207\t\t\n",
      " 19) [287 114  87  59]: 0.73103\t\t 20) [207  54  74 106]: 0.69103\t\t\n",
      "- Average score: 0.85221\n",
      "\n",
      "- Evolving the hosts\n",
      "  - Removing half of the weaker hosts\n",
      "  - Crossovering top 2 hosts\n",
      "    [229  41  72 275] & [215  70  74 113] >> [1, 2, 3] & [2, 3, 1] >> [229  74 113  70] & [215 275  41  72]\n",
      "  - Mutating remaining top hosts\n",
      "    [215  70  74 113] >> [205  77  57 104]\n",
      "    [275  97  87  52] >> [268 105  81  43]\n",
      "    [202  74 189 202] >> [197  75 178 218]\n",
      "    [275  84  46 227] >> [275  82  46 211]\n",
      "    [196  65 137 184] >> [192  65 148 192]\n",
      "    [275  97  87  52] >> [266 111  93  52]\n",
      "    [229  41  72 275] >> [244  49  89 275]\n",
      "    [215  70  74 113] >> [215  60  79 113]\n",
      "  - Adding hosts\n",
      "    [229,74,113,70], [215,275,41,72], [205,77,57,104], [268,105,81,43], [197,75,178,218], [275,82,46,211], [192,65,148,192], [266,111,93,52], [244,49,89,275], [215,60,79,113]\n",
      "\n",
      "# Generation 34\n"
     ]
    },
    {
     "data": {
      "text/plain": [
       "@ Training progress: 100.0%"
      ]
     },
     "metadata": {},
     "output_type": "display_data"
    },
    {
     "name": "stdout",
     "output_type": "stream",
     "text": [
      "Parameters saved at Log 05.08.2019 16.17.txt!\n",
      "\n",
      "# All hosts\n",
      "  1) [229  41  72 275]: 0.91448\t\t  2) [215  70  74 113]: 0.90345\t\t\n",
      "  3) [186  62 116 101]: 0.90207\t\t  4) [227  33  72 268]: 0.90207\t\t\n",
      "  5) [275  84  46 227]: 0.90207\t\t  6) [275  97  87  52]: 0.90207\t\t\n",
      "  7) [196  65 134 171]: 0.90069\t\t  8) [215  52  87  97]: 0.89931\t\t\n",
      "  9) [202  74 189 202]: 0.89793\t\t 10) [196  65 137 184]: 0.89793\t\t\n",
      " 11) [215 275  41  72]: 0.88828\t\t 12) [229  74 113  70]: 0.88414\t\t\n",
      " 13) [215  60  79 113]: 0.88276\t\t 14) [197  75 178 218]: 0.88000\t\t\n",
      " 15) [275  82  46 211]: 0.85655\t\t 16) [244  49  89 275]: 0.85103\t\t\n",
      " 17) [205  77  57 104]: 0.84828\t\t 18) [192  65 148 192]: 0.84690\t\t\n",
      " 19) [268 105  81  43]: 0.78759\t\t 20) [266 111  93  52]: 0.75586\t\t\n",
      "- Average score: 0.87517\n",
      "\n",
      "- Evolving the hosts\n",
      "  - Removing half of the weaker hosts\n",
      "  - Crossovering top 2 hosts\n",
      "    [229  41  72 275] & [215  70  74 113] >> [1, 2, 3] & [2, 3, 1] >> [229  74 113  70] & [215 275  41  72]\n",
      "  - Mutating remaining top hosts\n",
      "    [196  65 134 171] >> [194  47 120 171]\n",
      "    [196  65 137 184] >> [184  69 137 193]\n",
      "    [202  74 189 202] >> [203  74 205 218]\n",
      "    [196  65 137 184] >> [207  63 137 174]\n",
      "    [215  52  87  97] >> [209  52  87  97]\n",
      "    [275  97  87  52] >> [275  97  87  71]\n",
      "    [227  33  72 268] >> [215  42  59 273]\n",
      "    [275  84  46 227] >> [275 103  30 227]\n",
      "  - Adding hosts\n",
      "    [229,74,113,70], [215,275,41,72], [194,47,120,171], [184,69,137,193], [203,74,205,218], [207,63,137,174], [209,52,87,97], [275,97,87,71], [215,42,59,273], [275,103,30,227]\n",
      "\n",
      "# Generation 35\n"
     ]
    },
    {
     "data": {
      "text/plain": [
       "@ Training progress: 100.0%"
      ]
     },
     "metadata": {},
     "output_type": "display_data"
    },
    {
     "name": "stdout",
     "output_type": "stream",
     "text": [
      "Parameters saved at Log 05.08.2019 16.17.txt!\n",
      "\n",
      "# All hosts\n",
      "  1) [229  41  72 275]: 0.91448\t\t  2) [215  70  74 113]: 0.90345\t\t\n",
      "  3) [186  62 116 101]: 0.90207\t\t  4) [227  33  72 268]: 0.90207\t\t\n",
      "  5) [275  84  46 227]: 0.90207\t\t  6) [275  97  87  52]: 0.90207\t\t\n",
      "  7) [196  65 134 171]: 0.90069\t\t  8) [215  52  87  97]: 0.89931\t\t\n",
      "  9) [202  74 189 202]: 0.89793\t\t 10) [196  65 137 184]: 0.89793\t\t\n",
      " 11) [275 103  30 227]: 0.88828\t\t 12) [207  63 137 174]: 0.88138\t\t\n",
      " 13) [215  42  59 273]: 0.85655\t\t 14) [203  74 205 218]: 0.85517\t\t\n",
      " 15) [229  74 113  70]: 0.82207\t\t 16) [215 275  41  72]: 0.79310\t\t\n",
      " 17) [184  69 137 193]: 0.79034\t\t 18) [275  97  87  71]: 0.77517\t\t\n",
      " 19) [209  52  87  97]: 0.76828\t\t 20) [194  47 120 171]: 0.75310\t\t\n",
      "- Average score: 0.86028\n",
      "\n",
      "- Evolving the hosts\n",
      "  - Removing half of the weaker hosts\n",
      "  - Crossovering top 2 hosts\n",
      "    [229  41  72 275] & [215  70  74 113] >> [2, 3] & [2, 3] >> [229  41  74 113] & [215  70  72 275]\n",
      "  - Mutating remaining top hosts\n",
      "    [202  74 189 202] >> [216  74 170 219]\n",
      "    [196  65 134 171] >> [196  47 138 171]\n",
      "    [215  52  87  97] >> [202  52  81  97]\n",
      "    [196  65 134 171] >> [196  65 139 170]\n",
      "    [275  84  46 227] >> [258  90  46 226]\n",
      "    [215  52  87  97] >> [215  52  87  79]\n",
      "    [196  65 134 171] >> [199  58 128 154]\n",
      "    [215  52  87  97] >> [205  52  83 116]\n",
      "  - Adding hosts\n",
      "    [229,41,74,113], [215,70,72,275], [216,74,170,219], [196,47,138,171], [202,52,81,97], [196,65,139,170], [258,90,46,226], [215,52,87,79], [199,58,128,154], [205,52,83,116]\n",
      "\n",
      "# Generation 36\n"
     ]
    },
    {
     "data": {
      "text/plain": [
       "@ Training progress: 100.0%"
      ]
     },
     "metadata": {},
     "output_type": "display_data"
    },
    {
     "name": "stdout",
     "output_type": "stream",
     "text": [
      "Parameters saved at Log 05.08.2019 16.17.txt!\n",
      "\n",
      "# All hosts\n",
      "  1) [229  41  72 275]: 0.91448\t\t  2) [215  70  74 113]: 0.90345\t\t\n",
      "  3) [186  62 116 101]: 0.90207\t\t  4) [227  33  72 268]: 0.90207\t\t\n",
      "  5) [275  84  46 227]: 0.90207\t\t  6) [275  97  87  52]: 0.90207\t\t\n",
      "  7) [196  65 134 171]: 0.90069\t\t  8) [215  52  87  97]: 0.89931\t\t\n",
      "  9) [202  74 189 202]: 0.89793\t\t 10) [196  65 137 184]: 0.89793\t\t\n",
      " 11) [215  70  72 275]: 0.89241\t\t 12) [199  58 128 154]: 0.88828\t\t\n",
      " 13) [202  52  81  97]: 0.88690\t\t 14) [215  52  87  79]: 0.88276\t\t\n",
      " 15) [229  41  74 113]: 0.85793\t\t 16) [196  65 139 170]: 0.83724\t\t\n",
      " 17) [196  47 138 171]: 0.82897\t\t 18) [258  90  46 226]: 0.76138\t\t\n",
      " 19) [216  74 170 219]: 0.74483\t\t 20) [205  52  83 116]: 0.69655\t\t\n",
      "- Average score: 0.86497\n",
      "\n",
      "- Evolving the hosts\n",
      "  - Removing half of the weaker hosts\n",
      "  - Crossovering top 2 hosts\n",
      "    [229  41  72 275] & [215  70  74 113] >> [0, 1, 3] & [1, 3, 0] >> [ 70 113  72 215] & [275 229  74  41]\n",
      "  - Mutating remaining top hosts\n",
      "    [196  65 137 184] >> [196  65 149 191]\n",
      "    [275  84  46 227] >> [289  83  28 221]\n",
      "    [227  33  72 268] >> [238  33  64 257]\n",
      "    [196  65 134 171] >> [194  69 143 171]\n",
      "    [215  52  87  97] >> [202  45  90  83]\n",
      "    [196  65 134 171] >> [196  65 148 160]\n",
      "    [196  65 134 171] >> [181  65 145 157]\n",
      "    [275  97  87  52] >> [276  86 106  65]\n",
      "  - Adding hosts\n",
      "    [70,113,72,215], [275,229,74,41], [196,65,149,191], [289,83,28,221], [238,33,64,257], [194,69,143,171], [202,45,90,83], [196,65,148,160], [181,65,145,157], [276,86,106,65]\n",
      "\n",
      "# Generation 37\n"
     ]
    },
    {
     "data": {
      "text/plain": [
       "@ Training progress: 100.0%"
      ]
     },
     "metadata": {},
     "output_type": "display_data"
    },
    {
     "name": "stdout",
     "output_type": "stream",
     "text": [
      "Parameters saved at Log 05.08.2019 16.17.txt!\n",
      "\n",
      "# All hosts\n",
      "  1) [229  41  72 275]: 0.91448\t\t  2) [215  70  74 113]: 0.90345\t\t\n",
      "  3) [186  62 116 101]: 0.90207\t\t  4) [227  33  72 268]: 0.90207\t\t\n",
      "  5) [275  84  46 227]: 0.90207\t\t  6) [275  97  87  52]: 0.90207\t\t\n",
      "  7) [196  65 134 171]: 0.90069\t\t  8) [215  52  87  97]: 0.89931\t\t\n",
      "  9) [202  74 189 202]: 0.89793\t\t 10) [196  65 137 184]: 0.89793\t\t\n",
      " 11) [181  65 145 157]: 0.89517\t\t 12) [196  65 149 191]: 0.88552\t\t\n",
      " 13) [275 229  74  41]: 0.87862\t\t 14) [238  33  64 257]: 0.86897\t\t\n",
      " 15) [194  69 143 171]: 0.84966\t\t 16) [276  86 106  65]: 0.80690\t\t\n",
      " 17) [ 70 113  72 215]: 0.78759\t\t 18) [289  83  28 221]: 0.77931\t\t\n",
      " 19) [202  45  90  83]: 0.77517\t\t 20) [196  65 148 160]: 0.73517\t\t\n",
      "- Average score: 0.86421\n",
      "\n",
      "- Evolving the hosts\n",
      "  - Removing half of the weaker hosts\n",
      "  - Crossovering top 2 hosts\n",
      "    [229  41  72 275] & [215  70  74 113] >> [1, 2, 3] & [2, 1, 3] >> [229  74  70 113] & [215  72  41 275]\n",
      "  - Mutating remaining top hosts\n",
      "    [202  74 189 202] >> [202  71 189 187]\n",
      "    [196  65 137 184] >> [180  65 137 195]\n",
      "    [202  74 189 202] >> [216  73 185 183]\n",
      "    [196  65 134 171] >> [196  65 122 157]\n",
      "    [215  70  74 113] >> [228  66  87 118]\n",
      "    [227  33  72 268] >> [227  43  57 262]\n",
      "    [275  84  46 227] >> [285  99  46 235]\n",
      "    [275  97  87  52] >> [271 107  95  68]\n",
      "  - Adding hosts\n",
      "    [229,74,70,113], [215,72,41,275], [202,71,189,187], [180,65,137,195], [216,73,185,183], [196,65,122,157], [228,66,87,118], [227,43,57,262], [285,99,46,235], [271,107,95,68]\n",
      "\n",
      "# Generation 38\n"
     ]
    },
    {
     "data": {
      "text/plain": [
       "@ Training progress: 100.0%"
      ]
     },
     "metadata": {},
     "output_type": "display_data"
    },
    {
     "name": "stdout",
     "output_type": "stream",
     "text": [
      "Parameters saved at Log 05.08.2019 16.17.txt!\n",
      "\n",
      "# All hosts\n",
      "  1) [229  41  72 275]: 0.91448\t\t  2) [215  70  74 113]: 0.90345\t\t\n",
      "  3) [186  62 116 101]: 0.90207\t\t  4) [227  33  72 268]: 0.90207\t\t\n",
      "  5) [275  84  46 227]: 0.90207\t\t  6) [275  97  87  52]: 0.90207\t\t\n",
      "  7) [196  65 134 171]: 0.90069\t\t  8) [215  52  87  97]: 0.89931\t\t\n",
      "  9) [202  74 189 202]: 0.89793\t\t 10) [196  65 137 184]: 0.89793\t\t\n",
      " 11) [227  43  57 262]: 0.87448\t\t 12) [196  65 122 157]: 0.87448\t\t\n",
      " 13) [229  74  70 113]: 0.86621\t\t 14) [228  66  87 118]: 0.86621\t\t\n",
      " 15) [285  99  46 235]: 0.85655\t\t 16) [202  71 189 187]: 0.85379\t\t\n",
      " 17) [271 107  95  68]: 0.83862\t\t 18) [215  72  41 275]: 0.81931\t\t\n",
      " 19) [180  65 137 195]: 0.80690\t\t 20) [216  73 185 183]: 0.80138\t\t\n",
      "- Average score: 0.87400\n",
      "\n",
      "- Evolving the hosts\n",
      "  - Removing half of the weaker hosts\n",
      "  - Crossovering top 2 hosts\n",
      "    [229  41  72 275] & [215  70  74 113] >> [3] & [3] >> [229  41  72 113] & [215  70  74 275]\n",
      "  - Mutating remaining top hosts\n",
      "    [275  97  87  52] >> [275  88  75  56]\n",
      "    [202  74 189 202] >> [202  59 196 188]\n",
      "    [227  33  72 268] >> [226  32  84 270]\n",
      "    [196  65 134 171] >> [196  55 134 185]\n",
      "    [227  33  72 268] >> [243  33  78 260]\n",
      "    [202  74 189 202] >> [220  78 193 211]\n",
      "    [275  97  87  52] >> [285  99  87  71]\n",
      "    [196  65 134 171] >> [196  62 135 171]\n",
      "  - Adding hosts\n",
      "    [229,41,72,113], [215,70,74,275], [275,88,75,56], [202,59,196,188], [226,32,84,270], [196,55,134,185], [243,33,78,260], [220,78,193,211], [285,99,87,71], [196,62,135,171]\n",
      "\n",
      "# Generation 39\n"
     ]
    },
    {
     "data": {
      "text/plain": [
       "@ Training progress: 100.0%"
      ]
     },
     "metadata": {},
     "output_type": "display_data"
    },
    {
     "name": "stdout",
     "output_type": "stream",
     "text": [
      "Parameters saved at Log 05.08.2019 16.17.txt!\n",
      "\n",
      "# All hosts\n",
      "  1) [243  33  78 260]: 0.91586\t\t  2) [229  41  72 275]: 0.91448\t\t\n",
      "  3) [196  55 134 185]: 0.91310\t\t  4) [215  70  74 113]: 0.90345\t\t\n",
      "  5) [186  62 116 101]: 0.90207\t\t  6) [227  33  72 268]: 0.90207\t\t\n",
      "  7) [275  84  46 227]: 0.90207\t\t  8) [275  97  87  52]: 0.90207\t\t\n",
      "  9) [196  65 134 171]: 0.90069\t\t 10) [215  52  87  97]: 0.89931\t\t\n",
      " 11) [202  74 189 202]: 0.89793\t\t 12) [196  65 137 184]: 0.89793\t\t\n",
      " 13) [196  62 135 171]: 0.87586\t\t 14) [215  70  74 275]: 0.87586\t\t\n",
      " 15) [226  32  84 270]: 0.87310\t\t 16) [229  41  72 113]: 0.86069\t\t\n",
      " 17) [220  78 193 211]: 0.85655\t\t 18) [285  99  87  71]: 0.83862\t\t\n",
      " 19) [202  59 196 188]: 0.75862\t\t 20) [275  88  75  56]: 0.73931\t\t\n",
      "- Average score: 0.87648\n",
      "\n",
      "- Evolving the hosts\n",
      "  - Removing half of the weaker hosts\n",
      "  - Crossovering top 2 hosts\n",
      "    [243  33  78 260] & [229  41  72 275] >> [0, 1, 2] & [1, 0, 2] >> [ 41 229  72 260] & [ 33 243  78 275]\n",
      "  - Mutating remaining top hosts\n",
      "    [229  41  72 275] >> [241  26  77 275]\n",
      "    [275  84  46 227] >> [260  79  46 224]\n",
      "    [229  41  72 275] >> [227  49  76 276]\n",
      "    [275  84  46 227] >> [275  74  54 227]\n",
      "    [227  33  72 268] >> [225  19  72 273]\n",
      "    [275  84  46 227] >> [275  66  58 227]\n",
      "    [243  33  78 260] >> [255  28  78 265]\n",
      "    [243  33  78 260] >> [257  36  78 265]\n",
      "  - Adding hosts\n",
      "    [41,229,72,260], [33,243,78,275], [241,26,77,275], [260,79,46,224], [227,49,76,276], [275,74,54,227], [225,19,72,273], [275,66,58,227], [255,28,78,265], [257,36,78,265]\n",
      "\n",
      "# Generation 40\n"
     ]
    },
    {
     "data": {
      "text/plain": [
       "@ Training progress: 100.0%"
      ]
     },
     "metadata": {},
     "output_type": "display_data"
    },
    {
     "name": "stdout",
     "output_type": "stream",
     "text": [
      "Parameters saved at Log 05.08.2019 16.17.txt!\n",
      "\n",
      "# All hosts\n",
      "  1) [243  33  78 260]: 0.91586\t\t  2) [229  41  72 275]: 0.91448\t\t\n",
      "  3) [196  55 134 185]: 0.91310\t\t  4) [215  70  74 113]: 0.90345\t\t\n",
      "  5) [186  62 116 101]: 0.90207\t\t  6) [227  33  72 268]: 0.90207\t\t\n",
      "  7) [275  84  46 227]: 0.90207\t\t  8) [275  97  87  52]: 0.90207\t\t\n",
      "  9) [196  65 134 171]: 0.90069\t\t 10) [215  52  87  97]: 0.89931\t\t\n",
      " 11) [257  36  78 265]: 0.89931\t\t 12) [241  26  77 275]: 0.87310\t\t\n",
      " 13) [260  79  46 224]: 0.86069\t\t 14) [275  66  58 227]: 0.86069\t\t\n",
      " 15) [227  49  76 276]: 0.85931\t\t 16) [255  28  78 265]: 0.83862\t\t\n",
      " 17) [225  19  72 273]: 0.77517\t\t 18) [275  74  54 227]: 0.75586\t\t\n",
      " 19) [ 41 229  72 260]: 0.73379\t\t 20) [ 33 243  78 275]: 0.67034\t\t\n",
      "- Average score: 0.85910\n",
      "\n",
      "- Evolving the hosts\n",
      "  - Removing half of the weaker hosts\n",
      "  - Crossovering top 2 hosts\n",
      "    [243  33  78 260] & [229  41  72 275] >> [0, 3] & [3, 0] >> [275  33  78 229] & [260  41  72 243]\n",
      "  - Mutating remaining top hosts\n",
      "    [275  84  46 227] >> [277  98  46 226]\n",
      "    [196  65 134 171] >> [195  65 137 159]\n",
      "    [229  41  72 275] >> [224  30  65 277]\n",
      "    [196  55 134 185] >> [185  55 134 185]\n",
      "    [243  33  78 260] >> [242  14  94 248]\n",
      "    [229  41  72 275] >> [245  43  81 275]\n",
      "    [275  84  46 227] >> [267  84  62 209]\n",
      "    [186  62 116 101] >> [186  62 109 118]\n",
      "  - Adding hosts\n",
      "    [275,33,78,229], [260,41,72,243], [277,98,46,226], [195,65,137,159], [224,30,65,277], [185,55,134,185], [242,14,94,248], [245,43,81,275], [267,84,62,209], [186,62,109,118]\n",
      "\n",
      "# Generation 41\n"
     ]
    },
    {
     "data": {
      "text/plain": [
       "@ Training progress: 100.0%"
      ]
     },
     "metadata": {},
     "output_type": "display_data"
    },
    {
     "name": "stdout",
     "output_type": "stream",
     "text": [
      "Parameters saved at Log 05.08.2019 16.17.txt!\n",
      "\n",
      "# All hosts\n",
      "  1) [243  33  78 260]: 0.91586\t\t  2) [229  41  72 275]: 0.91448\t\t\n",
      "  3) [196  55 134 185]: 0.91310\t\t  4) [215  70  74 113]: 0.90345\t\t\n",
      "  5) [186  62 116 101]: 0.90207\t\t  6) [227  33  72 268]: 0.90207\t\t\n",
      "  7) [275  84  46 227]: 0.90207\t\t  8) [275  97  87  52]: 0.90207\t\t\n",
      "  9) [196  65 134 171]: 0.90069\t\t 10) [215  52  87  97]: 0.89931\t\t\n",
      " 11) [267  84  62 209]: 0.84690\t\t 12) [242  14  94 248]: 0.84276\t\t\n",
      " 13) [277  98  46 226]: 0.84138\t\t 14) [245  43  81 275]: 0.81793\t\t\n",
      " 15) [275  33  78 229]: 0.81517\t\t 16) [260  41  72 243]: 0.81103\t\t\n",
      " 17) [185  55 134 185]: 0.80000\t\t 18) [195  65 137 159]: 0.78759\t\t\n",
      " 19) [224  30  65 277]: 0.76828\t\t 20) [186  62 109 118]: 0.72276\t\t\n",
      "- Average score: 0.85545\n",
      "\n",
      "- Evolving the hosts\n",
      "  - Removing half of the weaker hosts\n",
      "  - Crossovering top 2 hosts\n",
      "    [243  33  78 260] & [229  41  72 275] >> [0, 1, 2] & [2, 0, 1] >> [ 72 229  41 260] & [ 33  78 243 275]\n",
      "  - Mutating remaining top hosts\n",
      "    [227  33  72 268] >> [232  40  70 267]\n",
      "    [243  33  78 260] >> [237  37  74 262]\n",
      "    [275  84  46 227] >> [275  84  38 220]\n",
      "    [275  97  87  52] >> [275  97  93  52]\n",
      "    [186  62 116 101] >> [198  56 126 104]\n",
      "    [275  84  46 227] >> [272  79  46 227]\n",
      "    [215  52  87  97] >> [200  39  87  84]\n",
      "    [275  97  87  52] >> [259 102  87  52]\n",
      "  - Adding hosts\n",
      "    [72,229,41,260], [33,78,243,275], [232,40,70,267], [237,37,74,262], [275,84,38,220], [275,97,93,52], [198,56,126,104], [272,79,46,227], [200,39,87,84], [259,102,87,52]\n",
      "\n",
      "# Generation 42\n"
     ]
    },
    {
     "data": {
      "text/plain": [
       "@ Training progress: 100.0%"
      ]
     },
     "metadata": {},
     "output_type": "display_data"
    },
    {
     "name": "stdout",
     "output_type": "stream",
     "text": [
      "Parameters saved at Log 05.08.2019 16.17.txt!\n",
      "\n",
      "# All hosts\n",
      "  1) [243  33  78 260]: 0.91586\t\t  2) [229  41  72 275]: 0.91448\t\t\n",
      "  3) [196  55 134 185]: 0.91310\t\t  4) [215  70  74 113]: 0.90345\t\t\n",
      "  5) [186  62 116 101]: 0.90207\t\t  6) [227  33  72 268]: 0.90207\t\t\n",
      "  7) [275  84  46 227]: 0.90207\t\t  8) [275  97  87  52]: 0.90207\t\t\n",
      "  9) [196  65 134 171]: 0.90069\t\t 10) [215  52  87  97]: 0.89931\t\t\n",
      " 11) [ 72 229  41 260]: 0.88000\t\t 12) [198  56 126 104]: 0.86621\t\t\n",
      " 13) [232  40  70 267]: 0.85655\t\t 14) [259 102  87  52]: 0.83172\t\t\n",
      " 15) [275  84  38 220]: 0.82759\t\t 16) [272  79  46 227]: 0.78069\t\t\n",
      " 17) [275  97  93  52]: 0.75862\t\t 18) [237  37  74 262]: 0.73931\t\t\n",
      " 19) [200  39  87  84]: 0.73379\t\t 20) [ 33  78 243 275]: 0.72414\t\t\n",
      "- Average score: 0.85269\n",
      "\n",
      "- Evolving the hosts\n",
      "  - Removing half of the weaker hosts\n",
      "  - Crossovering top 2 hosts\n",
      "    [243  33  78 260] & [229  41  72 275] >> [1, 2, 3] & [2, 3, 1] >> [243  72 275  41] & [229 260  33  78]\n",
      "  - Mutating remaining top hosts\n",
      "    [215  70  74 113] >> [215  75  90 123]\n",
      "    [196  55 134 185] >> [189  57 134 202]\n",
      "    [215  52  87  97] >> [202  46  87  97]\n",
      "    [196  65 134 171] >> [179  62 134 168]\n",
      "    [229  41  72 275] >> [240  41  75 272]\n",
      "    [275  97  87  52] >> [288 103  87  39]\n",
      "    [275  84  46 227] >> [291  65  50 227]\n",
      "    [196  55 134 185] >> [184  55 128 193]\n",
      "  - Adding hosts\n",
      "    [243,72,275,41], [229,260,33,78], [215,75,90,123], [189,57,134,202], [202,46,87,97], [179,62,134,168], [240,41,75,272], [288,103,87,39], [291,65,50,227], [184,55,128,193]\n",
      "\n",
      "# Generation 43\n"
     ]
    },
    {
     "data": {
      "text/plain": [
       "@ Training progress: 100.0%"
      ]
     },
     "metadata": {},
     "output_type": "display_data"
    },
    {
     "name": "stdout",
     "output_type": "stream",
     "text": [
      "Parameters saved at Log 05.08.2019 16.17.txt!\n",
      "\n",
      "# All hosts\n",
      "  1) [243  33  78 260]: 0.91586\t\t  2) [229  41  72 275]: 0.91448\t\t\n",
      "  3) [196  55 134 185]: 0.91310\t\t  4) [215  70  74 113]: 0.90345\t\t\n",
      "  5) [186  62 116 101]: 0.90207\t\t  6) [227  33  72 268]: 0.90207\t\t\n",
      "  7) [275  84  46 227]: 0.90207\t\t  8) [275  97  87  52]: 0.90207\t\t\n",
      "  9) [196  65 134 171]: 0.90069\t\t 10) [215  52  87  97]: 0.89931\t\t\n",
      " 11) [184  55 128 193]: 0.87310\t\t 12) [215  75  90 123]: 0.85793\t\t\n",
      " 13) [179  62 134 168]: 0.83862\t\t 14) [189  57 134 202]: 0.83724\t\t\n",
      " 15) [288 103  87  39]: 0.83448\t\t 16) [229 260  33  78]: 0.81517\t\t\n",
      " 17) [240  41  75 272]: 0.81379\t\t 18) [291  65  50 227]: 0.80690\t\t\n",
      " 19) [202  46  87  97]: 0.80138\t\t 20) [243  72 275  41]: 0.78207\t\t\n",
      "- Average score: 0.86579\n",
      "\n",
      "- Evolving the hosts\n",
      "  - Removing half of the weaker hosts\n",
      "  - Crossovering top 2 hosts\n",
      "    [243  33  78 260] & [229  41  72 275] >> [1, 2, 3] & [1, 2, 3] >> [243  41  72 275] & [229  33  78 260]\n",
      "  - Mutating remaining top hosts\n",
      "    [215  70  74 113] >> [204  66  74 123]\n",
      "    [186  62 116 101] >> [189  59 116  90]\n",
      "    [229  41  72 275] >> [218  23  73 280]\n",
      "    [275  84  46 227] >> [282  84  62 215]\n",
      "    [215  52  87  97] >> [211  55  72  97]\n",
      "    [275  84  46 227] >> [275  95  46 225]\n",
      "    [196  55 134 185] >> [196  55 128 186]\n",
      "    [243  33  78 260] >> [243  30  66 245]\n",
      "  - Adding hosts\n",
      "    [243,41,72,275], [229,33,78,260], [204,66,74,123], [189,59,116,90], [218,23,73,280], [282,84,62,215], [211,55,72,97], [275,95,46,225], [196,55,128,186], [243,30,66,245]\n",
      "\n",
      "# Generation 44\n"
     ]
    },
    {
     "data": {
      "text/plain": [
       "@ Training progress: 100.0%"
      ]
     },
     "metadata": {},
     "output_type": "display_data"
    },
    {
     "name": "stdout",
     "output_type": "stream",
     "text": [
      "Parameters saved at Log 05.08.2019 16.17.txt!\n",
      "\n",
      "# All hosts\n",
      "  1) [243  33  78 260]: 0.91586\t\t  2) [229  41  72 275]: 0.91448\t\t\n",
      "  3) [196  55 134 185]: 0.91310\t\t  4) [229  33  78 260]: 0.90483\t\t\n",
      "  5) [215  70  74 113]: 0.90345\t\t  6) [186  62 116 101]: 0.90207\t\t\n",
      "  7) [227  33  72 268]: 0.90207\t\t  8) [275  84  46 227]: 0.90207\t\t\n",
      "  9) [275  97  87  52]: 0.90207\t\t 10) [196  65 134 171]: 0.90069\t\t\n",
      " 11) [215  52  87  97]: 0.89931\t\t 12) [189  59 116  90]: 0.88966\t\t\n",
      " 13) [204  66  74 123]: 0.85517\t\t 14) [243  30  66 245]: 0.84966\t\t\n",
      " 15) [243  41  72 275]: 0.83448\t\t 16) [196  55 128 186]: 0.81931\t\t\n",
      " 17) [282  84  62 215]: 0.81517\t\t 18) [211  55  72  97]: 0.80966\t\t\n",
      " 19) [218  23  73 280]: 0.79862\t\t 20) [275  95  46 225]: 0.75724\t\t\n",
      "- Average score: 0.86945\n",
      "\n",
      "- Evolving the hosts\n",
      "  - Removing half of the weaker hosts\n",
      "  - Crossovering top 2 hosts\n",
      "    [243  33  78 260] & [229  41  72 275] >> [0, 2, 3] & [2, 0, 3] >> [ 72  33 229 275] & [ 78  41 243 260]\n",
      "  - Mutating remaining top hosts\n",
      "    [196  65 134 171] >> [187  79 115 155]\n",
      "    [229  33  78 260] >> [225  33  76 266]\n",
      "    [229  33  78 260] >> [229  33  78 260]\n",
      "    [229  41  72 275] >> [247  40  80 266]\n",
      "    [227  33  72 268] >> [213  36  72 275]\n",
      "    [196  55 134 185] >> [196  52 134 185]\n",
      "    [186  62 116 101] >> [193  58 135  83]\n",
      "    [227  33  72 268] >> [232  24  72 267]\n",
      "  - Adding hosts\n",
      "    [72,33,229,275], [78,41,243,260], [187,79,115,155], [225,33,76,266], [229,33,78,260], [247,40,80,266], [213,36,72,275], [196,52,134,185], [193,58,135,83], [232,24,72,267]\n",
      "\n",
      "# Generation 45\n"
     ]
    },
    {
     "data": {
      "text/plain": [
       "@ Training progress: 100.0%"
      ]
     },
     "metadata": {},
     "output_type": "display_data"
    },
    {
     "name": "stdout",
     "output_type": "stream",
     "text": [
      "Parameters saved at Log 05.08.2019 16.17.txt!\n",
      "\n",
      "# All hosts\n",
      "  1) [243  33  78 260]: 0.91586\t\t  2) [229  41  72 275]: 0.91448\t\t\n",
      "  3) [196  55 134 185]: 0.91310\t\t  4) [229  33  78 260]: 0.90483\t\t\n",
      "  5) [215  70  74 113]: 0.90345\t\t  6) [186  62 116 101]: 0.90207\t\t\n",
      "  7) [227  33  72 268]: 0.90207\t\t  8) [275  84  46 227]: 0.90207\t\t\n",
      "  9) [275  97  87  52]: 0.90207\t\t 10) [196  65 134 171]: 0.90069\t\t\n",
      " 11) [187  79 115 155]: 0.88828\t\t 12) [232  24  72 267]: 0.88828\t\t\n",
      " 13) [ 78  41 243 260]: 0.85103\t\t 14) [193  58 135  83]: 0.82621\t\t\n",
      " 15) [225  33  76 266]: 0.80000\t\t 16) [229  33  78 260]: 0.79862\t\t\n",
      " 17) [213  36  72 275]: 0.79586\t\t 18) [196  52 134 185]: 0.78345\t\t\n",
      " 19) [ 72  33 229 275]: 0.76966\t\t 20) [247  40  80 266]: 0.76966\t\t\n",
      "- Average score: 0.86159\n",
      "\n",
      "- Evolving the hosts\n",
      "  - Removing half of the weaker hosts\n",
      "  - Crossovering top 2 hosts\n",
      "    [243  33  78 260] & [229  41  72 275] >> [1, 2, 3] & [1, 2, 3] >> [243  41  72 275] & [229  33  78 260]\n",
      "  - Mutating remaining top hosts\n",
      "    [243  33  78 260] >> [243  35  71 260]\n",
      "    [196  65 134 171] >> [196  65 125 174]\n",
      "    [196  55 134 185] >> [203  55 134 189]\n",
      "    [229  41  72 275] >> [213  41  84 278]\n",
      "    [215  70  74 113] >> [208  54  57 117]\n",
      "    [275  97  87  52] >> [290  88  99  64]\n",
      "    [227  33  72 268] >> [230  38  72 255]\n",
      "    [243  33  78 260] >> [246  32  78 243]\n",
      "  - Adding hosts\n",
      "    [243,41,72,275], [229,33,78,260], [243,35,71,260], [196,65,125,174], [203,55,134,189], [213,41,84,278], [208,54,57,117], [290,88,99,64], [230,38,72,255], [246,32,78,243]\n",
      "\n",
      "# Generation 46\n"
     ]
    },
    {
     "data": {
      "text/plain": [
       "@ Training progress: 100.0%"
      ]
     },
     "metadata": {},
     "output_type": "display_data"
    },
    {
     "name": "stdout",
     "output_type": "stream",
     "text": [
      "Parameters saved at Log 05.08.2019 16.17.txt!\n",
      "\n",
      "# All hosts\n",
      "  1) [243  33  78 260]: 0.91586\t\t  2) [229  41  72 275]: 0.91448\t\t\n",
      "  3) [196  55 134 185]: 0.91310\t\t  4) [229  33  78 260]: 0.90483\t\t\n",
      "  5) [215  70  74 113]: 0.90345\t\t  6) [186  62 116 101]: 0.90207\t\t\n",
      "  7) [227  33  72 268]: 0.90207\t\t  8) [275  84  46 227]: 0.90207\t\t\n",
      "  9) [275  97  87  52]: 0.90207\t\t 10) [196  65 125 174]: 0.90069\t\t\n",
      " 11) [196  65 134 171]: 0.90069\t\t 12) [213  41  84 278]: 0.89379\t\t\n",
      " 13) [243  41  72 275]: 0.83724\t\t 14) [229  33  78 260]: 0.83172\t\t\n",
      " 15) [203  55 134 189]: 0.80828\t\t 16) [230  38  72 255]: 0.79448\t\t\n",
      " 17) [208  54  57 117]: 0.77931\t\t 18) [246  32  78 243]: 0.75034\t\t\n",
      " 19) [243  35  71 260]: 0.72966\t\t 20) [290  88  99  64]: 0.72690\t\t\n",
      "- Average score: 0.85566\n",
      "\n",
      "- Evolving the hosts\n",
      "  - Removing half of the weaker hosts\n",
      "  - Crossovering top 2 hosts\n",
      "    [243  33  78 260] & [229  41  72 275] >> [0, 1] & [1, 0] >> [ 41 229  78 260] & [ 33 243  72 275]\n",
      "  - Mutating remaining top hosts\n",
      "    [275  97  87  52] >> [275 107  87  70]\n",
      "    [275  97  87  52] >> [275 105  87  58]\n",
      "    [215  70  74 113] >> [233  81  74 100]\n",
      "    [196  55 134 185] >> [178  36 127 187]\n",
      "    [186  62 116 101] >> [170  59 127  96]\n",
      "    [215  70  74 113] >> [213  87  58 117]\n",
      "    [215  70  74 113] >> [215  84  74 103]\n",
      "    [196  55 134 185] >> [185  58 120 203]\n",
      "  - Adding hosts\n",
      "    [41,229,78,260], [33,243,72,275], [275,107,87,70], [275,105,87,58], [233,81,74,100], [178,36,127,187], [170,59,127,96], [213,87,58,117], [215,84,74,103], [185,58,120,203]\n",
      "\n",
      "# Generation 47\n"
     ]
    },
    {
     "data": {
      "text/plain": [
       "@ Training progress: 100.0%"
      ]
     },
     "metadata": {},
     "output_type": "display_data"
    },
    {
     "name": "stdout",
     "output_type": "stream",
     "text": [
      "Parameters saved at Log 05.08.2019 16.17.txt!\n",
      "\n",
      "# All hosts\n",
      "  1) [243  33  78 260]: 0.91586\t\t  2) [229  41  72 275]: 0.91448\t\t\n",
      "  3) [196  55 134 185]: 0.91310\t\t  4) [229  33  78 260]: 0.90483\t\t\n",
      "  5) [215  70  74 113]: 0.90345\t\t  6) [186  62 116 101]: 0.90207\t\t\n",
      "  7) [227  33  72 268]: 0.90207\t\t  8) [275  84  46 227]: 0.90207\t\t\n",
      "  9) [275  97  87  52]: 0.90207\t\t 10) [196  65 125 174]: 0.90069\t\t\n",
      " 11) [233  81  74 100]: 0.88828\t\t 12) [215  84  74 103]: 0.88414\t\t\n",
      " 13) [213  87  58 117]: 0.85517\t\t 14) [275 107  87  70]: 0.84828\t\t\n",
      " 15) [275 105  87  58]: 0.83862\t\t 16) [185  58 120 203]: 0.83724\t\t\n",
      " 17) [ 41 229  78 260]: 0.82897\t\t 18) [178  36 127 187]: 0.82897\t\t\n",
      " 19) [ 33 243  72 275]: 0.76276\t\t 20) [170  59 127  96]: 0.74483\t\t\n",
      "- Average score: 0.86890\n",
      "\n",
      "- Evolving the hosts\n",
      "  - Removing half of the weaker hosts\n",
      "  - Crossovering top 2 hosts\n",
      "    [243  33  78 260] & [229  41  72 275] >> [0, 1, 3] & [3, 0, 1] >> [275 229  78  41] & [ 33 260  72 243]\n",
      "  - Mutating remaining top hosts\n",
      "    [229  33  78 260] >> [217  33  84 260]\n",
      "    [243  33  78 260] >> [243  33  87 271]\n",
      "    [275  84  46 227] >> [286 100  64 216]\n",
      "    [243  33  78 260] >> [239  28  96 255]\n",
      "    [243  33  78 260] >> [256  28  69 250]\n",
      "    [275  84  46 227] >> [285  97  27 227]\n",
      "    [275  97  87  52] >> [260 106  87  44]\n",
      "    [275  97  87  52] >> [275 110  85  52]\n",
      "  - Adding hosts\n",
      "    [275,229,78,41], [33,260,72,243], [217,33,84,260], [243,33,87,271], [286,100,64,216], [239,28,96,255], [256,28,69,250], [285,97,27,227], [260,106,87,44], [275,110,85,52]\n",
      "\n",
      "# Generation 48\n"
     ]
    },
    {
     "data": {
      "text/plain": [
       "@ Training progress: 100.0%"
      ]
     },
     "metadata": {},
     "output_type": "display_data"
    },
    {
     "name": "stdout",
     "output_type": "stream",
     "text": [
      "Parameters saved at Log 05.08.2019 16.17.txt!\n",
      "\n",
      "# All hosts\n",
      "  1) [243  33  78 260]: 0.91586\t\t  2) [229  41  72 275]: 0.91448\t\t\n",
      "  3) [196  55 134 185]: 0.91310\t\t  4) [229  33  78 260]: 0.90483\t\t\n",
      "  5) [215  70  74 113]: 0.90345\t\t  6) [186  62 116 101]: 0.90207\t\t\n",
      "  7) [227  33  72 268]: 0.90207\t\t  8) [275  84  46 227]: 0.90207\t\t\n",
      "  9) [275  97  87  52]: 0.90207\t\t 10) [196  65 125 174]: 0.90069\t\t\n",
      " 11) [260 106  87  44]: 0.87310\t\t 12) [286 100  64 216]: 0.87172\t\t\n",
      " 13) [217  33  84 260]: 0.86207\t\t 14) [285  97  27 227]: 0.85793\t\t\n",
      " 15) [243  33  87 271]: 0.83724\t\t 16) [275 229  78  41]: 0.79586\t\t\n",
      " 17) [ 33 260  72 243]: 0.77931\t\t 18) [239  28  96 255]: 0.77103\t\t\n",
      " 19) [256  28  69 250]: 0.76828\t\t 20) [275 110  85  52]: 0.73517\t\t\n",
      "- Average score: 0.86062\n",
      "\n",
      "- Evolving the hosts\n",
      "  - Removing half of the weaker hosts\n",
      "  - Crossovering top 2 hosts\n",
      "    [243  33  78 260] & [229  41  72 275] >> [0, 1] & [1, 0] >> [ 41 229  78 260] & [ 33 243  72 275]\n",
      "  - Mutating remaining top hosts\n",
      "    [275  84  46 227] >> [286  75  46 240]\n",
      "    [243  33  78 260] >> [230  33  90 277]\n",
      "    [243  33  78 260] >> [243  33  74 260]\n",
      "    [186  62 116 101] >> [171  73  98 101]\n",
      "    [196  65 125 174] >> [194  76 125 158]\n",
      "    [243  33  78 260] >> [243  33  78 263]\n",
      "    [196  65 125 174] >> [206  47 125 168]\n",
      "    [275  84  46 227] >> [287  96  46 229]\n",
      "  - Adding hosts\n",
      "    [41,229,78,260], [33,243,72,275], [286,75,46,240], [230,33,90,277], [243,33,74,260], [171,73,98,101], [194,76,125,158], [243,33,78,263], [206,47,125,168], [287,96,46,229]\n",
      "\n",
      "# Generation 49\n"
     ]
    },
    {
     "data": {
      "text/plain": [
       "@ Training progress: 100.0%"
      ]
     },
     "metadata": {},
     "output_type": "display_data"
    },
    {
     "name": "stdout",
     "output_type": "stream",
     "text": [
      "Parameters saved at Log 05.08.2019 16.17.txt!\n",
      "\n",
      "# All hosts\n",
      "  1) [243  33  78 260]: 0.91586\t\t  2) [229  41  72 275]: 0.91448\t\t\n",
      "  3) [196  55 134 185]: 0.91310\t\t  4) [230  33  90 277]: 0.91172\t\t\n",
      "  5) [229  33  78 260]: 0.90483\t\t  6) [215  70  74 113]: 0.90345\t\t\n",
      "  7) [186  62 116 101]: 0.90207\t\t  8) [227  33  72 268]: 0.90207\t\t\n",
      "  9) [275  84  46 227]: 0.90207\t\t 10) [275  97  87  52]: 0.90207\t\t\n",
      " 11) [196  65 125 174]: 0.90069\t\t 12) [194  76 125 158]: 0.89655\t\t\n",
      " 13) [171  73  98 101]: 0.88966\t\t 14) [243  33  78 263]: 0.87310\t\t\n",
      " 15) [243  33  74 260]: 0.87034\t\t 16) [286  75  46 240]: 0.85103\t\t\n",
      " 17) [287  96  46 229]: 0.83586\t\t 18) [206  47 125 168]: 0.81103\t\t\n",
      " 19) [ 41 229  78 260]: 0.71586\t\t 20) [ 33 243  72 275]: 0.58069\t\t\n",
      "- Average score: 0.86483\n",
      "\n",
      "- Evolving the hosts\n",
      "  - Removing half of the weaker hosts\n",
      "  - Crossovering top 2 hosts\n",
      "    [243  33  78 260] & [229  41  72 275] >> [0, 1, 2, 3] & [2, 3, 0, 1] >> [ 72 275 229  41] & [ 78 260 243  33]\n",
      "  - Mutating remaining top hosts\n",
      "    [243  33  78 260] >> [235  30  79 260]\n",
      "    [215  70  74 113] >> [228  69  89 127]\n",
      "    [196  55 134 185] >> [188  45 119 199]\n",
      "    [196  55 134 185] >> [202  38 128 184]\n",
      "    [275  84  46 227] >> [266  90  41 227]\n",
      "    [196  55 134 185] >> [211  53 148 177]\n",
      "    [229  33  78 260] >> [244  33  85 262]\n",
      "    [243  33  78 260] >> [239  50  93 246]\n",
      "  - Adding hosts\n",
      "    [72,275,229,41], [78,260,243,33], [235,30,79,260], [228,69,89,127], [188,45,119,199], [202,38,128,184], [266,90,41,227], [211,53,148,177], [244,33,85,262], [239,50,93,246]\n",
      "\n",
      "# Generation 50\n"
     ]
    },
    {
     "data": {
      "text/plain": [
       "@ Training progress: 100.0%"
      ]
     },
     "metadata": {},
     "output_type": "display_data"
    },
    {
     "name": "stdout",
     "output_type": "stream",
     "text": [
      "Parameters saved at Log 05.08.2019 16.17.txt!\n",
      "\n",
      "# All hosts\n",
      "  1) [243  33  78 260]: 0.91586\t\t  2) [229  41  72 275]: 0.91448\t\t\n",
      "  3) [196  55 134 185]: 0.91310\t\t  4) [230  33  90 277]: 0.91172\t\t\n",
      "  5) [229  33  78 260]: 0.90483\t\t  6) [215  70  74 113]: 0.90345\t\t\n",
      "  7) [186  62 116 101]: 0.90207\t\t  8) [227  33  72 268]: 0.90207\t\t\n",
      "  9) [275  84  46 227]: 0.90207\t\t 10) [275  97  87  52]: 0.90207\t\t\n",
      " 11) [244  33  85 262]: 0.89655\t\t 12) [202  38 128 184]: 0.89103\t\t\n",
      " 13) [266  90  41 227]: 0.84276\t\t 14) [235  30  79 260]: 0.83310\t\t\n",
      " 15) [ 78 260 243  33]: 0.81655\t\t 16) [211  53 148 177]: 0.79724\t\t\n",
      " 17) [239  50  93 246]: 0.75310\t\t 18) [188  45 119 199]: 0.74483\t\t\n",
      " 19) [ 72 275 229  41]: 0.73655\t\t 20) [228  69  89 127]: 0.73241\t\t\n",
      "- Average score: 0.85579\n",
      "\n",
      "- Evolving the hosts\n",
      "  - Removing half of the weaker hosts\n",
      "  - Crossovering top 2 hosts\n",
      "    [243  33  78 260] & [229  41  72 275] >> [0, 1] & [0, 1] >> [229  41  78 260] & [243  33  72 275]\n",
      "  - Mutating remaining top hosts\n",
      "    [275  84  46 227] >> [258  95  62 227]\n",
      "    [230  33  90 277] >> [216  32  96 277]\n",
      "    [227  33  72 268] >> [226  50  80 284]\n",
      "    [229  33  78 260] >> [232  33  78 273]\n",
      "    [275  84  46 227] >> [258  70  41 227]\n",
      "    [227  33  72 268] >> [227  47  71 274]\n",
      "    [243  33  78 260] >> [243  28  77 259]\n",
      "    [275  84  46 227] >> [293  69  52 211]\n",
      "  - Adding hosts\n",
      "    [229,41,78,260], [243,33,72,275], [258,95,62,227], [216,32,96,277], [226,50,80,284], [232,33,78,273], [258,70,41,227], [227,47,71,274], [243,28,77,259], [293,69,52,211]\n",
      "\n",
      "# Generation 51\n"
     ]
    },
    {
     "data": {
      "text/plain": [
       "@ Training progress: 100.0%"
      ]
     },
     "metadata": {},
     "output_type": "display_data"
    },
    {
     "name": "stdout",
     "output_type": "stream",
     "text": [
      "Parameters saved at Log 05.08.2019 16.17.txt!\n",
      "\n",
      "# All hosts\n",
      "  1) [243  33  78 260]: 0.91586\t\t  2) [229  41  72 275]: 0.91448\t\t\n",
      "  3) [196  55 134 185]: 0.91310\t\t  4) [230  33  90 277]: 0.91172\t\t\n",
      "  5) [229  33  78 260]: 0.90483\t\t  6) [215  70  74 113]: 0.90345\t\t\n",
      "  7) [186  62 116 101]: 0.90207\t\t  8) [227  33  72 268]: 0.90207\t\t\n",
      "  9) [275  84  46 227]: 0.90207\t\t 10) [275  97  87  52]: 0.90207\t\t\n",
      " 11) [243  28  77 259]: 0.87448\t\t 12) [258  95  62 227]: 0.87310\t\t\n",
      " 13) [243  33  72 275]: 0.86759\t\t 14) [227  47  71 274]: 0.85241\t\t\n",
      " 15) [229  41  78 260]: 0.83862\t\t 16) [258  70  41 227]: 0.80276\t\t\n",
      " 17) [216  32  96 277]: 0.80000\t\t 18) [226  50  80 284]: 0.79448\t\t\n",
      " 19) [293  69  52 211]: 0.79310\t\t 20) [232  33  78 273]: 0.77931\t\t\n",
      "- Average score: 0.86738\n",
      "\n",
      "- Evolving the hosts\n",
      "  - Removing half of the weaker hosts\n",
      "  - Crossovering top 2 hosts\n",
      "    [243  33  78 260] & [229  41  72 275] >> [1, 3] & [3, 1] >> [243 275  78  41] & [229 260  72  33]\n",
      "  - Mutating remaining top hosts\n",
      "    [275  84  46 227] >> [284  69  40 229]\n",
      "    [229  33  78 260] >> [229  48  78 260]\n",
      "    [275  97  87  52] >> [275  94 102  37]\n",
      "    [243  33  78 260] >> [232  17  88 260]\n",
      "    [229  33  78 260] >> [229  16  76 260]\n",
      "    [227  33  72 268] >> [227  41  77 255]\n",
      "    [215  70  74 113] >> [196  82  91 108]\n",
      "    [196  55 134 185] >> [213  45 134 191]\n",
      "  - Adding hosts\n",
      "    [243,275,78,41], [229,260,72,33], [284,69,40,229], [229,48,78,260], [275,94,102,37], [232,17,88,260], [229,16,76,260], [227,41,77,255], [196,82,91,108], [213,45,134,191]\n",
      "\n",
      "# Generation 52\n"
     ]
    },
    {
     "data": {
      "text/plain": [
       "@ Training progress: 100.0%"
      ]
     },
     "metadata": {},
     "output_type": "display_data"
    },
    {
     "name": "stdout",
     "output_type": "stream",
     "text": [
      "Parameters saved at Log 05.08.2019 16.17.txt!\n",
      "\n",
      "# All hosts\n",
      "  1) [243  33  78 260]: 0.91586\t\t  2) [229  41  72 275]: 0.91448\t\t\n",
      "  3) [196  55 134 185]: 0.91310\t\t  4) [230  33  90 277]: 0.91172\t\t\n",
      "  5) [232  17  88 260]: 0.90483\t\t  6) [229  33  78 260]: 0.90483\t\t\n",
      "  7) [215  70  74 113]: 0.90345\t\t  8) [186  62 116 101]: 0.90207\t\t\n",
      "  9) [227  33  72 268]: 0.90207\t\t 10) [275  84  46 227]: 0.90207\t\t\n",
      " 11) [275  97  87  52]: 0.90207\t\t 12) [243 275  78  41]: 0.90069\t\t\n",
      " 13) [213  45 134 191]: 0.89517\t\t 14) [229  16  76 260]: 0.88828\t\t\n",
      " 15) [227  41  77 255]: 0.86069\t\t 16) [275  94 102  37]: 0.84690\t\t\n",
      " 17) [229  48  78 260]: 0.83172\t\t 18) [284  69  40 229]: 0.79448\t\t\n",
      " 19) [196  82  91 108]: 0.79034\t\t 20) [229 260  72  33]: 0.70069\t\t\n",
      "- Average score: 0.87428\n",
      "\n",
      "- Evolving the hosts\n",
      "  - Removing half of the weaker hosts\n",
      "  - Crossovering top 2 hosts\n",
      "    [243  33  78 260] & [229  41  72 275] >> [0, 2, 3] & [0, 3, 2] >> [229  33 275  72] & [243  41 260  78]\n",
      "  - Mutating remaining top hosts\n",
      "    [229  41  72 275] >> [234  41  86 293]\n",
      "    [275  84  46 227] >> [280  93  29 245]\n",
      "    [227  33  72 268] >> [245  49  72 264]\n",
      "    [275  84  46 227] >> [256  84  56 228]\n",
      "    [229  41  72 275] >> [228  23  71 275]\n",
      "    [196  55 134 185] >> [215  44 134 180]\n",
      "    [215  70  74 113] >> [213  89  74 114]\n",
      "    [186  62 116 101] >> [178  62 116 101]\n",
      "  - Adding hosts\n",
      "    [229,33,275,72], [243,41,260,78], [234,41,86,293], [280,93,29,245], [245,49,72,264], [256,84,56,228], [228,23,71,275], [215,44,134,180], [213,89,74,114], [178,62,116,101]\n",
      "\n",
      "# Generation 53\n"
     ]
    },
    {
     "data": {
      "text/plain": [
       "@ Training progress: 100.0%"
      ]
     },
     "metadata": {},
     "output_type": "display_data"
    },
    {
     "name": "stdout",
     "output_type": "stream",
     "text": [
      "Parameters saved at Log 05.08.2019 16.17.txt!\n",
      "\n",
      "# All hosts\n",
      "  1) [243  33  78 260]: 0.91586\t\t  2) [229  41  72 275]: 0.91448\t\t\n",
      "  3) [196  55 134 185]: 0.91310\t\t  4) [230  33  90 277]: 0.91172\t\t\n",
      "  5) [232  17  88 260]: 0.90483\t\t  6) [229  33  78 260]: 0.90483\t\t\n",
      "  7) [215  70  74 113]: 0.90345\t\t  8) [186  62 116 101]: 0.90207\t\t\n",
      "  9) [227  33  72 268]: 0.90207\t\t 10) [275  84  46 227]: 0.90207\t\t\n",
      " 11) [228  23  71 275]: 0.88828\t\t 12) [245  49  72 264]: 0.87448\t\t\n",
      " 13) [215  44 134 180]: 0.86621\t\t 14) [178  62 116 101]: 0.85517\t\t\n",
      " 15) [243  41 260  78]: 0.84276\t\t 16) [229  33 275  72]: 0.84000\t\t\n",
      " 17) [234  41  86 293]: 0.79724\t\t 18) [256  84  56 228]: 0.79448\t\t\n",
      " 19) [280  93  29 245]: 0.79034\t\t 20) [213  89  74 114]: 0.78483\t\t\n",
      "- Average score: 0.87041\n",
      "\n",
      "- Evolving the hosts\n",
      "  - Removing half of the weaker hosts\n",
      "  - Crossovering top 2 hosts\n",
      "    [243  33  78 260] & [229  41  72 275] >> [1, 3] & [1, 3] >> [243  41  78 275] & [229  33  72 260]\n",
      "  - Mutating remaining top hosts\n",
      "    [232  17  88 260] >> [232  22  75 273]\n",
      "    [229  33  78 260] >> [242  47  59 268]\n",
      "    [186  62 116 101] >> [193  68 116  94]\n",
      "    [229  41  72 275] >> [238  41  72 274]\n",
      "    [232  17  88 260] >> [232  36  88 260]\n",
      "    [196  55 134 185] >> [189  40 137 179]\n",
      "    [230  33  90 277] >> [233  26 100 278]\n",
      "    [196  55 134 185] >> [196  73 134 180]\n",
      "  - Adding hosts\n",
      "    [243,41,78,275], [229,33,72,260], [232,22,75,273], [242,47,59,268], [193,68,116,94], [238,41,72,274], [232,36,88,260], [189,40,137,179], [233,26,100,278], [196,73,134,180]\n",
      "\n",
      "# Generation 54\n"
     ]
    },
    {
     "data": {
      "text/plain": [
       "@ Training progress: 100.0%"
      ]
     },
     "metadata": {},
     "output_type": "display_data"
    },
    {
     "name": "stdout",
     "output_type": "stream",
     "text": [
      "Parameters saved at Log 05.08.2019 16.17.txt!\n",
      "\n",
      "# All hosts\n",
      "  1) [243  33  78 260]: 0.91586\t\t  2) [229  41  72 275]: 0.91448\t\t\n",
      "  3) [196  55 134 185]: 0.91310\t\t  4) [230  33  90 277]: 0.91172\t\t\n",
      "  5) [232  17  88 260]: 0.90483\t\t  6) [229  33  78 260]: 0.90483\t\t\n",
      "  7) [215  70  74 113]: 0.90345\t\t  8) [186  62 116 101]: 0.90207\t\t\n",
      "  9) [227  33  72 268]: 0.90207\t\t 10) [275  84  46 227]: 0.90207\t\t\n",
      " 11) [229  33  72 260]: 0.88138\t\t 12) [233  26 100 278]: 0.86345\t\t\n",
      " 13) [196  73 134 180]: 0.86345\t\t 14) [232  36  88 260]: 0.76138\t\t\n",
      " 15) [242  47  59 268]: 0.76000\t\t 16) [243  41  78 275]: 0.76000\t\t\n",
      " 17) [193  68 116  94]: 0.76000\t\t 18) [238  41  72 274]: 0.69931\t\t\n",
      " 19) [232  22  75 273]: 0.69517\t\t 20) [189  40 137 179]: 0.68552\t\t\n",
      "- Average score: 0.84021\n",
      "\n",
      "- Evolving the hosts\n",
      "  - Removing half of the weaker hosts\n",
      "  - Crossovering top 2 hosts\n",
      "    [243  33  78 260] & [229  41  72 275] >> [0, 1, 2, 3] & [0, 2, 3, 1] >> [229  72 275  41] & [243 260  33  78]\n",
      "  - Mutating remaining top hosts\n",
      "    [196  55 134 185] >> [189  43 134 187]\n",
      "    [243  33  78 260] >> [247  14  78 249]\n",
      "    [215  70  74 113] >> [200  82  67 126]\n",
      "    [229  41  72 275] >> [235  39  91 292]\n",
      "    [227  33  72 268] >> [237  33  72 257]\n",
      "    [229  33  78 260] >> [229  25  63 269]\n",
      "    [243  33  78 260] >> [240  14  97 252]\n",
      "    [196  55 134 185] >> [210  74 146 193]\n",
      "  - Adding hosts\n",
      "    [229,72,275,41], [243,260,33,78], [189,43,134,187], [247,14,78,249], [200,82,67,126], [235,39,91,292], [237,33,72,257], [229,25,63,269], [240,14,97,252], [210,74,146,193]\n",
      "\n",
      "# Generation 55\n"
     ]
    },
    {
     "data": {
      "text/plain": [
       "@ Training progress: 100.0%"
      ]
     },
     "metadata": {},
     "output_type": "display_data"
    },
    {
     "name": "stdout",
     "output_type": "stream",
     "text": [
      "Parameters saved at Log 05.08.2019 16.17.txt!\n",
      "\n",
      "# All hosts\n",
      "  1) [243  33  78 260]: 0.91586\t\t  2) [229  41  72 275]: 0.91448\t\t\n",
      "  3) [196  55 134 185]: 0.91310\t\t  4) [230  33  90 277]: 0.91172\t\t\n",
      "  5) [232  17  88 260]: 0.90483\t\t  6) [229  33  78 260]: 0.90483\t\t\n",
      "  7) [215  70  74 113]: 0.90345\t\t  8) [186  62 116 101]: 0.90207\t\t\n",
      "  9) [227  33  72 268]: 0.90207\t\t 10) [275  84  46 227]: 0.90207\t\t\n",
      " 11) [229  72 275  41]: 0.89793\t\t 12) [210  74 146 193]: 0.88690\t\t\n",
      " 13) [240  14  97 252]: 0.88690\t\t 14) [243 260  33  78]: 0.87586\t\t\n",
      " 15) [235  39  91 292]: 0.87310\t\t 16) [189  43 134 187]: 0.84552\t\t\n",
      " 17) [229  25  63 269]: 0.80414\t\t 18) [200  82  67 126]: 0.79448\t\t\n",
      " 19) [247  14  78 249]: 0.77793\t\t 20) [237  33  72 257]: 0.76966\t\t\n",
      "- Average score: 0.87434\n",
      "\n",
      "- Evolving the hosts\n",
      "  - Removing half of the weaker hosts\n",
      "  - Crossovering top 2 hosts\n",
      "    [243  33  78 260] & [229  41  72 275] >> [1, 2] & [1, 2] >> [243  41  72 260] & [229  33  78 275]\n",
      "  - Mutating remaining top hosts\n",
      "    [227  33  72 268] >> [227  45  63 267]\n",
      "    [215  70  74 113] >> [200  70  75 120]\n",
      "    [230  33  90 277] >> [239  23  73 260]\n",
      "    [275  84  46 227] >> [267  80  48 227]\n",
      "    [186  62 116 101] >> [170  62 104  92]\n",
      "    [227  33  72 268] >> [227  33  88 276]\n",
      "    [230  33  90 277] >> [243  51  82 270]\n",
      "    [229  33  78 260] >> [220  33  84 254]\n",
      "  - Adding hosts\n",
      "    [243,41,72,260], [229,33,78,275], [227,45,63,267], [200,70,75,120], [239,23,73,260], [267,80,48,227], [170,62,104,92], [227,33,88,276], [243,51,82,270], [220,33,84,254]\n",
      "\n",
      "# Generation 56\n"
     ]
    },
    {
     "data": {
      "text/plain": [
       "@ Training progress: 100.0%"
      ]
     },
     "metadata": {},
     "output_type": "display_data"
    },
    {
     "name": "stdout",
     "output_type": "stream",
     "text": [
      "Parameters saved at Log 05.08.2019 16.17.txt!\n",
      "\n",
      "# All hosts\n",
      "  1) [243  33  78 260]: 0.91586\t\t  2) [229  41  72 275]: 0.91448\t\t\n",
      "  3) [196  55 134 185]: 0.91310\t\t  4) [230  33  90 277]: 0.91172\t\t\n",
      "  5) [232  17  88 260]: 0.90483\t\t  6) [229  33  78 260]: 0.90483\t\t\n",
      "  7) [215  70  74 113]: 0.90345\t\t  8) [186  62 116 101]: 0.90207\t\t\n",
      "  9) [227  33  72 268]: 0.90207\t\t 10) [275  84  46 227]: 0.90207\t\t\n",
      " 11) [227  45  63 267]: 0.86345\t\t 12) [239  23  73 260]: 0.85379\t\t\n",
      " 13) [229  33  78 275]: 0.84552\t\t 14) [243  41  72 260]: 0.84276\t\t\n",
      " 15) [227  33  88 276]: 0.83724\t\t 16) [220  33  84 254]: 0.83586\t\t\n",
      " 17) [243  51  82 270]: 0.78897\t\t 18) [267  80  48 227]: 0.77517\t\t\n",
      " 19) [200  70  75 120]: 0.76552\t\t 20) [170  62 104  92]: 0.76000\t\t\n",
      "- Average score: 0.86214\n",
      "\n",
      "- Evolving the hosts\n",
      "  - Removing half of the weaker hosts\n",
      "  - Crossovering top 2 hosts\n",
      "    [243  33  78 260] & [229  41  72 275] >> [0, 1, 2] & [1, 0, 2] >> [ 41 229  72 260] & [ 33 243  78 275]\n",
      "  - Mutating remaining top hosts\n",
      "    [230  33  90 277] >> [213  33  73 270]\n",
      "    [230  33  90 277] >> [245  43  92 277]\n",
      "    [196  55 134 185] >> [196  51 131 174]\n",
      "    [243  33  78 260] >> [228  39  78 261]\n",
      "    [243  33  78 260] >> [227  31  90 247]\n",
      "    [232  17  88 260] >> [232  17  69 252]\n",
      "    [230  33  90 277] >> [239  33  76 294]\n",
      "    [215  70  74 113] >> [212  63  82 118]\n",
      "  - Adding hosts\n",
      "    [41,229,72,260], [33,243,78,275], [213,33,73,270], [245,43,92,277], [196,51,131,174], [228,39,78,261], [227,31,90,247], [232,17,69,252], [239,33,76,294], [212,63,82,118]\n",
      "\n",
      "# Generation 57\n"
     ]
    },
    {
     "data": {
      "text/plain": [
       "@ Training progress: 100.0%"
      ]
     },
     "metadata": {},
     "output_type": "display_data"
    },
    {
     "name": "stdout",
     "output_type": "stream",
     "text": [
      "Parameters saved at Log 05.08.2019 16.17.txt!\n",
      "\n",
      "# All hosts\n",
      "  1) [243  33  78 260]: 0.91586\t\t  2) [229  41  72 275]: 0.91448\t\t\n",
      "  3) [196  55 134 185]: 0.91310\t\t  4) [230  33  90 277]: 0.91172\t\t\n",
      "  5) [232  17  88 260]: 0.90483\t\t  6) [229  33  78 260]: 0.90483\t\t\n",
      "  7) [215  70  74 113]: 0.90345\t\t  8) [186  62 116 101]: 0.90207\t\t\n",
      "  9) [227  33  72 268]: 0.90207\t\t 10) [275  84  46 227]: 0.90207\t\t\n",
      " 11) [232  17  69 252]: 0.89655\t\t 12) [239  33  76 294]: 0.89517\t\t\n",
      " 13) [212  63  82 118]: 0.86759\t\t 14) [196  51 131 174]: 0.85931\t\t\n",
      " 15) [ 41 229  72 260]: 0.85379\t\t 16) [228  39  78 261]: 0.85103\t\t\n",
      " 17) [245  43  92 277]: 0.83172\t\t 18) [227  31  90 247]: 0.80414\t\t\n",
      " 19) [213  33  73 270]: 0.77379\t\t 20) [ 33 243  78 275]: 0.68552\t\t\n",
      "- Average score: 0.86966\n",
      "\n",
      "- Evolving the hosts\n",
      "  - Removing half of the weaker hosts\n",
      "  - Crossovering top 2 hosts\n",
      "    [243  33  78 260] & [229  41  72 275] >> [0, 1, 2] & [1, 0, 2] >> [ 41 229  72 260] & [ 33 243  78 275]\n",
      "  - Mutating remaining top hosts\n",
      "    [186  62 116 101] >> [186  69 126 101]\n",
      "    [275  84  46 227] >> [261  98  47 218]\n",
      "    [186  62 116 101] >> [197  49 128 105]\n",
      "    [232  17  88 260] >> [232  17 105 257]\n",
      "    [229  33  78 260] >> [214  26  59 262]\n",
      "    [196  55 134 185] >> [196  61 134 200]\n",
      "    [229  41  72 275] >> [237  57  72 275]\n",
      "    [229  33  78 260] >> [211  45  77 251]\n",
      "  - Adding hosts\n",
      "    [41,229,72,260], [33,243,78,275], [186,69,126,101], [261,98,47,218], [197,49,128,105], [232,17,105,257], [214,26,59,262], [196,61,134,200], [237,57,72,275], [211,45,77,251]\n",
      "\n",
      "# Generation 58\n"
     ]
    },
    {
     "data": {
      "text/plain": [
       "@ Training progress: 100.0%"
      ]
     },
     "metadata": {},
     "output_type": "display_data"
    },
    {
     "name": "stdout",
     "output_type": "stream",
     "text": [
      "Parameters saved at Log 05.08.2019 16.17.txt!\n",
      "\n",
      "# All hosts\n",
      "  1) [243  33  78 260]: 0.91586\t\t  2) [229  41  72 275]: 0.91448\t\t\n",
      "  3) [196  55 134 185]: 0.91310\t\t  4) [230  33  90 277]: 0.91172\t\t\n",
      "  5) [232  17  88 260]: 0.90483\t\t  6) [229  33  78 260]: 0.90483\t\t\n",
      "  7) [215  70  74 113]: 0.90345\t\t  8) [186  62 116 101]: 0.90207\t\t\n",
      "  9) [227  33  72 268]: 0.90207\t\t 10) [275  84  46 227]: 0.90207\t\t\n",
      " 11) [211  45  77 251]: 0.88690\t\t 12) [261  98  47 218]: 0.88000\t\t\n",
      " 13) [237  57  72 275]: 0.87172\t\t 14) [214  26  59 262]: 0.86621\t\t\n",
      " 15) [186  69 126 101]: 0.85931\t\t 16) [196  61 134 200]: 0.80414\t\t\n",
      " 17) [197  49 128 105]: 0.78897\t\t 18) [ 33 243  78 275]: 0.77379\t\t\n",
      " 19) [232  17 105 257]: 0.77241\t\t 20) [ 41 229  72 260]: 0.75310\t\t\n",
      "- Average score: 0.86655\n",
      "\n",
      "- Evolving the hosts\n",
      "  - Removing half of the weaker hosts\n",
      "  - Crossovering top 2 hosts\n",
      "    [243  33  78 260] & [229  41  72 275] >> [1, 2, 3] & [2, 1, 3] >> [243  72  41 275] & [229  78  33 260]\n",
      "  - Mutating remaining top hosts\n",
      "    [230  33  90 277] >> [249  50 100 277]\n",
      "    [215  70  74 113] >> [218  69  85 113]\n",
      "    [229  41  72 275] >> [229  24  60 281]\n",
      "    [227  33  72 268] >> [238  46  72 264]\n",
      "    [215  70  74 113] >> [206  66  58  97]\n",
      "    [229  33  78 260] >> [222  50  78 265]\n",
      "    [196  55 134 185] >> [194  63 130 175]\n",
      "    [186  62 116 101] >> [186  43 108 116]\n",
      "  - Adding hosts\n",
      "    [243,72,41,275], [229,78,33,260], [249,50,100,277], [218,69,85,113], [229,24,60,281], [238,46,72,264], [206,66,58,97], [222,50,78,265], [194,63,130,175], [186,43,108,116]\n",
      "\n",
      "# Generation 59\n"
     ]
    },
    {
     "data": {
      "text/plain": [
       "@ Training progress: 100.0%"
      ]
     },
     "metadata": {},
     "output_type": "display_data"
    },
    {
     "name": "stdout",
     "output_type": "stream",
     "text": [
      "Parameters saved at Log 05.08.2019 16.17.txt!\n",
      "\n",
      "# All hosts\n",
      "  1) [243  33  78 260]: 0.91586\t\t  2) [229  41  72 275]: 0.91448\t\t\n",
      "  3) [196  55 134 185]: 0.91310\t\t  4) [230  33  90 277]: 0.91172\t\t\n",
      "  5) [229  78  33 260]: 0.90621\t\t  6) [232  17  88 260]: 0.90483\t\t\n",
      "  7) [229  33  78 260]: 0.90483\t\t  8) [215  70  74 113]: 0.90345\t\t\n",
      "  9) [238  46  72 264]: 0.90207\t\t 10) [186  62 116 101]: 0.90207\t\t\n",
      " 11) [227  33  72 268]: 0.90207\t\t 12) [275  84  46 227]: 0.90207\t\t\n",
      " 13) [186  43 108 116]: 0.87724\t\t 14) [243  72  41 275]: 0.86345\t\t\n",
      " 15) [194  63 130 175]: 0.85793\t\t 16) [249  50 100 277]: 0.84690\t\t\n",
      " 17) [229  24  60 281]: 0.83448\t\t 18) [222  50  78 265]: 0.82483\t\t\n",
      " 19) [218  69  85 113]: 0.81931\t\t 20) [206  66  58  97]: 0.75862\t\t\n",
      "- Average score: 0.87828\n",
      "\n",
      "- Evolving the hosts\n",
      "  - Removing half of the weaker hosts\n",
      "  - Crossovering top 2 hosts\n",
      "    [243  33  78 260] & [229  41  72 275] >> [1, 3] & [1, 3] >> [243  41  78 275] & [229  33  72 260]\n",
      "  - Mutating remaining top hosts\n",
      "    [229  33  78 260] >> [229  40  82 252]\n",
      "    [229  41  72 275] >> [210  24  62 280]\n",
      "    [232  17  88 260] >> [216  13  95 270]\n",
      "    [229  33  78 260] >> [233  19  92 270]\n",
      "    [186  62 116 101] >> [193  62 122  84]\n",
      "    [243  33  78 260] >> [243  33  62 260]\n",
      "    [215  70  74 113] >> [208  67  66 113]\n",
      "    [196  55 134 185] >> [196  63 115 201]\n",
      "  - Adding hosts\n",
      "    [243,41,78,275], [229,33,72,260], [229,40,82,252], [210,24,62,280], [216,13,95,270], [233,19,92,270], [193,62,122,84], [243,33,62,260], [208,67,66,113], [196,63,115,201]\n",
      "\n",
      "# Generation 60\n"
     ]
    },
    {
     "data": {
      "text/plain": [
       "@ Training progress: 100.0%"
      ]
     },
     "metadata": {},
     "output_type": "display_data"
    },
    {
     "name": "stdout",
     "output_type": "stream",
     "text": [
      "Parameters saved at Log 05.08.2019 16.17.txt!\n",
      "\n",
      "# All hosts\n",
      "  1) [243  33  78 260]: 0.91586\t\t  2) [229  41  72 275]: 0.91448\t\t\n",
      "  3) [196  55 134 185]: 0.91310\t\t  4) [230  33  90 277]: 0.91172\t\t\n",
      "  5) [229  78  33 260]: 0.90621\t\t  6) [232  17  88 260]: 0.90483\t\t\n",
      "  7) [229  33  78 260]: 0.90483\t\t  8) [215  70  74 113]: 0.90345\t\t\n",
      "  9) [238  46  72 264]: 0.90207\t\t 10) [186  62 116 101]: 0.90207\t\t\n",
      " 11) [229  40  82 252]: 0.89931\t\t 12) [216  13  95 270]: 0.88276\t\t\n",
      " 13) [233  19  92 270]: 0.87862\t\t 14) [208  67  66 113]: 0.87172\t\t\n",
      " 15) [243  41  78 275]: 0.86897\t\t 16) [243  33  62 260]: 0.80414\t\t\n",
      " 17) [210  24  62 280]: 0.80414\t\t 18) [196  63 115 201]: 0.79448\t\t\n",
      " 19) [193  62 122  84]: 0.76000\t\t 20) [229  33  72 260]: 0.74621\t\t\n",
      "- Average score: 0.86945\n",
      "\n",
      "- Evolving the hosts\n",
      "  - Removing half of the weaker hosts\n",
      "  - Crossovering top 2 hosts\n",
      "    [243  33  78 260] & [229  41  72 275] >> [0, 2, 3] & [2, 3, 0] >> [ 72  33 275 229] & [260  41 243  78]\n",
      "  - Mutating remaining top hosts\n",
      "    [196  55 134 185] >> [212  55 119 189]\n",
      "    [232  17  88 260] >> [250  17  87 274]\n",
      "    [230  33  90 277] >> [230  30  98 279]\n",
      "    [229  78  33 260] >> [231  90  45 271]\n",
      "    [238  46  72 264] >> [248  46  84 264]\n",
      "    [229  33  78 260] >> [229  28  78 255]\n",
      "    [229  41  72 275] >> [229  41  79 285]\n",
      "    [229  41  72 275] >> [220  33  91 280]\n",
      "  - Adding hosts\n",
      "    [72,33,275,229], [260,41,243,78], [212,55,119,189], [250,17,87,274], [230,30,98,279], [231,90,45,271], [248,46,84,264], [229,28,78,255], [229,41,79,285], [220,33,91,280]\n",
      "\n",
      "# Generation 61\n"
     ]
    },
    {
     "data": {
      "text/plain": [
       "@ Training progress: 100.0%"
      ]
     },
     "metadata": {},
     "output_type": "display_data"
    },
    {
     "name": "stdout",
     "output_type": "stream",
     "text": [
      "Parameters saved at Log 05.08.2019 16.17.txt!\n",
      "\n",
      "# All hosts\n",
      "  1) [243  33  78 260]: 0.91586\t\t  2) [229  41  72 275]: 0.91448\t\t\n",
      "  3) [196  55 134 185]: 0.91310\t\t  4) [230  33  90 277]: 0.91172\t\t\n",
      "  5) [229  78  33 260]: 0.90621\t\t  6) [230  30  98 279]: 0.90621\t\t\n",
      "  7) [232  17  88 260]: 0.90483\t\t  8) [229  33  78 260]: 0.90483\t\t\n",
      "  9) [ 72  33 275 229]: 0.90483\t\t 10) [215  70  74 113]: 0.90345\t\t\n",
      " 11) [238  46  72 264]: 0.90207\t\t 12) [186  62 116 101]: 0.90207\t\t\n",
      " 13) [248  46  84 264]: 0.88828\t\t 14) [220  33  91 280]: 0.87310\t\t\n",
      " 15) [229  28  78 255]: 0.86897\t\t 16) [229  41  79 285]: 0.84828\t\t\n",
      " 17) [212  55 119 189]: 0.84138\t\t 18) [250  17  87 274]: 0.83586\t\t\n",
      " 19) [231  90  45 271]: 0.78897\t\t 20) [260  41 243  78]: 0.77655\t\t\n",
      "- Average score: 0.88055\n",
      "\n",
      "- Evolving the hosts\n",
      "  - Removing half of the weaker hosts\n",
      "  - Crossovering top 2 hosts\n",
      "    [243  33  78 260] & [229  41  72 275] >> [0, 1, 3] & [0, 3, 1] >> [229 275  78  41] & [243 260  72  33]\n",
      "  - Mutating remaining top hosts\n",
      "    [230  33  90 277] >> [230  36  76 268]\n",
      "    [215  70  74 113] >> [224  80  80 100]\n",
      "    [215  70  74 113] >> [231  60  74 122]\n",
      "    [243  33  78 260] >> [262  28  75 248]\n",
      "    [229  41  72 275] >> [237  40  82 275]\n",
      "    [232  17  88 260] >> [230  14  97 269]\n",
      "    [230  33  90 277] >> [230  33  91 275]\n",
      "    [230  30  98 279] >> [233  28  96 279]\n",
      "  - Adding hosts\n",
      "    [229,275,78,41], [243,260,72,33], [230,36,76,268], [224,80,80,100], [231,60,74,122], [262,28,75,248], [237,40,82,275], [230,14,97,269], [230,33,91,275], [233,28,96,279]\n",
      "\n",
      "# Generation 62\n"
     ]
    },
    {
     "data": {
      "text/plain": [
       "@ Training progress: 100.0%"
      ]
     },
     "metadata": {},
     "output_type": "display_data"
    },
    {
     "name": "stdout",
     "output_type": "stream",
     "text": [
      "Parameters saved at Log 05.08.2019 16.17.txt!\n",
      "\n",
      "# All hosts\n",
      "  1) [243  33  78 260]: 0.91586\t\t  2) [229  41  72 275]: 0.91448\t\t\n",
      "  3) [196  55 134 185]: 0.91310\t\t  4) [230  33  90 277]: 0.91172\t\t\n",
      "  5) [229  78  33 260]: 0.90621\t\t  6) [230  30  98 279]: 0.90621\t\t\n",
      "  7) [232  17  88 260]: 0.90483\t\t  8) [229  33  78 260]: 0.90483\t\t\n",
      "  9) [ 72  33 275 229]: 0.90483\t\t 10) [215  70  74 113]: 0.90345\t\t\n",
      " 11) [224  80  80 100]: 0.88966\t\t 12) [231  60  74 122]: 0.88552\t\t\n",
      " 13) [230  36  76 268]: 0.87724\t\t 14) [229 275  78  41]: 0.86621\t\t\n",
      " 15) [237  40  82 275]: 0.85793\t\t 16) [233  28  96 279]: 0.85379\t\t\n",
      " 17) [230  33  91 275]: 0.81931\t\t 18) [243 260  72  33]: 0.81241\t\t\n",
      " 19) [262  28  75 248]: 0.81103\t\t 20) [230  14  97 269]: 0.75310\t\t\n",
      "- Average score: 0.87559\n",
      "\n",
      "- Evolving the hosts\n",
      "  - Removing half of the weaker hosts\n",
      "  - Crossovering top 2 hosts\n",
      "    [243  33  78 260] & [229  41  72 275] >> [0, 2, 3] & [3, 2, 0] >> [275  33  72 229] & [260  41  78 243]\n",
      "  - Mutating remaining top hosts\n",
      "    [230  33  90 277] >> [215  34  90 265]\n",
      "    [230  30  98 279] >> [213  30  98 272]\n",
      "    [196  55 134 185] >> [177  73 115 185]\n",
      "    [229  41  72 275] >> [229  36  76 294]\n",
      "    [229  78  33 260] >> [227  78  30 260]\n",
      "    [ 72  33 275 229] >> [ 75  43 266 216]\n",
      "    [196  55 134 185] >> [201  53 134 196]\n",
      "    [229  33  78 260] >> [245  51  95 271]\n",
      "  - Adding hosts\n",
      "    [275,33,72,229], [260,41,78,243], [215,34,90,265], [213,30,98,272], [177,73,115,185], [229,36,76,294], [227,78,30,260], [75,43,266,216], [201,53,134,196], [245,51,95,271]\n",
      "\n",
      "# Generation 63\n"
     ]
    },
    {
     "data": {
      "text/plain": [
       "@ Training progress: 100.0%"
      ]
     },
     "metadata": {},
     "output_type": "display_data"
    },
    {
     "name": "stdout",
     "output_type": "stream",
     "text": [
      "Parameters saved at Log 05.08.2019 16.17.txt!\n",
      "\n",
      "# All hosts\n",
      "  1) [243  33  78 260]: 0.91586\t\t  2) [229  41  72 275]: 0.91448\t\t\n",
      "  3) [196  55 134 185]: 0.91310\t\t  4) [230  33  90 277]: 0.91172\t\t\n",
      "  5) [229  78  33 260]: 0.90621\t\t  6) [230  30  98 279]: 0.90621\t\t\n",
      "  7) [232  17  88 260]: 0.90483\t\t  8) [229  33  78 260]: 0.90483\t\t\n",
      "  9) [ 72  33 275 229]: 0.90483\t\t 10) [260  41  78 243]: 0.90345\t\t\n",
      " 11) [215  70  74 113]: 0.90345\t\t 12) [229  36  76 294]: 0.85241\t\t\n",
      " 13) [ 75  43 266 216]: 0.84828\t\t 14) [213  30  98 272]: 0.81931\t\t\n",
      " 15) [245  51  95 271]: 0.81655\t\t 16) [227  78  30 260]: 0.80552\t\t\n",
      " 17) [177  73 115 185]: 0.80414\t\t 18) [275  33  72 229]: 0.80000\t\t\n",
      " 19) [201  53 134 196]: 0.79310\t\t 20) [215  34  90 265]: 0.78483\t\t\n",
      "- Average score: 0.86566\n",
      "\n",
      "- Evolving the hosts\n",
      "  - Removing half of the weaker hosts\n",
      "  - Crossovering top 2 hosts\n",
      "    [243  33  78 260] & [229  41  72 275] >> [1, 2, 3] & [2, 3, 1] >> [243  72 275  41] & [229 260  33  78]\n",
      "  - Mutating remaining top hosts\n",
      "    [ 72  33 275 229] >> [ 87  35 256 236]\n",
      "    [260  41  78 243] >> [257  48  81 244]\n",
      "    [230  30  98 279] >> [230  15  90 285]\n",
      "    [232  17  88 260] >> [232  17  79 276]\n",
      "    [230  30  98 279] >> [248  30  98 279]\n",
      "    [ 72  33 275 229] >> [ 58  23 292 248]\n",
      "    [229  41  72 275] >> [225  56  81 275]\n",
      "    [230  33  90 277] >> [214  27  83 276]\n",
      "  - Adding hosts\n",
      "    [243,72,275,41], [229,260,33,78], [87,35,256,236], [257,48,81,244], [230,15,90,285], [232,17,79,276], [248,30,98,279], [58,23,292,248], [225,56,81,275], [214,27,83,276]\n",
      "\n",
      "# Generation 64\n"
     ]
    },
    {
     "data": {
      "text/plain": [
       "@ Training progress: 100.0%"
      ]
     },
     "metadata": {},
     "output_type": "display_data"
    },
    {
     "name": "stdout",
     "output_type": "stream",
     "text": [
      "Parameters saved at Log 05.08.2019 16.17.txt!\n",
      "\n",
      "# All hosts\n",
      "  1) [243  33  78 260]: 0.91586\t\t  2) [229  41  72 275]: 0.91448\t\t\n",
      "  3) [196  55 134 185]: 0.91310\t\t  4) [230  33  90 277]: 0.91172\t\t\n",
      "  5) [229  78  33 260]: 0.90621\t\t  6) [230  30  98 279]: 0.90621\t\t\n",
      "  7) [232  17  88 260]: 0.90483\t\t  8) [229  33  78 260]: 0.90483\t\t\n",
      "  9) [ 72  33 275 229]: 0.90483\t\t 10) [260  41  78 243]: 0.90345\t\t\n",
      " 11) [ 58  23 292 248]: 0.90345\t\t 12) [232  17  79 276]: 0.89793\t\t\n",
      " 13) [ 87  35 256 236]: 0.88138\t\t 14) [243  72 275  41]: 0.85931\t\t\n",
      " 15) [248  30  98 279]: 0.84828\t\t 16) [230  15  90 285]: 0.84138\t\t\n",
      " 17) [257  48  81 244]: 0.80828\t\t 18) [214  27  83 276]: 0.78759\t\t\n",
      " 19) [225  56  81 275]: 0.75724\t\t 20) [229 260  33  78]: 0.75586\t\t\n",
      "- Average score: 0.87131\n",
      "\n",
      "- Evolving the hosts\n",
      "  - Removing half of the weaker hosts\n",
      "  - Crossovering top 2 hosts\n",
      "    [243  33  78 260] & [229  41  72 275] >> [0, 1, 2] & [0, 1, 2] >> [229  41  72 260] & [243  33  78 275]\n",
      "  - Mutating remaining top hosts\n",
      "    [ 72  33 275 229] >> [ 58  34 275 233]\n",
      "    [229  78  33 260] >> [224  83  32 263]\n",
      "    [243  33  78 260] >> [250  32  62 255]\n",
      "    [230  33  90 277] >> [230  51  92 260]\n",
      "    [229  33  78 260] >> [229  39  94 243]\n",
      "    [243  33  78 260] >> [243  43  78 263]\n",
      "    [229  78  33 260] >> [235  81  23 270]\n",
      "    [243  33  78 260] >> [256  33  92 260]\n",
      "  - Adding hosts\n",
      "    [229,41,72,260], [243,33,78,275], [58,34,275,233], [224,83,32,263], [250,32,62,255], [230,51,92,260], [229,39,94,243], [243,43,78,263], [235,81,23,270], [256,33,92,260]\n",
      "\n",
      "# Generation 65\n"
     ]
    },
    {
     "data": {
      "text/plain": [
       "@ Training progress: 100.0%"
      ]
     },
     "metadata": {},
     "output_type": "display_data"
    },
    {
     "name": "stdout",
     "output_type": "stream",
     "text": [
      "Parameters saved at Log 05.08.2019 16.17.txt!\n",
      "\n",
      "# All hosts\n",
      "  1) [243  33  78 260]: 0.91586\t\t  2) [229  41  72 260]: 0.91448\t\t\n",
      "  3) [229  41  72 275]: 0.91448\t\t  4) [196  55 134 185]: 0.91310\t\t\n",
      "  5) [230  33  90 277]: 0.91172\t\t  6) [229  78  33 260]: 0.90621\t\t\n",
      "  7) [230  30  98 279]: 0.90621\t\t  8) [232  17  88 260]: 0.90483\t\t\n",
      "  9) [229  33  78 260]: 0.90483\t\t 10) [ 72  33 275 229]: 0.90483\t\t\n",
      " 11) [260  41  78 243]: 0.90345\t\t 12) [230  51  92 260]: 0.87310\t\t\n",
      " 13) [229  39  94 243]: 0.87034\t\t 14) [224  83  32 263]: 0.85241\t\t\n",
      " 15) [243  43  78 263]: 0.85103\t\t 16) [250  32  62 255]: 0.82483\t\t\n",
      " 17) [256  33  92 260]: 0.77655\t\t 18) [235  81  23 270]: 0.77655\t\t\n",
      " 19) [243  33  78 275]: 0.76828\t\t 20) [ 58  34 275 233]: 0.67448\t\t\n",
      "- Average score: 0.86338\n",
      "\n",
      "- Evolving the hosts\n",
      "  - Removing half of the weaker hosts\n",
      "  - Crossovering top 2 hosts\n",
      "    [243  33  78 260] & [229  41  72 260] >> [0, 1, 2, 3] & [0, 1, 2, 3] >> [229  41  72 260] & [243  33  78 260]\n",
      "  - Mutating remaining top hosts\n",
      "    [ 72  33 275 229] >> [ 72  26 267 225]\n",
      "    [230  30  98 279] >> [214  43  98 294]\n",
      "    [230  30  98 279] >> [241  42 111 295]\n",
      "    [196  55 134 185] >> [200  52 148 175]\n",
      "    [229  41  72 275] >> [229  41  72 286]\n",
      "    [243  33  78 260] >> [243  47  96 271]\n",
      "    [229  41  72 275] >> [247  41  72 287]\n",
      "    [229  78  33 260] >> [224  87  22 261]\n",
      "  - Adding hosts\n",
      "    [229,41,72,260], [243,33,78,260], [72,26,267,225], [214,43,98,294], [241,42,111,295], [200,52,148,175], [229,41,72,286], [243,47,96,271], [247,41,72,287], [224,87,22,261]\n",
      "\n",
      "# Generation 66\n"
     ]
    },
    {
     "data": {
      "text/plain": [
       "@ Training progress: 100.0%"
      ]
     },
     "metadata": {},
     "output_type": "display_data"
    },
    {
     "name": "stdout",
     "output_type": "stream",
     "text": [
      "Parameters saved at Log 05.08.2019 16.17.txt!\n",
      "\n",
      "# All hosts\n",
      "  1) [243  33  78 260]: 0.91586\t\t  2) [229  41  72 260]: 0.91448\t\t\n",
      "  3) [229  41  72 275]: 0.91448\t\t  4) [196  55 134 185]: 0.91310\t\t\n",
      "  5) [230  33  90 277]: 0.91172\t\t  6) [229  78  33 260]: 0.90621\t\t\n",
      "  7) [230  30  98 279]: 0.90621\t\t  8) [232  17  88 260]: 0.90483\t\t\n",
      "  9) [229  33  78 260]: 0.90483\t\t 10) [ 72  33 275 229]: 0.90483\t\t\n",
      " 11) [224  87  22 261]: 0.86759\t\t 12) [200  52 148 175]: 0.85793\t\t\n",
      " 13) [243  47  96 271]: 0.83172\t\t 14) [229  41  72 260]: 0.83034\t\t\n",
      " 15) [241  42 111 295]: 0.82897\t\t 16) [247  41  72 287]: 0.76414\t\t\n",
      " 17) [243  33  78 260]: 0.75724\t\t 18) [214  43  98 294]: 0.74897\t\t\n",
      " 19) [ 72  26 267 225]: 0.74483\t\t 20) [229  41  72 286]: 0.69241\t\t\n",
      "- Average score: 0.85103\n",
      "\n",
      "- Evolving the hosts\n",
      "  - Removing half of the weaker hosts\n",
      "  - Crossovering top 2 hosts\n",
      "    [243  33  78 260] & [229  41  72 260] >> [1, 2, 3] & [2, 3, 1] >> [243  72 260  41] & [229 260  33  78]\n",
      "  - Mutating remaining top hosts\n",
      "    [229  41  72 260] >> [240  41  84 261]\n",
      "    [ 72  33 275 229] >> [ 88  33 263 229]\n",
      "    [229  41  72 275] >> [229  37  61 288]\n",
      "    [229  78  33 260] >> [234  88  52 252]\n",
      "    [230  33  90 277] >> [218  33  93 260]\n",
      "    [229  41  72 260] >> [244  42  72 260]\n",
      "    [229  41  72 260] >> [220  41  54 274]\n",
      "    [229  33  78 260] >> [219  28  93 257]\n",
      "  - Adding hosts\n",
      "    [243,72,260,41], [229,260,33,78], [240,41,84,261], [88,33,263,229], [229,37,61,288], [234,88,52,252], [218,33,93,260], [244,42,72,260], [220,41,54,274], [219,28,93,257]\n",
      "\n",
      "# Generation 67\n"
     ]
    },
    {
     "data": {
      "text/plain": [
       "@ Training progress: 100.0%"
      ]
     },
     "metadata": {},
     "output_type": "display_data"
    },
    {
     "name": "stdout",
     "output_type": "stream",
     "text": [
      "Parameters saved at Log 05.08.2019 16.17.txt!\n",
      "\n",
      "# All hosts\n",
      "  1) [243  33  78 260]: 0.91586\t\t  2) [229  41  72 260]: 0.91448\t\t\n",
      "  3) [229  41  72 275]: 0.91448\t\t  4) [196  55 134 185]: 0.91310\t\t\n",
      "  5) [230  33  90 277]: 0.91172\t\t  6) [229  78  33 260]: 0.90621\t\t\n",
      "  7) [244  42  72 260]: 0.90621\t\t  8) [230  30  98 279]: 0.90621\t\t\n",
      "  9) [232  17  88 260]: 0.90483\t\t 10) [229  33  78 260]: 0.90483\t\t\n",
      " 11) [ 72  33 275 229]: 0.90483\t\t 12) [220  41  54 274]: 0.89655\t\t\n",
      " 13) [219  28  93 257]: 0.87586\t\t 14) [229  37  61 288]: 0.87172\t\t\n",
      " 15) [240  41  84 261]: 0.85517\t\t 16) [218  33  93 260]: 0.83310\t\t\n",
      " 17) [ 88  33 263 229]: 0.83034\t\t 18) [243  72 260  41]: 0.76690\t\t\n",
      " 19) [234  88  52 252]: 0.76552\t\t 20) [229 260  33  78]: 0.74345\t\t\n",
      "- Average score: 0.87207\n",
      "\n",
      "- Evolving the hosts\n",
      "  - Removing half of the weaker hosts\n",
      "  - Crossovering top 2 hosts\n",
      "    [243  33  78 260] & [229  41  72 260] >> [0, 2, 3] & [3, 0, 2] >> [260  33 229  72] & [ 78  41 260 243]\n",
      "  - Mutating remaining top hosts\n",
      "    [232  17  88 260] >> [214   8  83 260]\n",
      "    [243  33  78 260] >> [243  23  70 279]\n",
      "    [230  30  98 279] >> [242  44 101 298]\n",
      "    [230  33  90 277] >> [240  31  90 285]\n",
      "    [229  78  33 260] >> [234  61  37 247]\n",
      "    [229  78  33 260] >> [229  89  34 273]\n",
      "    [230  30  98 279] >> [248  19 114 279]\n",
      "    [229  41  72 275] >> [245  23  64 287]\n",
      "  - Adding hosts\n",
      "    [260,33,229,72], [78,41,260,243], [214,8,83,260], [243,23,70,279], [242,44,101,298], [240,31,90,285], [234,61,37,247], [229,89,34,273], [248,19,114,279], [245,23,64,287]\n",
      "\n",
      "# Generation 68\n"
     ]
    },
    {
     "data": {
      "text/plain": [
       "@ Training progress: 100.0%"
      ]
     },
     "metadata": {},
     "output_type": "display_data"
    },
    {
     "name": "stdout",
     "output_type": "stream",
     "text": [
      "Parameters saved at Log 05.08.2019 16.17.txt!\n",
      "\n",
      "# All hosts\n",
      "  1) [243  33  78 260]: 0.91586\t\t  2) [229  41  72 260]: 0.91448\t\t\n",
      "  3) [229  41  72 275]: 0.91448\t\t  4) [196  55 134 185]: 0.91310\t\t\n",
      "  5) [230  33  90 277]: 0.91172\t\t  6) [229  78  33 260]: 0.90621\t\t\n",
      "  7) [244  42  72 260]: 0.90621\t\t  8) [230  30  98 279]: 0.90621\t\t\n",
      "  9) [232  17  88 260]: 0.90483\t\t 10) [229  33  78 260]: 0.90483\t\t\n",
      " 11) [240  31  90 285]: 0.89517\t\t 12) [248  19 114 279]: 0.89241\t\t\n",
      " 13) [229  89  34 273]: 0.86759\t\t 14) [245  23  64 287]: 0.85241\t\t\n",
      " 15) [ 78  41 260 243]: 0.82345\t\t 16) [242  44 101 298]: 0.82207\t\t\n",
      " 17) [234  61  37 247]: 0.81517\t\t 18) [260  33 229  72]: 0.79034\t\t\n",
      " 19) [243  23  70 279]: 0.74897\t\t 20) [214   8  83 260]: 0.62483\t\t\n",
      "- Average score: 0.86152\n",
      "\n",
      "- Evolving the hosts\n",
      "  - Removing half of the weaker hosts\n",
      "  - Crossovering top 2 hosts\n",
      "    [243  33  78 260] & [229  41  72 260] >> [0, 2, 3] & [3, 2, 0] >> [260  33  72 229] & [260  41  78 243]\n",
      "  - Mutating remaining top hosts\n",
      "    [229  78  33 260] >> [230  69  19 260]\n",
      "    [229  33  78 260] >> [229  33  78 248]\n",
      "    [229  78  33 260] >> [229  73  26 260]\n",
      "    [229  78  33 260] >> [213  94  29 264]\n",
      "    [196  55 134 185] >> [196  42 117 185]\n",
      "    [229  78  33 260] >> [236  78  34 262]\n",
      "    [230  30  98 279] >> [213  30  81 279]\n",
      "    [243  33  78 260] >> [243  22  79 262]\n",
      "  - Adding hosts\n",
      "    [260,33,72,229], [260,41,78,243], [230,69,19,260], [229,33,78,248], [229,73,26,260], [213,94,29,264], [196,42,117,185], [236,78,34,262], [213,30,81,279], [243,22,79,262]\n",
      "\n",
      "# Generation 69\n"
     ]
    },
    {
     "data": {
      "text/plain": [
       "@ Training progress: 100.0%"
      ]
     },
     "metadata": {},
     "output_type": "display_data"
    },
    {
     "name": "stdout",
     "output_type": "stream",
     "text": [
      "Parameters saved at Log 05.08.2019 16.17.txt!\n",
      "\n",
      "# All hosts\n",
      "  1) [243  33  78 260]: 0.91586\t\t  2) [229  41  72 260]: 0.91448\t\t\n",
      "  3) [229  41  72 275]: 0.91448\t\t  4) [196  55 134 185]: 0.91310\t\t\n",
      "  5) [230  33  90 277]: 0.91172\t\t  6) [229  78  33 260]: 0.90621\t\t\n",
      "  7) [244  42  72 260]: 0.90621\t\t  8) [230  30  98 279]: 0.90621\t\t\n",
      "  9) [232  17  88 260]: 0.90483\t\t 10) [229  33  78 260]: 0.90483\t\t\n",
      " 11) [213  30  81 279]: 0.88828\t\t 12) [229  73  26 260]: 0.86483\t\t\n",
      " 13) [230  69  19 260]: 0.82621\t\t 14) [260  41  78 243]: 0.80138\t\t\n",
      " 15) [229  33  78 248]: 0.79724\t\t 16) [236  78  34 262]: 0.77379\t\t\n",
      " 17) [213  94  29 264]: 0.77241\t\t 18) [196  42 117 185]: 0.77241\t\t\n",
      " 19) [243  22  79 262]: 0.76966\t\t 20) [260  33  72 229]: 0.75034\t\t\n",
      "- Average score: 0.85572\n",
      "\n",
      "- Evolving the hosts\n",
      "  - Removing half of the weaker hosts\n",
      "  - Crossovering top 2 hosts\n",
      "    [243  33  78 260] & [229  41  72 260] >> [0, 1, 2] & [2, 1, 0] >> [ 72  41 229 260] & [ 78  33 243 260]\n",
      "  - Mutating remaining top hosts\n",
      "    [229  41  72 260] >> [229  41  57 276]\n",
      "    [243  33  78 260] >> [262  33  78 249]\n",
      "    [196  55 134 185] >> [196  73 134 172]\n",
      "    [230  33  90 277] >> [238  33  74 277]\n",
      "    [196  55 134 185] >> [196  71 134 185]\n",
      "    [229  33  78 260] >> [248  28  63 269]\n",
      "    [229  41  72 275] >> [229  41  78 275]\n",
      "    [229  41  72 260] >> [222  41  55 263]\n",
      "  - Adding hosts\n",
      "    [72,41,229,260], [78,33,243,260], [229,41,57,276], [262,33,78,249], [196,73,134,172], [238,33,74,277], [196,71,134,185], [248,28,63,269], [229,41,78,275], [222,41,55,263]\n",
      "\n",
      "# Generation 70\n"
     ]
    },
    {
     "data": {
      "text/plain": [
       "@ Training progress: 100.0%"
      ]
     },
     "metadata": {},
     "output_type": "display_data"
    },
    {
     "name": "stdout",
     "output_type": "stream",
     "text": [
      "Parameters saved at Log 05.08.2019 16.17.txt!\n",
      "\n",
      "# All hosts\n",
      "  1) [243  33  78 260]: 0.91586\t\t  2) [229  41  72 260]: 0.91448\t\t\n",
      "  3) [229  41  72 275]: 0.91448\t\t  4) [196  55 134 185]: 0.91310\t\t\n",
      "  5) [230  33  90 277]: 0.91172\t\t  6) [229  78  33 260]: 0.90621\t\t\n",
      "  7) [244  42  72 260]: 0.90621\t\t  8) [230  30  98 279]: 0.90621\t\t\n",
      "  9) [232  17  88 260]: 0.90483\t\t 10) [229  33  78 260]: 0.90483\t\t\n",
      " 11) [248  28  63 269]: 0.89379\t\t 12) [229  41  78 275]: 0.89379\t\t\n",
      " 13) [ 72  41 229 260]: 0.87586\t\t 14) [222  41  55 263]: 0.87310\t\t\n",
      " 15) [229  41  57 276]: 0.86207\t\t 16) [238  33  74 277]: 0.83862\t\t\n",
      " 17) [196  73 134 172]: 0.81241\t\t 18) [ 78  33 243 260]: 0.76276\t\t\n",
      " 19) [196  71 134 185]: 0.69241\t\t 20) [262  33  78 249]: 0.66759\t\t\n",
      "- Average score: 0.86352\n",
      "\n",
      "- Evolving the hosts\n",
      "  - Removing half of the weaker hosts\n",
      "  - Crossovering top 2 hosts\n",
      "    [243  33  78 260] & [229  41  72 260] >> [0, 3] & [3, 0] >> [260  33  78 229] & [260  41  72 243]\n",
      "  - Mutating remaining top hosts\n",
      "    [244  42  72 260] >> [229  26  72 260]\n",
      "    [196  55 134 185] >> [215  39 125 204]\n",
      "    [229  41  72 260] >> [237  41  54 248]\n",
      "    [244  42  72 260] >> [254  48  89 260]\n",
      "    [244  42  72 260] >> [243  51  72 260]\n",
      "    [229  41  72 260] >> [229  60  57 269]\n",
      "    [243  33  78 260] >> [229  33  96 262]\n",
      "    [244  42  72 260] >> [245  42  57 258]\n",
      "  - Adding hosts\n",
      "    [260,33,78,229], [260,41,72,243], [229,26,72,260], [215,39,125,204], [237,41,54,248], [254,48,89,260], [243,51,72,260], [229,60,57,269], [229,33,96,262], [245,42,57,258]\n",
      "\n",
      "# Generation 71\n"
     ]
    },
    {
     "data": {
      "text/plain": [
       "@ Training progress: 100.0%"
      ]
     },
     "metadata": {},
     "output_type": "display_data"
    },
    {
     "name": "stdout",
     "output_type": "stream",
     "text": [
      "Parameters saved at Log 05.08.2019 16.17.txt!\n",
      "\n",
      "# All hosts\n",
      "  1) [243  33  78 260]: 0.91586\t\t  2) [229  41  72 260]: 0.91448\t\t\n",
      "  3) [229  41  72 275]: 0.91448\t\t  4) [196  55 134 185]: 0.91310\t\t\n",
      "  5) [230  33  90 277]: 0.91172\t\t  6) [229  78  33 260]: 0.90621\t\t\n",
      "  7) [244  42  72 260]: 0.90621\t\t  8) [230  30  98 279]: 0.90621\t\t\n",
      "  9) [232  17  88 260]: 0.90483\t\t 10) [229  33  78 260]: 0.90483\t\t\n",
      " 11) [215  39 125 204]: 0.89655\t\t 12) [260  41  72 243]: 0.88552\t\t\n",
      " 13) [260  33  78 229]: 0.86345\t\t 14) [243  51  72 260]: 0.84138\t\t\n",
      " 15) [229  60  57 269]: 0.79034\t\t 16) [229  33  96 262]: 0.78621\t\t\n",
      " 17) [229  26  72 260]: 0.77931\t\t 18) [237  41  54 248]: 0.76276\t\t\n",
      " 19) [245  42  57 258]: 0.73655\t\t 20) [254  48  89 260]: 0.66897\t\t\n",
      "- Average score: 0.85545\n",
      "\n",
      "- Evolving the hosts\n",
      "  - Removing half of the weaker hosts\n",
      "  - Crossovering top 2 hosts\n",
      "    [243  33  78 260] & [229  41  72 260] >> [0, 1, 3] & [1, 3, 0] >> [ 41 260  78 229] & [260 243  72  33]\n",
      "  - Mutating remaining top hosts\n",
      "    [229  41  72 275] >> [219  39  72 275]\n",
      "    [244  42  72 260] >> [246  36  80 279]\n",
      "    [230  33  90 277] >> [230  37  85 277]\n",
      "    [243  33  78 260] >> [255  16  89 260]\n",
      "    [196  55 134 185] >> [196  49 117 201]\n",
      "    [229  33  78 260] >> [214  48  77 244]\n",
      "    [196  55 134 185] >> [188  58 144 178]\n",
      "    [196  55 134 185] >> [213  61 144 176]\n",
      "  - Adding hosts\n",
      "    [41,260,78,229], [260,243,72,33], [219,39,72,275], [246,36,80,279], [230,37,85,277], [255,16,89,260], [196,49,117,201], [214,48,77,244], [188,58,144,178], [213,61,144,176]\n",
      "\n",
      "# Generation 72\n"
     ]
    },
    {
     "data": {
      "text/plain": [
       "@ Training progress: 100.0%"
      ]
     },
     "metadata": {},
     "output_type": "display_data"
    },
    {
     "name": "stdout",
     "output_type": "stream",
     "text": [
      "Parameters saved at Log 05.08.2019 16.17.txt!\n",
      "\n",
      "# All hosts\n",
      "  1) [243  33  78 260]: 0.91586\t\t  2) [229  41  72 260]: 0.91448\t\t\n",
      "  3) [229  41  72 275]: 0.91448\t\t  4) [196  55 134 185]: 0.91310\t\t\n",
      "  5) [230  33  90 277]: 0.91172\t\t  6) [229  78  33 260]: 0.90621\t\t\n",
      "  7) [244  42  72 260]: 0.90621\t\t  8) [230  30  98 279]: 0.90621\t\t\n",
      "  9) [232  17  88 260]: 0.90483\t\t 10) [229  33  78 260]: 0.90483\t\t\n",
      " 11) [196  49 117 201]: 0.89655\t\t 12) [219  39  72 275]: 0.89103\t\t\n",
      " 13) [214  48  77 244]: 0.88000\t\t 14) [188  58 144 178]: 0.84276\t\t\n",
      " 15) [255  16  89 260]: 0.79034\t\t 16) [230  37  85 277]: 0.78069\t\t\n",
      " 17) [213  61 144 176]: 0.77103\t\t 18) [246  36  80 279]: 0.72000\t\t\n",
      " 19) [260 243  72  33]: 0.71586\t\t 20) [ 41 260  78 229]: 0.65103\t\t\n",
      "- Average score: 0.85186\n",
      "\n",
      "- Evolving the hosts\n",
      "  - Removing half of the weaker hosts\n",
      "  - Crossovering top 2 hosts\n",
      "    [243  33  78 260] & [229  41  72 260] >> [1, 2] & [2, 1] >> [243  72  41 260] & [229  78  33 260]\n",
      "  - Mutating remaining top hosts\n",
      "    [229  41  72 275] >> [235  41  72 286]\n",
      "    [244  42  72 260] >> [250  43  58 241]\n",
      "    [229  41  72 260] >> [222  41  54 268]\n",
      "    [229  78  33 260] >> [229  85  27 277]\n",
      "    [232  17  88 260] >> [231  13  88 260]\n",
      "    [229  33  78 260] >> [232  33  91 276]\n",
      "    [230  33  90 277] >> [241  33 106 267]\n",
      "    [230  30  98 279] >> [230  21  88 285]\n",
      "  - Adding hosts\n",
      "    [243,72,41,260], [229,78,33,260], [235,41,72,286], [250,43,58,241], [222,41,54,268], [229,85,27,277], [231,13,88,260], [232,33,91,276], [241,33,106,267], [230,21,88,285]\n",
      "\n",
      "# Generation 73\n"
     ]
    },
    {
     "data": {
      "text/plain": [
       "@ Training progress: 100.0%"
      ]
     },
     "metadata": {},
     "output_type": "display_data"
    },
    {
     "name": "stdout",
     "output_type": "stream",
     "text": [
      "Parameters saved at Log 05.08.2019 16.17.txt!\n",
      "\n",
      "# All hosts\n",
      "  1) [243  33  78 260]: 0.91586\t\t  2) [229  41  72 260]: 0.91448\t\t\n",
      "  3) [229  41  72 275]: 0.91448\t\t  4) [196  55 134 185]: 0.91310\t\t\n",
      "  5) [230  33  90 277]: 0.91172\t\t  6) [229  78  33 260]: 0.90621\t\t\n",
      "  7) [244  42  72 260]: 0.90621\t\t  8) [230  30  98 279]: 0.90621\t\t\n",
      "  9) [232  17  88 260]: 0.90483\t\t 10) [229  33  78 260]: 0.90483\t\t\n",
      " 11) [229  78  33 260]: 0.87172\t\t 12) [222  41  54 268]: 0.86207\t\t\n",
      " 13) [232  33  91 276]: 0.83724\t\t 14) [241  33 106 267]: 0.83724\t\t\n",
      " 15) [250  43  58 241]: 0.83034\t\t 16) [231  13  88 260]: 0.82069\t\t\n",
      " 17) [230  21  88 285]: 0.79862\t\t 18) [235  41  72 286]: 0.79034\t\t\n",
      " 19) [229  85  27 277]: 0.75448\t\t 20) [243  72  41 260]: 0.72966\t\t\n",
      "- Average score: 0.86152\n",
      "\n",
      "- Evolving the hosts\n",
      "  - Removing half of the weaker hosts\n",
      "  - Crossovering top 2 hosts\n",
      "    [243  33  78 260] & [229  41  72 260] >> [0, 1, 2] & [2, 1, 0] >> [ 72  41 229 260] & [ 78  33 243 260]\n",
      "  - Mutating remaining top hosts\n",
      "    [229  78  33 260] >> [229  66  26 246]\n",
      "    [230  33  90 277] >> [230  27 102 272]\n",
      "    [232  17  88 260] >> [215  12  99 279]\n",
      "    [229  78  33 260] >> [220  78  33 242]\n",
      "    [244  42  72 260] >> [230  42  72 268]\n",
      "    [229  33  78 260] >> [247  33  69 246]\n",
      "    [196  55 134 185] >> [199  55 134 185]\n",
      "    [229  33  78 260] >> [229  28  67 257]\n",
      "  - Adding hosts\n",
      "    [72,41,229,260], [78,33,243,260], [229,66,26,246], [230,27,102,272], [215,12,99,279], [220,78,33,242], [230,42,72,268], [247,33,69,246], [199,55,134,185], [229,28,67,257]\n",
      "\n",
      "# Generation 74\n"
     ]
    },
    {
     "data": {
      "text/plain": [
       "@ Training progress: 100.0%"
      ]
     },
     "metadata": {},
     "output_type": "display_data"
    },
    {
     "name": "stdout",
     "output_type": "stream",
     "text": [
      "Parameters saved at Log 05.08.2019 16.17.txt!\n",
      "\n",
      "# All hosts\n",
      "  1) [243  33  78 260]: 0.91586\t\t  2) [229  41  72 260]: 0.91448\t\t\n",
      "  3) [229  41  72 275]: 0.91448\t\t  4) [196  55 134 185]: 0.91310\t\t\n",
      "  5) [230  33  90 277]: 0.91172\t\t  6) [229  78  33 260]: 0.90621\t\t\n",
      "  7) [244  42  72 260]: 0.90621\t\t  8) [230  30  98 279]: 0.90621\t\t\n",
      "  9) [232  17  88 260]: 0.90483\t\t 10) [229  33  78 260]: 0.90483\t\t\n",
      " 11) [229  28  67 257]: 0.88828\t\t 12) [ 78  33 243 260]: 0.86897\t\t\n",
      " 13) [199  55 134 185]: 0.86621\t\t 14) [215  12  99 279]: 0.83310\t\t\n",
      " 15) [230  42  72 268]: 0.83172\t\t 16) [247  33  69 246]: 0.80552\t\t\n",
      " 17) [ 72  41 229 260]: 0.79172\t\t 18) [229  66  26 246]: 0.76138\t\t\n",
      " 19) [220  78  33 242]: 0.73655\t\t 20) [230  27 102 272]: 0.70345\t\t\n",
      "- Average score: 0.85924\n",
      "\n",
      "- Evolving the hosts\n",
      "  - Removing half of the weaker hosts\n",
      "  - Crossovering top 2 hosts\n",
      "    [243  33  78 260] & [229  41  72 260] >> [1, 3] & [1, 3] >> [243  41  78 260] & [229  33  72 260]\n",
      "  - Mutating remaining top hosts\n",
      "    [229  41  72 275] >> [229  38  61 292]\n",
      "    [229  41  72 260] >> [229  46  74 276]\n",
      "    [243  33  78 260] >> [261  16  96 263]\n",
      "    [230  30  98 279] >> [230  30  96 279]\n",
      "    [229  33  78 260] >> [240  22  66 250]\n",
      "    [196  55 134 185] >> [190  55 115 185]\n",
      "    [229  33  78 260] >> [212  30  83 256]\n",
      "    [229  41  72 260] >> [218  43  67 266]\n",
      "  - Adding hosts\n",
      "    [243,41,78,260], [229,33,72,260], [229,38,61,292], [229,46,74,276], [261,16,96,263], [230,30,96,279], [240,22,66,250], [190,55,115,185], [212,30,83,256], [218,43,67,266]\n",
      "\n",
      "# Generation 75\n"
     ]
    },
    {
     "data": {
      "text/plain": [
       "@ Training progress: 100.0%"
      ]
     },
     "metadata": {},
     "output_type": "display_data"
    },
    {
     "name": "stdout",
     "output_type": "stream",
     "text": [
      "Parameters saved at Log 05.08.2019 16.17.txt!\n",
      "\n",
      "# All hosts\n",
      "  1) [243  33  78 260]: 0.91586\t\t  2) [229  41  72 260]: 0.91448\t\t\n",
      "  3) [229  41  72 275]: 0.91448\t\t  4) [196  55 134 185]: 0.91310\t\t\n",
      "  5) [230  33  90 277]: 0.91172\t\t  6) [229  78  33 260]: 0.90621\t\t\n",
      "  7) [244  42  72 260]: 0.90621\t\t  8) [230  30  98 279]: 0.90621\t\t\n",
      "  9) [232  17  88 260]: 0.90483\t\t 10) [229  33  78 260]: 0.90483\t\t\n",
      " 11) [212  30  83 256]: 0.89103\t\t 12) [243  41  78 260]: 0.87172\t\t\n",
      " 13) [229  33  72 260]: 0.87034\t\t 14) [229  38  61 292]: 0.85517\t\t\n",
      " 15) [229  46  74 276]: 0.85103\t\t 16) [190  55 115 185]: 0.85103\t\t\n",
      " 17) [261  16  96 263]: 0.83586\t\t 18) [230  30  96 279]: 0.79586\t\t\n",
      " 19) [218  43  67 266]: 0.77655\t\t 20) [240  22  66 250]: 0.75448\t\t\n",
      "- Average score: 0.87255\n",
      "\n",
      "- Evolving the hosts\n",
      "  - Removing half of the weaker hosts\n",
      "  - Crossovering top 2 hosts\n",
      "    [243  33  78 260] & [229  41  72 260] >> [0, 1, 2] & [0, 2, 1] >> [229  72  41 260] & [243  78  33 260]\n",
      "  - Mutating remaining top hosts\n",
      "    [196  55 134 185] >> [191  50 132 181]\n",
      "    [229  41  72 275] >> [248  53  53 275]\n",
      "    [229  41  72 260] >> [225  40  72 274]\n",
      "    [196  55 134 185] >> [196  36 138 170]\n",
      "    [229  41  72 260] >> [229  41  58 242]\n",
      "    [243  33  78 260] >> [243  49  90 248]\n",
      "    [229  41  72 275] >> [244  28  66 275]\n",
      "    [243  33  78 260] >> [243  33  69 260]\n",
      "  - Adding hosts\n",
      "    [229,72,41,260], [243,78,33,260], [191,50,132,181], [248,53,53,275], [225,40,72,274], [196,36,138,170], [229,41,58,242], [243,49,90,248], [244,28,66,275], [243,33,69,260]\n",
      "\n",
      "# Generation 76\n"
     ]
    },
    {
     "data": {
      "text/plain": [
       "@ Training progress: 100.0%"
      ]
     },
     "metadata": {},
     "output_type": "display_data"
    },
    {
     "name": "stdout",
     "output_type": "stream",
     "text": [
      "Parameters saved at Log 05.08.2019 16.17.txt!\n",
      "\n",
      "# All hosts\n",
      "  1) [243  33  78 260]: 0.91586\t\t  2) [229  41  72 260]: 0.91448\t\t\n",
      "  3) [229  41  72 275]: 0.91448\t\t  4) [196  55 134 185]: 0.91310\t\t\n",
      "  5) [230  33  90 277]: 0.91172\t\t  6) [229  78  33 260]: 0.90621\t\t\n",
      "  7) [244  42  72 260]: 0.90621\t\t  8) [230  30  98 279]: 0.90621\t\t\n",
      "  9) [232  17  88 260]: 0.90483\t\t 10) [229  33  78 260]: 0.90483\t\t\n",
      " 11) [225  40  72 274]: 0.88966\t\t 12) [248  53  53 275]: 0.88552\t\t\n",
      " 13) [229  72  41 260]: 0.85241\t\t 14) [243  78  33 260]: 0.84690\t\t\n",
      " 15) [229  41  58 242]: 0.83172\t\t 16) [244  28  66 275]: 0.83034\t\t\n",
      " 17) [243  49  90 248]: 0.82897\t\t 18) [191  50 132 181]: 0.79862\t\t\n",
      " 19) [243  33  69 260]: 0.78483\t\t 20) [196  36 138 170]: 0.76966\t\t\n",
      "- Average score: 0.87083\n",
      "\n",
      "- Evolving the hosts\n",
      "  - Removing half of the weaker hosts\n",
      "  - Crossovering top 2 hosts\n",
      "    [243  33  78 260] & [229  41  72 260] >> [0, 1] & [1, 0] >> [ 41 229  78 260] & [ 33 243  72 260]\n",
      "  - Mutating remaining top hosts\n",
      "    [230  33  90 277] >> [230  33  90 285]\n",
      "    [243  33  78 260] >> [237  50  72 247]\n",
      "    [243  33  78 260] >> [227  33  63 249]\n",
      "    [229  78  33 260] >> [225  78  45 260]\n",
      "    [230  33  90 277] >> [234  33  71 279]\n",
      "    [229  41  72 275] >> [214  41  76 279]\n",
      "    [230  30  98 279] >> [230  12 111 279]\n",
      "    [229  33  78 260] >> [219  51  78 243]\n",
      "  - Adding hosts\n",
      "    [41,229,78,260], [33,243,72,260], [230,33,90,285], [237,50,72,247], [227,33,63,249], [225,78,45,260], [234,33,71,279], [214,41,76,279], [230,12,111,279], [219,51,78,243]\n",
      "\n",
      "# Generation 77\n"
     ]
    },
    {
     "data": {
      "text/plain": [
       "@ Training progress: 100.0%"
      ]
     },
     "metadata": {},
     "output_type": "display_data"
    },
    {
     "name": "stdout",
     "output_type": "stream",
     "text": [
      "Parameters saved at Log 05.08.2019 16.17.txt!\n",
      "\n",
      "# All hosts\n",
      "  1) [243  33  78 260]: 0.91586\t\t  2) [229  41  72 260]: 0.91448\t\t\n",
      "  3) [229  41  72 275]: 0.91448\t\t  4) [196  55 134 185]: 0.91310\t\t\n",
      "  5) [230  33  90 277]: 0.91172\t\t  6) [229  78  33 260]: 0.90621\t\t\n",
      "  7) [244  42  72 260]: 0.90621\t\t  8) [230  30  98 279]: 0.90621\t\t\n",
      "  9) [232  17  88 260]: 0.90483\t\t 10) [229  33  78 260]: 0.90483\t\t\n",
      " 11) [230  33  90 285]: 0.89793\t\t 12) [234  33  71 279]: 0.88552\t\t\n",
      " 13) [227  33  63 249]: 0.85931\t\t 14) [237  50  72 247]: 0.85793\t\t\n",
      " 15) [230  12 111 279]: 0.78759\t\t 16) [225  78  45 260]: 0.77793\t\t\n",
      " 17) [214  41  76 279]: 0.77793\t\t 18) [ 41 229  78 260]: 0.76690\t\t\n",
      " 19) [219  51  78 243]: 0.73517\t\t 20) [ 33 243  72 260]: 0.72414\t\t\n",
      "- Average score: 0.85841\n",
      "\n",
      "- Evolving the hosts\n",
      "  - Removing half of the weaker hosts\n",
      "  - Crossovering top 2 hosts\n",
      "    [243  33  78 260] & [229  41  72 260] >> [0, 1, 2, 3] & [1, 0, 2, 3] >> [ 41 229  72 260] & [ 33 243  78 260]\n",
      "  - Mutating remaining top hosts\n",
      "    [244  42  72 260] >> [231  42  70 274]\n",
      "    [196  55 134 185] >> [181  55 134 168]\n",
      "    [229  33  78 260] >> [241  28  87 248]\n",
      "    [230  33  90 277] >> [218  26  90 270]\n",
      "    [196  55 134 185] >> [191  39 152 175]\n",
      "    [196  55 134 185] >> [196  59 150 170]\n",
      "    [196  55 134 185] >> [196  55 144 185]\n",
      "    [232  17  88 260] >> [230  17  78 257]\n",
      "  - Adding hosts\n",
      "    [41,229,72,260], [33,243,78,260], [231,42,70,274], [181,55,134,168], [241,28,87,248], [218,26,90,270], [191,39,152,175], [196,59,150,170], [196,55,144,185], [230,17,78,257]\n",
      "\n",
      "# Generation 78\n"
     ]
    },
    {
     "data": {
      "text/plain": [
       "@ Training progress: 100.0%"
      ]
     },
     "metadata": {},
     "output_type": "display_data"
    },
    {
     "name": "stdout",
     "output_type": "stream",
     "text": [
      "Parameters saved at Log 05.08.2019 16.17.txt!\n",
      "\n",
      "# All hosts\n",
      "  1) [243  33  78 260]: 0.91586\t\t  2) [229  41  72 260]: 0.91448\t\t\n",
      "  3) [229  41  72 275]: 0.91448\t\t  4) [196  55 134 185]: 0.91310\t\t\n",
      "  5) [230  33  90 277]: 0.91172\t\t  6) [196  59 150 170]: 0.90759\t\t\n",
      "  7) [231  42  70 274]: 0.90759\t\t  8) [ 41 229  72 260]: 0.90759\t\t\n",
      "  9) [229  78  33 260]: 0.90621\t\t 10) [244  42  72 260]: 0.90621\t\t\n",
      " 11) [230  30  98 279]: 0.90621\t\t 12) [232  17  88 260]: 0.90483\t\t\n",
      " 13) [229  33  78 260]: 0.90483\t\t 14) [191  39 152 175]: 0.88276\t\t\n",
      " 15) [230  17  78 257]: 0.87862\t\t 16) [196  55 144 185]: 0.85931\t\t\n",
      " 17) [218  26  90 270]: 0.82759\t\t 18) [ 33 243  78 260]: 0.80000\t\t\n",
      " 19) [241  28  87 248]: 0.78069\t\t 20) [181  55 134 168]: 0.76828\t\t\n",
      "- Average score: 0.88090\n",
      "\n",
      "- Evolving the hosts\n",
      "  - Removing half of the weaker hosts\n",
      "  - Crossovering top 2 hosts\n",
      "    [243  33  78 260] & [229  41  72 260] >> [2, 3] & [2, 3] >> [243  33  72 260] & [229  41  78 260]\n",
      "  - Mutating remaining top hosts\n",
      "    [196  55 134 185] >> [180  55 134 172]\n",
      "    [229  41  72 275] >> [240  51  86 288]\n",
      "    [196  55 134 185] >> [191  58 117 203]\n",
      "    [196  55 134 185] >> [197  55 120 176]\n",
      "    [196  59 150 170] >> [204  64 153 159]\n",
      "    [229  41  72 260] >> [235  41  89 260]\n",
      "    [229  41  72 275] >> [247  50  75 286]\n",
      "    [230  33  90 277] >> [230  22  86 276]\n",
      "  - Adding hosts\n",
      "    [243,33,72,260], [229,41,78,260], [180,55,134,172], [240,51,86,288], [191,58,117,203], [197,55,120,176], [204,64,153,159], [235,41,89,260], [247,50,75,286], [230,22,86,276]\n",
      "\n",
      "# Generation 79\n"
     ]
    },
    {
     "data": {
      "text/plain": [
       "@ Training progress: 100.0%"
      ]
     },
     "metadata": {},
     "output_type": "display_data"
    },
    {
     "name": "stdout",
     "output_type": "stream",
     "text": [
      "Parameters saved at Log 05.08.2019 16.17.txt!\n",
      "\n",
      "# All hosts\n",
      "  1) [243  33  78 260]: 0.91586\t\t  2) [229  41  72 260]: 0.91448\t\t\n",
      "  3) [229  41  72 275]: 0.91448\t\t  4) [196  55 134 185]: 0.91310\t\t\n",
      "  5) [230  33  90 277]: 0.91172\t\t  6) [196  59 150 170]: 0.90759\t\t\n",
      "  7) [231  42  70 274]: 0.90759\t\t  8) [ 41 229  72 260]: 0.90759\t\t\n",
      "  9) [229  78  33 260]: 0.90621\t\t 10) [244  42  72 260]: 0.90621\t\t\n",
      " 11) [197  55 120 176]: 0.89241\t\t 12) [191  58 117 203]: 0.86483\t\t\n",
      " 13) [243  33  72 260]: 0.84828\t\t 14) [247  50  75 286]: 0.84552\t\t\n",
      " 15) [240  51  86 288]: 0.83310\t\t 16) [180  55 134 172]: 0.79862\t\t\n",
      " 17) [204  64 153 159]: 0.78621\t\t 18) [229  41  78 260]: 0.77931\t\t\n",
      " 19) [235  41  89 260]: 0.75448\t\t 20) [230  22  86 276]: 0.70207\t\t\n",
      "- Average score: 0.86048\n",
      "\n",
      "- Evolving the hosts\n",
      "  - Removing half of the weaker hosts\n",
      "  - Crossovering top 2 hosts\n",
      "    [243  33  78 260] & [229  41  72 260] >> [1, 3] & [3, 1] >> [243 260  78  41] & [229 260  72  33]\n",
      "  - Mutating remaining top hosts\n",
      "    [ 41 229  72 260] >> [ 32 233  72 260]\n",
      "    [ 41 229  72 260] >> [ 34 229  84 265]\n",
      "    [229  78  33 260] >> [220  81  28 263]\n",
      "    [229  41  72 275] >> [229  41  61 273]\n",
      "    [196  55 134 185] >> [192  39 116 185]\n",
      "    [244  42  72 260] >> [259  47  57 242]\n",
      "    [244  42  72 260] >> [248  59  85 278]\n",
      "    [230  33  90 277] >> [233  24  73 277]\n",
      "  - Adding hosts\n",
      "    [243,260,78,41], [229,260,72,33], [32,233,72,260], [34,229,84,265], [220,81,28,263], [229,41,61,273], [192,39,116,185], [259,47,57,242], [248,59,85,278], [233,24,73,277]\n",
      "\n",
      "# Generation 80\n"
     ]
    },
    {
     "data": {
      "text/plain": [
       "@ Training progress: 100.0%"
      ]
     },
     "metadata": {},
     "output_type": "display_data"
    },
    {
     "name": "stdout",
     "output_type": "stream",
     "text": [
      "Parameters saved at Log 05.08.2019 16.17.txt!\n",
      "\n",
      "# All hosts\n",
      "  1) [243  33  78 260]: 0.91586\t\t  2) [229  41  72 260]: 0.91448\t\t\n",
      "  3) [229  41  72 275]: 0.91448\t\t  4) [196  55 134 185]: 0.91310\t\t\n",
      "  5) [230  33  90 277]: 0.91172\t\t  6) [196  59 150 170]: 0.90759\t\t\n",
      "  7) [231  42  70 274]: 0.90759\t\t  8) [ 41 229  72 260]: 0.90759\t\t\n",
      "  9) [229  78  33 260]: 0.90621\t\t 10) [244  42  72 260]: 0.90621\t\t\n",
      " 11) [248  59  85 278]: 0.89379\t\t 12) [192  39 116 185]: 0.86759\t\t\n",
      " 13) [229  41  61 273]: 0.86069\t\t 14) [233  24  73 277]: 0.85655\t\t\n",
      " 15) [220  81  28 263]: 0.79034\t\t 16) [259  47  57 242]: 0.78345\t\t\n",
      " 17) [ 34 229  84 265]: 0.77103\t\t 18) [243 260  78  41]: 0.74621\t\t\n",
      " 19) [229 260  72  33]: 0.73517\t\t 20) [ 32 233  72 260]: 0.72552\t\t\n",
      "- Average score: 0.85676\n",
      "\n",
      "- Evolving the hosts\n",
      "  - Removing half of the weaker hosts\n",
      "  - Crossovering top 2 hosts\n",
      "    [243  33  78 260] & [229  41  72 260] >> [1, 2, 3] & [2, 3, 1] >> [243  72 260  41] & [229 260  33  78]\n",
      "  - Mutating remaining top hosts\n",
      "    [229  41  72 260] >> [226  41  72 263]\n",
      "    [244  42  72 260] >> [240  29  86 246]\n",
      "    [196  55 134 185] >> [201  55 123 178]\n",
      "    [243  33  78 260] >> [243  33  81 277]\n",
      "    [243  33  78 260] >> [248  34  77 260]\n",
      "    [230  33  90 277] >> [230  16 100 267]\n",
      "    [231  42  70 274] >> [231  42  81 271]\n",
      "    [196  55 134 185] >> [196  43 144 193]\n",
      "  - Adding hosts\n",
      "    [243,72,260,41], [229,260,33,78], [226,41,72,263], [240,29,86,246], [201,55,123,178], [243,33,81,277], [248,34,77,260], [230,16,100,267], [231,42,81,271], [196,43,144,193]\n",
      "\n",
      "# Generation 81\n"
     ]
    },
    {
     "data": {
      "text/plain": [
       "@ Training progress: 100.0%"
      ]
     },
     "metadata": {},
     "output_type": "display_data"
    },
    {
     "name": "stdout",
     "output_type": "stream",
     "text": [
      "Parameters saved at Log 05.08.2019 16.17.txt!\n",
      "\n",
      "# All hosts\n",
      "  1) [243  33  78 260]: 0.91586\t\t  2) [229  41  72 260]: 0.91448\t\t\n",
      "  3) [229  41  72 275]: 0.91448\t\t  4) [196  55 134 185]: 0.91310\t\t\n",
      "  5) [230  33  90 277]: 0.91172\t\t  6) [240  29  86 246]: 0.91034\t\t\n",
      "  7) [196  59 150 170]: 0.90759\t\t  8) [231  42  70 274]: 0.90759\t\t\n",
      "  9) [ 41 229  72 260]: 0.90759\t\t 10) [229  78  33 260]: 0.90621\t\t\n",
      " 11) [244  42  72 260]: 0.90621\t\t 12) [243  33  81 277]: 0.90207\t\t\n",
      " 13) [248  34  77 260]: 0.88138\t\t 14) [243  72 260  41]: 0.85517\t\t\n",
      " 15) [230  16 100 267]: 0.85379\t\t 16) [229 260  33  78]: 0.83172\t\t\n",
      " 17) [226  41  72 263]: 0.81241\t\t 18) [196  43 144 193]: 0.77931\t\t\n",
      " 19) [231  42  81 271]: 0.76000\t\t 20) [201  55 123 178]: 0.74621\t\t\n",
      "- Average score: 0.87186\n",
      "\n",
      "- Evolving the hosts\n",
      "  - Removing half of the weaker hosts\n",
      "  - Crossovering top 2 hosts\n",
      "    [243  33  78 260] & [229  41  72 260] >> [1, 3] & [1, 3] >> [243  41  78 260] & [229  33  72 260]\n",
      "  - Mutating remaining top hosts\n",
      "    [243  33  78 260] >> [247  33  78 255]\n",
      "    [231  42  70 274] >> [223  41  82 280]\n",
      "    [ 41 229  72 260] >> [ 25 213  57 267]\n",
      "    [230  33  90 277] >> [230  39  90 275]\n",
      "    [229  41  72 260] >> [229  39  83 242]\n",
      "    [230  33  90 277] >> [230  15  86 277]\n",
      "    [229  78  33 260] >> [229  88  33 242]\n",
      "    [243  33  78 260] >> [227  33  65 273]\n",
      "  - Adding hosts\n",
      "    [243,41,78,260], [229,33,72,260], [247,33,78,255], [223,41,82,280], [25,213,57,267], [230,39,90,275], [229,39,83,242], [230,15,86,277], [229,88,33,242], [227,33,65,273]\n",
      "\n",
      "# Generation 82\n"
     ]
    },
    {
     "data": {
      "text/plain": [
       "@ Training progress: 100.0%"
      ]
     },
     "metadata": {},
     "output_type": "display_data"
    },
    {
     "name": "stdout",
     "output_type": "stream",
     "text": [
      "Parameters saved at Log 05.08.2019 16.17.txt!\n",
      "\n",
      "# All hosts\n",
      "  1) [243  33  78 260]: 0.91586\t\t  2) [229  41  72 260]: 0.91448\t\t\n",
      "  3) [229  41  72 275]: 0.91448\t\t  4) [196  55 134 185]: 0.91310\t\t\n",
      "  5) [230  33  90 277]: 0.91172\t\t  6) [240  29  86 246]: 0.91034\t\t\n",
      "  7) [230  15  86 277]: 0.90759\t\t  8) [196  59 150 170]: 0.90759\t\t\n",
      "  9) [231  42  70 274]: 0.90759\t\t 10) [ 41 229  72 260]: 0.90759\t\t\n",
      " 11) [229  78  33 260]: 0.90621\t\t 12) [230  39  90 275]: 0.86621\t\t\n",
      " 13) [247  33  78 255]: 0.85931\t\t 14) [243  41  78 260]: 0.84414\t\t\n",
      " 15) [229  33  72 260]: 0.82483\t\t 16) [229  39  83 242]: 0.81103\t\t\n",
      " 17) [223  41  82 280]: 0.80552\t\t 18) [229  88  33 242]: 0.76138\t\t\n",
      " 19) [ 25 213  57 267]: 0.72552\t\t 20) [227  33  65 273]: 0.66483\t\t\n",
      "- Average score: 0.85897\n",
      "\n",
      "- Evolving the hosts\n",
      "  - Removing half of the weaker hosts\n",
      "  - Crossovering top 2 hosts\n",
      "    [243  33  78 260] & [229  41  72 260] >> [1, 2] & [2, 1] >> [243  72  41 260] & [229  78  33 260]\n",
      "  - Mutating remaining top hosts\n",
      "    [240  29  86 246] >> [240  38  73 246]\n",
      "    [229  41  72 275] >> [217  41  89 257]\n",
      "    [229  41  72 260] >> [220  41  72 258]\n",
      "    [229  41  72 275] >> [223  34  72 275]\n",
      "    [230  33  90 277] >> [230  33  86 277]\n",
      "    [196  59 150 170] >> [186  59 158 170]\n",
      "    [231  42  70 274] >> [231  42  88 277]\n",
      "    [ 41 229  72 260] >> [ 52 229  72 271]\n",
      "  - Adding hosts\n",
      "    [243,72,41,260], [229,78,33,260], [240,38,73,246], [217,41,89,257], [220,41,72,258], [223,34,72,275], [230,33,86,277], [186,59,158,170], [231,42,88,277], [52,229,72,271]\n",
      "\n",
      "# Generation 83\n"
     ]
    },
    {
     "data": {
      "text/plain": [
       "@ Training progress: 100.0%"
      ]
     },
     "metadata": {},
     "output_type": "display_data"
    },
    {
     "name": "stdout",
     "output_type": "stream",
     "text": [
      "Parameters saved at Log 05.08.2019 16.17.txt!\n",
      "\n",
      "# All hosts\n",
      "  1) [243  33  78 260]: 0.91586\t\t  2) [229  41  72 260]: 0.91448\t\t\n",
      "  3) [229  41  72 275]: 0.91448\t\t  4) [196  55 134 185]: 0.91310\t\t\n",
      "  5) [230  33  90 277]: 0.91172\t\t  6) [240  29  86 246]: 0.91034\t\t\n",
      "  7) [230  15  86 277]: 0.90759\t\t  8) [196  59 150 170]: 0.90759\t\t\n",
      "  9) [231  42  70 274]: 0.90759\t\t 10) [ 41 229  72 260]: 0.90759\t\t\n",
      " 11) [230  33  86 277]: 0.90621\t\t 12) [240  38  73 246]: 0.89379\t\t\n",
      " 13) [186  59 158 170]: 0.88690\t\t 14) [220  41  72 258]: 0.87172\t\t\n",
      " 15) [223  34  72 275]: 0.86345\t\t 16) [243  72  41 260]: 0.84414\t\t\n",
      " 17) [217  41  89 257]: 0.82897\t\t 18) [ 52 229  72 271]: 0.76276\t\t\n",
      " 19) [231  42  88 277]: 0.75310\t\t 20) [229  78  33 260]: 0.73517\t\t\n",
      "- Average score: 0.87283\n",
      "\n",
      "- Evolving the hosts\n",
      "  - Removing half of the weaker hosts\n",
      "  - Crossovering top 2 hosts\n",
      "    [243  33  78 260] & [229  41  72 260] >> [0, 2, 3] & [2, 3, 0] >> [ 72  33 260 229] & [260  41 243  78]\n",
      "  - Mutating remaining top hosts\n",
      "    [230  15  86 277] >> [230   8  75 283]\n",
      "    [243  33  78 260] >> [254  41  81 274]\n",
      "    [240  29  86 246] >> [240  13  71 229]\n",
      "    [ 41 229  72 260] >> [ 54 229  56 260]\n",
      "    [229  41  72 260] >> [228  29  65 258]\n",
      "    [230  33  90 277] >> [227  41  95 271]\n",
      "    [230  33  90 277] >> [215  18  90 277]\n",
      "    [240  29  86 246] >> [231  16  74 240]\n",
      "  - Adding hosts\n",
      "    [72,33,260,229], [260,41,243,78], [230,8,75,283], [254,41,81,274], [240,13,71,229], [54,229,56,260], [228,29,65,258], [227,41,95,271], [215,18,90,277], [231,16,74,240]\n",
      "\n",
      "# Generation 84\n"
     ]
    },
    {
     "data": {
      "text/plain": [
       "@ Training progress: 100.0%"
      ]
     },
     "metadata": {},
     "output_type": "display_data"
    },
    {
     "name": "stdout",
     "output_type": "stream",
     "text": [
      "Parameters saved at Log 05.08.2019 16.17.txt!\n",
      "\n",
      "# All hosts\n",
      "  1) [243  33  78 260]: 0.91586\t\t  2) [229  41  72 260]: 0.91448\t\t\n",
      "  3) [229  41  72 275]: 0.91448\t\t  4) [196  55 134 185]: 0.91310\t\t\n",
      "  5) [230  33  90 277]: 0.91172\t\t  6) [240  29  86 246]: 0.91034\t\t\n",
      "  7) [230  15  86 277]: 0.90759\t\t  8) [196  59 150 170]: 0.90759\t\t\n",
      "  9) [231  42  70 274]: 0.90759\t\t 10) [ 41 229  72 260]: 0.90759\t\t\n",
      " 11) [228  29  65 258]: 0.88138\t\t 12) [230   8  75 283]: 0.82345\t\t\n",
      " 13) [227  41  95 271]: 0.81241\t\t 14) [ 72  33 260 229]: 0.80138\t\t\n",
      " 15) [215  18  90 277]: 0.78207\t\t 16) [260  41 243  78]: 0.76828\t\t\n",
      " 17) [254  41  81 274]: 0.76138\t\t 18) [231  16  74 240]: 0.70759\t\t\n",
      " 19) [240  13  71 229]: 0.69103\t\t 20) [ 54 229  56 260]: 0.68000\t\t\n",
      "- Average score: 0.84097\n",
      "\n",
      "- Evolving the hosts\n",
      "  - Removing half of the weaker hosts\n",
      "  - Crossovering top 2 hosts\n",
      "    [243  33  78 260] & [229  41  72 260] >> [0, 1, 3] & [3, 1, 0] >> [260  41  78 229] & [260  33  72 243]\n",
      "  - Mutating remaining top hosts\n",
      "    [196  59 150 170] >> [196  53 150 170]\n",
      "    [240  29  86 246] >> [229  43 104 253]\n",
      "    [243  33  78 260] >> [245  33  78 278]\n",
      "    [ 41 229  72 260] >> [ 51 218  81 265]\n",
      "    [196  59 150 170] >> [208  59 150 153]\n",
      "    [196  55 134 185] >> [195  66 141 167]\n",
      "    [196  55 134 185] >> [196  55 132 195]\n",
      "    [231  42  70 274] >> [243  42  80 274]\n",
      "  - Adding hosts\n",
      "    [260,41,78,229], [260,33,72,243], [196,53,150,170], [229,43,104,253], [245,33,78,278], [51,218,81,265], [208,59,150,153], [195,66,141,167], [196,55,132,195], [243,42,80,274]\n",
      "\n",
      "# Generation 85\n"
     ]
    },
    {
     "data": {
      "text/plain": [
       "@ Training progress: 100.0%"
      ]
     },
     "metadata": {},
     "output_type": "display_data"
    },
    {
     "name": "stdout",
     "output_type": "stream",
     "text": [
      "Parameters saved at Log 05.08.2019 16.17.txt!\n",
      "\n",
      "# All hosts\n",
      "  1) [243  33  78 260]: 0.91586\t\t  2) [229  41  72 260]: 0.91448\t\t\n",
      "  3) [229  41  72 275]: 0.91448\t\t  4) [196  55 134 185]: 0.91310\t\t\n",
      "  5) [243  42  80 274]: 0.91310\t\t  6) [230  33  90 277]: 0.91172\t\t\n",
      "  7) [240  29  86 246]: 0.91034\t\t  8) [230  15  86 277]: 0.90759\t\t\n",
      "  9) [196  59 150 170]: 0.90759\t\t 10) [231  42  70 274]: 0.90759\t\t\n",
      " 11) [ 41 229  72 260]: 0.90759\t\t 12) [196  55 132 195]: 0.87034\t\t\n",
      " 13) [260  41  78 229]: 0.86759\t\t 14) [245  33  78 278]: 0.86483\t\t\n",
      " 15) [208  59 150 153]: 0.83724\t\t 16) [260  33  72 243]: 0.83034\t\t\n",
      " 17) [195  66 141 167]: 0.81655\t\t 18) [196  53 150 170]: 0.76690\t\t\n",
      " 19) [229  43 104 253]: 0.72828\t\t 20) [ 51 218  81 265]: 0.63586\t\t\n",
      "- Average score: 0.86207\n",
      "\n",
      "- Evolving the hosts\n",
      "  - Removing half of the weaker hosts\n",
      "  - Crossovering top 2 hosts\n",
      "    [243  33  78 260] & [229  41  72 260] >> [0, 1] & [0, 1] >> [229  41  78 260] & [243  33  72 260]\n",
      "  - Mutating remaining top hosts\n",
      "    [243  42  80 274] >> [227  29  80 258]\n",
      "    [196  55 134 185] >> [196  55 122 196]\n",
      "    [230  33  90 277] >> [234  23  74 271]\n",
      "    [230  33  90 277] >> [221  16  97 272]\n",
      "    [196  55 134 185] >> [178  56 132 170]\n",
      "    [229  41  72 275] >> [242  43  55 272]\n",
      "    [196  59 150 170] >> [192  75 150 170]\n",
      "    [230  33  90 277] >> [230  33 101 295]\n",
      "  - Adding hosts\n",
      "    [229,41,78,260], [243,33,72,260], [227,29,80,258], [196,55,122,196], [234,23,74,271], [221,16,97,272], [178,56,132,170], [242,43,55,272], [192,75,150,170], [230,33,101,295]\n",
      "\n",
      "# Generation 86\n"
     ]
    },
    {
     "data": {
      "text/plain": [
       "@ Training progress: 100.0%"
      ]
     },
     "metadata": {},
     "output_type": "display_data"
    },
    {
     "name": "stdout",
     "output_type": "stream",
     "text": [
      "Parameters saved at Log 05.08.2019 16.17.txt!\n",
      "\n",
      "# All hosts\n",
      "  1) [243  33  78 260]: 0.91586\t\t  2) [229  41  72 260]: 0.91448\t\t\n",
      "  3) [229  41  72 275]: 0.91448\t\t  4) [196  55 134 185]: 0.91310\t\t\n",
      "  5) [243  42  80 274]: 0.91310\t\t  6) [230  33  90 277]: 0.91172\t\t\n",
      "  7) [240  29  86 246]: 0.91034\t\t  8) [230  15  86 277]: 0.90759\t\t\n",
      "  9) [196  59 150 170]: 0.90759\t\t 10) [231  42  70 274]: 0.90759\t\t\n",
      " 11) [221  16  97 272]: 0.90207\t\t 12) [230  33 101 295]: 0.88828\t\t\n",
      " 13) [242  43  55 272]: 0.86621\t\t 14) [229  41  78 260]: 0.85655\t\t\n",
      " 15) [178  56 132 170]: 0.83862\t\t 16) [234  23  74 271]: 0.83034\t\t\n",
      " 17) [196  55 122 196]: 0.80276\t\t 18) [192  75 150 170]: 0.78069\t\t\n",
      " 19) [227  29  80 258]: 0.77931\t\t 20) [243  33  72 260]: 0.75862\t\t\n",
      "- Average score: 0.87097\n",
      "\n",
      "- Evolving the hosts\n",
      "  - Removing half of the weaker hosts\n",
      "  - Crossovering top 2 hosts\n",
      "    [243  33  78 260] & [229  41  72 260] >> [1, 2, 3] & [3, 1, 2] >> [243 260  41  72] & [229  78 260  33]\n",
      "  - Mutating remaining top hosts\n",
      "    [230  33  90 277] >> [233  16 103 280]\n",
      "    [231  42  70 274] >> [231  42  65 276]\n",
      "    [231  42  70 274] >> [244  33  70 274]\n",
      "    [196  59 150 170] >> [192  53 150 175]\n",
      "    [196  55 134 185] >> [190  55 120 185]\n",
      "    [231  42  70 274] >> [228  35  70 272]\n",
      "    [243  33  78 260] >> [256  23  91 261]\n",
      "    [229  41  72 275] >> [241  41  72 275]\n",
      "  - Adding hosts\n",
      "    [243,260,41,72], [229,78,260,33], [233,16,103,280], [231,42,65,276], [244,33,70,274], [192,53,150,175], [190,55,120,185], [228,35,70,272], [256,23,91,261], [241,41,72,275]\n",
      "\n",
      "# Generation 87\n"
     ]
    },
    {
     "data": {
      "text/plain": [
       "@ Training progress: 100.0%"
      ]
     },
     "metadata": {},
     "output_type": "display_data"
    },
    {
     "name": "stdout",
     "output_type": "stream",
     "text": [
      "Parameters saved at Log 05.08.2019 16.17.txt!\n",
      "\n",
      "# All hosts\n",
      "  1) [243  33  78 260]: 0.91586\t\t  2) [229  41  72 260]: 0.91448\t\t\n",
      "  3) [229  41  72 275]: 0.91448\t\t  4) [196  55 134 185]: 0.91310\t\t\n",
      "  5) [243  42  80 274]: 0.91310\t\t  6) [230  33  90 277]: 0.91172\t\t\n",
      "  7) [240  29  86 246]: 0.91034\t\t  8) [230  15  86 277]: 0.90759\t\t\n",
      "  9) [196  59 150 170]: 0.90759\t\t 10) [231  42  70 274]: 0.90759\t\t\n",
      " 11) [192  53 150 175]: 0.90483\t\t 12) [243 260  41  72]: 0.84690\t\t\n",
      " 13) [256  23  91 261]: 0.82759\t\t 14) [233  16 103 280]: 0.82621\t\t\n",
      " 15) [244  33  70 274]: 0.82621\t\t 16) [229  78 260  33]: 0.80276\t\t\n",
      " 17) [190  55 120 185]: 0.76690\t\t 18) [228  35  70 272]: 0.73379\t\t\n",
      " 19) [241  41  72 275]: 0.72552\t\t 20) [231  42  65 276]: 0.70759\t\t\n",
      "- Average score: 0.85421\n",
      "\n",
      "- Evolving the hosts\n",
      "  - Removing half of the weaker hosts\n",
      "  - Crossovering top 2 hosts\n",
      "    [243  33  78 260] & [229  41  72 260] >> [0, 1, 2] & [1, 0, 2] >> [ 41 229  72 260] & [ 33 243  78 260]\n",
      "  - Mutating remaining top hosts\n",
      "    [243  42  80 274] >> [231  56  69 292]\n",
      "    [243  33  78 260] >> [243  33  64 266]\n",
      "    [229  41  72 275] >> [220  29  73 283]\n",
      "    [240  29  86 246] >> [241  29  94 255]\n",
      "    [231  42  70 274] >> [231  42  70 259]\n",
      "    [229  41  72 275] >> [231  41  89 288]\n",
      "    [229  41  72 275] >> [213  41  58 291]\n",
      "    [230  33  90 277] >> [227  15  91 278]\n",
      "  - Adding hosts\n",
      "    [41,229,72,260], [33,243,78,260], [231,56,69,292], [243,33,64,266], [220,29,73,283], [241,29,94,255], [231,42,70,259], [231,41,89,288], [213,41,58,291], [227,15,91,278]\n",
      "\n",
      "# Generation 88\n"
     ]
    },
    {
     "data": {
      "text/plain": [
       "@ Training progress: 100.0%"
      ]
     },
     "metadata": {},
     "output_type": "display_data"
    },
    {
     "name": "stdout",
     "output_type": "stream",
     "text": [
      "Parameters saved at Log 05.08.2019 16.17.txt!\n",
      "\n",
      "# All hosts\n",
      "  1) [243  33  78 260]: 0.91586\t\t  2) [231  41  89 288]: 0.91586\t\t\n",
      "  3) [229  41  72 260]: 0.91448\t\t  4) [229  41  72 275]: 0.91448\t\t\n",
      "  5) [196  55 134 185]: 0.91310\t\t  6) [243  42  80 274]: 0.91310\t\t\n",
      "  7) [230  33  90 277]: 0.91172\t\t  8) [240  29  86 246]: 0.91034\t\t\n",
      "  9) [230  15  86 277]: 0.90759\t\t 10) [196  59 150 170]: 0.90759\t\t\n",
      " 11) [231  42  70 274]: 0.90759\t\t 12) [220  29  73 283]: 0.89241\t\t\n",
      " 13) [231  42  70 259]: 0.86345\t\t 14) [231  56  69 292]: 0.86207\t\t\n",
      " 15) [243  33  64 266]: 0.83862\t\t 16) [241  29  94 255]: 0.83862\t\t\n",
      " 17) [213  41  58 291]: 0.82621\t\t 18) [227  15  91 278]: 0.81655\t\t\n",
      " 19) [ 33 243  78 260]: 0.77379\t\t 20) [ 41 229  72 260]: 0.73655\t\t\n",
      "- Average score: 0.87400\n",
      "\n",
      "- Evolving the hosts\n",
      "  - Removing half of the weaker hosts\n",
      "  - Crossovering top 2 hosts\n",
      "    [243  33  78 260] & [231  41  89 288] >> [1, 3] & [3, 1] >> [243 288  78  41] & [231 260  89  33]\n",
      "  - Mutating remaining top hosts\n",
      "    [229  41  72 275] >> [242  37  89 282]\n",
      "    [240  29  86 246] >> [244  33  93 251]\n",
      "    [243  42  80 274] >> [258  42  80 274]\n",
      "    [196  55 134 185] >> [193  37 134 185]\n",
      "    [196  55 134 185] >> [201  68 134 186]\n",
      "    [243  42  80 274] >> [252  32  73 268]\n",
      "    [230  15  86 277] >> [232  15  85 277]\n",
      "    [196  55 134 185] >> [196  64 138 185]\n",
      "  - Adding hosts\n",
      "    [243,288,78,41], [231,260,89,33], [242,37,89,282], [244,33,93,251], [258,42,80,274], [193,37,134,185], [201,68,134,186], [252,32,73,268], [232,15,85,277], [196,64,138,185]\n",
      "\n",
      "# Generation 89\n"
     ]
    },
    {
     "data": {
      "text/plain": [
       "@ Training progress: 100.0%"
      ]
     },
     "metadata": {},
     "output_type": "display_data"
    },
    {
     "name": "stdout",
     "output_type": "stream",
     "text": [
      "Parameters saved at Log 05.08.2019 16.17.txt!\n",
      "\n",
      "# All hosts\n",
      "  1) [243  33  78 260]: 0.91586\t\t  2) [231  41  89 288]: 0.91586\t\t\n",
      "  3) [229  41  72 260]: 0.91448\t\t  4) [229  41  72 275]: 0.91448\t\t\n",
      "  5) [196  55 134 185]: 0.91310\t\t  6) [243  42  80 274]: 0.91310\t\t\n",
      "  7) [230  33  90 277]: 0.91172\t\t  8) [243 288  78  41]: 0.91034\t\t\n",
      "  9) [240  29  86 246]: 0.91034\t\t 10) [230  15  86 277]: 0.90759\t\t\n",
      " 11) [196  59 150 170]: 0.90759\t\t 12) [193  37 134 185]: 0.90345\t\t\n",
      " 13) [252  32  73 268]: 0.87724\t\t 14) [231 260  89  33]: 0.85655\t\t\n",
      " 15) [242  37  89 282]: 0.84966\t\t 16) [201  68 134 186]: 0.84138\t\t\n",
      " 17) [232  15  85 277]: 0.83586\t\t 18) [258  42  80 274]: 0.82345\t\t\n",
      " 19) [244  33  93 251]: 0.79310\t\t 20) [196  64 138 185]: 0.72690\t\t\n",
      "- Average score: 0.87710\n",
      "\n",
      "- Evolving the hosts\n",
      "  - Removing half of the weaker hosts\n",
      "  - Crossovering top 2 hosts\n",
      "    [243  33  78 260] & [231  41  89 288] >> [1, 2, 3] & [1, 2, 3] >> [243  41  89 288] & [231  33  78 260]\n",
      "  - Mutating remaining top hosts\n",
      "    [243  42  80 274] >> [259  47  69 274]\n",
      "    [243  33  78 260] >> [253  51  86 255]\n",
      "    [243  42  80 274] >> [227  58  89 283]\n",
      "    [243  42  80 274] >> [230  48  64 283]\n",
      "    [229  41  72 275] >> [220  41  54 275]\n",
      "    [243  42  80 274] >> [238  42  80 258]\n",
      "    [231  41  89 288] >> [231  41 106 288]\n",
      "    [243 288  78  41] >> [238 288  78  29]\n",
      "  - Adding hosts\n",
      "    [243,41,89,288], [231,33,78,260], [259,47,69,274], [253,51,86,255], [227,58,89,283], [230,48,64,283], [220,41,54,275], [238,42,80,258], [231,41,106,288], [238,288,78,29]\n",
      "\n",
      "# Generation 90\n"
     ]
    },
    {
     "data": {
      "text/plain": [
       "@ Training progress: 100.0%"
      ]
     },
     "metadata": {},
     "output_type": "display_data"
    },
    {
     "name": "stdout",
     "output_type": "stream",
     "text": [
      "Parameters saved at Log 05.08.2019 16.17.txt!\n",
      "\n",
      "# All hosts\n",
      "  1) [231  33  78 260]: 0.91862\t\t  2) [243  33  78 260]: 0.91586\t\t\n",
      "  3) [231  41  89 288]: 0.91586\t\t  4) [229  41  72 260]: 0.91448\t\t\n",
      "  5) [229  41  72 275]: 0.91448\t\t  6) [196  55 134 185]: 0.91310\t\t\n",
      "  7) [243  42  80 274]: 0.91310\t\t  8) [230  33  90 277]: 0.91172\t\t\n",
      "  9) [243 288  78  41]: 0.91034\t\t 10) [240  29  86 246]: 0.91034\t\t\n",
      " 11) [230  15  86 277]: 0.90759\t\t 12) [231  41 106 288]: 0.89517\t\t\n",
      " 13) [259  47  69 274]: 0.89103\t\t 14) [230  48  64 283]: 0.88966\t\t\n",
      " 15) [243  41  89 288]: 0.84552\t\t 16) [227  58  89 283]: 0.83310\t\t\n",
      " 17) [253  51  86 255]: 0.82621\t\t 18) [238 288  78  29]: 0.79724\t\t\n",
      " 19) [238  42  80 258]: 0.76966\t\t 20) [220  41  54 275]: 0.75448\t\t\n",
      "- Average score: 0.87738\n",
      "\n",
      "- Evolving the hosts\n",
      "  - Removing half of the weaker hosts\n",
      "  - Crossovering top 2 hosts\n",
      "    [231  33  78 260] & [243  33  78 260] >> [0, 1, 2, 3] & [2, 0, 3, 1] >> [ 78 243 260  33] & [ 33 260 231  78]\n",
      "  - Mutating remaining top hosts\n",
      "    [229  41  72 260] >> [229  49  72 259]\n",
      "    [196  55 134 185] >> [196  53 134 172]\n",
      "    [243  33  78 260] >> [258  19  78 254]\n",
      "    [240  29  86 246] >> [240  22  98 246]\n",
      "    [229  41  72 260] >> [229  41  86 251]\n",
      "    [231  41  89 288] >> [247  42 105 272]\n",
      "    [229  41  72 275] >> [224  33  72 275]\n",
      "    [231  41  89 288] >> [231  41  74 291]\n",
      "  - Adding hosts\n",
      "    [78,243,260,33], [33,260,231,78], [229,49,72,259], [196,53,134,172], [258,19,78,254], [240,22,98,246], [229,41,86,251], [247,42,105,272], [224,33,72,275], [231,41,74,291]\n",
      "\n",
      "# Generation 91\n"
     ]
    },
    {
     "data": {
      "text/plain": [
       "@ Training progress: 100.0%"
      ]
     },
     "metadata": {},
     "output_type": "display_data"
    },
    {
     "name": "stdout",
     "output_type": "stream",
     "text": [
      "Parameters saved at Log 05.08.2019 16.17.txt!\n",
      "\n",
      "# All hosts\n",
      "  1) [231  33  78 260]: 0.91862\t\t  2) [243  33  78 260]: 0.91586\t\t\n",
      "  3) [231  41  89 288]: 0.91586\t\t  4) [229  41  72 260]: 0.91448\t\t\n",
      "  5) [229  41  72 275]: 0.91448\t\t  6) [196  55 134 185]: 0.91310\t\t\n",
      "  7) [243  42  80 274]: 0.91310\t\t  8) [230  33  90 277]: 0.91172\t\t\n",
      "  9) [243 288  78  41]: 0.91034\t\t 10) [240  29  86 246]: 0.91034\t\t\n",
      " 11) [240  22  98 246]: 0.88000\t\t 12) [247  42 105 272]: 0.87172\t\t\n",
      " 13) [229  41  86 251]: 0.86759\t\t 14) [229  49  72 259]: 0.82345\t\t\n",
      " 15) [224  33  72 275]: 0.81241\t\t 16) [231  41  74 291]: 0.79034\t\t\n",
      " 17) [196  53 134 172]: 0.78069\t\t 18) [ 78 243 260  33]: 0.76276\t\t\n",
      " 19) [258  19  78 254]: 0.74345\t\t 20) [ 33 260 231  78]: 0.72000\t\t\n",
      "- Average score: 0.85952\n",
      "\n",
      "- Evolving the hosts\n",
      "  - Removing half of the weaker hosts\n",
      "  - Crossovering top 2 hosts\n",
      "    [231  33  78 260] & [243  33  78 260] >> [0, 1] & [1, 0] >> [ 33 243  78 260] & [ 33 231  78 260]\n",
      "  - Mutating remaining top hosts\n",
      "    [243  42  80 274] >> [232  35  80 274]\n",
      "    [230  33  90 277] >> [233  47  92 279]\n",
      "    [231  33  78 260] >> [248  30  78 276]\n",
      "    [196  55 134 185] >> [207  50 124 180]\n",
      "    [240  29  86 246] >> [229  26  98 246]\n",
      "    [229  41  72 275] >> [229  45  72 264]\n",
      "    [243  33  78 260] >> [240  15  83 274]\n",
      "    [243  33  78 260] >> [260  34  88 266]\n",
      "  - Adding hosts\n",
      "    [33,243,78,260], [33,231,78,260], [232,35,80,274], [233,47,92,279], [248,30,78,276], [207,50,124,180], [229,26,98,246], [229,45,72,264], [240,15,83,274], [260,34,88,266]\n",
      "\n",
      "# Generation 92\n"
     ]
    },
    {
     "data": {
      "text/plain": [
       "@ Training progress: 100.0%"
      ]
     },
     "metadata": {},
     "output_type": "display_data"
    },
    {
     "name": "stdout",
     "output_type": "stream",
     "text": [
      "Parameters saved at Log 05.08.2019 16.17.txt!\n",
      "\n",
      "# All hosts\n",
      "  1) [231  33  78 260]: 0.91862\t\t  2) [243  33  78 260]: 0.91586\t\t\n",
      "  3) [231  41  89 288]: 0.91586\t\t  4) [229  41  72 260]: 0.91448\t\t\n",
      "  5) [229  41  72 275]: 0.91448\t\t  6) [196  55 134 185]: 0.91310\t\t\n",
      "  7) [243  42  80 274]: 0.91310\t\t  8) [230  33  90 277]: 0.91172\t\t\n",
      "  9) [243 288  78  41]: 0.91034\t\t 10) [240  29  86 246]: 0.91034\t\t\n",
      " 11) [240  15  83 274]: 0.88690\t\t 12) [248  30  78 276]: 0.88414\t\t\n",
      " 13) [260  34  88 266]: 0.87862\t\t 14) [229  26  98 246]: 0.86897\t\t\n",
      " 15) [229  45  72 264]: 0.86345\t\t 16) [232  35  80 274]: 0.85379\t\t\n",
      " 17) [233  47  92 279]: 0.82207\t\t 18) [207  50 124 180]: 0.80276\t\t\n",
      " 19) [ 33 243  78 260]: 0.67724\t\t 20) [ 33 231  78 260]: 0.61241\t\t\n",
      "- Average score: 0.86441\n",
      "\n",
      "- Evolving the hosts\n",
      "  - Removing half of the weaker hosts\n",
      "  - Crossovering top 2 hosts\n",
      "    [231  33  78 260] & [243  33  78 260] >> [0, 2, 3] & [2, 3, 0] >> [ 78  33 260 243] & [260  33 231  78]\n",
      "  - Mutating remaining top hosts\n",
      "    [229  41  72 260] >> [223  25  90 256]\n",
      "    [229  41  72 260] >> [229  41  72 260]\n",
      "    [243  42  80 274] >> [237  55  95 274]\n",
      "    [230  33  90 277] >> [230  33  81 261]\n",
      "    [196  55 134 185] >> [196  45 127 185]\n",
      "    [229  41  72 275] >> [238  41  56 292]\n",
      "    [243  42  80 274] >> [258  46  87 286]\n",
      "    [196  55 134 185] >> [196  41 133 178]\n",
      "  - Adding hosts\n",
      "    [78,33,260,243], [260,33,231,78], [223,25,90,256], [229,41,72,260], [237,55,95,274], [230,33,81,261], [196,45,127,185], [238,41,56,292], [258,46,87,286], [196,41,133,178]\n",
      "\n",
      "# Generation 93\n"
     ]
    },
    {
     "data": {
      "text/plain": [
       "@ Training progress: 100.0%"
      ]
     },
     "metadata": {},
     "output_type": "display_data"
    },
    {
     "name": "stdout",
     "output_type": "stream",
     "text": [
      "Parameters saved at Log 05.08.2019 16.17.txt!\n",
      "\n",
      "# All hosts\n",
      "  1) [231  33  78 260]: 0.91862\t\t  2) [243  33  78 260]: 0.91586\t\t\n",
      "  3) [231  41  89 288]: 0.91586\t\t  4) [229  41  72 260]: 0.91448\t\t\n",
      "  5) [229  41  72 275]: 0.91448\t\t  6) [196  55 134 185]: 0.91310\t\t\n",
      "  7) [243  42  80 274]: 0.91310\t\t  8) [230  33  90 277]: 0.91172\t\t\n",
      "  9) [243 288  78  41]: 0.91034\t\t 10) [240  29  86 246]: 0.91034\t\t\n",
      " 11) [ 78  33 260 243]: 0.88828\t\t 12) [196  45 127 185]: 0.88276\t\t\n",
      " 13) [223  25  90 256]: 0.88276\t\t 14) [238  41  56 292]: 0.87310\t\t\n",
      " 15) [229  41  72 260]: 0.84828\t\t 16) [196  41 133 178]: 0.84552\t\t\n",
      " 17) [260  33 231  78]: 0.80276\t\t 18) [258  46  87 286]: 0.78069\t\t\n",
      " 19) [230  33  81 261]: 0.76828\t\t 20) [237  55  95 274]: 0.72138\t\t\n",
      "- Average score: 0.87159\n",
      "\n",
      "- Evolving the hosts\n",
      "  - Removing half of the weaker hosts\n",
      "  - Crossovering top 2 hosts\n",
      "    [231  33  78 260] & [243  33  78 260] >> [0, 1, 2] & [2, 0, 1] >> [ 78 243  33 260] & [ 33  78 231 260]\n",
      "  - Mutating remaining top hosts\n",
      "    [230  33  90 277] >> [227  15  90 277]\n",
      "    [230  33  90 277] >> [234  18  95 277]\n",
      "    [243 288  78  41] >> [236 303  69  30]\n",
      "    [231  33  78 260] >> [225  33  88 248]\n",
      "    [243  42  80 274] >> [256  42  81 288]\n",
      "    [243  42  80 274] >> [225  42  82 274]\n",
      "    [231  33  78 260] >> [242  25  66 262]\n",
      "    [230  33  90 277] >> [244  43  90 279]\n",
      "  - Adding hosts\n",
      "    [78,243,33,260], [33,78,231,260], [227,15,90,277], [234,18,95,277], [236,303,69,30], [225,33,88,248], [256,42,81,288], [225,42,82,274], [242,25,66,262], [244,43,90,279]\n",
      "\n",
      "# Generation 94\n"
     ]
    },
    {
     "data": {
      "text/plain": [
       "@ Training progress: 100.0%"
      ]
     },
     "metadata": {},
     "output_type": "display_data"
    },
    {
     "name": "stdout",
     "output_type": "stream",
     "text": [
      "Parameters saved at Log 05.08.2019 16.17.txt!\n",
      "\n",
      "# All hosts\n",
      "  1) [231  33  78 260]: 0.91862\t\t  2) [243  33  78 260]: 0.91586\t\t\n",
      "  3) [231  41  89 288]: 0.91586\t\t  4) [229  41  72 260]: 0.91448\t\t\n",
      "  5) [229  41  72 275]: 0.91448\t\t  6) [196  55 134 185]: 0.91310\t\t\n",
      "  7) [243  42  80 274]: 0.91310\t\t  8) [230  33  90 277]: 0.91172\t\t\n",
      "  9) [243 288  78  41]: 0.91034\t\t 10) [240  29  86 246]: 0.91034\t\t\n",
      " 11) [225  42  82 274]: 0.90621\t\t 12) [256  42  81 288]: 0.88276\t\t\n",
      " 13) [225  33  88 248]: 0.84828\t\t 14) [244  43  90 279]: 0.83586\t\t\n",
      " 15) [242  25  66 262]: 0.83034\t\t 16) [227  15  90 277]: 0.82621\t\t\n",
      " 17) [234  18  95 277]: 0.77793\t\t 18) [ 78 243  33 260]: 0.77379\t\t\n",
      " 19) [236 303  69  30]: 0.76966\t\t 20) [ 33  78 231 260]: 0.71448\t\t\n",
      "- Average score: 0.86517\n",
      "\n",
      "- Evolving the hosts\n",
      "  - Removing half of the weaker hosts\n",
      "  - Crossovering top 2 hosts\n",
      "    [231  33  78 260] & [243  33  78 260] >> [1, 2, 3] & [2, 1, 3] >> [231  78  33 260] & [243  78  33 260]\n",
      "  - Mutating remaining top hosts\n",
      "    [229  41  72 275] >> [233  37  72 266]\n",
      "    [243  42  80 274] >> [236  36  80 274]\n",
      "    [243 288  78  41] >> [238 288  71  57]\n",
      "    [229  41  72 260] >> [228  29  85 272]\n",
      "    [243  33  78 260] >> [234  43  73 260]\n",
      "    [231  33  78 260] >> [239  39  62 248]\n",
      "    [243  42  80 274] >> [229  59  80 288]\n",
      "    [243  33  78 260] >> [239  15  90 251]\n",
      "  - Adding hosts\n",
      "    [231,78,33,260], [243,78,33,260], [233,37,72,266], [236,36,80,274], [238,288,71,57], [228,29,85,272], [234,43,73,260], [239,39,62,248], [229,59,80,288], [239,15,90,251]\n",
      "\n",
      "# Generation 95\n"
     ]
    },
    {
     "data": {
      "text/plain": [
       "@ Training progress: 100.0%"
      ]
     },
     "metadata": {},
     "output_type": "display_data"
    },
    {
     "name": "stdout",
     "output_type": "stream",
     "text": [
      "Parameters saved at Log 05.08.2019 16.17.txt!\n",
      "\n",
      "# All hosts\n",
      "  1) [229  59  80 288]: 0.92000\t\t  2) [231  33  78 260]: 0.91862\t\t\n",
      "  3) [243  33  78 260]: 0.91586\t\t  4) [231  41  89 288]: 0.91586\t\t\n",
      "  5) [229  41  72 260]: 0.91448\t\t  6) [229  41  72 275]: 0.91448\t\t\n",
      "  7) [196  55 134 185]: 0.91310\t\t  8) [243  42  80 274]: 0.91310\t\t\n",
      "  9) [230  33  90 277]: 0.91172\t\t 10) [243 288  78  41]: 0.91034\t\t\n",
      " 11) [240  29  86 246]: 0.91034\t\t 12) [231  78  33 260]: 0.88552\t\t\n",
      " 13) [239  39  62 248]: 0.85793\t\t 14) [238 288  71  57]: 0.85379\t\t\n",
      " 15) [236  36  80 274]: 0.84414\t\t 16) [233  37  72 266]: 0.80966\t\t\n",
      " 17) [234  43  73 260]: 0.80690\t\t 18) [239  15  90 251]: 0.78897\t\t\n",
      " 19) [228  29  85 272]: 0.77241\t\t 20) [243  78  33 260]: 0.66483\t\t\n",
      "- Average score: 0.86710\n",
      "\n",
      "- Evolving the hosts\n",
      "  - Removing half of the weaker hosts\n",
      "  - Crossovering top 2 hosts\n",
      "    [229  59  80 288] & [231  33  78 260] >> [0, 1, 2] & [1, 0, 2] >> [ 33 231  78 288] & [ 59 229  80 260]\n",
      "  - Mutating remaining top hosts\n",
      "    [243  42  80 274] >> [243  32  94 270]\n",
      "    [243 288  78  41] >> [260 296  96  41]\n",
      "    [243  33  78 260] >> [225  33  78 256]\n",
      "    [196  55 134 185] >> [207  68 119 185]\n",
      "    [231  41  89 288] >> [228  55  89 288]\n",
      "    [229  41  72 275] >> [214  37  79 292]\n",
      "    [231  33  78 260] >> [233  32  78 264]\n",
      "    [243 288  78  41] >> [251 271  63  41]\n",
      "  - Adding hosts\n",
      "    [33,231,78,288], [59,229,80,260], [243,32,94,270], [260,296,96,41], [225,33,78,256], [207,68,119,185], [228,55,89,288], [214,37,79,292], [233,32,78,264], [251,271,63,41]\n",
      "\n",
      "# Generation 96\n"
     ]
    },
    {
     "data": {
      "text/plain": [
       "@ Training progress: 100.0%"
      ]
     },
     "metadata": {},
     "output_type": "display_data"
    },
    {
     "name": "stdout",
     "output_type": "stream",
     "text": [
      "Parameters saved at Log 05.08.2019 16.17.txt!\n",
      "\n",
      "# All hosts\n",
      "  1) [229  59  80 288]: 0.92000\t\t  2) [231  33  78 260]: 0.91862\t\t\n",
      "  3) [243  33  78 260]: 0.91586\t\t  4) [231  41  89 288]: 0.91586\t\t\n",
      "  5) [229  41  72 260]: 0.91448\t\t  6) [229  41  72 275]: 0.91448\t\t\n",
      "  7) [196  55 134 185]: 0.91310\t\t  8) [243  42  80 274]: 0.91310\t\t\n",
      "  9) [230  33  90 277]: 0.91172\t\t 10) [243 288  78  41]: 0.91034\t\t\n",
      " 11) [260 296  96  41]: 0.88690\t\t 12) [243  32  94 270]: 0.86207\t\t\n",
      " 13) [225  33  78 256]: 0.85793\t\t 14) [207  68 119 185]: 0.85655\t\t\n",
      " 15) [251 271  63  41]: 0.83448\t\t 16) [228  55  89 288]: 0.80000\t\t\n",
      " 17) [233  32  78 264]: 0.75034\t\t 18) [ 59 229  80 260]: 0.73517\t\t\n",
      " 19) [ 33 231  78 288]: 0.70621\t\t 20) [214  37  79 292]: 0.65379\t\t\n",
      "- Average score: 0.85455\n",
      "\n",
      "- Evolving the hosts\n",
      "  - Removing half of the weaker hosts\n",
      "  - Crossovering top 2 hosts\n",
      "    [229  59  80 288] & [231  33  78 260] >> [0, 2, 3] & [3, 2, 0] >> [260  59  78 231] & [288  33  80 229]\n",
      "  - Mutating remaining top hosts\n",
      "    [229  59  80 288] >> [229  59  85 274]\n",
      "    [243  42  80 274] >> [243  55  84 274]\n",
      "    [243  42  80 274] >> [253  56  80 290]\n",
      "    [230  33  90 277] >> [241  33  81 277]\n",
      "    [230  33  90 277] >> [239  20  90 277]\n",
      "    [243  33  78 260] >> [234  33  84 265]\n",
      "    [230  33  90 277] >> [223  29  89 277]\n",
      "    [231  33  78 260] >> [215  33  62 275]\n",
      "  - Adding hosts\n",
      "    [260,59,78,231], [288,33,80,229], [229,59,85,274], [243,55,84,274], [253,56,80,290], [241,33,81,277], [239,20,90,277], [234,33,84,265], [223,29,89,277], [215,33,62,275]\n",
      "\n",
      "# Generation 97\n"
     ]
    },
    {
     "data": {
      "text/plain": [
       "@ Training progress: 100.0%"
      ]
     },
     "metadata": {},
     "output_type": "display_data"
    },
    {
     "name": "stdout",
     "output_type": "stream",
     "text": [
      "Parameters saved at Log 05.08.2019 16.17.txt!\n",
      "\n",
      "# All hosts\n",
      "  1) [229  59  80 288]: 0.92000\t\t  2) [231  33  78 260]: 0.91862\t\t\n",
      "  3) [243  33  78 260]: 0.91586\t\t  4) [231  41  89 288]: 0.91586\t\t\n",
      "  5) [229  41  72 260]: 0.91448\t\t  6) [229  41  72 275]: 0.91448\t\t\n",
      "  7) [196  55 134 185]: 0.91310\t\t  8) [243  42  80 274]: 0.91310\t\t\n",
      "  9) [230  33  90 277]: 0.91172\t\t 10) [243 288  78  41]: 0.91034\t\t\n",
      " 11) [288  33  80 229]: 0.88552\t\t 12) [234  33  84 265]: 0.87724\t\t\n",
      " 13) [260  59  78 231]: 0.86207\t\t 14) [229  59  85 274]: 0.83724\t\t\n",
      " 15) [243  55  84 274]: 0.83034\t\t 16) [215  33  62 275]: 0.81517\t\t\n",
      " 17) [241  33  81 277]: 0.77103\t\t 18) [223  29  89 277]: 0.73379\t\t\n",
      " 19) [253  56  80 290]: 0.72414\t\t 20) [239  20  90 277]: 0.65931\t\t\n",
      "- Average score: 0.85717\n",
      "\n",
      "- Evolving the hosts\n",
      "  - Removing half of the weaker hosts\n",
      "  - Crossovering top 2 hosts\n",
      "    [229  59  80 288] & [231  33  78 260] >> [1, 2] & [1, 2] >> [229  33  78 288] & [231  59  80 260]\n",
      "  - Mutating remaining top hosts\n",
      "    [229  41  72 275] >> [229  27  74 267]\n",
      "    [243  33  78 260] >> [256  33  85 273]\n",
      "    [196  55 134 185] >> [196  55 131 185]\n",
      "    [231  33  78 260] >> [233  33  77 263]\n",
      "    [196  55 134 185] >> [188  73 131 177]\n",
      "    [230  33  90 277] >> [240  28  75 287]\n",
      "    [229  59  80 288] >> [229  56  80 282]\n",
      "    [229  41  72 260] >> [233  23  72 258]\n",
      "  - Adding hosts\n",
      "    [229,33,78,288], [231,59,80,260], [229,27,74,267], [256,33,85,273], [196,55,131,185], [233,33,77,263], [188,73,131,177], [240,28,75,287], [229,56,80,282], [233,23,72,258]\n",
      "\n",
      "# Generation 98\n"
     ]
    },
    {
     "data": {
      "text/plain": [
       "@ Training progress: 100.0%"
      ]
     },
     "metadata": {},
     "output_type": "display_data"
    },
    {
     "name": "stdout",
     "output_type": "stream",
     "text": [
      "Parameters saved at Log 05.08.2019 16.17.txt!\n",
      "\n",
      "# All hosts\n",
      "  1) [229  59  80 288]: 0.92000\t\t  2) [231  33  78 260]: 0.91862\t\t\n",
      "  3) [243  33  78 260]: 0.91586\t\t  4) [231  41  89 288]: 0.91586\t\t\n",
      "  5) [229  41  72 260]: 0.91448\t\t  6) [229  41  72 275]: 0.91448\t\t\n",
      "  7) [196  55 134 185]: 0.91310\t\t  8) [243  42  80 274]: 0.91310\t\t\n",
      "  9) [230  33  90 277]: 0.91172\t\t 10) [243 288  78  41]: 0.91034\t\t\n",
      " 11) [256  33  85 273]: 0.90483\t\t 12) [240  28  75 287]: 0.87448\t\t\n",
      " 13) [229  56  80 282]: 0.86897\t\t 14) [233  33  77 263]: 0.86759\t\t\n",
      " 15) [233  23  72 258]: 0.83034\t\t 16) [229  27  74 267]: 0.81517\t\t\n",
      " 17) [231  59  80 260]: 0.81103\t\t 18) [188  73 131 177]: 0.74207\t\t\n",
      " 19) [196  55 131 185]: 0.70069\t\t 20) [229  33  78 288]: 0.67586\t\t\n",
      "- Average score: 0.86193\n",
      "\n",
      "- Evolving the hosts\n",
      "  - Removing half of the weaker hosts\n",
      "  - Crossovering top 2 hosts\n",
      "    [229  59  80 288] & [231  33  78 260] >> [0, 1, 3] & [0, 1, 3] >> [231  33  80 260] & [229  59  78 288]\n",
      "  - Mutating remaining top hosts\n",
      "    [231  41  89 288] >> [245  31  86 288]\n",
      "    [231  33  78 260] >> [231  40  78 252]\n",
      "    [243  42  80 274] >> [243  51  81 261]\n",
      "    [230  33  90 277] >> [223  19  80 282]\n",
      "    [196  55 134 185] >> [196  53 134 185]\n",
      "    [243 288  78  41] >> [243 279  75  51]\n",
      "    [231  33  78 260] >> [231  30  78 277]\n",
      "    [229  59  80 288] >> [229  64  63 288]\n",
      "  - Adding hosts\n",
      "    [231,33,80,260], [229,59,78,288], [245,31,86,288], [231,40,78,252], [243,51,81,261], [223,19,80,282], [196,53,134,185], [243,279,75,51], [231,30,78,277], [229,64,63,288]\n",
      "\n",
      "# Generation 99\n"
     ]
    },
    {
     "data": {
      "text/plain": [
       "@ Training progress: 100.0%"
      ]
     },
     "metadata": {},
     "output_type": "display_data"
    },
    {
     "name": "stdout",
     "output_type": "stream",
     "text": [
      "Parameters saved at Log 05.08.2019 16.17.txt!\n",
      "\n",
      "# All hosts\n",
      "  1) [229  59  80 288]: 0.92000\t\t  2) [231  33  78 260]: 0.91862\t\t\n",
      "  3) [243  33  78 260]: 0.91586\t\t  4) [231  41  89 288]: 0.91586\t\t\n",
      "  5) [229  41  72 260]: 0.91448\t\t  6) [229  41  72 275]: 0.91448\t\t\n",
      "  7) [196  55 134 185]: 0.91310\t\t  8) [243  42  80 274]: 0.91310\t\t\n",
      "  9) [230  33  90 277]: 0.91172\t\t 10) [243 288  78  41]: 0.91034\t\t\n",
      " 11) [243  51  81 261]: 0.90897\t\t 12) [223  19  80 282]: 0.89241\t\t\n",
      " 13) [229  64  63 288]: 0.88828\t\t 14) [196  53 134 185]: 0.84552\t\t\n",
      " 15) [229  59  78 288]: 0.84000\t\t 16) [245  31  86 288]: 0.80966\t\t\n",
      " 17) [243 279  75  51]: 0.80552\t\t 18) [231  30  78 277]: 0.78483\t\t\n",
      " 19) [231  33  80 260]: 0.77931\t\t 20) [231  40  78 252]: 0.72552\t\t\n",
      "- Average score: 0.87138\n",
      "\n",
      "- Evolving the hosts\n",
      "  - Removing half of the weaker hosts\n",
      "  - Crossovering top 2 hosts\n",
      "    [229  59  80 288] & [231  33  78 260] >> [0, 1, 3] & [3, 1, 0] >> [260  33  80 231] & [288  59  78 229]\n",
      "  - Mutating remaining top hosts\n",
      "    [229  41  72 260] >> [236  41  63 266]\n",
      "    [196  55 134 185] >> [198  71 134 193]\n",
      "    [229  41  72 275] >> [247  25  87 258]\n",
      "    [229  41  72 275] >> [229  41  58 283]\n",
      "    [196  55 134 185] >> [191  55 131 174]\n",
      "    [243 288  78  41] >> [243 276  92  41]\n",
      "    [243 288  78  41] >> [234 288  78  41]\n",
      "    [243  33  78 260] >> [226  33  85 267]\n",
      "  - Adding hosts\n",
      "    [260,33,80,231], [288,59,78,229], [236,41,63,266], [198,71,134,193], [247,25,87,258], [229,41,58,283], [191,55,131,174], [243,276,92,41], [234,288,78,41], [226,33,85,267]\n",
      "\n",
      "# Generation 100\n"
     ]
    },
    {
     "data": {
      "text/plain": [
       "@ Training progress: 100.0%"
      ]
     },
     "metadata": {},
     "output_type": "display_data"
    },
    {
     "name": "stdout",
     "output_type": "stream",
     "text": [
      "Parameters saved at Log 05.08.2019 16.17.txt!\n",
      "\n",
      "# All hosts\n",
      "  1) [229  59  80 288]: 0.92000\t\t  2) [231  33  78 260]: 0.91862\t\t\n",
      "  3) [243  33  78 260]: 0.91586\t\t  4) [231  41  89 288]: 0.91586\t\t\n",
      "  5) [229  41  72 260]: 0.91448\t\t  6) [229  41  72 275]: 0.91448\t\t\n",
      "  7) [196  55 134 185]: 0.91310\t\t  8) [243  42  80 274]: 0.91310\t\t\n",
      "  9) [230  33  90 277]: 0.91172\t\t 10) [243 288  78  41]: 0.91034\t\t\n",
      " 11) [288  59  78 229]: 0.90345\t\t 12) [234 288  78  41]: 0.89517\t\t\n",
      " 13) [229  41  58 283]: 0.88552\t\t 14) [226  33  85 267]: 0.86897\t\t\n",
      " 15) [198  71 134 193]: 0.83724\t\t 16) [191  55 131 174]: 0.83172\t\t\n",
      " 17) [243 276  92  41]: 0.81931\t\t 18) [236  41  63 266]: 0.81517\t\t\n",
      " 19) [260  33  80 231]: 0.80276\t\t 20) [247  25  87 258]: 0.77793\t\t\n",
      "- Average score: 0.87924\n",
      "\n",
      "- Evolving the hosts\n",
      "  - Removing half of the weaker hosts\n",
      "  - Crossovering top 2 hosts\n",
      "    [229  59  80 288] & [231  33  78 260] >> [1, 3] & [1, 3] >> [229  33  80 260] & [231  59  78 288]\n",
      "  - Mutating remaining top hosts\n",
      "    [229  41  72 260] >> [227  56  68 249]\n",
      "    [229  41  72 275] >> [244  53  72 275]\n",
      "    [231  33  78 260] >> [237  35  86 249]\n",
      "    [230  33  90 277] >> [230  16  90 284]\n",
      "    [230  33  90 277] >> [218  33  86 266]\n",
      "    [229  41  72 260] >> [232  40  72 273]\n",
      "    [229  59  80 288] >> [229  42  83 292]\n",
      "    [229  41  72 260] >> [229  42  72 252]\n",
      "  - Adding hosts\n",
      "    [229,33,80,260], [231,59,78,288], [227,56,68,249], [244,53,72,275], [237,35,86,249], [230,16,90,284], [218,33,86,266], [232,40,72,273], [229,42,83,292], [229,42,72,252]\n",
      "\n",
      "# Generation 101\n"
     ]
    },
    {
     "data": {
      "text/plain": [
       "@ Training progress: 100.0%"
      ]
     },
     "metadata": {},
     "output_type": "display_data"
    },
    {
     "name": "stdout",
     "output_type": "stream",
     "text": [
      "Parameters saved at Log 05.08.2019 16.17.txt!\n",
      "\n",
      "# All hosts\n",
      "  1) [229  59  80 288]: 0.92000\t\t  2) [231  33  78 260]: 0.91862\t\t\n",
      "  3) [243  33  78 260]: 0.91586\t\t  4) [231  41  89 288]: 0.91586\t\t\n",
      "  5) [229  41  72 260]: 0.91448\t\t  6) [229  41  72 275]: 0.91448\t\t\n",
      "  7) [196  55 134 185]: 0.91310\t\t  8) [243  42  80 274]: 0.91310\t\t\n",
      "  9) [230  33  90 277]: 0.91172\t\t 10) [243 288  78  41]: 0.91034\t\t\n",
      " 11) [231  59  78 288]: 0.90207\t\t 12) [218  33  86 266]: 0.88552\t\t\n",
      " 13) [232  40  72 273]: 0.87310\t\t 14) [227  56  68 249]: 0.84552\t\t\n",
      " 15) [237  35  86 249]: 0.84414\t\t 16) [229  33  80 260]: 0.84138\t\t\n",
      " 17) [230  16  90 284]: 0.83034\t\t 18) [229  42  83 292]: 0.78621\t\t\n",
      " 19) [229  42  72 252]: 0.78621\t\t 20) [244  53  72 275]: 0.77241\t\t\n",
      "- Average score: 0.87572\n",
      "\n",
      "- Evolving the hosts\n",
      "  - Removing half of the weaker hosts\n",
      "  - Crossovering top 2 hosts\n",
      "    [229  59  80 288] & [231  33  78 260] >> [0, 1, 3] & [1, 3, 0] >> [ 33 260  80 231] & [288 229  78  59]\n",
      "  - Mutating remaining top hosts\n",
      "    [243  33  78 260] >> [238  23  78 277]\n",
      "    [229  41  72 260] >> [230  32  88 260]\n",
      "    [229  59  80 288] >> [229  72  72 288]\n",
      "    [231  41  89 288] >> [231  40  89 298]\n",
      "    [243  33  78 260] >> [254  22  81 260]\n",
      "    [243  33  78 260] >> [243  18  75 265]\n",
      "    [229  59  80 288] >> [224  59  67 288]\n",
      "    [229  41  72 275] >> [228  42  55 284]\n",
      "  - Adding hosts\n",
      "    [33,260,80,231], [288,229,78,59], [238,23,78,277], [230,32,88,260], [229,72,72,288], [231,40,89,298], [254,22,81,260], [243,18,75,265], [224,59,67,288], [228,42,55,284]\n",
      "\n",
      "# Generation 102\n"
     ]
    },
    {
     "data": {
      "text/plain": [
       "@ Training progress: 100.0%"
      ]
     },
     "metadata": {},
     "output_type": "display_data"
    },
    {
     "name": "stdout",
     "output_type": "stream",
     "text": [
      "Parameters saved at Log 05.08.2019 16.17.txt!\n",
      "\n",
      "# All hosts\n",
      "  1) [229  59  80 288]: 0.92000\t\t  2) [231  33  78 260]: 0.91862\t\t\n",
      "  3) [243  33  78 260]: 0.91586\t\t  4) [231  41  89 288]: 0.91586\t\t\n",
      "  5) [229  41  72 260]: 0.91448\t\t  6) [229  41  72 275]: 0.91448\t\t\n",
      "  7) [196  55 134 185]: 0.91310\t\t  8) [243  42  80 274]: 0.91310\t\t\n",
      "  9) [230  33  90 277]: 0.91172\t\t 10) [243 288  78  41]: 0.91034\t\t\n",
      " 11) [288 229  78  59]: 0.89379\t\t 12) [243  18  75 265]: 0.89103\t\t\n",
      " 13) [254  22  81 260]: 0.88690\t\t 14) [224  59  67 288]: 0.87862\t\t\n",
      " 15) [228  42  55 284]: 0.84690\t\t 16) [238  23  78 277]: 0.83310\t\t\n",
      " 17) [230  32  88 260]: 0.78345\t\t 18) [229  72  72 288]: 0.78069\t\t\n",
      " 19) [ 33 260  80 231]: 0.67448\t\t 20) [231  40  89 298]: 0.67172\t\t\n",
      "- Average score: 0.86441\n",
      "\n",
      "- Evolving the hosts\n",
      "  - Removing half of the weaker hosts\n",
      "  - Crossovering top 2 hosts\n",
      "    [229  59  80 288] & [231  33  78 260] >> [1, 2] & [1, 2] >> [229  33  78 288] & [231  59  80 260]\n",
      "  - Mutating remaining top hosts\n",
      "    [229  41  72 275] >> [229  30  80 275]\n",
      "    [243 288  78  41] >> [243 288  61  41]\n",
      "    [229  41  72 260] >> [217  36  78 253]\n",
      "    [229  41  72 260] >> [229  27  72 249]\n",
      "    [231  33  78 260] >> [240  33  95 255]\n",
      "    [230  33  90 277] >> [248  29  90 278]\n",
      "    [243  33  78 260] >> [243  33  65 249]\n",
      "    [243  42  80 274] >> [225  42  63 274]\n",
      "  - Adding hosts\n",
      "    [229,33,78,288], [231,59,80,260], [229,30,80,275], [243,288,61,41], [217,36,78,253], [229,27,72,249], [240,33,95,255], [248,29,90,278], [243,33,65,249], [225,42,63,274]\n",
      "\n",
      "# Generation 103\n"
     ]
    },
    {
     "data": {
      "text/plain": [
       "@ Training progress: 100.0%"
      ]
     },
     "metadata": {},
     "output_type": "display_data"
    },
    {
     "name": "stdout",
     "output_type": "stream",
     "text": [
      "Parameters saved at Log 05.08.2019 16.17.txt!\n",
      "\n",
      "# All hosts\n",
      "  1) [229  33  78 288]: 0.92138\t\t  2) [229  59  80 288]: 0.92000\t\t\n",
      "  3) [231  33  78 260]: 0.91862\t\t  4) [243  33  78 260]: 0.91586\t\t\n",
      "  5) [231  41  89 288]: 0.91586\t\t  6) [229  41  72 260]: 0.91448\t\t\n",
      "  7) [229  41  72 275]: 0.91448\t\t  8) [196  55 134 185]: 0.91310\t\t\n",
      "  9) [243  42  80 274]: 0.91310\t\t 10) [230  33  90 277]: 0.91172\t\t\n",
      " 11) [243 288  78  41]: 0.91034\t\t 12) [243 288  61  41]: 0.87448\t\t\n",
      " 13) [229  30  80 275]: 0.87310\t\t 14) [231  59  80 260]: 0.85379\t\t\n",
      " 15) [243  33  65 249]: 0.84966\t\t 16) [240  33  95 255]: 0.82621\t\t\n",
      " 17) [248  29  90 278]: 0.82345\t\t 18) [217  36  78 253]: 0.76552\t\t\n",
      " 19) [225  42  63 274]: 0.73655\t\t 20) [229  27  72 249]: 0.72414\t\t\n",
      "- Average score: 0.86979\n",
      "\n",
      "- Evolving the hosts\n",
      "  - Removing half of the weaker hosts\n",
      "  - Crossovering top 2 hosts\n",
      "    [229  33  78 288] & [229  59  80 288] >> [0, 1, 2, 3] & [2, 0, 3, 1] >> [ 80 229 288  59] & [ 33 288 229  78]\n",
      "  - Mutating remaining top hosts\n",
      "    [243  33  78 260] >> [247  20  78 260]\n",
      "    [196  55 134 185] >> [179  72 142 188]\n",
      "    [196  55 134 185] >> [197  38 128 199]\n",
      "    [243  42  80 274] >> [235  57  74 274]\n",
      "    [229  41  72 275] >> [225  47  68 277]\n",
      "    [243  42  80 274] >> [260  28  80 274]\n",
      "    [196  55 134 185] >> [192  41 144 198]\n",
      "    [229  41  72 275] >> [243  41  72 276]\n",
      "  - Adding hosts\n",
      "    [80,229,288,59], [33,288,229,78], [247,20,78,260], [179,72,142,188], [197,38,128,199], [235,57,74,274], [225,47,68,277], [260,28,80,274], [192,41,144,198], [243,41,72,276]\n",
      "\n",
      "# Generation 104\n"
     ]
    },
    {
     "data": {
      "text/plain": [
       "@ Training progress: 100.0%"
      ]
     },
     "metadata": {},
     "output_type": "display_data"
    },
    {
     "name": "stdout",
     "output_type": "stream",
     "text": [
      "Parameters saved at Log 05.08.2019 16.17.txt!\n",
      "\n",
      "# All hosts\n",
      "  1) [229  33  78 288]: 0.92138\t\t  2) [229  59  80 288]: 0.92000\t\t\n",
      "  3) [231  33  78 260]: 0.91862\t\t  4) [243  33  78 260]: 0.91586\t\t\n",
      "  5) [231  41  89 288]: 0.91586\t\t  6) [229  41  72 260]: 0.91448\t\t\n",
      "  7) [229  41  72 275]: 0.91448\t\t  8) [196  55 134 185]: 0.91310\t\t\n",
      "  9) [243  42  80 274]: 0.91310\t\t 10) [230  33  90 277]: 0.91172\t\t\n",
      " 11) [235  57  74 274]: 0.85655\t\t 12) [225  47  68 277]: 0.85379\t\t\n",
      " 13) [ 80 229 288  59]: 0.85103\t\t 14) [247  20  78 260]: 0.83448\t\t\n",
      " 15) [ 33 288 229  78]: 0.83034\t\t 16) [197  38 128 199]: 0.80138\t\t\n",
      " 17) [260  28  80 274]: 0.80000\t\t 18) [192  41 144 198]: 0.79448\t\t\n",
      " 19) [243  41  72 276]: 0.79448\t\t 20) [179  72 142 188]: 0.72000\t\t\n",
      "- Average score: 0.86476\n",
      "\n",
      "- Evolving the hosts\n",
      "  - Removing half of the weaker hosts\n",
      "  - Crossovering top 2 hosts\n",
      "    [229  33  78 288] & [229  59  80 288] >> [3] & [3] >> [229  33  78 288] & [229  59  80 288]\n",
      "  - Mutating remaining top hosts\n",
      "    [196  55 134 185] >> [208  70 150 185]\n",
      "    [231  41  89 288] >> [218  25  89 303]\n",
      "    [243  33  78 260] >> [243  33  78 253]\n",
      "    [229  33  78 288] >> [215  35  88 280]\n",
      "    [229  41  72 275] >> [229  25  72 275]\n",
      "    [229  33  78 288] >> [228  33  69 270]\n",
      "    [230  33  90 277] >> [227  33  74 277]\n",
      "    [229  41  72 260] >> [228  48  72 260]\n",
      "  - Adding hosts\n",
      "    [229,33,78,288], [229,59,80,288], [208,70,150,185], [218,25,89,303], [243,33,78,253], [215,35,88,280], [229,25,72,275], [228,33,69,270], [227,33,74,277], [228,48,72,260]\n",
      "\n",
      "# Generation 105\n"
     ]
    },
    {
     "data": {
      "text/plain": [
       "@ Training progress: 100.0%"
      ]
     },
     "metadata": {},
     "output_type": "display_data"
    },
    {
     "name": "stdout",
     "output_type": "stream",
     "text": [
      "Parameters saved at Log 05.08.2019 16.17.txt!\n",
      "\n",
      "# All hosts\n",
      "  1) [229  33  78 288]: 0.92138\t\t  2) [229  59  80 288]: 0.92000\t\t\n",
      "  3) [231  33  78 260]: 0.91862\t\t  4) [243  33  78 260]: 0.91586\t\t\n",
      "  5) [231  41  89 288]: 0.91586\t\t  6) [229  41  72 260]: 0.91448\t\t\n",
      "  7) [229  41  72 275]: 0.91448\t\t  8) [196  55 134 185]: 0.91310\t\t\n",
      "  9) [243  42  80 274]: 0.91310\t\t 10) [230  33  90 277]: 0.91172\t\t\n",
      " 11) [228  33  69 270]: 0.89103\t\t 12) [208  70 150 185]: 0.88552\t\t\n",
      " 13) [229  59  80 288]: 0.88414\t\t 14) [229  25  72 275]: 0.87586\t\t\n",
      " 15) [215  35  88 280]: 0.86345\t\t 16) [243  33  78 253]: 0.86345\t\t\n",
      " 17) [229  33  78 288]: 0.81103\t\t 18) [227  33  74 277]: 0.78483\t\t\n",
      " 19) [218  25  89 303]: 0.75586\t\t 20) [228  48  72 260]: 0.72690\t\t\n",
      "- Average score: 0.87503\n",
      "\n",
      "- Evolving the hosts\n",
      "  - Removing half of the weaker hosts\n",
      "  - Crossovering top 2 hosts\n",
      "    [229  33  78 288] & [229  59  80 288] >> [1, 2, 3] & [3, 2, 1] >> [229 288  80  59] & [229 288  78  33]\n",
      "  - Mutating remaining top hosts\n",
      "    [243  33  78 260] >> [251  29  63 267]\n",
      "    [230  33  90 277] >> [217  17  81 262]\n",
      "    [229  33  78 288] >> [217  33  65 292]\n",
      "    [243  33  78 260] >> [230  50  78 260]\n",
      "    [229  41  72 275] >> [234  46  71 275]\n",
      "    [229  41  72 260] >> [222  31  65 276]\n",
      "    [229  33  78 288] >> [229  51  82 271]\n",
      "    [231  41  89 288] >> [218  40  82 290]\n",
      "  - Adding hosts\n",
      "    [229,288,80,59], [229,288,78,33], [251,29,63,267], [217,17,81,262], [217,33,65,292], [230,50,78,260], [234,46,71,275], [222,31,65,276], [229,51,82,271], [218,40,82,290]\n",
      "\n",
      "# Generation 106\n"
     ]
    },
    {
     "data": {
      "text/plain": [
       "@ Training progress: 100.0%"
      ]
     },
     "metadata": {},
     "output_type": "display_data"
    },
    {
     "name": "stdout",
     "output_type": "stream",
     "text": [
      "Parameters saved at Log 05.08.2019 16.17.txt!\n",
      "\n",
      "# All hosts\n",
      "  1) [229  33  78 288]: 0.92138\t\t  2) [229  59  80 288]: 0.92000\t\t\n",
      "  3) [231  33  78 260]: 0.91862\t\t  4) [243  33  78 260]: 0.91586\t\t\n",
      "  5) [231  41  89 288]: 0.91586\t\t  6) [229  41  72 260]: 0.91448\t\t\n",
      "  7) [229  41  72 275]: 0.91448\t\t  8) [196  55 134 185]: 0.91310\t\t\n",
      "  9) [243  42  80 274]: 0.91310\t\t 10) [230  33  90 277]: 0.91172\t\t\n",
      " 11) [229 288  80  59]: 0.87724\t\t 12) [222  31  65 276]: 0.85931\t\t\n",
      " 13) [217  17  81 262]: 0.85793\t\t 14) [230  50  78 260]: 0.85793\t\t\n",
      " 15) [234  46  71 275]: 0.84414\t\t 16) [217  33  65 292]: 0.83448\t\t\n",
      " 17) [229 288  78  33]: 0.81103\t\t 18) [229  51  82 271]: 0.76966\t\t\n",
      " 19) [218  40  82 290]: 0.75724\t\t 20) [251  29  63 267]: 0.72966\t\t\n",
      "- Average score: 0.86786\n",
      "\n",
      "- Evolving the hosts\n",
      "  - Removing half of the weaker hosts\n",
      "  - Crossovering top 2 hosts\n",
      "    [229  33  78 288] & [229  59  80 288] >> [0, 1, 3] & [0, 3, 1] >> [229 288  78  59] & [229 288  80  33]\n",
      "  - Mutating remaining top hosts\n",
      "    [243  42  80 274] >> [246  36  88 274]\n",
      "    [231  33  78 260] >> [230  49  72 274]\n",
      "    [243  42  80 274] >> [249  42  80 262]\n",
      "    [229  33  78 288] >> [243  44  78 298]\n",
      "    [230  33  90 277] >> [230  27  90 283]\n",
      "    [231  41  89 288] >> [235  41  89 288]\n",
      "    [229  33  78 288] >> [219  38  83 301]\n",
      "    [229  41  72 260] >> [226  48  88 248]\n",
      "  - Adding hosts\n",
      "    [229,288,78,59], [229,288,80,33], [246,36,88,274], [230,49,72,274], [249,42,80,262], [243,44,78,298], [230,27,90,283], [235,41,89,288], [219,38,83,301], [226,48,88,248]\n",
      "\n",
      "# Generation 107\n"
     ]
    },
    {
     "data": {
      "text/plain": [
       "@ Training progress: 100.0%"
      ]
     },
     "metadata": {},
     "output_type": "display_data"
    },
    {
     "name": "stdout",
     "output_type": "stream",
     "text": [
      "Parameters saved at Log 05.08.2019 16.17.txt!\n",
      "\n",
      "# All hosts\n",
      "  1) [229  33  78 288]: 0.92138\t\t  2) [229  59  80 288]: 0.92000\t\t\n",
      "  3) [231  33  78 260]: 0.91862\t\t  4) [243  33  78 260]: 0.91586\t\t\n",
      "  5) [231  41  89 288]: 0.91586\t\t  6) [229  41  72 260]: 0.91448\t\t\n",
      "  7) [229  41  72 275]: 0.91448\t\t  8) [196  55 134 185]: 0.91310\t\t\n",
      "  9) [246  36  88 274]: 0.91310\t\t 10) [243  42  80 274]: 0.91310\t\t\n",
      " 11) [230  33  90 277]: 0.91172\t\t 12) [230  27  90 283]: 0.89655\t\t\n",
      " 13) [229 288  78  59]: 0.88000\t\t 14) [249  42  80 262]: 0.85103\t\t\n",
      " 15) [219  38  83 301]: 0.83172\t\t 16) [235  41  89 288]: 0.82759\t\t\n",
      " 17) [243  44  78 298]: 0.82207\t\t 18) [230  49  72 274]: 0.81379\t\t\n",
      " 19) [226  48  88 248]: 0.79310\t\t 20) [229 288  80  33]: 0.59586\t\t\n",
      "- Average score: 0.86917\n",
      "\n",
      "- Evolving the hosts\n",
      "  - Removing half of the weaker hosts\n",
      "  - Crossovering top 2 hosts\n",
      "    [229  33  78 288] & [229  59  80 288] >> [1, 2, 3] & [1, 2, 3] >> [229  59  80 288] & [229  33  78 288]\n",
      "  - Mutating remaining top hosts\n",
      "    [229  33  78 288] >> [234  38  79 288]\n",
      "    [231  33  78 260] >> [230  49  65 249]\n",
      "    [243  33  78 260] >> [257  28  70 242]\n",
      "    [243  42  80 274] >> [243  36  89 274]\n",
      "    [196  55 134 185] >> [183  55 116 184]\n",
      "    [229  33  78 288] >> [224  47  78 288]\n",
      "    [229  59  80 288] >> [239  43  88 304]\n",
      "    [243  33  78 260] >> [246  37  66 256]\n",
      "  - Adding hosts\n",
      "    [229,59,80,288], [229,33,78,288], [234,38,79,288], [230,49,65,249], [257,28,70,242], [243,36,89,274], [183,55,116,184], [224,47,78,288], [239,43,88,304], [246,37,66,256]\n",
      "\n",
      "# Generation 108\n"
     ]
    },
    {
     "data": {
      "text/plain": [
       "@ Training progress: 100.0%"
      ]
     },
     "metadata": {},
     "output_type": "display_data"
    },
    {
     "name": "stdout",
     "output_type": "stream",
     "text": [
      "Parameters saved at Log 05.08.2019 16.17.txt!\n",
      "\n",
      "# All hosts\n",
      "  1) [229  33  78 288]: 0.92138\t\t  2) [229  59  80 288]: 0.92000\t\t\n",
      "  3) [231  33  78 260]: 0.91862\t\t  4) [243  33  78 260]: 0.91586\t\t\n",
      "  5) [231  41  89 288]: 0.91586\t\t  6) [229  41  72 260]: 0.91448\t\t\n",
      "  7) [229  41  72 275]: 0.91448\t\t  8) [196  55 134 185]: 0.91310\t\t\n",
      "  9) [246  36  88 274]: 0.91310\t\t 10) [243  42  80 274]: 0.91310\t\t\n",
      " 11) [257  28  70 242]: 0.90069\t\t 12) [246  37  66 256]: 0.89931\t\t\n",
      " 13) [239  43  88 304]: 0.88000\t\t 14) [224  47  78 288]: 0.86897\t\t\n",
      " 15) [229  59  80 288]: 0.85103\t\t 16) [229  33  78 288]: 0.82897\t\t\n",
      " 17) [230  49  65 249]: 0.82759\t\t 18) [234  38  79 288]: 0.82621\t\t\n",
      " 19) [243  36  89 274]: 0.77655\t\t 20) [183  55 116 184]: 0.75448\t\t\n",
      "- Average score: 0.87869\n",
      "\n",
      "- Evolving the hosts\n",
      "  - Removing half of the weaker hosts\n",
      "  - Crossovering top 2 hosts\n",
      "    [229  33  78 288] & [229  59  80 288] >> [0, 2] & [0, 2] >> [229  33  80 288] & [229  59  78 288]\n",
      "  - Mutating remaining top hosts\n",
      "    [229  41  72 260] >> [223  26  72 251]\n",
      "    [229  59  80 288] >> [235  59  68 288]\n",
      "    [229  33  78 288] >> [232  35  78 288]\n",
      "    [243  42  80 274] >> [233  42  74 267]\n",
      "    [229  41  72 275] >> [229  29  72 258]\n",
      "    [231  33  78 260] >> [231  33  80 260]\n",
      "    [243  42  80 274] >> [229  34  78 285]\n",
      "    [229  41  72 275] >> [226  41  72 267]\n",
      "  - Adding hosts\n",
      "    [229,33,80,288], [229,59,78,288], [223,26,72,251], [235,59,68,288], [232,35,78,288], [233,42,74,267], [229,29,72,258], [231,33,80,260], [229,34,78,285], [226,41,72,267]\n",
      "\n",
      "# Generation 109\n"
     ]
    },
    {
     "data": {
      "text/plain": [
       "@ Training progress: 100.0%"
      ]
     },
     "metadata": {},
     "output_type": "display_data"
    },
    {
     "name": "stdout",
     "output_type": "stream",
     "text": [
      "Parameters saved at Log 05.08.2019 16.17.txt!\n",
      "\n",
      "# All hosts\n",
      "  1) [229  33  78 288]: 0.92138\t\t  2) [229  59  80 288]: 0.92000\t\t\n",
      "  3) [231  33  78 260]: 0.91862\t\t  4) [243  33  78 260]: 0.91586\t\t\n",
      "  5) [231  41  89 288]: 0.91586\t\t  6) [229  41  72 260]: 0.91448\t\t\n",
      "  7) [229  41  72 275]: 0.91448\t\t  8) [196  55 134 185]: 0.91310\t\t\n",
      "  9) [246  36  88 274]: 0.91310\t\t 10) [243  42  80 274]: 0.91310\t\t\n",
      " 11) [229  34  78 285]: 0.89517\t\t 12) [231  33  80 260]: 0.89517\t\t\n",
      " 13) [232  35  78 288]: 0.87310\t\t 14) [229  29  72 258]: 0.86759\t\t\n",
      " 15) [223  26  72 251]: 0.86069\t\t 16) [235  59  68 288]: 0.81931\t\t\n",
      " 17) [229  33  80 288]: 0.80552\t\t 18) [226  41  72 267]: 0.79724\t\t\n",
      " 19) [229  59  78 288]: 0.79172\t\t 20) [233  42  74 267]: 0.77931\t\t\n",
      "- Average score: 0.87724\n",
      "\n",
      "- Evolving the hosts\n",
      "  - Removing half of the weaker hosts\n",
      "  - Crossovering top 2 hosts\n",
      "    [229  33  78 288] & [229  59  80 288] >> [0, 1, 2] & [0, 2, 1] >> [229  80  59 288] & [229  78  33 288]\n",
      "  - Mutating remaining top hosts\n",
      "    [229  33  78 288] >> [229  24  78 303]\n",
      "    [229  59  80 288] >> [229  59  76 279]\n",
      "    [231  33  78 260] >> [245  25  66 254]\n",
      "    [229  59  80 288] >> [229  68  71 286]\n",
      "    [229  33  78 288] >> [226  15  78 288]\n",
      "    [229  33  78 288] >> [229  31  78 288]\n",
      "    [229  41  72 260] >> [232  29  78 271]\n",
      "    [231  41  89 288] >> [227  31  89 293]\n",
      "  - Adding hosts\n",
      "    [229,80,59,288], [229,78,33,288], [229,24,78,303], [229,59,76,279], [245,25,66,254], [229,68,71,286], [226,15,78,288], [229,31,78,288], [232,29,78,271], [227,31,89,293]\n",
      "\n",
      "# Generation 110\n"
     ]
    },
    {
     "data": {
      "text/plain": [
       "@ Training progress: 100.0%"
      ]
     },
     "metadata": {},
     "output_type": "display_data"
    },
    {
     "name": "stdout",
     "output_type": "stream",
     "text": [
      "Parameters saved at Log 05.08.2019 16.17.txt!\n",
      "\n",
      "# All hosts\n",
      "  1) [229  33  78 288]: 0.92138\t\t  2) [229  59  80 288]: 0.92000\t\t\n",
      "  3) [231  33  78 260]: 0.91862\t\t  4) [243  33  78 260]: 0.91586\t\t\n",
      "  5) [231  41  89 288]: 0.91586\t\t  6) [229  41  72 260]: 0.91448\t\t\n",
      "  7) [229  41  72 275]: 0.91448\t\t  8) [196  55 134 185]: 0.91310\t\t\n",
      "  9) [246  36  88 274]: 0.91310\t\t 10) [243  42  80 274]: 0.91310\t\t\n",
      " 11) [245  25  66 254]: 0.90345\t\t 12) [229  68  71 286]: 0.88690\t\t\n",
      " 13) [226  15  78 288]: 0.87724\t\t 14) [227  31  89 293]: 0.86345\t\t\n",
      " 15) [229  78  33 288]: 0.85517\t\t 16) [229  80  59 288]: 0.84000\t\t\n",
      " 17) [229  24  78 303]: 0.80138\t\t 18) [229  31  78 288]: 0.75310\t\t\n",
      " 19) [229  59  76 279]: 0.74069\t\t 20) [232  29  78 271]: 0.71724\t\t\n",
      "- Average score: 0.86993\n",
      "\n",
      "- Evolving the hosts\n",
      "  - Removing half of the weaker hosts\n",
      "  - Crossovering top 2 hosts\n",
      "    [229  33  78 288] & [229  59  80 288] >> [0, 2, 3] & [2, 3, 0] >> [ 80  33 288 229] & [288  59 229  78]\n",
      "  - Mutating remaining top hosts\n",
      "    [229  33  78 288] >> [223  33  67 296]\n",
      "    [231  41  89 288] >> [224  52  83 288]\n",
      "    [231  33  78 260] >> [235  43  78 260]\n",
      "    [231  41  89 288] >> [231  41  89 291]\n",
      "    [231  41  89 288] >> [246  57  89 288]\n",
      "    [229  59  80 288] >> [224  63  96 285]\n",
      "    [229  59  80 288] >> [229  60  80 288]\n",
      "    [196  55 134 185] >> [205  47 123 179]\n",
      "  - Adding hosts\n",
      "    [80,33,288,229], [288,59,229,78], [223,33,67,296], [224,52,83,288], [235,43,78,260], [231,41,89,291], [246,57,89,288], [224,63,96,285], [229,60,80,288], [205,47,123,179]\n",
      "\n",
      "# Generation 111\n"
     ]
    },
    {
     "data": {
      "text/plain": [
       "@ Training progress: 100.0%"
      ]
     },
     "metadata": {},
     "output_type": "display_data"
    },
    {
     "name": "stdout",
     "output_type": "stream",
     "text": [
      "Parameters saved at Log 05.08.2019 16.17.txt!\n",
      "\n",
      "# All hosts\n",
      "  1) [229  33  78 288]: 0.92138\t\t  2) [229  59  80 288]: 0.92000\t\t\n",
      "  3) [231  33  78 260]: 0.91862\t\t  4) [243  33  78 260]: 0.91586\t\t\n",
      "  5) [231  41  89 288]: 0.91586\t\t  6) [229  41  72 260]: 0.91448\t\t\n",
      "  7) [229  41  72 275]: 0.91448\t\t  8) [196  55 134 185]: 0.91310\t\t\n",
      "  9) [246  36  88 274]: 0.91310\t\t 10) [243  42  80 274]: 0.91310\t\t\n",
      " 11) [ 80  33 288 229]: 0.90345\t\t 12) [246  57  89 288]: 0.88414\t\t\n",
      " 13) [224  52  83 288]: 0.88276\t\t 14) [229  60  80 288]: 0.88138\t\t\n",
      " 15) [205  47 123 179]: 0.87310\t\t 16) [224  63  96 285]: 0.86759\t\t\n",
      " 17) [235  43  78 260]: 0.83724\t\t 18) [223  33  67 296]: 0.79172\t\t\n",
      " 19) [231  41  89 291]: 0.78897\t\t 20) [288  59 229  78]: 0.71034\t\t\n",
      "- Average score: 0.87903\n",
      "\n",
      "- Evolving the hosts\n",
      "  - Removing half of the weaker hosts\n",
      "  - Crossovering top 2 hosts\n",
      "    [229  33  78 288] & [229  59  80 288] >> [0, 1] & [0, 1] >> [229  59  78 288] & [229  33  80 288]\n",
      "  - Mutating remaining top hosts\n",
      "    [243  33  78 260] >> [236  39  78 265]\n",
      "    [229  41  72 260] >> [234  30  72 244]\n",
      "    [231  41  89 288] >> [234  41 102 288]\n",
      "    [243  33  78 260] >> [229  40  68 264]\n",
      "    [231  33  78 260] >> [234  42  63 251]\n",
      "    [231  33  78 260] >> [231  46  78 245]\n",
      "    [229  41  72 260] >> [216  41  69 260]\n",
      "    [243  33  78 260] >> [243  43  78 249]\n",
      "  - Adding hosts\n",
      "    [229,59,78,288], [229,33,80,288], [236,39,78,265], [234,30,72,244], [234,41,102,288], [229,40,68,264], [234,42,63,251], [231,46,78,245], [216,41,69,260], [243,43,78,249]\n",
      "\n",
      "# Generation 112\n"
     ]
    },
    {
     "data": {
      "text/plain": [
       "@ Training progress: 100.0%"
      ]
     },
     "metadata": {},
     "output_type": "display_data"
    },
    {
     "name": "stdout",
     "output_type": "stream",
     "text": [
      "Parameters saved at Log 05.08.2019 16.17.txt!\n",
      "\n",
      "# All hosts\n",
      "  1) [229  33  78 288]: 0.92138\t\t  2) [229  59  80 288]: 0.92000\t\t\n",
      "  3) [231  33  78 260]: 0.91862\t\t  4) [243  33  78 260]: 0.91586\t\t\n",
      "  5) [231  41  89 288]: 0.91586\t\t  6) [229  41  72 260]: 0.91448\t\t\n",
      "  7) [229  41  72 275]: 0.91448\t\t  8) [196  55 134 185]: 0.91310\t\t\n",
      "  9) [246  36  88 274]: 0.91310\t\t 10) [243  42  80 274]: 0.91310\t\t\n",
      " 11) [229  59  78 288]: 0.89241\t\t 12) [243  43  78 249]: 0.86069\t\t\n",
      " 13) [236  39  78 265]: 0.85103\t\t 14) [229  33  80 288]: 0.84966\t\t\n",
      " 15) [234  41 102 288]: 0.82069\t\t 16) [229  40  68 264]: 0.80276\t\t\n",
      " 17) [216  41  69 260]: 0.76000\t\t 18) [234  30  72 244]: 0.75862\t\t\n",
      " 19) [234  42  63 251]: 0.75310\t\t 20) [231  46  78 245]: 0.73655\t\t\n",
      "- Average score: 0.86228\n",
      "\n",
      "- Evolving the hosts\n",
      "  - Removing half of the weaker hosts\n",
      "  - Crossovering top 2 hosts\n",
      "    [229  33  78 288] & [229  59  80 288] >> [0, 1, 2, 3] & [1, 2, 3, 0] >> [ 59  80 288 229] & [288 229  33  78]\n",
      "  - Mutating remaining top hosts\n",
      "    [229  41  72 260] >> [212  37  72 260]\n",
      "    [229  59  80 288] >> [221  44  82 284]\n",
      "    [231  41  89 288] >> [242  41  86 279]\n",
      "    [229  59  80 288] >> [218  52  80 288]\n",
      "    [229  41  72 275] >> [240  50  65 275]\n",
      "    [229  59  80 288] >> [243  51  80 288]\n",
      "    [229  41  72 275] >> [234  41  83 275]\n",
      "    [243  33  78 260] >> [227  33  60 260]\n",
      "  - Adding hosts\n",
      "    [59,80,288,229], [288,229,33,78], [212,37,72,260], [221,44,82,284], [242,41,86,279], [218,52,80,288], [240,50,65,275], [243,51,80,288], [234,41,83,275], [227,33,60,260]\n",
      "\n",
      "# Generation 113\n"
     ]
    },
    {
     "data": {
      "text/plain": [
       "@ Training progress: 100.0%"
      ]
     },
     "metadata": {},
     "output_type": "display_data"
    },
    {
     "name": "stdout",
     "output_type": "stream",
     "text": [
      "Parameters saved at Log 05.08.2019 16.17.txt!\n",
      "\n",
      "# All hosts\n",
      "  1) [229  33  78 288]: 0.92138\t\t  2) [229  59  80 288]: 0.92000\t\t\n",
      "  3) [231  33  78 260]: 0.91862\t\t  4) [243  33  78 260]: 0.91586\t\t\n",
      "  5) [231  41  89 288]: 0.91586\t\t  6) [229  41  72 260]: 0.91448\t\t\n",
      "  7) [229  41  72 275]: 0.91448\t\t  8) [196  55 134 185]: 0.91310\t\t\n",
      "  9) [246  36  88 274]: 0.91310\t\t 10) [243  42  80 274]: 0.91310\t\t\n",
      " 11) [243  51  80 288]: 0.90897\t\t 12) [234  41  83 275]: 0.88966\t\t\n",
      " 13) [ 59  80 288 229]: 0.85379\t\t 14) [218  52  80 288]: 0.83586\t\t\n",
      " 15) [221  44  82 284]: 0.82207\t\t 16) [240  50  65 275]: 0.78345\t\t\n",
      " 17) [242  41  86 279]: 0.74483\t\t 18) [212  37  72 260]: 0.73793\t\t\n",
      " 19) [288 229  33  78]: 0.72690\t\t 20) [227  33  60 260]: 0.70483\t\t\n",
      "- Average score: 0.85841\n",
      "\n",
      "- Evolving the hosts\n",
      "  - Removing half of the weaker hosts\n",
      "  - Crossovering top 2 hosts\n",
      "    [229  33  78 288] & [229  59  80 288] >> [0, 2] & [2, 0] >> [ 80  33 229 288] & [ 78  59 229 288]\n",
      "  - Mutating remaining top hosts\n",
      "    [246  36  88 274] >> [235  29  88 278]\n",
      "    [196  55 134 185] >> [196  55 119 185]\n",
      "    [243  33  78 260] >> [230  49  78 269]\n",
      "    [229  33  78 288] >> [227  33  70 294]\n",
      "    [243  42  80 274] >> [231  54  97 274]\n",
      "    [231  33  78 260] >> [231  33  78 265]\n",
      "    [243  42  80 274] >> [249  40  80 274]\n",
      "    [229  33  78 288] >> [229  27  67 288]\n",
      "  - Adding hosts\n",
      "    [80,33,229,288], [78,59,229,288], [235,29,88,278], [196,55,119,185], [230,49,78,269], [227,33,70,294], [231,54,97,274], [231,33,78,265], [249,40,80,274], [229,27,67,288]\n",
      "\n",
      "# Generation 114\n"
     ]
    },
    {
     "data": {
      "text/plain": [
       "@ Training progress: 100.0%"
      ]
     },
     "metadata": {},
     "output_type": "display_data"
    },
    {
     "name": "stdout",
     "output_type": "stream",
     "text": [
      "Parameters saved at Log 05.08.2019 16.17.txt!\n",
      "\n",
      "# All hosts\n",
      "  1) [229  33  78 288]: 0.92138\t\t  2) [229  59  80 288]: 0.92000\t\t\n",
      "  3) [231  33  78 260]: 0.91862\t\t  4) [230  49  78 269]: 0.91586\t\t\n",
      "  5) [243  33  78 260]: 0.91586\t\t  6) [231  41  89 288]: 0.91586\t\t\n",
      "  7) [229  41  72 260]: 0.91448\t\t  8) [229  41  72 275]: 0.91448\t\t\n",
      "  9) [196  55 134 185]: 0.91310\t\t 10) [246  36  88 274]: 0.91310\t\t\n",
      " 11) [243  42  80 274]: 0.91310\t\t 12) [ 78  59 229 288]: 0.87172\t\t\n",
      " 13) [227  33  70 294]: 0.86069\t\t 14) [ 80  33 229 288]: 0.84966\t\t\n",
      " 15) [231  54  97 274]: 0.83862\t\t 16) [249  40  80 274]: 0.81517\t\t\n",
      " 17) [231  33  78 265]: 0.80000\t\t 18) [235  29  88 278]: 0.74897\t\t\n",
      " 19) [229  27  67 288]: 0.73241\t\t 20) [196  55 119 185]: 0.73103\t\t\n",
      "- Average score: 0.86621\n",
      "\n",
      "- Evolving the hosts\n",
      "  - Removing half of the weaker hosts\n",
      "  - Crossovering top 2 hosts\n",
      "    [229  33  78 288] & [229  59  80 288] >> [0, 1, 2] & [0, 2, 1] >> [229  80  59 288] & [229  78  33 288]\n",
      "  - Mutating remaining top hosts\n",
      "    [231  33  78 260] >> [233  25  78 254]\n",
      "    [229  59  80 288] >> [229  57  69 293]\n",
      "    [229  59  80 288] >> [212  69  80 288]\n",
      "    [231  41  89 288] >> [230  52  80 280]\n",
      "    [243  33  78 260] >> [246  33  82 248]\n",
      "    [231  33  78 260] >> [223  46  77 260]\n",
      "    [230  49  78 269] >> [230  49  78 274]\n",
      "    [243  33  78 260] >> [243  35  74 268]\n",
      "  - Adding hosts\n",
      "    [229,80,59,288], [229,78,33,288], [233,25,78,254], [229,57,69,293], [212,69,80,288], [230,52,80,280], [246,33,82,248], [223,46,77,260], [230,49,78,274], [243,35,74,268]\n",
      "\n",
      "# Generation 115\n"
     ]
    },
    {
     "data": {
      "text/plain": [
       "@ Training progress: 100.0%"
      ]
     },
     "metadata": {},
     "output_type": "display_data"
    },
    {
     "name": "stdout",
     "output_type": "stream",
     "text": [
      "Parameters saved at Log 05.08.2019 16.17.txt!\n",
      "\n",
      "# All hosts\n",
      "  1) [229  33  78 288]: 0.92138\t\t  2) [229  59  80 288]: 0.92000\t\t\n",
      "  3) [231  33  78 260]: 0.91862\t\t  4) [230  49  78 269]: 0.91586\t\t\n",
      "  5) [243  33  78 260]: 0.91586\t\t  6) [231  41  89 288]: 0.91586\t\t\n",
      "  7) [229  41  72 260]: 0.91448\t\t  8) [229  41  72 275]: 0.91448\t\t\n",
      "  9) [196  55 134 185]: 0.91310\t\t 10) [246  36  88 274]: 0.91310\t\t\n",
      " 11) [223  46  77 260]: 0.90759\t\t 12) [243  35  74 268]: 0.89793\t\t\n",
      " 13) [229  80  59 288]: 0.88966\t\t 14) [233  25  78 254]: 0.88138\t\t\n",
      " 15) [212  69  80 288]: 0.86897\t\t 16) [230  52  80 280]: 0.85241\t\t\n",
      " 17) [229  57  69 293]: 0.85103\t\t 18) [230  49  78 274]: 0.81655\t\t\n",
      " 19) [246  33  82 248]: 0.81517\t\t 20) [229  78  33 288]: 0.79862\t\t\n",
      "- Average score: 0.88710\n",
      "\n",
      "- Evolving the hosts\n",
      "  - Removing half of the weaker hosts\n",
      "  - Crossovering top 2 hosts\n",
      "    [229  33  78 288] & [229  59  80 288] >> [0, 3] & [3, 0] >> [288  33  78 229] & [288  59  80 229]\n",
      "  - Mutating remaining top hosts\n",
      "    [229  41  72 260] >> [229  34  59 278]\n",
      "    [246  36  88 274] >> [233  35  74 274]\n",
      "    [229  59  80 288] >> [227  59  69 271]\n",
      "    [229  41  72 260] >> [239  38  73 247]\n",
      "    [229  41  72 275] >> [211  59  72 275]\n",
      "    [229  41  72 260] >> [219  56  87 260]\n",
      "    [196  55 134 185] >> [206  55 127 200]\n",
      "    [243  33  78 260] >> [243  27  87 275]\n",
      "  - Adding hosts\n",
      "    [288,33,78,229], [288,59,80,229], [229,34,59,278], [233,35,74,274], [227,59,69,271], [239,38,73,247], [211,59,72,275], [219,56,87,260], [206,55,127,200], [243,27,87,275]\n",
      "\n",
      "# Generation 116\n"
     ]
    },
    {
     "data": {
      "text/plain": [
       "@ Training progress: 100.0%"
      ]
     },
     "metadata": {},
     "output_type": "display_data"
    },
    {
     "name": "stdout",
     "output_type": "stream",
     "text": [
      "Parameters saved at Log 05.08.2019 16.17.txt!\n",
      "\n",
      "# All hosts\n",
      "  1) [229  33  78 288]: 0.92138\t\t  2) [229  59  80 288]: 0.92000\t\t\n",
      "  3) [231  33  78 260]: 0.91862\t\t  4) [230  49  78 269]: 0.91586\t\t\n",
      "  5) [243  33  78 260]: 0.91586\t\t  6) [231  41  89 288]: 0.91586\t\t\n",
      "  7) [229  41  72 260]: 0.91448\t\t  8) [229  41  72 275]: 0.91448\t\t\n",
      "  9) [196  55 134 185]: 0.91310\t\t 10) [246  36  88 274]: 0.91310\t\t\n",
      " 11) [227  59  69 271]: 0.88000\t\t 12) [239  38  73 247]: 0.86759\t\t\n",
      " 13) [243  27  87 275]: 0.85517\t\t 14) [206  55 127 200]: 0.85379\t\t\n",
      " 15) [233  35  74 274]: 0.83724\t\t 16) [219  56  87 260]: 0.78897\t\t\n",
      " 17) [288  59  80 229]: 0.78069\t\t 18) [211  59  72 275]: 0.76828\t\t\n",
      " 19) [288  33  78 229]: 0.74207\t\t 20) [229  34  59 278]: 0.65517\t\t\n",
      "- Average score: 0.85959\n",
      "\n",
      "- Evolving the hosts\n",
      "  - Removing half of the weaker hosts\n",
      "  - Crossovering top 2 hosts\n",
      "    [229  33  78 288] & [229  59  80 288] >> [0, 2, 3] & [0, 2, 3] >> [229  33  80 288] & [229  59  78 288]\n",
      "  - Mutating remaining top hosts\n",
      "    [229  33  78 288] >> [229  37  78 287]\n",
      "    [231  41  89 288] >> [234  39 107 288]\n",
      "    [229  59  80 288] >> [226  59  81 273]\n",
      "    [229  41  72 275] >> [229  41  72 266]\n",
      "    [229  33  78 288] >> [219  33  68 296]\n",
      "    [231  41  89 288] >> [231  31 101 288]\n",
      "    [231  41  89 288] >> [236  52  87 290]\n",
      "    [229  59  80 288] >> [219  75  96 288]\n",
      "  - Adding hosts\n",
      "    [229,33,80,288], [229,59,78,288], [229,37,78,287], [234,39,107,288], [226,59,81,273], [229,41,72,266], [219,33,68,296], [231,31,101,288], [236,52,87,290], [219,75,96,288]\n",
      "\n",
      "# Generation 117\n"
     ]
    },
    {
     "data": {
      "text/plain": [
       "@ Training progress: 100.0%"
      ]
     },
     "metadata": {},
     "output_type": "display_data"
    },
    {
     "name": "stdout",
     "output_type": "stream",
     "text": [
      "Parameters saved at Log 05.08.2019 16.17.txt!\n",
      "\n",
      "# All hosts\n",
      "  1) [229  33  78 288]: 0.92138\t\t  2) [229  59  80 288]: 0.92000\t\t\n",
      "  3) [231  33  78 260]: 0.91862\t\t  4) [230  49  78 269]: 0.91586\t\t\n",
      "  5) [243  33  78 260]: 0.91586\t\t  6) [231  41  89 288]: 0.91586\t\t\n",
      "  7) [229  41  72 260]: 0.91448\t\t  8) [229  41  72 275]: 0.91448\t\t\n",
      "  9) [196  55 134 185]: 0.91310\t\t 10) [246  36  88 274]: 0.91310\t\t\n",
      " 11) [219  33  68 296]: 0.90207\t\t 12) [219  75  96 288]: 0.89931\t\t\n",
      " 13) [236  52  87 290]: 0.89931\t\t 14) [229  41  72 266]: 0.89241\t\t\n",
      " 15) [226  59  81 273]: 0.83586\t\t 16) [229  59  78 288]: 0.81793\t\t\n",
      " 17) [234  39 107 288]: 0.79448\t\t 18) [229  33  80 288]: 0.76966\t\t\n",
      " 19) [229  37  78 287]: 0.76000\t\t 20) [231  31 101 288]: 0.68138\t\t\n",
      "- Average score: 0.87076\n",
      "\n",
      "- Evolving the hosts\n",
      "  - Removing half of the weaker hosts\n",
      "  - Crossovering top 2 hosts\n",
      "    [229  33  78 288] & [229  59  80 288] >> [0, 3] & [3, 0] >> [288  33  78 229] & [288  59  80 229]\n",
      "  - Mutating remaining top hosts\n",
      "    [229  59  80 288] >> [229  70  81 299]\n",
      "    [196  55 134 185] >> [180  37 117 185]\n",
      "    [229  33  78 288] >> [229  28  63 289]\n",
      "    [229  41  72 260] >> [229  41  73 272]\n",
      "    [196  55 134 185] >> [212  64 143 185]\n",
      "    [231  33  78 260] >> [241  44  79 267]\n",
      "    [231  41  89 288] >> [223  55  89 290]\n",
      "    [230  49  78 269] >> [230  59  91 279]\n",
      "  - Adding hosts\n",
      "    [288,33,78,229], [288,59,80,229], [229,70,81,299], [180,37,117,185], [229,28,63,289], [229,41,73,272], [212,64,143,185], [241,44,79,267], [223,55,89,290], [230,59,91,279]\n",
      "\n",
      "# Generation 118\n"
     ]
    },
    {
     "data": {
      "text/plain": [
       "@ Training progress: 100.0%"
      ]
     },
     "metadata": {},
     "output_type": "display_data"
    },
    {
     "name": "stdout",
     "output_type": "stream",
     "text": [
      "Parameters saved at Log 05.08.2019 16.17.txt!\n",
      "\n",
      "# All hosts\n",
      "  1) [229  33  78 288]: 0.92138\t\t  2) [229  59  80 288]: 0.92000\t\t\n",
      "  3) [231  33  78 260]: 0.91862\t\t  4) [230  49  78 269]: 0.91586\t\t\n",
      "  5) [243  33  78 260]: 0.91586\t\t  6) [231  41  89 288]: 0.91586\t\t\n",
      "  7) [229  41  72 260]: 0.91448\t\t  8) [229  41  72 275]: 0.91448\t\t\n",
      "  9) [196  55 134 185]: 0.91310\t\t 10) [246  36  88 274]: 0.91310\t\t\n",
      " 11) [212  64 143 185]: 0.90759\t\t 12) [241  44  79 267]: 0.90207\t\t\n",
      " 13) [288  33  78 229]: 0.87310\t\t 14) [223  55  89 290]: 0.86483\t\t\n",
      " 15) [229  70  81 299]: 0.85517\t\t 16) [229  41  73 272]: 0.84000\t\t\n",
      " 17) [230  59  91 279]: 0.83862\t\t 18) [229  28  63 289]: 0.80828\t\t\n",
      " 19) [180  37 117 185]: 0.74207\t\t 20) [288  59  80 229]: 0.68828\t\t\n",
      "- Average score: 0.87414\n",
      "\n",
      "- Evolving the hosts\n",
      "  - Removing half of the weaker hosts\n",
      "  - Crossovering top 2 hosts\n",
      "    [229  33  78 288] & [229  59  80 288] >> [0, 1] & [1, 0] >> [ 59 229  78 288] & [ 33 229  80 288]\n",
      "  - Mutating remaining top hosts\n",
      "    [231  33  78 260] >> [237  33  78 270]\n",
      "    [229  33  78 288] >> [229  26  73 301]\n",
      "    [229  59  80 288] >> [233  73  85 296]\n",
      "    [243  33  78 260] >> [243  45  92 250]\n",
      "    [229  59  80 288] >> [233  59  91 270]\n",
      "    [246  36  88 274] >> [229  28  83 277]\n",
      "    [229  33  78 288] >> [216  15  78 288]\n",
      "    [196  55 134 185] >> [184  48 141 175]\n",
      "  - Adding hosts\n",
      "    [59,229,78,288], [33,229,80,288], [237,33,78,270], [229,26,73,301], [233,73,85,296], [243,45,92,250], [233,59,91,270], [229,28,83,277], [216,15,78,288], [184,48,141,175]\n",
      "\n",
      "# Generation 119\n"
     ]
    },
    {
     "data": {
      "text/plain": [
       "@ Training progress: 100.0%"
      ]
     },
     "metadata": {},
     "output_type": "display_data"
    },
    {
     "name": "stdout",
     "output_type": "stream",
     "text": [
      "Parameters saved at Log 05.08.2019 16.17.txt!\n",
      "\n",
      "# All hosts\n",
      "  1) [229  33  78 288]: 0.92138\t\t  2) [229  59  80 288]: 0.92000\t\t\n",
      "  3) [231  33  78 260]: 0.91862\t\t  4) [230  49  78 269]: 0.91586\t\t\n",
      "  5) [243  33  78 260]: 0.91586\t\t  6) [231  41  89 288]: 0.91586\t\t\n",
      "  7) [229  41  72 260]: 0.91448\t\t  8) [229  41  72 275]: 0.91448\t\t\n",
      "  9) [196  55 134 185]: 0.91310\t\t 10) [246  36  88 274]: 0.91310\t\t\n",
      " 11) [229  26  73 301]: 0.88690\t\t 12) [233  73  85 296]: 0.87724\t\t\n",
      " 13) [184  48 141 175]: 0.86207\t\t 14) [229  28  83 277]: 0.84138\t\t\n",
      " 15) [ 59 229  78 288]: 0.83034\t\t 16) [237  33  78 270]: 0.80966\t\t\n",
      " 17) [ 33 229  80 288]: 0.80690\t\t 18) [243  45  92 250]: 0.80276\t\t\n",
      " 19) [216  15  78 288]: 0.76000\t\t 20) [233  59  91 270]: 0.74897\t\t\n",
      "- Average score: 0.86945\n",
      "\n",
      "- Evolving the hosts\n",
      "  - Removing half of the weaker hosts\n",
      "  - Crossovering top 2 hosts\n",
      "    [229  33  78 288] & [229  59  80 288] >> [0, 1, 2] & [0, 1, 2] >> [229  59  80 288] & [229  33  78 288]\n",
      "  - Mutating remaining top hosts\n",
      "    [231  41  89 288] >> [216  41 101 290]\n",
      "    [229  59  80 288] >> [229  64  80 293]\n",
      "    [229  59  80 288] >> [229  59  84 284]\n",
      "    [231  33  78 260] >> [235  33  78 269]\n",
      "    [231  33  78 260] >> [231  30  68 258]\n",
      "    [229  33  78 288] >> [235  33  82 288]\n",
      "    [196  55 134 185] >> [196  55 120 185]\n",
      "    [229  59  80 288] >> [229  75  80 303]\n",
      "  - Adding hosts\n",
      "    [229,59,80,288], [229,33,78,288], [216,41,101,290], [229,64,80,293], [229,59,84,284], [235,33,78,269], [231,30,68,258], [235,33,82,288], [196,55,120,185], [229,75,80,303]\n",
      "\n",
      "# Generation 120\n"
     ]
    },
    {
     "data": {
      "text/plain": [
       "@ Training progress: 100.0%"
      ]
     },
     "metadata": {},
     "output_type": "display_data"
    },
    {
     "name": "stdout",
     "output_type": "stream",
     "text": [
      "Parameters saved at Log 05.08.2019 16.17.txt!\n",
      "\n",
      "# All hosts\n",
      "  1) [229  33  78 288]: 0.92138\t\t  2) [229  59  80 288]: 0.92000\t\t\n",
      "  3) [231  33  78 260]: 0.91862\t\t  4) [230  49  78 269]: 0.91586\t\t\n",
      "  5) [243  33  78 260]: 0.91586\t\t  6) [231  41  89 288]: 0.91586\t\t\n",
      "  7) [229  41  72 260]: 0.91448\t\t  8) [229  41  72 275]: 0.91448\t\t\n",
      "  9) [196  55 134 185]: 0.91310\t\t 10) [246  36  88 274]: 0.91310\t\t\n",
      " 11) [229  75  80 303]: 0.89793\t\t 12) [235  33  82 288]: 0.89793\t\t\n",
      " 13) [216  41 101 290]: 0.87172\t\t 14) [196  55 120 185]: 0.86345\t\t\n",
      " 15) [229  33  78 288]: 0.85517\t\t 16) [229  59  80 288]: 0.84000\t\t\n",
      " 17) [229  64  80 293]: 0.81103\t\t 18) [235  33  78 269]: 0.79310\t\t\n",
      " 19) [229  59  84 284]: 0.74069\t\t 20) [231  30  68 258]: 0.73655\t\t\n",
      "- Average score: 0.87352\n",
      "\n",
      "- Evolving the hosts\n",
      "  - Removing half of the weaker hosts\n",
      "  - Crossovering top 2 hosts\n",
      "    [229  33  78 288] & [229  59  80 288] >> [2, 3] & [2, 3] >> [229  33  80 288] & [229  59  78 288]\n",
      "  - Mutating remaining top hosts\n",
      "    [231  41  89 288] >> [231  31  90 289]\n",
      "    [246  36  88 274] >> [257  36 102 290]\n",
      "    [231  41  89 288] >> [222  35  90 283]\n",
      "    [243  33  78 260] >> [240  33  61 268]\n",
      "    [229  41  72 275] >> [237  34  72 275]\n",
      "    [196  55 134 185] >> [196  48 134 202]\n",
      "    [230  49  78 269] >> [230  49  60 264]\n",
      "    [229  41  72 260] >> [229  40  72 258]\n",
      "  - Adding hosts\n",
      "    [229,33,80,288], [229,59,78,288], [231,31,90,289], [257,36,102,290], [222,35,90,283], [240,33,61,268], [237,34,72,275], [196,48,134,202], [230,49,60,264], [229,40,72,258]\n",
      "\n",
      "# Generation 121\n"
     ]
    },
    {
     "data": {
      "text/plain": [
       "@ Training progress: 100.0%"
      ]
     },
     "metadata": {},
     "output_type": "display_data"
    },
    {
     "name": "stdout",
     "output_type": "stream",
     "text": [
      "Parameters saved at Log 05.08.2019 16.17.txt!\n",
      "\n",
      "# All hosts\n",
      "  1) [229  33  78 288]: 0.92138\t\t  2) [229  59  80 288]: 0.92000\t\t\n",
      "  3) [231  33  78 260]: 0.91862\t\t  4) [230  49  78 269]: 0.91586\t\t\n",
      "  5) [243  33  78 260]: 0.91586\t\t  6) [231  41  89 288]: 0.91586\t\t\n",
      "  7) [229  41  72 260]: 0.91448\t\t  8) [229  41  72 275]: 0.91448\t\t\n",
      "  9) [196  55 134 185]: 0.91310\t\t 10) [246  36  88 274]: 0.91310\t\t\n",
      " 11) [240  33  61 268]: 0.90069\t\t 12) [229  59  78 288]: 0.89793\t\t\n",
      " 13) [257  36 102 290]: 0.87724\t\t 14) [231  31  90 289]: 0.86759\t\t\n",
      " 15) [222  35  90 283]: 0.86207\t\t 16) [196  48 134 202]: 0.85517\t\t\n",
      " 17) [229  40  72 258]: 0.84690\t\t 18) [229  33  80 288]: 0.83034\t\t\n",
      " 19) [237  34  72 275]: 0.79862\t\t 20) [230  49  60 264]: 0.78069\t\t\n",
      "- Average score: 0.88400\n",
      "\n",
      "- Evolving the hosts\n",
      "  - Removing half of the weaker hosts\n",
      "  - Crossovering top 2 hosts\n",
      "    [229  33  78 288] & [229  59  80 288] >> [0, 2, 3] & [0, 3, 2] >> [229  33 288  80] & [229  59 288  78]\n",
      "  - Mutating remaining top hosts\n",
      "    [229  41  72 260] >> [245  25  77 275]\n",
      "    [229  33  78 288] >> [238  21  89 302]\n",
      "    [229  41  72 260] >> [224  57  80 252]\n",
      "    [229  41  72 275] >> [229  41  72 275]\n",
      "    [231  33  78 260] >> [231  34  81 251]\n",
      "    [230  49  78 269] >> [230  67  78 269]\n",
      "    [196  55 134 185] >> [195  72 145 174]\n",
      "    [246  36  88 274] >> [246  49  88 281]\n",
      "  - Adding hosts\n",
      "    [229,33,288,80], [229,59,288,78], [245,25,77,275], [238,21,89,302], [224,57,80,252], [229,41,72,275], [231,34,81,251], [230,67,78,269], [195,72,145,174], [246,49,88,281]\n",
      "\n",
      "# Generation 122\n"
     ]
    },
    {
     "data": {
      "text/plain": [
       "@ Training progress: 100.0%"
      ]
     },
     "metadata": {},
     "output_type": "display_data"
    },
    {
     "name": "stdout",
     "output_type": "stream",
     "text": [
      "Parameters saved at Log 05.08.2019 16.17.txt!\n",
      "\n",
      "# All hosts\n",
      "  1) [229  33  78 288]: 0.92138\t\t  2) [229  59  80 288]: 0.92000\t\t\n",
      "  3) [231  33  78 260]: 0.91862\t\t  4) [230  49  78 269]: 0.91586\t\t\n",
      "  5) [243  33  78 260]: 0.91586\t\t  6) [231  41  89 288]: 0.91586\t\t\n",
      "  7) [229  41  72 260]: 0.91448\t\t  8) [229  41  72 275]: 0.91448\t\t\n",
      "  9) [196  55 134 185]: 0.91310\t\t 10) [246  36  88 274]: 0.91310\t\t\n",
      " 11) [245  25  77 275]: 0.88828\t\t 12) [195  72 145 174]: 0.88690\t\t\n",
      " 13) [224  57  80 252]: 0.88552\t\t 14) [229  41  72 275]: 0.87448\t\t\n",
      " 15) [231  34  81 251]: 0.80966\t\t 16) [230  67  78 269]: 0.78207\t\t\n",
      " 17) [246  49  88 281]: 0.77103\t\t 18) [229  33 288  80]: 0.76552\t\t\n",
      " 19) [238  21  89 302]: 0.76414\t\t 20) [229  59 288  78]: 0.73793\t\t\n",
      "- Average score: 0.86641\n",
      "\n",
      "- Evolving the hosts\n",
      "  - Removing half of the weaker hosts\n",
      "  - Crossovering top 2 hosts\n",
      "    [229  33  78 288] & [229  59  80 288] >> [3] & [3] >> [229  33  78 288] & [229  59  80 288]\n",
      "  - Mutating remaining top hosts\n",
      "    [229  41  72 260] >> [229  41  61 252]\n",
      "    [230  49  78 269] >> [230  38  84 262]\n",
      "    [231  33  78 260] >> [231  20  75 271]\n",
      "    [246  36  88 274] >> [261  47  84 274]\n",
      "    [229  41  72 275] >> [232  41  69 264]\n",
      "    [229  41  72 275] >> [236  29  73 275]\n",
      "    [243  33  78 260] >> [243  40  79 242]\n",
      "    [230  49  78 269] >> [242  49  78 272]\n",
      "  - Adding hosts\n",
      "    [229,33,78,288], [229,59,80,288], [229,41,61,252], [230,38,84,262], [231,20,75,271], [261,47,84,274], [232,41,69,264], [236,29,73,275], [243,40,79,242], [242,49,78,272]\n",
      "\n",
      "# Generation 123\n"
     ]
    },
    {
     "data": {
      "text/plain": [
       "@ Training progress: 100.0%"
      ]
     },
     "metadata": {},
     "output_type": "display_data"
    },
    {
     "name": "stdout",
     "output_type": "stream",
     "text": [
      "Parameters saved at Log 05.08.2019 16.17.txt!\n",
      "\n",
      "# All hosts\n",
      "  1) [229  33  78 288]: 0.92138\t\t  2) [229  59  80 288]: 0.92000\t\t\n",
      "  3) [231  33  78 260]: 0.91862\t\t  4) [230  49  78 269]: 0.91586\t\t\n",
      "  5) [243  33  78 260]: 0.91586\t\t  6) [231  41  89 288]: 0.91586\t\t\n",
      "  7) [229  41  72 260]: 0.91448\t\t  8) [229  41  72 275]: 0.91448\t\t\n",
      "  9) [196  55 134 185]: 0.91310\t\t 10) [246  36  88 274]: 0.91310\t\t\n",
      " 11) [243  40  79 242]: 0.88552\t\t 12) [261  47  84 274]: 0.87586\t\t\n",
      " 13) [229  59  80 288]: 0.87034\t\t 14) [242  49  78 272]: 0.87034\t\t\n",
      " 15) [232  41  69 264]: 0.86759\t\t 16) [229  33  78 288]: 0.84690\t\t\n",
      " 17) [229  41  61 252]: 0.84552\t\t 18) [236  29  73 275]: 0.83310\t\t\n",
      " 19) [230  38  84 262]: 0.79034\t\t 20) [231  20  75 271]: 0.72138\t\t\n",
      "- Average score: 0.87848\n",
      "\n",
      "- Evolving the hosts\n",
      "  - Removing half of the weaker hosts\n",
      "  - Crossovering top 2 hosts\n",
      "    [229  33  78 288] & [229  59  80 288] >> [1, 2, 3] & [1, 2, 3] >> [229  59  80 288] & [229  33  78 288]\n",
      "  - Mutating remaining top hosts\n",
      "    [231  33  78 260] >> [231  47  92 247]\n",
      "    [246  36  88 274] >> [246  36  88 274]\n",
      "    [229  59  80 288] >> [229  62  70 295]\n",
      "    [229  41  72 260] >> [237  45  70 260]\n",
      "    [243  33  78 260] >> [228  33  78 260]\n",
      "    [230  49  78 269] >> [247  56  68 281]\n",
      "    [243  33  78 260] >> [225  49  72 255]\n",
      "    [196  55 134 185] >> [196  50 127 193]\n",
      "  - Adding hosts\n",
      "    [229,59,80,288], [229,33,78,288], [231,47,92,247], [246,36,88,274], [229,62,70,295], [237,45,70,260], [228,33,78,260], [247,56,68,281], [225,49,72,255], [196,50,127,193]\n",
      "\n",
      "# Generation 124\n"
     ]
    },
    {
     "data": {
      "text/plain": [
       "@ Training progress: 100.0%"
      ]
     },
     "metadata": {},
     "output_type": "display_data"
    },
    {
     "name": "stdout",
     "output_type": "stream",
     "text": [
      "Parameters saved at Log 05.08.2019 16.17.txt!\n",
      "\n",
      "# All hosts\n",
      "  1) [229  33  78 288]: 0.92138\t\t  2) [229  59  80 288]: 0.92000\t\t\n",
      "  3) [231  33  78 260]: 0.91862\t\t  4) [230  49  78 269]: 0.91586\t\t\n",
      "  5) [243  33  78 260]: 0.91586\t\t  6) [231  41  89 288]: 0.91586\t\t\n",
      "  7) [229  41  72 260]: 0.91448\t\t  8) [229  41  72 275]: 0.91448\t\t\n",
      "  9) [196  55 134 185]: 0.91310\t\t 10) [246  36  88 274]: 0.91310\t\t\n",
      " 11) [246  36  88 274]: 0.90483\t\t 12) [237  45  70 260]: 0.88138\t\t\n",
      " 13) [229  59  80 288]: 0.85517\t\t 14) [247  56  68 281]: 0.84552\t\t\n",
      " 15) [229  62  70 295]: 0.80138\t\t 16) [231  47  92 247]: 0.75862\t\t\n",
      " 17) [196  50 127 193]: 0.75310\t\t 18) [228  33  78 260]: 0.74621\t\t\n",
      " 19) [225  49  72 255]: 0.71862\t\t 20) [229  33  78 288]: 0.70621\t\t\n",
      "- Average score: 0.85669\n",
      "\n",
      "- Evolving the hosts\n",
      "  - Removing half of the weaker hosts\n",
      "  - Crossovering top 2 hosts\n",
      "    [229  33  78 288] & [229  59  80 288] >> [0, 1, 3] & [3, 1, 0] >> [288  59  78 229] & [288  33  80 229]\n",
      "  - Mutating remaining top hosts\n",
      "    [231  33  78 260] >> [221  30  83 255]\n",
      "    [229  41  72 260] >> [229  45  70 275]\n",
      "    [231  41  89 288] >> [230  41  91 280]\n",
      "    [229  41  72 260] >> [226  41  68 256]\n",
      "    [243  33  78 260] >> [243  33  78 256]\n",
      "    [229  41  72 275] >> [224  46  88 275]\n",
      "    [243  33  78 260] >> [256  15  78 253]\n",
      "    [229  41  72 260] >> [215  52  60 260]\n",
      "  - Adding hosts\n",
      "    [288,59,78,229], [288,33,80,229], [221,30,83,255], [229,45,70,275], [230,41,91,280], [226,41,68,256], [243,33,78,256], [224,46,88,275], [256,15,78,253], [215,52,60,260]\n",
      "\n",
      "# Generation 125\n"
     ]
    },
    {
     "data": {
      "text/plain": [
       "@ Training progress: 100.0%"
      ]
     },
     "metadata": {},
     "output_type": "display_data"
    },
    {
     "name": "stdout",
     "output_type": "stream",
     "text": [
      "Parameters saved at Log 05.08.2019 16.17.txt!\n",
      "\n",
      "# All hosts\n",
      "  1) [229  33  78 288]: 0.92138\t\t  2) [229  59  80 288]: 0.92000\t\t\n",
      "  3) [231  33  78 260]: 0.91862\t\t  4) [230  49  78 269]: 0.91586\t\t\n",
      "  5) [243  33  78 260]: 0.91586\t\t  6) [231  41  89 288]: 0.91586\t\t\n",
      "  7) [229  41  72 260]: 0.91448\t\t  8) [229  41  72 275]: 0.91448\t\t\n",
      "  9) [196  55 134 185]: 0.91310\t\t 10) [246  36  88 274]: 0.91310\t\t\n",
      " 11) [256  15  78 253]: 0.88138\t\t 12) [288  59  78 229]: 0.86483\t\t\n",
      " 13) [221  30  83 255]: 0.84138\t\t 14) [224  46  88 275]: 0.83448\t\t\n",
      " 15) [230  41  91 280]: 0.83448\t\t 16) [288  33  80 229]: 0.82207\t\t\n",
      " 17) [215  52  60 260]: 0.80276\t\t 18) [226  41  68 256]: 0.79724\t\t\n",
      " 19) [229  45  70 275]: 0.79448\t\t 20) [243  33  78 256]: 0.76966\t\t\n",
      "- Average score: 0.87028\n",
      "\n",
      "- Evolving the hosts\n",
      "  - Removing half of the weaker hosts\n",
      "  - Crossovering top 2 hosts\n",
      "    [229  33  78 288] & [229  59  80 288] >> [0, 1, 2] & [0, 1, 2] >> [229  59  80 288] & [229  33  78 288]\n",
      "  - Mutating remaining top hosts\n",
      "    [243  33  78 260] >> [229  33  89 261]\n",
      "    [196  55 134 185] >> [196  55 132 172]\n",
      "    [230  49  78 269] >> [248  41  78 279]\n",
      "    [243  33  78 260] >> [258  37  78 260]\n",
      "    [243  33  78 260] >> [246  33  78 260]\n",
      "    [229  41  72 275] >> [222  29  61 275]\n",
      "    [230  49  78 269] >> [242  65  69 264]\n",
      "    [229  41  72 275] >> [239  30  72 269]\n",
      "  - Adding hosts\n",
      "    [229,59,80,288], [229,33,78,288], [229,33,89,261], [196,55,132,172], [248,41,78,279], [258,37,78,260], [246,33,78,260], [222,29,61,275], [242,65,69,264], [239,30,72,269]\n",
      "\n",
      "# Generation 126\n"
     ]
    },
    {
     "data": {
      "text/plain": [
       "@ Training progress: 100.0%"
      ]
     },
     "metadata": {},
     "output_type": "display_data"
    },
    {
     "name": "stdout",
     "output_type": "stream",
     "text": [
      "Parameters saved at Log 05.08.2019 16.17.txt!\n",
      "\n",
      "# All hosts\n",
      "  1) [229  33  78 288]: 0.92138\t\t  2) [229  59  80 288]: 0.92000\t\t\n",
      "  3) [231  33  78 260]: 0.91862\t\t  4) [230  49  78 269]: 0.91586\t\t\n",
      "  5) [243  33  78 260]: 0.91586\t\t  6) [231  41  89 288]: 0.91586\t\t\n",
      "  7) [229  41  72 260]: 0.91448\t\t  8) [229  41  72 275]: 0.91448\t\t\n",
      "  9) [196  55 134 185]: 0.91310\t\t 10) [246  36  88 274]: 0.91310\t\t\n",
      " 11) [248  41  78 279]: 0.88552\t\t 12) [229  59  80 288]: 0.88276\t\t\n",
      " 13) [229  33  89 261]: 0.87034\t\t 14) [246  33  78 260]: 0.86069\t\t\n",
      " 15) [229  33  78 288]: 0.85793\t\t 16) [242  65  69 264]: 0.85379\t\t\n",
      " 17) [258  37  78 260]: 0.84966\t\t 18) [196  55 132 172]: 0.84552\t\t\n",
      " 19) [239  30  72 269]: 0.75586\t\t 20) [222  29  61 275]: 0.74759\t\t\n",
      "- Average score: 0.87862\n",
      "\n",
      "- Evolving the hosts\n",
      "  - Removing half of the weaker hosts\n",
      "  - Crossovering top 2 hosts\n",
      "    [229  33  78 288] & [229  59  80 288] >> [0, 2, 3] & [0, 3, 2] >> [229  33 288  80] & [229  59 288  78]\n",
      "  - Mutating remaining top hosts\n",
      "    [230  49  78 269] >> [248  49  94 269]\n",
      "    [229  33  78 288] >> [221  33  78 288]\n",
      "    [246  36  88 274] >> [246  36  79 274]\n",
      "    [229  41  72 275] >> [212  56  79 263]\n",
      "    [230  49  78 269] >> [230  62  68 252]\n",
      "    [229  41  72 275] >> [239  57  79 286]\n",
      "    [196  55 134 185] >> [181  55 138 185]\n",
      "    [230  49  78 269] >> [228  36  78 273]\n",
      "  - Adding hosts\n",
      "    [229,33,288,80], [229,59,288,78], [248,49,94,269], [221,33,78,288], [246,36,79,274], [212,56,79,263], [230,62,68,252], [239,57,79,286], [181,55,138,185], [228,36,78,273]\n",
      "\n",
      "# Generation 127\n"
     ]
    },
    {
     "data": {
      "text/plain": [
       "@ Training progress: 100.0%"
      ]
     },
     "metadata": {},
     "output_type": "display_data"
    },
    {
     "name": "stdout",
     "output_type": "stream",
     "text": [
      "Parameters saved at Log 05.08.2019 16.17.txt!\n",
      "\n",
      "# All hosts\n",
      "  1) [229  33  78 288]: 0.92138\t\t  2) [229  59  80 288]: 0.92000\t\t\n",
      "  3) [231  33  78 260]: 0.91862\t\t  4) [230  49  78 269]: 0.91586\t\t\n",
      "  5) [243  33  78 260]: 0.91586\t\t  6) [231  41  89 288]: 0.91586\t\t\n",
      "  7) [229  41  72 260]: 0.91448\t\t  8) [229  41  72 275]: 0.91448\t\t\n",
      "  9) [196  55 134 185]: 0.91310\t\t 10) [246  36  88 274]: 0.91310\t\t\n",
      " 11) [230  62  68 252]: 0.90621\t\t 12) [228  36  78 273]: 0.89517\t\t\n",
      " 13) [212  56  79 263]: 0.85793\t\t 14) [221  33  78 288]: 0.84000\t\t\n",
      " 15) [239  57  79 286]: 0.83448\t\t 16) [229  59 288  78]: 0.83310\t\t\n",
      " 17) [181  55 138 185]: 0.82897\t\t 18) [246  36  79 274]: 0.80276\t\t\n",
      " 19) [229  33 288  80]: 0.77517\t\t 20) [248  49  94 269]: 0.77241\t\t\n",
      "- Average score: 0.87545\n",
      "\n",
      "- Evolving the hosts\n",
      "  - Removing half of the weaker hosts\n",
      "  - Crossovering top 2 hosts\n",
      "    [229  33  78 288] & [229  59  80 288] >> [0, 1, 3] & [0, 1, 3] >> [229  59  78 288] & [229  33  80 288]\n",
      "  - Mutating remaining top hosts\n",
      "    [229  41  72 275] >> [219  25  83 275]\n",
      "    [229  33  78 288] >> [218  51  78 288]\n",
      "    [229  41  72 260] >> [229  54  76 274]\n",
      "    [229  59  80 288] >> [229  59  80 293]\n",
      "    [229  59  80 288] >> [229  59  80 278]\n",
      "    [231  41  89 288] >> [228  41  75 293]\n",
      "    [229  41  72 275] >> [222  41  80 292]\n",
      "    [243  33  78 260] >> [243  44  87 257]\n",
      "  - Adding hosts\n",
      "    [229,59,78,288], [229,33,80,288], [219,25,83,275], [218,51,78,288], [229,54,76,274], [229,59,80,293], [229,59,80,278], [228,41,75,293], [222,41,80,292], [243,44,87,257]\n",
      "\n",
      "# Generation 128\n"
     ]
    },
    {
     "data": {
      "text/plain": [
       "@ Training progress: 100.0%"
      ]
     },
     "metadata": {},
     "output_type": "display_data"
    },
    {
     "name": "stdout",
     "output_type": "stream",
     "text": [
      "Parameters saved at Log 05.08.2019 16.17.txt!\n",
      "\n",
      "# All hosts\n",
      "  1) [229  33  78 288]: 0.92138\t\t  2) [229  59  80 288]: 0.92000\t\t\n",
      "  3) [231  33  78 260]: 0.91862\t\t  4) [230  49  78 269]: 0.91586\t\t\n",
      "  5) [243  33  78 260]: 0.91586\t\t  6) [231  41  89 288]: 0.91586\t\t\n",
      "  7) [229  41  72 260]: 0.91448\t\t  8) [229  41  72 275]: 0.91448\t\t\n",
      "  9) [196  55 134 185]: 0.91310\t\t 10) [246  36  88 274]: 0.91310\t\t\n",
      " 11) [229  59  78 288]: 0.86897\t\t 12) [218  51  78 288]: 0.86897\t\t\n",
      " 13) [222  41  80 292]: 0.86897\t\t 14) [229  33  80 288]: 0.85241\t\t\n",
      " 15) [219  25  83 275]: 0.84138\t\t 16) [243  44  87 257]: 0.83724\t\t\n",
      " 17) [228  41  75 293]: 0.82621\t\t 18) [229  59  80 293]: 0.76966\t\t\n",
      " 19) [229  59  80 278]: 0.76000\t\t 20) [229  54  76 274]: 0.75862\t\t\n",
      "- Average score: 0.87076\n",
      "\n",
      "- Evolving the hosts\n",
      "  - Removing half of the weaker hosts\n",
      "  - Crossovering top 2 hosts\n",
      "    [229  33  78 288] & [229  59  80 288] >> [1, 2, 3] & [3, 2, 1] >> [229 288  80  59] & [229 288  78  33]\n",
      "  - Mutating remaining top hosts\n",
      "    [196  55 134 185] >> [196  39 134 185]\n",
      "    [229  41  72 260] >> [229  49  83 260]\n",
      "    [246  36  88 274] >> [234  36  82 274]\n",
      "    [231  41  89 288] >> [230  41  89 288]\n",
      "    [196  55 134 185] >> [207  49 122 179]\n",
      "    [243  33  78 260] >> [245  37  78 260]\n",
      "    [229  41  72 260] >> [229  50  80 273]\n",
      "    [229  33  78 288] >> [224  30  83 288]\n",
      "  - Adding hosts\n",
      "    [229,288,80,59], [229,288,78,33], [196,39,134,185], [229,49,83,260], [234,36,82,274], [230,41,89,288], [207,49,122,179], [245,37,78,260], [229,50,80,273], [224,30,83,288]\n",
      "\n",
      "# Generation 129\n"
     ]
    },
    {
     "data": {
      "text/plain": [
       "@ Training progress: 100.0%"
      ]
     },
     "metadata": {},
     "output_type": "display_data"
    },
    {
     "name": "stdout",
     "output_type": "stream",
     "text": [
      "Parameters saved at Log 05.08.2019 16.17.txt!\n",
      "\n",
      "# All hosts\n",
      "  1) [229  33  78 288]: 0.92138\t\t  2) [229  59  80 288]: 0.92000\t\t\n",
      "  3) [231  33  78 260]: 0.91862\t\t  4) [230  49  78 269]: 0.91586\t\t\n",
      "  5) [243  33  78 260]: 0.91586\t\t  6) [231  41  89 288]: 0.91586\t\t\n",
      "  7) [229  41  72 260]: 0.91448\t\t  8) [229  41  72 275]: 0.91448\t\t\n",
      "  9) [196  55 134 185]: 0.91310\t\t 10) [246  36  88 274]: 0.91310\t\t\n",
      " 11) [230  41  89 288]: 0.88552\t\t 12) [229  50  80 273]: 0.87172\t\t\n",
      " 13) [229  49  83 260]: 0.86621\t\t 14) [229 288  80  59]: 0.81103\t\t\n",
      " 15) [207  49 122 179]: 0.79034\t\t 16) [196  39 134 185]: 0.76828\t\t\n",
      " 17) [229 288  78  33]: 0.73517\t\t 18) [234  36  82 274]: 0.70345\t\t\n",
      " 19) [245  37  78 260]: 0.70345\t\t 20) [224  30  83 288]: 0.61517\t\t\n",
      "- Average score: 0.84566\n",
      "\n",
      "- Evolving the hosts\n",
      "  - Removing half of the weaker hosts\n",
      "  - Crossovering top 2 hosts\n",
      "    [229  33  78 288] & [229  59  80 288] >> [0, 1, 2, 3] & [3, 1, 0, 2] >> [288  59 229  80] & [ 78  33 288 229]\n",
      "  - Mutating remaining top hosts\n",
      "    [196  55 134 185] >> [196  43 134 197]\n",
      "    [246  36  88 274] >> [263  18  93 274]\n",
      "    [243  33  78 260] >> [248  37  78 269]\n",
      "    [229  33  78 288] >> [244  33  78 271]\n",
      "    [231  41  89 288] >> [245  41  89 306]\n",
      "    [229  41  72 275] >> [237  50  72 275]\n",
      "    [230  49  78 269] >> [242  38  76 269]\n",
      "    [230  49  78 269] >> [219  62  82 269]\n",
      "  - Adding hosts\n",
      "    [288,59,229,80], [78,33,288,229], [196,43,134,197], [263,18,93,274], [248,37,78,269], [244,33,78,271], [245,41,89,306], [237,50,72,275], [242,38,76,269], [219,62,82,269]\n",
      "\n",
      "# Generation 130\n"
     ]
    },
    {
     "data": {
      "text/plain": [
       "@ Training progress: 100.0%"
      ]
     },
     "metadata": {},
     "output_type": "display_data"
    },
    {
     "name": "stdout",
     "output_type": "stream",
     "text": [
      "Parameters saved at Log 05.08.2019 16.17.txt!\n",
      "\n",
      "# All hosts\n",
      "  1) [229  33  78 288]: 0.92138\t\t  2) [229  59  80 288]: 0.92000\t\t\n",
      "  3) [231  33  78 260]: 0.91862\t\t  4) [230  49  78 269]: 0.91586\t\t\n",
      "  5) [243  33  78 260]: 0.91586\t\t  6) [231  41  89 288]: 0.91586\t\t\n",
      "  7) [229  41  72 260]: 0.91448\t\t  8) [229  41  72 275]: 0.91448\t\t\n",
      "  9) [196  55 134 185]: 0.91310\t\t 10) [246  36  88 274]: 0.91310\t\t\n",
      " 11) [263  18  93 274]: 0.90345\t\t 12) [219  62  82 269]: 0.90345\t\t\n",
      " 13) [ 78  33 288 229]: 0.90207\t\t 14) [242  38  76 269]: 0.89655\t\t\n",
      " 15) [237  50  72 275]: 0.88828\t\t 16) [288  59 229  80]: 0.82345\t\t\n",
      " 17) [196  43 134 197]: 0.80966\t\t 18) [244  33  78 271]: 0.77931\t\t\n",
      " 19) [245  41  89 306]: 0.76414\t\t 20) [248  37  78 269]: 0.76000\t\t\n",
      "- Average score: 0.87966\n",
      "\n",
      "- Evolving the hosts\n",
      "  - Removing half of the weaker hosts\n",
      "  - Crossovering top 2 hosts\n",
      "    [229  33  78 288] & [229  59  80 288] >> [0, 1, 2] & [2, 1, 0] >> [ 80  59 229 288] & [ 78  33 229 288]\n",
      "  - Mutating remaining top hosts\n",
      "    [229  33  78 288] >> [213  38  78 300]\n",
      "    [246  36  88 274] >> [247  36  88 274]\n",
      "    [231  33  78 260] >> [241  15  94 260]\n",
      "    [231  41  89 288] >> [224  41  90 276]\n",
      "    [230  49  78 269] >> [248  49  77 269]\n",
      "    [229  41  72 275] >> [229  41  75 257]\n",
      "    [231  33  78 260] >> [231  33  71 260]\n",
      "    [230  49  78 269] >> [230  49  78 276]\n",
      "  - Adding hosts\n",
      "    [80,59,229,288], [78,33,229,288], [213,38,78,300], [247,36,88,274], [241,15,94,260], [224,41,90,276], [248,49,77,269], [229,41,75,257], [231,33,71,260], [230,49,78,276]\n",
      "\n",
      "# Generation 131\n"
     ]
    },
    {
     "data": {
      "text/plain": [
       "@ Training progress: 100.0%"
      ]
     },
     "metadata": {},
     "output_type": "display_data"
    },
    {
     "name": "stdout",
     "output_type": "stream",
     "text": [
      "Parameters saved at Log 05.08.2019 16.17.txt!\n",
      "\n",
      "# All hosts\n",
      "  1) [229  33  78 288]: 0.92138\t\t  2) [229  59  80 288]: 0.92000\t\t\n",
      "  3) [231  33  78 260]: 0.91862\t\t  4) [230  49  78 269]: 0.91586\t\t\n",
      "  5) [243  33  78 260]: 0.91586\t\t  6) [231  41  89 288]: 0.91586\t\t\n",
      "  7) [229  41  72 260]: 0.91448\t\t  8) [229  41  72 275]: 0.91448\t\t\n",
      "  9) [196  55 134 185]: 0.91310\t\t 10) [246  36  88 274]: 0.91310\t\t\n",
      " 11) [213  38  78 300]: 0.90207\t\t 12) [ 78  33 229 288]: 0.89793\t\t\n",
      " 13) [241  15  94 260]: 0.89241\t\t 14) [229  41  75 257]: 0.87448\t\t\n",
      " 15) [224  41  90 276]: 0.84000\t\t 16) [248  49  77 269]: 0.80276\t\t\n",
      " 17) [ 80  59 229 288]: 0.78483\t\t 18) [247  36  88 274]: 0.78345\t\t\n",
      " 19) [230  49  78 276]: 0.75172\t\t 20) [231  33  71 260]: 0.73793\t\t\n",
      "- Average score: 0.87152\n",
      "\n",
      "- Evolving the hosts\n",
      "  - Removing half of the weaker hosts\n",
      "  - Crossovering top 2 hosts\n",
      "    [229  33  78 288] & [229  59  80 288] >> [0, 3] & [0, 3] >> [229  33  78 288] & [229  59  80 288]\n",
      "  - Mutating remaining top hosts\n",
      "    [229  59  80 288] >> [229  59  80 298]\n",
      "    [229  59  80 288] >> [237  59  84 274]\n",
      "    [243  33  78 260] >> [248  33  78 274]\n",
      "    [229  41  72 275] >> [242  53  63 274]\n",
      "    [246  36  88 274] >> [229  36  74 276]\n",
      "    [196  55 134 185] >> [196  55 134 175]\n",
      "    [243  33  78 260] >> [251  33  80 278]\n",
      "    [243  33  78 260] >> [234  51  78 275]\n",
      "  - Adding hosts\n",
      "    [229,33,78,288], [229,59,80,288], [229,59,80,298], [237,59,84,274], [248,33,78,274], [242,53,63,274], [229,36,74,276], [196,55,134,175], [251,33,80,278], [234,51,78,275]\n",
      "\n",
      "# Generation 132\n"
     ]
    },
    {
     "data": {
      "text/plain": [
       "@ Training progress: 100.0%"
      ]
     },
     "metadata": {},
     "output_type": "display_data"
    },
    {
     "name": "stdout",
     "output_type": "stream",
     "text": [
      "Parameters saved at Log 05.08.2019 16.17.txt!\n",
      "\n",
      "# All hosts\n",
      "  1) [229  33  78 288]: 0.92138\t\t  2) [229  59  80 288]: 0.92000\t\t\n",
      "  3) [231  33  78 260]: 0.91862\t\t  4) [230  49  78 269]: 0.91586\t\t\n",
      "  5) [243  33  78 260]: 0.91586\t\t  6) [231  41  89 288]: 0.91586\t\t\n",
      "  7) [229  41  72 260]: 0.91448\t\t  8) [229  41  72 275]: 0.91448\t\t\n",
      "  9) [196  55 134 185]: 0.91310\t\t 10) [246  36  88 274]: 0.91310\t\t\n",
      " 11) [251  33  80 278]: 0.89793\t\t 12) [229  33  78 288]: 0.88966\t\t\n",
      " 13) [229  59  80 288]: 0.87586\t\t 14) [248  33  78 274]: 0.86069\t\t\n",
      " 15) [229  59  80 298]: 0.85931\t\t 16) [242  53  63 274]: 0.85379\t\t\n",
      " 17) [196  55 134 175]: 0.84690\t\t 18) [237  59  84 274]: 0.83862\t\t\n",
      " 19) [229  36  74 276]: 0.83586\t\t 20) [234  51  78 275]: 0.83034\t\t\n",
      "- Average score: 0.88759\n",
      "\n",
      "- Evolving the hosts\n",
      "  - Removing half of the weaker hosts\n",
      "  - Crossovering top 2 hosts\n",
      "    [229  33  78 288] & [229  59  80 288] >> [0, 2, 3] & [2, 0, 3] >> [ 80  33 229 288] & [ 78  59 229 288]\n",
      "  - Mutating remaining top hosts\n",
      "    [243  33  78 260] >> [243  33  60 261]\n",
      "    [229  33  78 288] >> [220  48  78 286]\n",
      "    [229  33  78 288] >> [236  20  94 277]\n",
      "    [229  41  72 260] >> [221  59  86 260]\n",
      "    [229  41  72 275] >> [229  41  72 266]\n",
      "    [231  41  89 288] >> [224  40  98 288]\n",
      "    [229  41  72 260] >> [237  30  82 253]\n",
      "    [246  36  88 274] >> [263  20  91 273]\n",
      "  - Adding hosts\n",
      "    [80,33,229,288], [78,59,229,288], [243,33,60,261], [220,48,78,286], [236,20,94,277], [221,59,86,260], [229,41,72,266], [224,40,98,288], [237,30,82,253], [263,20,91,273]\n",
      "\n",
      "# Generation 133\n"
     ]
    },
    {
     "data": {
      "text/plain": [
       "@ Training progress: 100.0%"
      ]
     },
     "metadata": {},
     "output_type": "display_data"
    },
    {
     "name": "stdout",
     "output_type": "stream",
     "text": [
      "Parameters saved at Log 05.08.2019 16.17.txt!\n",
      "\n",
      "# All hosts\n",
      "  1) [229  33  78 288]: 0.92138\t\t  2) [229  59  80 288]: 0.92000\t\t\n",
      "  3) [231  33  78 260]: 0.91862\t\t  4) [230  49  78 269]: 0.91586\t\t\n",
      "  5) [243  33  78 260]: 0.91586\t\t  6) [231  41  89 288]: 0.91586\t\t\n",
      "  7) [229  41  72 260]: 0.91448\t\t  8) [229  41  72 275]: 0.91448\t\t\n",
      "  9) [196  55 134 185]: 0.91310\t\t 10) [246  36  88 274]: 0.91310\t\t\n",
      " 11) [221  59  86 260]: 0.90759\t\t 12) [243  33  60 261]: 0.85931\t\t\n",
      " 13) [220  48  78 286]: 0.85655\t\t 14) [236  20  94 277]: 0.84414\t\t\n",
      " 15) [229  41  72 266]: 0.82621\t\t 16) [263  20  91 273]: 0.82207\t\t\n",
      " 17) [ 80  33 229 288]: 0.80552\t\t 18) [ 78  59 229 288]: 0.79310\t\t\n",
      " 19) [224  40  98 288]: 0.77931\t\t 20) [237  30  82 253]: 0.71862\t\t\n",
      "- Average score: 0.86876\n",
      "\n",
      "- Evolving the hosts\n",
      "  - Removing half of the weaker hosts\n",
      "  - Crossovering top 2 hosts\n",
      "    [229  33  78 288] & [229  59  80 288] >> [0, 2, 3] & [0, 3, 2] >> [229  33 288  80] & [229  59 288  78]\n",
      "  - Mutating remaining top hosts\n",
      "    [229  41  72 260] >> [221  24  59 250]\n",
      "    [229  33  78 288] >> [217  45  60 303]\n",
      "    [231  41  89 288] >> [226  24  74 303]\n",
      "    [231  33  78 260] >> [238  41  60 244]\n",
      "    [231  33  78 260] >> [231  33  92 260]\n",
      "    [196  55 134 185] >> [186  46 141 200]\n",
      "    [229  41  72 275] >> [230  29  81 276]\n",
      "    [229  41  72 260] >> [224  41  54 260]\n",
      "  - Adding hosts\n",
      "    [229,33,288,80], [229,59,288,78], [221,24,59,250], [217,45,60,303], [226,24,74,303], [238,41,60,244], [231,33,92,260], [186,46,141,200], [230,29,81,276], [224,41,54,260]\n",
      "\n",
      "# Generation 134\n"
     ]
    },
    {
     "data": {
      "text/plain": [
       "@ Training progress: 100.0%"
      ]
     },
     "metadata": {},
     "output_type": "display_data"
    },
    {
     "name": "stdout",
     "output_type": "stream",
     "text": [
      "Parameters saved at Log 05.08.2019 16.17.txt!\n",
      "\n",
      "# All hosts\n",
      "  1) [229  33  78 288]: 0.92138\t\t  2) [229  59  80 288]: 0.92000\t\t\n",
      "  3) [231  33  78 260]: 0.91862\t\t  4) [230  49  78 269]: 0.91586\t\t\n",
      "  5) [243  33  78 260]: 0.91586\t\t  6) [231  41  89 288]: 0.91586\t\t\n",
      "  7) [229  41  72 260]: 0.91448\t\t  8) [229  41  72 275]: 0.91448\t\t\n",
      "  9) [196  55 134 185]: 0.91310\t\t 10) [246  36  88 274]: 0.91310\t\t\n",
      " 11) [229  33 288  80]: 0.89103\t\t 12) [231  33  92 260]: 0.87310\t\t\n",
      " 13) [230  29  81 276]: 0.86897\t\t 14) [238  41  60 244]: 0.86345\t\t\n",
      " 15) [226  24  74 303]: 0.83310\t\t 16) [186  46 141 200]: 0.80690\t\t\n",
      " 17) [217  45  60 303]: 0.79862\t\t 18) [221  24  59 250]: 0.79586\t\t\n",
      " 19) [229  59 288  78]: 0.78483\t\t 20) [224  41  54 260]: 0.69931\t\t\n",
      "- Average score: 0.86890\n",
      "\n",
      "- Evolving the hosts\n",
      "  - Removing half of the weaker hosts\n",
      "  - Crossovering top 2 hosts\n",
      "    [229  33  78 288] & [229  59  80 288] >> [0, 1, 3] & [0, 1, 3] >> [229  59  78 288] & [229  33  80 288]\n",
      "  - Mutating remaining top hosts\n",
      "    [229  33  78 288] >> [225  45  92 283]\n",
      "    [231  33  78 260] >> [248  35  87 261]\n",
      "    [229  41  72 275] >> [229  41  77 289]\n",
      "    [229  41  72 275] >> [227  41  81 264]\n",
      "    [230  49  78 269] >> [220  64  78 269]\n",
      "    [196  55 134 185] >> [203  72 146 200]\n",
      "    [229  41  72 275] >> [235  37  72 288]\n",
      "    [231  41  89 288] >> [231  48  79 271]\n",
      "  - Adding hosts\n",
      "    [229,59,78,288], [229,33,80,288], [225,45,92,283], [248,35,87,261], [229,41,77,289], [227,41,81,264], [220,64,78,269], [203,72,146,200], [235,37,72,288], [231,48,79,271]\n",
      "\n",
      "# Generation 135\n"
     ]
    },
    {
     "data": {
      "text/plain": [
       "@ Training progress: 100.0%"
      ]
     },
     "metadata": {},
     "output_type": "display_data"
    },
    {
     "name": "stdout",
     "output_type": "stream",
     "text": [
      "Parameters saved at Log 05.08.2019 16.17.txt!\n",
      "\n",
      "# All hosts\n",
      "  1) [229  33  78 288]: 0.92138\t\t  2) [229  59  80 288]: 0.92000\t\t\n",
      "  3) [231  33  78 260]: 0.91862\t\t  4) [230  49  78 269]: 0.91586\t\t\n",
      "  5) [243  33  78 260]: 0.91586\t\t  6) [231  41  89 288]: 0.91586\t\t\n",
      "  7) [229  41  72 260]: 0.91448\t\t  8) [229  41  72 275]: 0.91448\t\t\n",
      "  9) [196  55 134 185]: 0.91310\t\t 10) [246  36  88 274]: 0.91310\t\t\n",
      " 11) [229  33  80 288]: 0.90897\t\t 12) [229  59  78 288]: 0.89655\t\t\n",
      " 13) [235  37  72 288]: 0.89103\t\t 14) [231  48  79 271]: 0.86621\t\t\n",
      " 15) [203  72 146 200]: 0.80966\t\t 16) [220  64  78 269]: 0.80414\t\t\n",
      " 17) [229  41  77 289]: 0.80138\t\t 18) [225  45  92 283]: 0.78897\t\t\n",
      " 19) [248  35  87 261]: 0.77379\t\t 20) [227  41  81 264]: 0.76000\t\t\n",
      "- Average score: 0.87317\n",
      "\n",
      "- Evolving the hosts\n",
      "  - Removing half of the weaker hosts\n",
      "  - Crossovering top 2 hosts\n",
      "    [229  33  78 288] & [229  59  80 288] >> [0, 2, 3] & [0, 2, 3] >> [229  33  80 288] & [229  59  78 288]\n",
      "  - Mutating remaining top hosts\n",
      "    [196  55 134 185] >> [196  55 125 180]\n",
      "    [229  41  72 275] >> [212  41  72 262]\n",
      "    [229  59  80 288] >> [224  73  75 288]\n",
      "    [229  41  72 275] >> [238  41  72 275]\n",
      "    [231  33  78 260] >> [246  40  62 248]\n",
      "    [231  41  89 288] >> [239  30  89 288]\n",
      "    [196  55 134 185] >> [198  67 134 202]\n",
      "    [229  41  72 275] >> [236  36  55 275]\n",
      "  - Adding hosts\n",
      "    [229,33,80,288], [229,59,78,288], [196,55,125,180], [212,41,72,262], [224,73,75,288], [238,41,72,275], [246,40,62,248], [239,30,89,288], [198,67,134,202], [236,36,55,275]\n",
      "\n",
      "# Generation 136\n"
     ]
    },
    {
     "data": {
      "text/plain": [
       "@ Training progress: 100.0%"
      ]
     },
     "metadata": {},
     "output_type": "display_data"
    },
    {
     "name": "stdout",
     "output_type": "stream",
     "text": [
      "Parameters saved at Log 05.08.2019 16.17.txt!\n",
      "\n",
      "# All hosts\n",
      "  1) [229  33  78 288]: 0.92138\t\t  2) [229  59  80 288]: 0.92000\t\t\n",
      "  3) [231  33  78 260]: 0.91862\t\t  4) [230  49  78 269]: 0.91586\t\t\n",
      "  5) [243  33  78 260]: 0.91586\t\t  6) [231  41  89 288]: 0.91586\t\t\n",
      "  7) [229  41  72 260]: 0.91448\t\t  8) [229  41  72 275]: 0.91448\t\t\n",
      "  9) [196  55 134 185]: 0.91310\t\t 10) [246  36  88 274]: 0.91310\t\t\n",
      " 11) [236  36  55 275]: 0.89241\t\t 12) [239  30  89 288]: 0.88966\t\t\n",
      " 13) [196  55 125 180]: 0.88000\t\t 14) [198  67 134 202]: 0.86759\t\t\n",
      " 15) [229  59  78 288]: 0.85517\t\t 16) [229  33  80 288]: 0.84966\t\t\n",
      " 17) [212  41  72 262]: 0.82207\t\t 18) [224  73  75 288]: 0.80690\t\t\n",
      " 19) [246  40  62 248]: 0.80552\t\t 20) [238  41  72 275]: 0.78345\t\t\n",
      "- Average score: 0.88076\n",
      "\n",
      "- Evolving the hosts\n",
      "  - Removing half of the weaker hosts\n",
      "  - Crossovering top 2 hosts\n",
      "    [229  33  78 288] & [229  59  80 288] >> [0, 1, 3] & [3, 0, 1] >> [288 229  78  59] & [ 33 288  80 229]\n",
      "  - Mutating remaining top hosts\n",
      "    [229  41  72 275] >> [229  41  57 275]\n",
      "    [229  33  78 288] >> [230  50  78 296]\n",
      "    [196  55 134 185] >> [196  60 145 201]\n",
      "    [231  41  89 288] >> [230  31  89 288]\n",
      "    [196  55 134 185] >> [192  66 134 169]\n",
      "    [229  41  72 260] >> [229  39  63 253]\n",
      "    [229  41  72 275] >> [229  41  87 287]\n",
      "    [229  41  72 275] >> [229  30  72 271]\n",
      "  - Adding hosts\n",
      "    [288,229,78,59], [33,288,80,229], [229,41,57,275], [230,50,78,296], [196,60,145,201], [230,31,89,288], [192,66,134,169], [229,39,63,253], [229,41,87,287], [229,30,72,271]\n",
      "\n",
      "# Generation 137\n"
     ]
    },
    {
     "data": {
      "text/plain": [
       "@ Training progress: 100.0%"
      ]
     },
     "metadata": {},
     "output_type": "display_data"
    },
    {
     "name": "stdout",
     "output_type": "stream",
     "text": [
      "Parameters saved at Log 05.08.2019 16.17.txt!\n",
      "\n",
      "# All hosts\n",
      "  1) [229  33  78 288]: 0.92138\t\t  2) [229  59  80 288]: 0.92000\t\t\n",
      "  3) [231  33  78 260]: 0.91862\t\t  4) [230  49  78 269]: 0.91586\t\t\n",
      "  5) [243  33  78 260]: 0.91586\t\t  6) [231  41  89 288]: 0.91586\t\t\n",
      "  7) [230  31  89 288]: 0.91448\t\t  8) [229  41  72 260]: 0.91448\t\t\n",
      "  9) [229  41  72 275]: 0.91448\t\t 10) [196  55 134 185]: 0.91310\t\t\n",
      " 11) [246  36  88 274]: 0.91310\t\t 12) [196  60 145 201]: 0.86759\t\t\n",
      " 13) [229  39  63 253]: 0.84690\t\t 14) [229  41  87 287]: 0.83310\t\t\n",
      " 15) [192  66 134 169]: 0.81241\t\t 16) [288 229  78  59]: 0.80966\t\t\n",
      " 17) [230  50  78 296]: 0.80828\t\t 18) [229  41  57 275]: 0.80552\t\t\n",
      " 19) [229  30  72 271]: 0.77931\t\t 20) [ 33 288  80 229]: 0.73241\t\t\n",
      "- Average score: 0.86862\n",
      "\n",
      "- Evolving the hosts\n",
      "  - Removing half of the weaker hosts\n",
      "  - Crossovering top 2 hosts\n",
      "    [229  33  78 288] & [229  59  80 288] >> [0, 2, 3] & [3, 2, 0] >> [288  33  80 229] & [288  59  78 229]\n",
      "  - Mutating remaining top hosts\n",
      "    [231  41  89 288] >> [225  41  77 288]\n",
      "    [230  31  89 288] >> [230  16  89 305]\n",
      "    [231  41  89 288] >> [217  41  89 288]\n",
      "    [229  41  72 260] >> [227  41  75 244]\n",
      "    [229  59  80 288] >> [223  57  80 288]\n",
      "    [231  41  89 288] >> [220  41  98 302]\n",
      "    [229  59  80 288] >> [229  69  76 300]\n",
      "    [229  41  72 275] >> [226  55  72 289]\n",
      "  - Adding hosts\n",
      "    [288,33,80,229], [288,59,78,229], [225,41,77,288], [230,16,89,305], [217,41,89,288], [227,41,75,244], [223,57,80,288], [220,41,98,302], [229,69,76,300], [226,55,72,289]\n",
      "\n",
      "# Generation 138\n"
     ]
    },
    {
     "data": {
      "text/plain": [
       "@ Training progress: 100.0%"
      ]
     },
     "metadata": {},
     "output_type": "display_data"
    },
    {
     "name": "stdout",
     "output_type": "stream",
     "text": [
      "Parameters saved at Log 05.08.2019 16.17.txt!\n",
      "\n",
      "# All hosts\n",
      "  1) [229  33  78 288]: 0.92138\t\t  2) [229  59  80 288]: 0.92000\t\t\n",
      "  3) [231  33  78 260]: 0.91862\t\t  4) [230  49  78 269]: 0.91586\t\t\n",
      "  5) [243  33  78 260]: 0.91586\t\t  6) [231  41  89 288]: 0.91586\t\t\n",
      "  7) [230  31  89 288]: 0.91448\t\t  8) [229  41  72 260]: 0.91448\t\t\n",
      "  9) [229  41  72 275]: 0.91448\t\t 10) [196  55 134 185]: 0.91310\t\t\n",
      " 11) [229  69  76 300]: 0.90621\t\t 12) [226  55  72 289]: 0.88276\t\t\n",
      " 13) [288  33  80 229]: 0.83310\t\t 14) [230  16  89 305]: 0.83310\t\t\n",
      " 15) [220  41  98 302]: 0.81241\t\t 16) [223  57  80 288]: 0.78621\t\t\n",
      " 17) [225  41  77 288]: 0.78483\t\t 18) [227  41  75 244]: 0.78483\t\t\n",
      " 19) [217  41  89 288]: 0.78069\t\t 20) [288  59  78 229]: 0.77655\t\t\n",
      "- Average score: 0.86724\n",
      "\n",
      "- Evolving the hosts\n",
      "  - Removing half of the weaker hosts\n",
      "  - Crossovering top 2 hosts\n",
      "    [229  33  78 288] & [229  59  80 288] >> [0, 1, 2, 3] & [1, 3, 0, 2] >> [ 59 288 229  80] & [ 78 229 288  33]\n",
      "  - Mutating remaining top hosts\n",
      "    [230  49  78 269] >> [230  49  78 258]\n",
      "    [231  33  78 260] >> [231  33  61 266]\n",
      "    [231  33  78 260] >> [229  47  78 260]\n",
      "    [229  41  72 260] >> [229  38  61 277]\n",
      "    [229  59  80 288] >> [230  61  88 284]\n",
      "    [231  41  89 288] >> [214  24  79 279]\n",
      "    [231  33  78 260] >> [231  33  65 266]\n",
      "    [231  33  78 260] >> [231  33  85 246]\n",
      "  - Adding hosts\n",
      "    [59,288,229,80], [78,229,288,33], [230,49,78,258], [231,33,61,266], [229,47,78,260], [229,38,61,277], [230,61,88,284], [214,24,79,279], [231,33,65,266], [231,33,85,246]\n",
      "\n",
      "# Generation 139\n"
     ]
    },
    {
     "data": {
      "text/plain": [
       "@ Training progress: 100.0%"
      ]
     },
     "metadata": {},
     "output_type": "display_data"
    },
    {
     "name": "stdout",
     "output_type": "stream",
     "text": [
      "Parameters saved at Log 05.08.2019 16.17.txt!\n",
      "\n",
      "# All hosts\n",
      "  1) [229  33  78 288]: 0.92138\t\t  2) [229  59  80 288]: 0.92000\t\t\n",
      "  3) [231  33  78 260]: 0.91862\t\t  4) [230  49  78 269]: 0.91586\t\t\n",
      "  5) [243  33  78 260]: 0.91586\t\t  6) [231  41  89 288]: 0.91586\t\t\n",
      "  7) [230  31  89 288]: 0.91448\t\t  8) [229  41  72 260]: 0.91448\t\t\n",
      "  9) [229  41  72 275]: 0.91448\t\t 10) [196  55 134 185]: 0.91310\t\t\n",
      " 11) [ 59 288 229  80]: 0.89655\t\t 12) [229  38  61 277]: 0.89379\t\t\n",
      " 13) [230  49  78 258]: 0.88828\t\t 14) [214  24  79 279]: 0.88138\t\t\n",
      " 15) [230  61  88 284]: 0.85655\t\t 16) [ 78 229 288  33]: 0.84138\t\t\n",
      " 17) [231  33  65 266]: 0.84000\t\t 18) [229  47  78 260]: 0.83724\t\t\n",
      " 19) [231  33  61 266]: 0.80000\t\t 20) [231  33  85 246]: 0.79172\t\t\n",
      "- Average score: 0.88455\n",
      "\n",
      "- Evolving the hosts\n",
      "  - Removing half of the weaker hosts\n",
      "  - Crossovering top 2 hosts\n",
      "    [229  33  78 288] & [229  59  80 288] >> [0, 2, 3] & [0, 3, 2] >> [229  33 288  80] & [229  59 288  78]\n",
      "  - Mutating remaining top hosts\n",
      "    [229  59  80 288] >> [229  68  75 278]\n",
      "    [231  41  89 288] >> [228  34  73 288]\n",
      "    [230  49  78 269] >> [215  49  78 256]\n",
      "    [230  31  89 288] >> [219  31  76 279]\n",
      "    [243  33  78 260] >> [243  48  92 267]\n",
      "    [243  33  78 260] >> [243  29  78 272]\n",
      "    [231  33  78 260] >> [237  18  87 260]\n",
      "    [231  33  78 260] >> [245  33  79 274]\n",
      "  - Adding hosts\n",
      "    [229,33,288,80], [229,59,288,78], [229,68,75,278], [228,34,73,288], [215,49,78,256], [219,31,76,279], [243,48,92,267], [243,29,78,272], [237,18,87,260], [245,33,79,274]\n",
      "\n",
      "# Generation 140\n"
     ]
    },
    {
     "data": {
      "text/plain": [
       "@ Training progress: 100.0%"
      ]
     },
     "metadata": {},
     "output_type": "display_data"
    },
    {
     "name": "stdout",
     "output_type": "stream",
     "text": [
      "Parameters saved at Log 05.08.2019 16.17.txt!\n",
      "\n",
      "# All hosts\n",
      "  1) [229  33  78 288]: 0.92138\t\t  2) [229  59  80 288]: 0.92000\t\t\n",
      "  3) [231  33  78 260]: 0.91862\t\t  4) [230  49  78 269]: 0.91586\t\t\n",
      "  5) [243  33  78 260]: 0.91586\t\t  6) [231  41  89 288]: 0.91586\t\t\n",
      "  7) [230  31  89 288]: 0.91448\t\t  8) [229  41  72 260]: 0.91448\t\t\n",
      "  9) [229  41  72 275]: 0.91448\t\t 10) [196  55 134 185]: 0.91310\t\t\n",
      " 11) [229  68  75 278]: 0.89517\t\t 12) [243  29  78 272]: 0.87172\t\t\n",
      " 13) [219  31  76 279]: 0.83586\t\t 14) [228  34  73 288]: 0.83310\t\t\n",
      " 15) [229  33 288  80]: 0.79586\t\t 16) [237  18  87 260]: 0.78483\t\t\n",
      " 17) [245  33  79 274]: 0.77103\t\t 18) [215  49  78 256]: 0.76552\t\t\n",
      " 19) [229  59 288  78]: 0.74345\t\t 20) [243  48  92 267]: 0.71862\t\t\n",
      "- Average score: 0.85897\n",
      "\n",
      "- Evolving the hosts\n",
      "  - Removing half of the weaker hosts\n",
      "  - Crossovering top 2 hosts\n",
      "    [229  33  78 288] & [229  59  80 288] >> [0, 1, 2] & [2, 1, 0] >> [ 80  59 229 288] & [ 78  33 229 288]\n",
      "  - Mutating remaining top hosts\n",
      "    [229  41  72 260] >> [231  51  72 244]\n",
      "    [229  41  72 260] >> [228  56  72 268]\n",
      "    [229  41  72 260] >> [216  24  83 260]\n",
      "    [229  33  78 288] >> [229  41  74 274]\n",
      "    [231  33  78 260] >> [231  33  82 277]\n",
      "    [231  41  89 288] >> [216  58  89 303]\n",
      "    [230  49  78 269] >> [231  52  91 254]\n",
      "    [230  49  78 269] >> [230  43  78 259]\n",
      "  - Adding hosts\n",
      "    [80,59,229,288], [78,33,229,288], [231,51,72,244], [228,56,72,268], [216,24,83,260], [229,41,74,274], [231,33,82,277], [216,58,89,303], [231,52,91,254], [230,43,78,259]\n",
      "\n",
      "# Generation 141\n"
     ]
    },
    {
     "data": {
      "text/plain": [
       "@ Training progress: 100.0%"
      ]
     },
     "metadata": {},
     "output_type": "display_data"
    },
    {
     "name": "stdout",
     "output_type": "stream",
     "text": [
      "Parameters saved at Log 05.08.2019 16.17.txt!\n",
      "\n",
      "# All hosts\n",
      "  1) [229  33  78 288]: 0.92138\t\t  2) [229  59  80 288]: 0.92000\t\t\n",
      "  3) [231  33  78 260]: 0.91862\t\t  4) [230  49  78 269]: 0.91586\t\t\n",
      "  5) [243  33  78 260]: 0.91586\t\t  6) [231  41  89 288]: 0.91586\t\t\n",
      "  7) [230  31  89 288]: 0.91448\t\t  8) [229  41  72 260]: 0.91448\t\t\n",
      "  9) [229  41  72 275]: 0.91448\t\t 10) [196  55 134 185]: 0.91310\t\t\n",
      " 11) [216  58  89 303]: 0.91034\t\t 12) [230  43  78 259]: 0.90759\t\t\n",
      " 13) [231  52  91 254]: 0.87724\t\t 14) [228  56  72 268]: 0.87586\t\t\n",
      " 15) [229  41  74 274]: 0.87310\t\t 16) [216  24  83 260]: 0.86483\t\t\n",
      " 17) [ 78  33 229 288]: 0.85793\t\t 18) [ 80  59 229 288]: 0.85793\t\t\n",
      " 19) [231  51  72 244]: 0.75862\t\t 20) [231  33  82 277]: 0.67862\t\t\n",
      "- Average score: 0.88131\n",
      "\n",
      "- Evolving the hosts\n",
      "  - Removing half of the weaker hosts\n",
      "  - Crossovering top 2 hosts\n",
      "    [229  33  78 288] & [229  59  80 288] >> [0, 2, 3] & [0, 2, 3] >> [229  33  80 288] & [229  59  78 288]\n",
      "  - Mutating remaining top hosts\n",
      "    [229  33  78 288] >> [229  20  92 297]\n",
      "    [229  41  72 275] >> [244  55  87 260]\n",
      "    [230  49  78 269] >> [230  59  83 281]\n",
      "    [196  55 134 185] >> [201  46 147 197]\n",
      "    [229  41  72 275] >> [233  28  71 275]\n",
      "    [229  41  72 260] >> [229  30  69 260]\n",
      "    [230  49  78 269] >> [230  49  74 270]\n",
      "    [231  41  89 288] >> [214  39  86 272]\n",
      "  - Adding hosts\n",
      "    [229,33,80,288], [229,59,78,288], [229,20,92,297], [244,55,87,260], [230,59,83,281], [201,46,147,197], [233,28,71,275], [229,30,69,260], [230,49,74,270], [214,39,86,272]\n",
      "\n",
      "# Generation 142\n"
     ]
    },
    {
     "data": {
      "text/plain": [
       "@ Training progress: 100.0%"
      ]
     },
     "metadata": {},
     "output_type": "display_data"
    },
    {
     "name": "stdout",
     "output_type": "stream",
     "text": [
      "Parameters saved at Log 05.08.2019 16.17.txt!\n",
      "\n",
      "# All hosts\n",
      "  1) [229  33  78 288]: 0.92138\t\t  2) [229  59  80 288]: 0.92000\t\t\n",
      "  3) [231  33  78 260]: 0.91862\t\t  4) [230  49  78 269]: 0.91586\t\t\n",
      "  5) [243  33  78 260]: 0.91586\t\t  6) [231  41  89 288]: 0.91586\t\t\n",
      "  7) [230  31  89 288]: 0.91448\t\t  8) [229  41  72 260]: 0.91448\t\t\n",
      "  9) [229  41  72 275]: 0.91448\t\t 10) [196  55 134 185]: 0.91310\t\t\n",
      " 11) [229  30  69 260]: 0.90483\t\t 12) [201  46 147 197]: 0.88966\t\t\n",
      " 13) [244  55  87 260]: 0.86069\t\t 14) [214  39  86 272]: 0.84828\t\t\n",
      " 15) [229  33  80 288]: 0.83862\t\t 16) [230  49  74 270]: 0.82621\t\t\n",
      " 17) [229  20  92 297]: 0.81793\t\t 18) [233  28  71 275]: 0.81655\t\t\n",
      " 19) [229  59  78 288]: 0.79172\t\t 20) [230  59  83 281]: 0.63448\t\t\n",
      "- Average score: 0.86966\n",
      "\n",
      "- Evolving the hosts\n",
      "  - Removing half of the weaker hosts\n",
      "  - Crossovering top 2 hosts\n",
      "    [229  33  78 288] & [229  59  80 288] >> [0, 1, 3] & [3, 0, 1] >> [288 229  78  59] & [ 33 288  80 229]\n",
      "  - Mutating remaining top hosts\n",
      "    [243  33  78 260] >> [245  48  78 275]\n",
      "    [229  59  80 288] >> [231  59  77 303]\n",
      "    [229  41  72 260] >> [229  53  72 266]\n",
      "    [196  55 134 185] >> [182  60 134 185]\n",
      "    [230  31  89 288] >> [230  31  95 298]\n",
      "    [196  55 134 185] >> [191  65 123 185]\n",
      "    [229  33  78 288] >> [214  38  79 288]\n",
      "    [229  41  72 275] >> [229  56  63 275]\n",
      "  - Adding hosts\n",
      "    [288,229,78,59], [33,288,80,229], [245,48,78,275], [231,59,77,303], [229,53,72,266], [182,60,134,185], [230,31,95,298], [191,65,123,185], [214,38,79,288], [229,56,63,275]\n",
      "\n",
      "# Generation 143\n"
     ]
    },
    {
     "data": {
      "text/plain": [
       "@ Training progress: 100.0%"
      ]
     },
     "metadata": {},
     "output_type": "display_data"
    },
    {
     "name": "stdout",
     "output_type": "stream",
     "text": [
      "Parameters saved at Log 05.08.2019 16.17.txt!\n",
      "\n",
      "# All hosts\n",
      "  1) [229  33  78 288]: 0.92138\t\t  2) [229  59  80 288]: 0.92000\t\t\n",
      "  3) [231  33  78 260]: 0.91862\t\t  4) [230  49  78 269]: 0.91586\t\t\n",
      "  5) [243  33  78 260]: 0.91586\t\t  6) [231  41  89 288]: 0.91586\t\t\n",
      "  7) [230  31  89 288]: 0.91448\t\t  8) [229  41  72 260]: 0.91448\t\t\n",
      "  9) [229  41  72 275]: 0.91448\t\t 10) [196  55 134 185]: 0.91310\t\t\n",
      " 11) [191  65 123 185]: 0.89517\t\t 12) [229  53  72 266]: 0.88828\t\t\n",
      " 13) [214  38  79 288]: 0.88000\t\t 14) [245  48  78 275]: 0.78483\t\t\n",
      " 15) [288 229  78  59]: 0.77517\t\t 16) [229  56  63 275]: 0.74483\t\t\n",
      " 17) [231  59  77 303]: 0.72690\t\t 18) [230  31  95 298]: 0.71862\t\t\n",
      " 19) [182  60 134 185]: 0.71310\t\t 20) [ 33 288  80 229]: 0.64276\t\t\n",
      "- Average score: 0.84669\n",
      "\n",
      "- Evolving the hosts\n",
      "  - Removing half of the weaker hosts\n",
      "  - Crossovering top 2 hosts\n",
      "    [229  33  78 288] & [229  59  80 288] >> [0, 1, 2] & [0, 2, 1] >> [229  80  59 288] & [229  78  33 288]\n",
      "  - Mutating remaining top hosts\n",
      "    [229  33  78 288] >> [229  33  71 288]\n",
      "    [231  41  89 288] >> [241  41  96 285]\n",
      "    [229  41  72 260] >> [229  30  72 270]\n",
      "    [229  59  80 288] >> [234  54  80 271]\n",
      "    [229  59  80 288] >> [221  59  87 288]\n",
      "    [230  49  78 269] >> [247  49  78 267]\n",
      "    [229  41  72 275] >> [244  35  61 273]\n",
      "    [229  33  78 288] >> [241  27  78 289]\n",
      "  - Adding hosts\n",
      "    [229,80,59,288], [229,78,33,288], [229,33,71,288], [241,41,96,285], [229,30,72,270], [234,54,80,271], [221,59,87,288], [247,49,78,267], [244,35,61,273], [241,27,78,289]\n",
      "\n",
      "# Generation 144\n"
     ]
    },
    {
     "data": {
      "text/plain": [
       "@ Training progress: 100.0%"
      ]
     },
     "metadata": {},
     "output_type": "display_data"
    },
    {
     "name": "stdout",
     "output_type": "stream",
     "text": [
      "Parameters saved at Log 05.08.2019 16.17.txt!\n",
      "\n",
      "# All hosts\n",
      "  1) [229  33  78 288]: 0.92138\t\t  2) [229  59  80 288]: 0.92000\t\t\n",
      "  3) [231  33  78 260]: 0.91862\t\t  4) [230  49  78 269]: 0.91586\t\t\n",
      "  5) [243  33  78 260]: 0.91586\t\t  6) [231  41  89 288]: 0.91586\t\t\n",
      "  7) [230  31  89 288]: 0.91448\t\t  8) [229  41  72 260]: 0.91448\t\t\n",
      "  9) [229  41  72 275]: 0.91448\t\t 10) [196  55 134 185]: 0.91310\t\t\n",
      " 11) [229  33  71 288]: 0.88828\t\t 12) [229  78  33 288]: 0.87724\t\t\n",
      " 13) [244  35  61 273]: 0.85793\t\t 14) [247  49  78 267]: 0.85379\t\t\n",
      " 15) [241  27  78 289]: 0.85103\t\t 16) [229  80  59 288]: 0.84690\t\t\n",
      " 17) [234  54  80 271]: 0.81931\t\t 18) [229  30  72 270]: 0.76552\t\t\n",
      " 19) [241  41  96 285]: 0.73655\t\t 20) [221  59  87 288]: 0.72966\t\t\n",
      "- Average score: 0.86952\n",
      "\n",
      "- Evolving the hosts\n",
      "  - Removing half of the weaker hosts\n",
      "  - Crossovering top 2 hosts\n",
      "    [229  33  78 288] & [229  59  80 288] >> [0, 1] & [1, 0] >> [ 59 229  78 288] & [ 33 229  80 288]\n",
      "  - Mutating remaining top hosts\n",
      "    [196  55 134 185] >> [212  57 134 185]\n",
      "    [230  49  78 269] >> [216  49  78 269]\n",
      "    [229  41  72 275] >> [229  28  59 267]\n",
      "    [229  41  72 260] >> [227  41  55 267]\n",
      "    [243  33  78 260] >> [250  27  64 260]\n",
      "    [229  41  72 275] >> [246  48  72 263]\n",
      "    [231  33  78 260] >> [247  33  78 248]\n",
      "    [230  31  89 288] >> [246  23  93 288]\n",
      "  - Adding hosts\n",
      "    [59,229,78,288], [33,229,80,288], [212,57,134,185], [216,49,78,269], [229,28,59,267], [227,41,55,267], [250,27,64,260], [246,48,72,263], [247,33,78,248], [246,23,93,288]\n",
      "\n",
      "# Generation 145\n"
     ]
    },
    {
     "data": {
      "text/plain": [
       "@ Training progress: 100.0%"
      ]
     },
     "metadata": {},
     "output_type": "display_data"
    },
    {
     "name": "stdout",
     "output_type": "stream",
     "text": [
      "Parameters saved at Log 05.08.2019 16.17.txt!\n",
      "\n",
      "# All hosts\n",
      "  1) [229  33  78 288]: 0.92138\t\t  2) [229  59  80 288]: 0.92000\t\t\n",
      "  3) [231  33  78 260]: 0.91862\t\t  4) [230  49  78 269]: 0.91586\t\t\n",
      "  5) [243  33  78 260]: 0.91586\t\t  6) [231  41  89 288]: 0.91586\t\t\n",
      "  7) [230  31  89 288]: 0.91448\t\t  8) [229  41  72 260]: 0.91448\t\t\n",
      "  9) [229  41  72 275]: 0.91448\t\t 10) [196  55 134 185]: 0.91310\t\t\n",
      " 11) [250  27  64 260]: 0.90345\t\t 12) [216  49  78 269]: 0.89379\t\t\n",
      " 13) [247  33  78 248]: 0.88690\t\t 14) [246  48  72 263]: 0.88552\t\t\n",
      " 15) [229  28  59 267]: 0.86621\t\t 16) [ 59 229  78 288]: 0.85793\t\t\n",
      " 17) [212  57 134 185]: 0.85241\t\t 18) [227  41  55 267]: 0.82483\t\t\n",
      " 19) [ 33 229  80 288]: 0.72138\t\t 20) [246  23  93 288]: 0.68690\t\t\n",
      "- Average score: 0.87717\n",
      "\n",
      "- Evolving the hosts\n",
      "  - Removing half of the weaker hosts\n",
      "  - Crossovering top 2 hosts\n",
      "    [229  33  78 288] & [229  59  80 288] >> [0, 1, 2, 3] & [3, 2, 1, 0] >> [288  80  59 229] & [288  78  33 229]\n",
      "  - Mutating remaining top hosts\n",
      "    [229  59  80 288] >> [227  59  86 281]\n",
      "    [196  55 134 185] >> [209  71 121 178]\n",
      "    [229  33  78 288] >> [229  24  78 288]\n",
      "    [229  33  78 288] >> [229  27  93 288]\n",
      "    [231  41  89 288] >> [242  40  89 288]\n",
      "    [231  41  89 288] >> [247  35  89 288]\n",
      "    [229  33  78 288] >> [219  33  63 288]\n",
      "    [243  33  78 260] >> [243  45  68 275]\n",
      "  - Adding hosts\n",
      "    [288,80,59,229], [288,78,33,229], [227,59,86,281], [209,71,121,178], [229,24,78,288], [229,27,93,288], [242,40,89,288], [247,35,89,288], [219,33,63,288], [243,45,68,275]\n",
      "\n",
      "# Generation 146\n"
     ]
    },
    {
     "data": {
      "text/plain": [
       "@ Training progress: 100.0%"
      ]
     },
     "metadata": {},
     "output_type": "display_data"
    },
    {
     "name": "stdout",
     "output_type": "stream",
     "text": [
      "Parameters saved at Log 05.08.2019 16.17.txt!\n",
      "\n",
      "# All hosts\n",
      "  1) [229  33  78 288]: 0.92138\t\t  2) [229  59  80 288]: 0.92000\t\t\n",
      "  3) [231  33  78 260]: 0.91862\t\t  4) [230  49  78 269]: 0.91586\t\t\n",
      "  5) [243  33  78 260]: 0.91586\t\t  6) [231  41  89 288]: 0.91586\t\t\n",
      "  7) [230  31  89 288]: 0.91448\t\t  8) [229  41  72 260]: 0.91448\t\t\n",
      "  9) [229  41  72 275]: 0.91448\t\t 10) [196  55 134 185]: 0.91310\t\t\n",
      " 11) [243  45  68 275]: 0.90483\t\t 12) [229  24  78 288]: 0.84276\t\t\n",
      " 13) [288  78  33 229]: 0.82759\t\t 14) [229  27  93 288]: 0.81379\t\t\n",
      " 15) [247  35  89 288]: 0.80276\t\t 16) [227  59  86 281]: 0.79448\t\t\n",
      " 17) [209  71 121 178]: 0.77379\t\t 18) [288  80  59 229]: 0.76690\t\t\n",
      " 19) [219  33  63 288]: 0.74897\t\t 20) [242  40  89 288]: 0.64000\t\t\n",
      "- Average score: 0.85400\n",
      "\n",
      "- Evolving the hosts\n",
      "  - Removing half of the weaker hosts\n",
      "  - Crossovering top 2 hosts\n",
      "    [229  33  78 288] & [229  59  80 288] >> [0, 1, 3] & [1, 3, 0] >> [ 59 288  78 229] & [288 229  80  33]\n",
      "  - Mutating remaining top hosts\n",
      "    [229  41  72 260] >> [229  28  85 243]\n",
      "    [231  41  89 288] >> [236  44 101 279]\n",
      "    [229  59  80 288] >> [239  58  77 288]\n",
      "    [230  31  89 288] >> [241  39  82 273]\n",
      "    [231  41  89 288] >> [222  41  89 278]\n",
      "    [230  31  89 288] >> [230  31  92 288]\n",
      "    [230  31  89 288] >> [230  31  78 296]\n",
      "    [229  41  72 275] >> [229  42  72 278]\n",
      "  - Adding hosts\n",
      "    [59,288,78,229], [288,229,80,33], [229,28,85,243], [236,44,101,279], [239,58,77,288], [241,39,82,273], [222,41,89,278], [230,31,92,288], [230,31,78,296], [229,42,72,278]\n",
      "\n",
      "# Generation 147\n"
     ]
    },
    {
     "data": {
      "text/plain": [
       "@ Training progress: 100.0%"
      ]
     },
     "metadata": {},
     "output_type": "display_data"
    },
    {
     "name": "stdout",
     "output_type": "stream",
     "text": [
      "Parameters saved at Log 05.08.2019 16.17.txt!\n",
      "\n",
      "# All hosts\n",
      "  1) [229  33  78 288]: 0.92138\t\t  2) [229  59  80 288]: 0.92000\t\t\n",
      "  3) [231  33  78 260]: 0.91862\t\t  4) [229  28  85 243]: 0.91724\t\t\n",
      "  5) [230  49  78 269]: 0.91586\t\t  6) [243  33  78 260]: 0.91586\t\t\n",
      "  7) [231  41  89 288]: 0.91586\t\t  8) [230  31  89 288]: 0.91448\t\t\n",
      "  9) [229  41  72 260]: 0.91448\t\t 10) [229  41  72 275]: 0.91448\t\t\n",
      " 11) [196  55 134 185]: 0.91310\t\t 12) [236  44 101 279]: 0.88552\t\t\n",
      " 13) [230  31  92 288]: 0.88552\t\t 14) [241  39  82 273]: 0.86759\t\t\n",
      " 15) [239  58  77 288]: 0.86621\t\t 16) [230  31  78 296]: 0.82897\t\t\n",
      " 17) [ 59 288  78 229]: 0.81793\t\t 18) [288 229  80  33]: 0.77931\t\t\n",
      " 19) [222  41  89 278]: 0.77379\t\t 20) [229  42  72 278]: 0.64690\t\t\n",
      "- Average score: 0.87166\n",
      "\n",
      "- Evolving the hosts\n",
      "  - Removing half of the weaker hosts\n",
      "  - Crossovering top 2 hosts\n",
      "    [229  33  78 288] & [229  59  80 288] >> [0, 3] & [0, 3] >> [229  33  78 288] & [229  59  80 288]\n",
      "  - Mutating remaining top hosts\n",
      "    [229  59  80 288] >> [245  59  73 304]\n",
      "    [229  33  78 288] >> [246  32  78 286]\n",
      "    [230  49  78 269] >> [213  49  85 269]\n",
      "    [243  33  78 260] >> [228  33  65 253]\n",
      "    [229  41  72 260] >> [226  41  64 246]\n",
      "    [231  33  78 260] >> [217  22  78 260]\n",
      "    [229  41  72 275] >> [233  45  64 270]\n",
      "    [243  33  78 260] >> [230  30  78 270]\n",
      "  - Adding hosts\n",
      "    [229,33,78,288], [229,59,80,288], [245,59,73,304], [246,32,78,286], [213,49,85,269], [228,33,65,253], [226,41,64,246], [217,22,78,260], [233,45,64,270], [230,30,78,270]\n",
      "\n",
      "# Generation 148\n"
     ]
    },
    {
     "data": {
      "text/plain": [
       "@ Training progress: 100.0%"
      ]
     },
     "metadata": {},
     "output_type": "display_data"
    },
    {
     "name": "stdout",
     "output_type": "stream",
     "text": [
      "Parameters saved at Log 05.08.2019 16.17.txt!\n",
      "\n",
      "# All hosts\n",
      "  1) [229  33  78 288]: 0.92138\t\t  2) [229  59  80 288]: 0.92000\t\t\n",
      "  3) [231  33  78 260]: 0.91862\t\t  4) [230  30  78 270]: 0.91724\t\t\n",
      "  5) [229  28  85 243]: 0.91724\t\t  6) [230  49  78 269]: 0.91586\t\t\n",
      "  7) [243  33  78 260]: 0.91586\t\t  8) [231  41  89 288]: 0.91586\t\t\n",
      "  9) [230  31  89 288]: 0.91448\t\t 10) [229  41  72 260]: 0.91448\t\t\n",
      " 11) [229  41  72 275]: 0.91448\t\t 12) [233  45  64 270]: 0.90069\t\t\n",
      " 13) [245  59  73 304]: 0.86345\t\t 14) [217  22  78 260]: 0.85931\t\t\n",
      " 15) [229  59  80 288]: 0.85379\t\t 16) [228  33  65 253]: 0.84690\t\t\n",
      " 17) [213  49  85 269]: 0.83724\t\t 18) [246  32  78 286]: 0.82483\t\t\n",
      " 19) [226  41  64 246]: 0.82483\t\t 20) [229  33  78 288]: 0.81517\t\t\n",
      "- Average score: 0.88559\n",
      "\n",
      "- Evolving the hosts\n",
      "  - Removing half of the weaker hosts\n",
      "  - Crossovering top 2 hosts\n",
      "    [229  33  78 288] & [229  59  80 288] >> [1, 2, 3] & [2, 1, 3] >> [229  80  59 288] & [229  78  33 288]\n",
      "  - Mutating remaining top hosts\n",
      "    [230  49  78 269] >> [238  34  78 269]\n",
      "    [230  31  89 288] >> [228  31  89 305]\n",
      "    [243  33  78 260] >> [257  19  69 273]\n",
      "    [243  33  78 260] >> [236  38  89 246]\n",
      "    [243  33  78 260] >> [246  33  75 268]\n",
      "    [230  31  89 288] >> [240  33  89 288]\n",
      "    [229  28  85 243] >> [245  17  94 243]\n",
      "    [230  30  78 270] >> [234  24  93 282]\n",
      "  - Adding hosts\n",
      "    [229,80,59,288], [229,78,33,288], [238,34,78,269], [228,31,89,305], [257,19,69,273], [236,38,89,246], [246,33,75,268], [240,33,89,288], [245,17,94,243], [234,24,93,282]\n",
      "\n",
      "# Generation 149\n"
     ]
    },
    {
     "data": {
      "text/plain": [
       "@ Training progress: 100.0%"
      ]
     },
     "metadata": {},
     "output_type": "display_data"
    },
    {
     "name": "stdout",
     "output_type": "stream",
     "text": [
      "Parameters saved at Log 05.08.2019 16.17.txt!\n",
      "\n",
      "# All hosts\n",
      "  1) [229  33  78 288]: 0.92138\t\t  2) [229  59  80 288]: 0.92000\t\t\n",
      "  3) [231  33  78 260]: 0.91862\t\t  4) [230  30  78 270]: 0.91724\t\t\n",
      "  5) [229  28  85 243]: 0.91724\t\t  6) [230  49  78 269]: 0.91586\t\t\n",
      "  7) [243  33  78 260]: 0.91586\t\t  8) [231  41  89 288]: 0.91586\t\t\n",
      "  9) [230  31  89 288]: 0.91448\t\t 10) [229  41  72 260]: 0.91448\t\t\n",
      " 11) [229  80  59 288]: 0.90897\t\t 12) [240  33  89 288]: 0.90621\t\t\n",
      " 13) [245  17  94 243]: 0.89241\t\t 14) [236  38  89 246]: 0.88414\t\t\n",
      " 15) [228  31  89 305]: 0.85379\t\t 16) [234  24  93 282]: 0.84414\t\t\n",
      " 17) [238  34  78 269]: 0.83586\t\t 18) [229  78  33 288]: 0.80552\t\t\n",
      " 19) [246  33  75 268]: 0.79724\t\t 20) [257  19  69 273]: 0.75172\t\t\n",
      "- Average score: 0.88255\n",
      "\n",
      "- Evolving the hosts\n",
      "  - Removing half of the weaker hosts\n",
      "  - Crossovering top 2 hosts\n",
      "    [229  33  78 288] & [229  59  80 288] >> [0, 1, 2] & [0, 1, 2] >> [229  59  80 288] & [229  33  78 288]\n",
      "  - Mutating remaining top hosts\n",
      "    [229  41  72 260] >> [212  45  70 277]\n",
      "    [229  28  85 243] >> [237  14  80 244]\n",
      "    [229  59  80 288] >> [239  60  94 290]\n",
      "    [229  28  85 243] >> [229  38  69 249]\n",
      "    [231  41  89 288] >> [216  41  89 288]\n",
      "    [231  33  78 260] >> [231  38  78 274]\n",
      "    [229  33  78 288] >> [235  33  78 271]\n",
      "    [231  41  89 288] >> [240  47  98 292]\n",
      "  - Adding hosts\n",
      "    [229,59,80,288], [229,33,78,288], [212,45,70,277], [237,14,80,244], [239,60,94,290], [229,38,69,249], [216,41,89,288], [231,38,78,274], [235,33,78,271], [240,47,98,292]\n",
      "\n",
      "# Generation 150\n"
     ]
    },
    {
     "data": {
      "text/plain": [
       "@ Training progress: 100.0%"
      ]
     },
     "metadata": {},
     "output_type": "display_data"
    },
    {
     "name": "stdout",
     "output_type": "stream",
     "text": [
      "Parameters saved at Log 05.08.2019 16.17.txt!\n",
      "\n",
      "# All hosts\n",
      "  1) [229  33  78 288]: 0.92138\t\t  2) [229  59  80 288]: 0.92000\t\t\n",
      "  3) [231  33  78 260]: 0.91862\t\t  4) [230  30  78 270]: 0.91724\t\t\n",
      "  5) [229  28  85 243]: 0.91724\t\t  6) [230  49  78 269]: 0.91586\t\t\n",
      "  7) [243  33  78 260]: 0.91586\t\t  8) [231  41  89 288]: 0.91586\t\t\n",
      "  9) [230  31  89 288]: 0.91448\t\t 10) [229  41  72 260]: 0.91448\t\t\n",
      " 11) [216  41  89 288]: 0.86483\t\t 12) [229  59  80 288]: 0.86483\t\t\n",
      " 13) [239  60  94 290]: 0.84828\t\t 14) [229  38  69 249]: 0.83448\t\t\n",
      " 15) [235  33  78 271]: 0.82345\t\t 16) [231  38  78 274]: 0.81931\t\t\n",
      " 17) [212  45  70 277]: 0.81931\t\t 18) [237  14  80 244]: 0.80276\t\t\n",
      " 19) [240  47  98 292]: 0.75724\t\t 20) [229  33  78 288]: 0.67724\t\t\n",
      "- Average score: 0.86414\n",
      "\n",
      "- Evolving the hosts\n",
      "  - Removing half of the weaker hosts\n",
      "  - Crossovering top 2 hosts\n",
      "    [229  33  78 288] & [229  59  80 288] >> [0, 2, 3] & [0, 2, 3] >> [229  33  80 288] & [229  59  78 288]\n",
      "  - Mutating remaining top hosts\n",
      "    [229  33  78 288] >> [236  19  78 288]\n",
      "    [231  33  78 260] >> [216  21  78 262]\n",
      "    [231  41  89 288] >> [231  52  79 278]\n",
      "    [230  49  78 269] >> [230  42  66 269]\n",
      "    [229  41  72 260] >> [220  35  65 265]\n",
      "    [229  41  72 260] >> [225  39  71 252]\n",
      "    [230  30  78 270] >> [236  26  71 253]\n",
      "    [230  49  78 269] >> [218  49  78 269]\n",
      "  - Adding hosts\n",
      "    [229,33,80,288], [229,59,78,288], [236,19,78,288], [216,21,78,262], [231,52,79,278], [230,42,66,269], [220,35,65,265], [225,39,71,252], [236,26,71,253], [218,49,78,269]\n",
      "\n",
      "# Generation 151\n"
     ]
    },
    {
     "data": {
      "text/plain": [
       "@ Training progress: 100.0%"
      ]
     },
     "metadata": {},
     "output_type": "display_data"
    },
    {
     "name": "stdout",
     "output_type": "stream",
     "text": [
      "Parameters saved at Log 05.08.2019 16.17.txt!\n",
      "\n",
      "# All hosts\n",
      "  1) [229  33  78 288]: 0.92138\t\t  2) [229  59  80 288]: 0.92000\t\t\n",
      "  3) [231  33  78 260]: 0.91862\t\t  4) [230  30  78 270]: 0.91724\t\t\n",
      "  5) [229  28  85 243]: 0.91724\t\t  6) [230  49  78 269]: 0.91586\t\t\n",
      "  7) [243  33  78 260]: 0.91586\t\t  8) [231  41  89 288]: 0.91586\t\t\n",
      "  9) [230  31  89 288]: 0.91448\t\t 10) [229  41  72 260]: 0.91448\t\t\n",
      " 11) [218  49  78 269]: 0.89103\t\t 12) [229  33  80 288]: 0.88690\t\t\n",
      " 13) [231  52  79 278]: 0.86483\t\t 14) [216  21  78 262]: 0.86483\t\t\n",
      " 15) [220  35  65 265]: 0.85517\t\t 16) [236  26  71 253]: 0.83448\t\t\n",
      " 17) [230  42  66 269]: 0.80690\t\t 18) [236  19  78 288]: 0.79034\t\t\n",
      " 19) [225  39  71 252]: 0.76414\t\t 20) [229  59  78 288]: 0.74069\t\t\n",
      "- Average score: 0.87352\n",
      "\n",
      "- Evolving the hosts\n",
      "  - Removing half of the weaker hosts\n",
      "  - Crossovering top 2 hosts\n",
      "    [229  33  78 288] & [229  59  80 288] >> [0, 1, 3] & [3, 1, 0] >> [288  59  78 229] & [288  33  80 229]\n",
      "  - Mutating remaining top hosts\n",
      "    [229  28  85 243] >> [212  23  85 243]\n",
      "    [230  30  78 270] >> [230  43  78 282]\n",
      "    [231  41  89 288] >> [242  44  89 289]\n",
      "    [230  49  78 269] >> [217  60  78 272]\n",
      "    [243  33  78 260] >> [256  17  78 260]\n",
      "    [229  33  78 288] >> [227  40  95 288]\n",
      "    [229  41  72 260] >> [216  41  87 260]\n",
      "    [229  41  72 260] >> [231  41  70 251]\n",
      "  - Adding hosts\n",
      "    [288,59,78,229], [288,33,80,229], [212,23,85,243], [230,43,78,282], [242,44,89,289], [217,60,78,272], [256,17,78,260], [227,40,95,288], [216,41,87,260], [231,41,70,251]\n",
      "\n",
      "# Generation 152\n"
     ]
    },
    {
     "data": {
      "text/plain": [
       "@ Training progress: 100.0%"
      ]
     },
     "metadata": {},
     "output_type": "display_data"
    },
    {
     "name": "stdout",
     "output_type": "stream",
     "text": [
      "Parameters saved at Log 05.08.2019 16.17.txt!\n",
      "\n",
      "# All hosts\n",
      "  1) [229  33  78 288]: 0.92138\t\t  2) [229  59  80 288]: 0.92000\t\t\n",
      "  3) [231  33  78 260]: 0.91862\t\t  4) [230  30  78 270]: 0.91724\t\t\n",
      "  5) [229  28  85 243]: 0.91724\t\t  6) [230  49  78 269]: 0.91586\t\t\n",
      "  7) [243  33  78 260]: 0.91586\t\t  8) [231  41  89 288]: 0.91586\t\t\n",
      "  9) [230  31  89 288]: 0.91448\t\t 10) [229  41  72 260]: 0.91448\t\t\n",
      " 11) [227  40  95 288]: 0.90207\t\t 12) [288  59  78 229]: 0.87448\t\t\n",
      " 13) [230  43  78 282]: 0.85931\t\t 14) [242  44  89 289]: 0.85655\t\t\n",
      " 15) [212  23  85 243]: 0.81379\t\t 16) [288  33  80 229]: 0.80414\t\t\n",
      " 17) [216  41  87 260]: 0.80276\t\t 18) [231  41  70 251]: 0.79034\t\t\n",
      " 19) [256  17  78 260]: 0.78759\t\t 20) [217  60  78 272]: 0.76690\t\t\n",
      "- Average score: 0.87145\n",
      "\n",
      "- Evolving the hosts\n",
      "  - Removing half of the weaker hosts\n",
      "  - Crossovering top 2 hosts\n",
      "    [229  33  78 288] & [229  59  80 288] >> [0, 1] & [0, 1] >> [229  59  78 288] & [229  33  80 288]\n",
      "  - Mutating remaining top hosts\n",
      "    [229  59  80 288] >> [233  59  91 281]\n",
      "    [230  30  78 270] >> [230  21  78 270]\n",
      "    [230  49  78 269] >> [245  59  73 282]\n",
      "    [231  41  89 288] >> [237  45  89 281]\n",
      "    [230  49  78 269] >> [220  58  68 284]\n",
      "    [229  59  80 288] >> [214  60  83 293]\n",
      "    [230  49  78 269] >> [228  58  78 259]\n",
      "    [231  33  78 260] >> [223  21  78 260]\n",
      "  - Adding hosts\n",
      "    [229,59,78,288], [229,33,80,288], [233,59,91,281], [230,21,78,270], [245,59,73,282], [237,45,89,281], [220,58,68,284], [214,60,83,293], [228,58,78,259], [223,21,78,260]\n",
      "\n",
      "# Generation 153\n"
     ]
    },
    {
     "data": {
      "text/plain": [
       "@ Training progress: 100.0%"
      ]
     },
     "metadata": {},
     "output_type": "display_data"
    },
    {
     "name": "stdout",
     "output_type": "stream",
     "text": [
      "Parameters saved at Log 05.08.2019 16.17.txt!\n",
      "\n",
      "# All hosts\n",
      "  1) [229  33  78 288]: 0.92138\t\t  2) [229  59  80 288]: 0.92000\t\t\n",
      "  3) [231  33  78 260]: 0.91862\t\t  4) [230  30  78 270]: 0.91724\t\t\n",
      "  5) [229  28  85 243]: 0.91724\t\t  6) [230  49  78 269]: 0.91586\t\t\n",
      "  7) [243  33  78 260]: 0.91586\t\t  8) [231  41  89 288]: 0.91586\t\t\n",
      "  9) [230  31  89 288]: 0.91448\t\t 10) [229  41  72 260]: 0.91448\t\t\n",
      " 11) [229  33  80 288]: 0.91172\t\t 12) [245  59  73 282]: 0.89655\t\t\n",
      " 13) [233  59  91 281]: 0.88138\t\t 14) [220  58  68 284]: 0.87862\t\t\n",
      " 15) [237  45  89 281]: 0.87034\t\t 16) [223  21  78 260]: 0.86897\t\t\n",
      " 17) [229  59  78 288]: 0.82897\t\t 18) [228  58  78 259]: 0.82483\t\t\n",
      " 19) [230  21  78 270]: 0.80966\t\t 20) [214  60  83 293]: 0.79724\t\t\n",
      "- Average score: 0.88697\n",
      "\n",
      "- Evolving the hosts\n",
      "  - Removing half of the weaker hosts\n",
      "  - Crossovering top 2 hosts\n",
      "    [229  33  78 288] & [229  59  80 288] >> [1, 2, 3] & [3, 2, 1] >> [229 288  80  59] & [229 288  78  33]\n",
      "  - Mutating remaining top hosts\n",
      "    [229  59  80 288] >> [246  49  80 291]\n",
      "    [230  49  78 269] >> [216  43  78 269]\n",
      "    [229  33  78 288] >> [241  34  72 288]\n",
      "    [231  41  89 288] >> [239  28  89 300]\n",
      "    [229  41  72 260] >> [220  41  72 244]\n",
      "    [229  41  72 260] >> [229  57  72 260]\n",
      "    [230  30  78 270] >> [231  42  78 272]\n",
      "    [243  33  78 260] >> [243  28  72 260]\n",
      "  - Adding hosts\n",
      "    [229,288,80,59], [229,288,78,33], [246,49,80,291], [216,43,78,269], [241,34,72,288], [239,28,89,300], [220,41,72,244], [229,57,72,260], [231,42,78,272], [243,28,72,260]\n",
      "\n",
      "# Generation 154\n"
     ]
    },
    {
     "data": {
      "text/plain": [
       "@ Training progress: 100.0%"
      ]
     },
     "metadata": {},
     "output_type": "display_data"
    },
    {
     "name": "stdout",
     "output_type": "stream",
     "text": [
      "Parameters saved at Log 05.08.2019 16.17.txt!\n",
      "\n",
      "# All hosts\n",
      "  1) [229  33  78 288]: 0.92138\t\t  2) [229  59  80 288]: 0.92000\t\t\n",
      "  3) [231  33  78 260]: 0.91862\t\t  4) [230  30  78 270]: 0.91724\t\t\n",
      "  5) [229  28  85 243]: 0.91724\t\t  6) [230  49  78 269]: 0.91586\t\t\n",
      "  7) [243  33  78 260]: 0.91586\t\t  8) [231  41  89 288]: 0.91586\t\t\n",
      "  9) [230  31  89 288]: 0.91448\t\t 10) [229  41  72 260]: 0.91448\t\t\n",
      " 11) [220  41  72 244]: 0.89103\t\t 12) [229 288  80  59]: 0.89103\t\t\n",
      " 13) [231  42  78 272]: 0.88828\t\t 14) [246  49  80 291]: 0.86759\t\t\n",
      " 15) [229 288  78  33]: 0.84966\t\t 16) [243  28  72 260]: 0.84414\t\t\n",
      " 17) [239  28  89 300]: 0.83862\t\t 18) [241  34  72 288]: 0.83724\t\t\n",
      " 19) [216  43  78 269]: 0.83172\t\t 20) [229  57  72 260]: 0.76966\t\t\n",
      "- Average score: 0.88400\n",
      "\n",
      "- Evolving the hosts\n",
      "  - Removing half of the weaker hosts\n",
      "  - Crossovering top 2 hosts\n",
      "    [229  33  78 288] & [229  59  80 288] >> [1, 2, 3] & [2, 3, 1] >> [229  80 288  59] & [229 288  33  78]\n",
      "  - Mutating remaining top hosts\n",
      "    [243  33  78 260] >> [250  50  78 260]\n",
      "    [231  41  89 288] >> [231  57  89 297]\n",
      "    [229  41  72 260] >> [241  41  82 260]\n",
      "    [230  30  78 270] >> [230  30  95 260]\n",
      "    [229  41  72 260] >> [229  45  69 244]\n",
      "    [230  30  78 270] >> [247  30  75 270]\n",
      "    [229  28  85 243] >> [213  28  93 241]\n",
      "    [229  41  72 260] >> [246  41  80 246]\n",
      "  - Adding hosts\n",
      "    [229,80,288,59], [229,288,33,78], [250,50,78,260], [231,57,89,297], [241,41,82,260], [230,30,95,260], [229,45,69,244], [247,30,75,270], [213,28,93,241], [246,41,80,246]\n",
      "\n",
      "# Generation 155\n"
     ]
    },
    {
     "data": {
      "text/plain": [
       "@ Training progress: 100.0%"
      ]
     },
     "metadata": {},
     "output_type": "display_data"
    },
    {
     "name": "stdout",
     "output_type": "stream",
     "text": [
      "Parameters saved at Log 05.08.2019 16.17.txt!\n",
      "\n",
      "# All hosts\n",
      "  1) [229  33  78 288]: 0.92138\t\t  2) [229  59  80 288]: 0.92000\t\t\n",
      "  3) [231  33  78 260]: 0.91862\t\t  4) [230  30  78 270]: 0.91724\t\t\n",
      "  5) [229  28  85 243]: 0.91724\t\t  6) [230  49  78 269]: 0.91586\t\t\n",
      "  7) [243  33  78 260]: 0.91586\t\t  8) [231  41  89 288]: 0.91586\t\t\n",
      "  9) [230  31  89 288]: 0.91448\t\t 10) [229  41  72 260]: 0.91448\t\t\n",
      " 11) [230  30  95 260]: 0.90759\t\t 12) [231  57  89 297]: 0.88552\t\t\n",
      " 13) [247  30  75 270]: 0.88552\t\t 14) [246  41  80 246]: 0.86759\t\t\n",
      " 15) [229  45  69 244]: 0.86207\t\t 16) [241  41  82 260]: 0.84276\t\t\n",
      " 17) [213  28  93 241]: 0.83172\t\t 18) [250  50  78 260]: 0.79310\t\t\n",
      " 19) [229 288  33  78]: 0.77655\t\t 20) [229  80 288  59]: 0.76414\t\t\n",
      "- Average score: 0.87938\n",
      "\n",
      "- Evolving the hosts\n",
      "  - Removing half of the weaker hosts\n",
      "  - Crossovering top 2 hosts\n",
      "    [229  33  78 288] & [229  59  80 288] >> [0, 3] & [0, 3] >> [229  33  78 288] & [229  59  80 288]\n",
      "  - Mutating remaining top hosts\n",
      "    [231  41  89 288] >> [231  58  89 288]\n",
      "    [231  41  89 288] >> [231  24  99 304]\n",
      "    [231  33  78 260] >> [232  47  78 260]\n",
      "    [229  41  72 260] >> [236  52  66 260]\n",
      "    [230  30  78 270] >> [228  39  78 270]\n",
      "    [231  41  89 288] >> [228  51  76 280]\n",
      "    [230  30  78 270] >> [221  30  76 270]\n",
      "    [231  41  89 288] >> [229  32  89 288]\n",
      "  - Adding hosts\n",
      "    [229,33,78,288], [229,59,80,288], [231,58,89,288], [231,24,99,304], [232,47,78,260], [236,52,66,260], [228,39,78,270], [228,51,76,280], [221,30,76,270], [229,32,89,288]\n",
      "\n",
      "# Generation 156\n"
     ]
    },
    {
     "data": {
      "text/plain": [
       "@ Training progress: 100.0%"
      ]
     },
     "metadata": {},
     "output_type": "display_data"
    },
    {
     "name": "stdout",
     "output_type": "stream",
     "text": [
      "Parameters saved at Log 05.08.2019 16.17.txt!\n",
      "\n",
      "# All hosts\n",
      "  1) [229  33  78 288]: 0.92138\t\t  2) [229  59  80 288]: 0.92000\t\t\n",
      "  3) [231  33  78 260]: 0.91862\t\t  4) [230  30  78 270]: 0.91724\t\t\n",
      "  5) [229  28  85 243]: 0.91724\t\t  6) [230  49  78 269]: 0.91586\t\t\n",
      "  7) [243  33  78 260]: 0.91586\t\t  8) [231  41  89 288]: 0.91586\t\t\n",
      "  9) [230  31  89 288]: 0.91448\t\t 10) [229  41  72 260]: 0.91448\t\t\n",
      " 11) [231  58  89 288]: 0.89379\t\t 12) [231  24  99 304]: 0.88828\t\t\n",
      " 13) [221  30  76 270]: 0.86621\t\t 14) [232  47  78 260]: 0.85103\t\t\n",
      " 15) [229  33  78 288]: 0.83172\t\t 16) [228  39  78 270]: 0.81931\t\t\n",
      " 17) [236  52  66 260]: 0.76690\t\t 18) [229  32  89 288]: 0.76552\t\t\n",
      " 19) [228  51  76 280]: 0.75862\t\t 20) [229  59  80 288]: 0.75586\t\t\n",
      "- Average score: 0.86841\n",
      "\n",
      "- Evolving the hosts\n",
      "  - Removing half of the weaker hosts\n",
      "  - Crossovering top 2 hosts\n",
      "    [229  33  78 288] & [229  59  80 288] >> [0, 2, 3] & [2, 0, 3] >> [ 80  33 229 288] & [ 78  59 229 288]\n",
      "  - Mutating remaining top hosts\n",
      "    [229  41  72 260] >> [213  41  65 277]\n",
      "    [229  59  80 288] >> [237  46  89 290]\n",
      "    [230  30  78 270] >> [230  30  78 255]\n",
      "    [229  59  80 288] >> [229  50  80 288]\n",
      "    [231  41  89 288] >> [216  32  75 279]\n",
      "    [229  28  85 243] >> [213  28  94 227]\n",
      "    [230  31  89 288] >> [224  31  92 288]\n",
      "    [230  30  78 270] >> [230  44  64 284]\n",
      "  - Adding hosts\n",
      "    [80,33,229,288], [78,59,229,288], [213,41,65,277], [237,46,89,290], [230,30,78,255], [229,50,80,288], [216,32,75,279], [213,28,94,227], [224,31,92,288], [230,44,64,284]\n",
      "\n",
      "# Generation 157\n"
     ]
    },
    {
     "data": {
      "text/plain": [
       "@ Training progress: 100.0%"
      ]
     },
     "metadata": {},
     "output_type": "display_data"
    },
    {
     "name": "stdout",
     "output_type": "stream",
     "text": [
      "Parameters saved at Log 05.08.2019 16.17.txt!\n",
      "\n",
      "# All hosts\n",
      "  1) [229  33  78 288]: 0.92138\t\t  2) [229  59  80 288]: 0.92000\t\t\n",
      "  3) [231  33  78 260]: 0.91862\t\t  4) [230  30  78 270]: 0.91724\t\t\n",
      "  5) [229  28  85 243]: 0.91724\t\t  6) [230  49  78 269]: 0.91586\t\t\n",
      "  7) [243  33  78 260]: 0.91586\t\t  8) [231  41  89 288]: 0.91586\t\t\n",
      "  9) [230  31  89 288]: 0.91448\t\t 10) [229  41  72 260]: 0.91448\t\t\n",
      " 11) [ 80  33 229 288]: 0.90207\t\t 12) [216  32  75 279]: 0.87310\t\t\n",
      " 13) [230  30  78 255]: 0.87310\t\t 14) [213  28  94 227]: 0.85655\t\t\n",
      " 15) [ 78  59 229 288]: 0.84414\t\t 16) [229  50  80 288]: 0.83862\t\t\n",
      " 17) [213  41  65 277]: 0.83310\t\t 18) [224  31  92 288]: 0.83034\t\t\n",
      " 19) [237  46  89 290]: 0.79862\t\t 20) [230  44  64 284]: 0.78345\t\t\n",
      "- Average score: 0.88021\n",
      "\n",
      "- Evolving the hosts\n",
      "  - Removing half of the weaker hosts\n",
      "  - Crossovering top 2 hosts\n",
      "    [229  33  78 288] & [229  59  80 288] >> [0, 1, 3] & [3, 1, 0] >> [288  59  78 229] & [288  33  80 229]\n",
      "  - Mutating remaining top hosts\n",
      "    [230  31  89 288] >> [221  16  89 288]\n",
      "    [229  33  78 288] >> [229  28  72 282]\n",
      "    [229  41  72 260] >> [229  41  72 260]\n",
      "    [231  41  89 288] >> [229  50  89 293]\n",
      "    [230  49  78 269] >> [216  49  78 269]\n",
      "    [229  28  85 243] >> [237  28  77 229]\n",
      "    [243  33  78 260] >> [243  35  81 263]\n",
      "    [230  30  78 270] >> [230  30  78 270]\n",
      "  - Adding hosts\n",
      "    [288,59,78,229], [288,33,80,229], [221,16,89,288], [229,28,72,282], [229,41,72,260], [229,50,89,293], [216,49,78,269], [237,28,77,229], [243,35,81,263], [230,30,78,270]\n",
      "\n",
      "# Generation 158\n"
     ]
    },
    {
     "data": {
      "text/plain": [
       "@ Training progress: 100.0%"
      ]
     },
     "metadata": {},
     "output_type": "display_data"
    },
    {
     "name": "stdout",
     "output_type": "stream",
     "text": [
      "Parameters saved at Log 05.08.2019 16.17.txt!\n",
      "\n",
      "# All hosts\n",
      "  1) [229  33  78 288]: 0.92138\t\t  2) [229  59  80 288]: 0.92000\t\t\n",
      "  3) [231  33  78 260]: 0.91862\t\t  4) [230  30  78 270]: 0.91724\t\t\n",
      "  5) [229  28  85 243]: 0.91724\t\t  6) [230  49  78 269]: 0.91586\t\t\n",
      "  7) [243  33  78 260]: 0.91586\t\t  8) [231  41  89 288]: 0.91586\t\t\n",
      "  9) [230  31  89 288]: 0.91448\t\t 10) [229  41  72 260]: 0.91448\t\t\n",
      " 11) [288  59  78 229]: 0.90759\t\t 12) [221  16  89 288]: 0.89241\t\t\n",
      " 13) [230  30  78 270]: 0.88552\t\t 14) [229  50  89 293]: 0.88138\t\t\n",
      " 15) [237  28  77 229]: 0.87172\t\t 16) [216  49  78 269]: 0.87034\t\t\n",
      " 17) [288  33  80 229]: 0.83586\t\t 18) [229  28  72 282]: 0.81655\t\t\n",
      " 19) [229  41  72 260]: 0.78069\t\t 20) [243  35  81 263]: 0.70759\t\t\n",
      "- Average score: 0.88103\n",
      "\n",
      "- Evolving the hosts\n",
      "  - Removing half of the weaker hosts\n",
      "  - Crossovering top 2 hosts\n",
      "    [229  33  78 288] & [229  59  80 288] >> [1, 2] & [2, 1] >> [229  80  59 288] & [229  78  33 288]\n",
      "  - Mutating remaining top hosts\n",
      "    [229  41  72 260] >> [220  29  72 256]\n",
      "    [243  33  78 260] >> [243  19  86 254]\n",
      "    [243  33  78 260] >> [243  33  78 260]\n",
      "    [230  30  78 270] >> [239  14  78 286]\n",
      "    [230  31  89 288] >> [241  31  89 284]\n",
      "    [229  41  72 260] >> [227  33  71 252]\n",
      "    [229  28  85 243] >> [229  17  74 243]\n",
      "    [231  41  89 288] >> [241  52  85 286]\n",
      "  - Adding hosts\n",
      "    [229,80,59,288], [229,78,33,288], [220,29,72,256], [243,19,86,254], [243,33,78,260], [239,14,78,286], [241,31,89,284], [227,33,71,252], [229,17,74,243], [241,52,85,286]\n",
      "\n",
      "# Generation 159\n"
     ]
    },
    {
     "data": {
      "text/plain": [
       "@ Training progress: 100.0%"
      ]
     },
     "metadata": {},
     "output_type": "display_data"
    },
    {
     "name": "stdout",
     "output_type": "stream",
     "text": [
      "Parameters saved at Log 05.08.2019 16.17.txt!\n",
      "\n",
      "# All hosts\n",
      "  1) [229  33  78 288]: 0.92138\t\t  2) [229  59  80 288]: 0.92000\t\t\n",
      "  3) [231  33  78 260]: 0.91862\t\t  4) [230  30  78 270]: 0.91724\t\t\n",
      "  5) [229  28  85 243]: 0.91724\t\t  6) [230  49  78 269]: 0.91586\t\t\n",
      "  7) [243  33  78 260]: 0.91586\t\t  8) [231  41  89 288]: 0.91586\t\t\n",
      "  9) [230  31  89 288]: 0.91448\t\t 10) [229  41  72 260]: 0.91448\t\t\n",
      " 11) [229  17  74 243]: 0.88276\t\t 12) [241  52  85 286]: 0.87172\t\t\n",
      " 13) [239  14  78 286]: 0.85103\t\t 14) [229  80  59 288]: 0.84414\t\t\n",
      " 15) [220  29  72 256]: 0.83448\t\t 16) [241  31  89 284]: 0.83310\t\t\n",
      " 17) [229  78  33 288]: 0.82759\t\t 18) [243  33  78 260]: 0.79448\t\t\n",
      " 19) [227  33  71 252]: 0.78483\t\t 20) [243  19  86 254]: 0.74483\t\t\n",
      "- Average score: 0.87200\n",
      "\n",
      "- Evolving the hosts\n",
      "  - Removing half of the weaker hosts\n",
      "  - Crossovering top 2 hosts\n",
      "    [229  33  78 288] & [229  59  80 288] >> [0, 2] & [0, 2] >> [229  33  80 288] & [229  59  78 288]\n",
      "  - Mutating remaining top hosts\n",
      "    [229  59  80 288] >> [234  63  87 288]\n",
      "    [229  28  85 243] >> [243  28  86 243]\n",
      "    [229  41  72 260] >> [229  41  66 252]\n",
      "    [231  41  89 288] >> [237  51  89 275]\n",
      "    [231  33  78 260] >> [231  33  62 246]\n",
      "    [230  49  78 269] >> [245  34  70 269]\n",
      "    [229  28  85 243] >> [229  14  92 233]\n",
      "    [230  49  78 269] >> [225  60  64 264]\n",
      "  - Adding hosts\n",
      "    [229,33,80,288], [229,59,78,288], [234,63,87,288], [243,28,86,243], [229,41,66,252], [237,51,89,275], [231,33,62,246], [245,34,70,269], [229,14,92,233], [225,60,64,264]\n",
      "\n",
      "# Generation 160\n"
     ]
    },
    {
     "data": {
      "text/plain": [
       "@ Training progress: 100.0%"
      ]
     },
     "metadata": {},
     "output_type": "display_data"
    },
    {
     "name": "stdout",
     "output_type": "stream",
     "text": [
      "Parameters saved at Log 05.08.2019 16.17.txt!\n",
      "\n",
      "# All hosts\n",
      "  1) [229  33  78 288]: 0.92138\t\t  2) [229  59  80 288]: 0.92000\t\t\n",
      "  3) [231  33  62 246]: 0.91862\t\t  4) [231  33  78 260]: 0.91862\t\t\n",
      "  5) [230  30  78 270]: 0.91724\t\t  6) [229  28  85 243]: 0.91724\t\t\n",
      "  7) [230  49  78 269]: 0.91586\t\t  8) [243  33  78 260]: 0.91586\t\t\n",
      "  9) [231  41  89 288]: 0.91586\t\t 10) [230  31  89 288]: 0.91448\t\t\n",
      " 11) [229  41  72 260]: 0.91448\t\t 12) [225  60  64 264]: 0.90207\t\t\n",
      " 13) [229  14  92 233]: 0.84966\t\t 14) [237  51  89 275]: 0.84138\t\t\n",
      " 15) [234  63  87 288]: 0.82621\t\t 16) [229  59  78 288]: 0.80828\t\t\n",
      " 17) [245  34  70 269]: 0.77655\t\t 18) [229  41  66 252]: 0.76138\t\t\n",
      " 19) [229  33  80 288]: 0.75448\t\t 20) [243  28  86 243]: 0.67172\t\t\n",
      "- Average score: 0.86407\n",
      "\n",
      "- Evolving the hosts\n",
      "  - Removing half of the weaker hosts\n",
      "  - Crossovering top 2 hosts\n",
      "    [229  33  78 288] & [229  59  80 288] >> [0, 2, 3] & [3, 2, 0] >> [288  33  80 229] & [288  59  78 229]\n",
      "  - Mutating remaining top hosts\n",
      "    [230  31  89 288] >> [228  22  90 288]\n",
      "    [243  33  78 260] >> [234  31  76 256]\n",
      "    [231  41  89 288] >> [231  41  88 286]\n",
      "    [229  28  85 243] >> [229  24  85 232]\n",
      "    [243  33  78 260] >> [254  48  87 248]\n",
      "    [230  30  78 270] >> [242  30  81 267]\n",
      "    [230  31  89 288] >> [214  31  89 288]\n",
      "    [231  41  89 288] >> [231  34  89 288]\n",
      "  - Adding hosts\n",
      "    [288,33,80,229], [288,59,78,229], [228,22,90,288], [234,31,76,256], [231,41,88,286], [229,24,85,232], [254,48,87,248], [242,30,81,267], [214,31,89,288], [231,34,89,288]\n",
      "\n",
      "# Generation 161\n"
     ]
    },
    {
     "data": {
      "text/plain": [
       "@ Training progress: 100.0%"
      ]
     },
     "metadata": {},
     "output_type": "display_data"
    },
    {
     "name": "stdout",
     "output_type": "stream",
     "text": [
      "Parameters saved at Log 05.08.2019 16.17.txt!\n",
      "\n",
      "# All hosts\n",
      "  1) [229  33  78 288]: 0.92138\t\t  2) [229  59  80 288]: 0.92000\t\t\n",
      "  3) [231  33  62 246]: 0.91862\t\t  4) [231  33  78 260]: 0.91862\t\t\n",
      "  5) [230  30  78 270]: 0.91724\t\t  6) [229  28  85 243]: 0.91724\t\t\n",
      "  7) [230  49  78 269]: 0.91586\t\t  8) [243  33  78 260]: 0.91586\t\t\n",
      "  9) [231  41  89 288]: 0.91586\t\t 10) [230  31  89 288]: 0.91448\t\t\n",
      " 11) [242  30  81 267]: 0.89931\t\t 12) [234  31  76 256]: 0.89655\t\t\n",
      " 13) [231  34  89 288]: 0.89655\t\t 14) [228  22  90 288]: 0.87586\t\t\n",
      " 15) [288  59  78 229]: 0.84138\t\t 16) [231  41  88 286]: 0.82069\t\t\n",
      " 17) [288  33  80 229]: 0.81379\t\t 18) [229  24  85 232]: 0.80552\t\t\n",
      " 19) [214  31  89 288]: 0.80276\t\t 20) [254  48  87 248]: 0.73103\t\t\n",
      "- Average score: 0.87793\n",
      "\n",
      "- Evolving the hosts\n",
      "  - Removing half of the weaker hosts\n",
      "  - Crossovering top 2 hosts\n",
      "    [229  33  78 288] & [229  59  80 288] >> [1, 3] & [3, 1] >> [229 288  78  59] & [229 288  80  33]\n",
      "  - Mutating remaining top hosts\n",
      "    [231  33  78 260] >> [223  29  95 260]\n",
      "    [243  33  78 260] >> [242  33  90 273]\n",
      "    [229  28  85 243] >> [219  32  85 243]\n",
      "    [243  33  78 260] >> [243  35  93 260]\n",
      "    [230  31  89 288] >> [232  31  89 288]\n",
      "    [230  31  89 288] >> [230  23  74 275]\n",
      "    [231  33  78 260] >> [214  33  85 260]\n",
      "    [230  31  89 288] >> [236  31  89 276]\n",
      "  - Adding hosts\n",
      "    [229,288,78,59], [229,288,80,33], [223,29,95,260], [242,33,90,273], [219,32,85,243], [243,35,93,260], [232,31,89,288], [230,23,74,275], [214,33,85,260], [236,31,89,276]\n",
      "\n",
      "# Generation 162\n"
     ]
    },
    {
     "data": {
      "text/plain": [
       "@ Training progress: 100.0%"
      ]
     },
     "metadata": {},
     "output_type": "display_data"
    },
    {
     "name": "stdout",
     "output_type": "stream",
     "text": [
      "Parameters saved at Log 05.08.2019 16.17.txt!\n",
      "\n",
      "# All hosts\n",
      "  1) [229  33  78 288]: 0.92138\t\t  2) [229  59  80 288]: 0.92000\t\t\n",
      "  3) [231  33  62 246]: 0.91862\t\t  4) [231  33  78 260]: 0.91862\t\t\n",
      "  5) [230  30  78 270]: 0.91724\t\t  6) [229  28  85 243]: 0.91724\t\t\n",
      "  7) [230  49  78 269]: 0.91586\t\t  8) [243  33  78 260]: 0.91586\t\t\n",
      "  9) [231  41  89 288]: 0.91586\t\t 10) [230  31  89 288]: 0.91448\t\t\n",
      " 11) [243  35  93 260]: 0.88276\t\t 12) [223  29  95 260]: 0.85517\t\t\n",
      " 13) [230  23  74 275]: 0.85517\t\t 14) [214  33  85 260]: 0.85379\t\t\n",
      " 15) [242  33  90 273]: 0.84414\t\t 16) [229 288  78  59]: 0.82069\t\t\n",
      " 17) [219  32  85 243]: 0.81931\t\t 18) [236  31  89 276]: 0.81379\t\t\n",
      " 19) [232  31  89 288]: 0.78897\t\t 20) [229 288  80  33]: 0.73517\t\t\n",
      "- Average score: 0.87221\n",
      "\n",
      "- Evolving the hosts\n",
      "  - Removing half of the weaker hosts\n",
      "  - Crossovering top 2 hosts\n",
      "    [229  33  78 288] & [229  59  80 288] >> [1, 2] & [2, 1] >> [229  80  59 288] & [229  78  33 288]\n",
      "  - Mutating remaining top hosts\n",
      "    [231  33  62 246] >> [240  33  62 236]\n",
      "    [231  33  62 246] >> [231  33  68 251]\n",
      "    [230  49  78 269] >> [230  48  78 253]\n",
      "    [229  59  80 288] >> [229  51  65 300]\n",
      "    [230  30  78 270] >> [229  28  78 274]\n",
      "    [229  59  80 288] >> [232  63  78 301]\n",
      "    [231  33  78 260] >> [241  23  65 260]\n",
      "    [243  33  78 260] >> [243  32  82 270]\n",
      "  - Adding hosts\n",
      "    [229,80,59,288], [229,78,33,288], [240,33,62,236], [231,33,68,251], [230,48,78,253], [229,51,65,300], [229,28,78,274], [232,63,78,301], [241,23,65,260], [243,32,82,270]\n",
      "\n",
      "# Generation 163\n"
     ]
    },
    {
     "data": {
      "text/plain": [
       "@ Training progress: 100.0%"
      ]
     },
     "metadata": {},
     "output_type": "display_data"
    },
    {
     "name": "stdout",
     "output_type": "stream",
     "text": [
      "Parameters saved at Log 05.08.2019 16.17.txt!\n",
      "\n",
      "# All hosts\n",
      "  1) [229  33  78 288]: 0.92138\t\t  2) [229  59  80 288]: 0.92000\t\t\n",
      "  3) [231  33  62 246]: 0.91862\t\t  4) [231  33  78 260]: 0.91862\t\t\n",
      "  5) [230  30  78 270]: 0.91724\t\t  6) [229  28  85 243]: 0.91724\t\t\n",
      "  7) [230  49  78 269]: 0.91586\t\t  8) [243  33  78 260]: 0.91586\t\t\n",
      "  9) [231  41  89 288]: 0.91586\t\t 10) [230  31  89 288]: 0.91448\t\t\n",
      " 11) [229  28  78 274]: 0.88690\t\t 12) [229  51  65 300]: 0.87724\t\t\n",
      " 13) [241  23  65 260]: 0.86483\t\t 14) [230  48  78 253]: 0.85793\t\t\n",
      " 15) [232  63  78 301]: 0.85379\t\t 16) [229  78  33 288]: 0.84276\t\t\n",
      " 17) [231  33  68 251]: 0.84276\t\t 18) [240  33  62 236]: 0.83448\t\t\n",
      " 19) [243  32  82 270]: 0.78483\t\t 20) [229  80  59 288]: 0.78345\t\t\n",
      "- Average score: 0.88021\n",
      "\n",
      "- Evolving the hosts\n",
      "  - Removing half of the weaker hosts\n",
      "  - Crossovering top 2 hosts\n",
      "    [229  33  78 288] & [229  59  80 288] >> [0, 1, 3] & [3, 0, 1] >> [288 229  78  59] & [ 33 288  80 229]\n",
      "  - Mutating remaining top hosts\n",
      "    [229  59  80 288] >> [219  74  64 273]\n",
      "    [231  33  78 260] >> [244  16  70 260]\n",
      "    [229  33  78 288] >> [219  44  64 283]\n",
      "    [230  49  78 269] >> [230  49  78 269]\n",
      "    [229  28  85 243] >> [229  29  97 243]\n",
      "    [229  33  78 288] >> [229  25  67 305]\n",
      "    [229  28  85 243] >> [232  34  85 251]\n",
      "    [231  33  62 246] >> [219  33  53 256]\n",
      "  - Adding hosts\n",
      "    [288,229,78,59], [33,288,80,229], [219,74,64,273], [244,16,70,260], [219,44,64,283], [230,49,78,269], [229,29,97,243], [229,25,67,305], [232,34,85,251], [219,33,53,256]\n",
      "\n",
      "# Generation 164\n"
     ]
    },
    {
     "data": {
      "text/plain": [
       "@ Training progress: 100.0%"
      ]
     },
     "metadata": {},
     "output_type": "display_data"
    },
    {
     "name": "stdout",
     "output_type": "stream",
     "text": [
      "Parameters saved at Log 05.08.2019 16.17.txt!\n",
      "\n",
      "# All hosts\n",
      "  1) [229  33  78 288]: 0.92138\t\t  2) [229  59  80 288]: 0.92000\t\t\n",
      "  3) [231  33  62 246]: 0.91862\t\t  4) [231  33  78 260]: 0.91862\t\t\n",
      "  5) [230  30  78 270]: 0.91724\t\t  6) [229  28  85 243]: 0.91724\t\t\n",
      "  7) [230  49  78 269]: 0.91586\t\t  8) [243  33  78 260]: 0.91586\t\t\n",
      "  9) [231  41  89 288]: 0.91586\t\t 10) [230  31  89 288]: 0.91448\t\t\n",
      " 11) [230  49  78 269]: 0.89241\t\t 12) [244  16  70 260]: 0.89241\t\t\n",
      " 13) [288 229  78  59]: 0.87862\t\t 14) [229  25  67 305]: 0.86207\t\t\n",
      " 15) [219  44  64 283]: 0.85655\t\t 16) [219  74  64 273]: 0.80138\t\t\n",
      " 17) [232  34  85 251]: 0.78207\t\t 18) [ 33 288  80 229]: 0.77793\t\t\n",
      " 19) [229  29  97 243]: 0.74897\t\t 20) [219  33  53 256]: 0.72690\t\t\n",
      "- Average score: 0.86972\n",
      "\n",
      "- Evolving the hosts\n",
      "  - Removing half of the weaker hosts\n",
      "  - Crossovering top 2 hosts\n",
      "    [229  33  78 288] & [229  59  80 288] >> [1, 3] & [1, 3] >> [229  59  78 288] & [229  33  80 288]\n",
      "  - Mutating remaining top hosts\n",
      "    [230  49  78 269] >> [230  51  95 282]\n",
      "    [230  31  89 288] >> [230  43  87 303]\n",
      "    [230  49  78 269] >> [228  49  78 269]\n",
      "    [243  33  78 260] >> [252  49  94 260]\n",
      "    [229  33  78 288] >> [232  33  78 294]\n",
      "    [229  59  80 288] >> [214  54  69 288]\n",
      "    [230  31  89 288] >> [236  28  84 291]\n",
      "    [229  28  85 243] >> [242  41  70 243]\n",
      "  - Adding hosts\n",
      "    [229,59,78,288], [229,33,80,288], [230,51,95,282], [230,43,87,303], [228,49,78,269], [252,49,94,260], [232,33,78,294], [214,54,69,288], [236,28,84,291], [242,41,70,243]\n",
      "\n",
      "# Generation 165\n"
     ]
    },
    {
     "data": {
      "text/plain": [
       "@ Training progress: 100.0%"
      ]
     },
     "metadata": {},
     "output_type": "display_data"
    },
    {
     "name": "stdout",
     "output_type": "stream",
     "text": [
      "Parameters saved at Log 05.08.2019 16.17.txt!\n",
      "\n",
      "# All hosts\n",
      "  1) [229  33  78 288]: 0.92138\t\t  2) [229  59  80 288]: 0.92000\t\t\n",
      "  3) [231  33  62 246]: 0.91862\t\t  4) [231  33  78 260]: 0.91862\t\t\n",
      "  5) [230  30  78 270]: 0.91724\t\t  6) [229  28  85 243]: 0.91724\t\t\n",
      "  7) [230  49  78 269]: 0.91586\t\t  8) [243  33  78 260]: 0.91586\t\t\n",
      "  9) [231  41  89 288]: 0.91586\t\t 10) [230  31  89 288]: 0.91448\t\t\n",
      " 11) [230  51  95 282]: 0.89379\t\t 12) [228  49  78 269]: 0.89103\t\t\n",
      " 13) [236  28  84 291]: 0.88690\t\t 14) [214  54  69 288]: 0.88690\t\t\n",
      " 15) [229  33  80 288]: 0.84828\t\t 16) [229  59  78 288]: 0.84138\t\t\n",
      " 17) [232  33  78 294]: 0.81655\t\t 18) [252  49  94 260]: 0.80138\t\t\n",
      " 19) [242  41  70 243]: 0.73517\t\t 20) [230  43  87 303]: 0.71724\t\t\n",
      "- Average score: 0.87469\n",
      "\n",
      "- Evolving the hosts\n",
      "  - Removing half of the weaker hosts\n",
      "  - Crossovering top 2 hosts\n",
      "    [229  33  78 288] & [229  59  80 288] >> [0, 1, 3] & [0, 3, 1] >> [229 288  78  59] & [229 288  80  33]\n",
      "  - Mutating remaining top hosts\n",
      "    [243  33  78 260] >> [243  33  78 245]\n",
      "    [231  33  78 260] >> [231  29  72 262]\n",
      "    [230  49  78 269] >> [241  53  78 269]\n",
      "    [231  33  78 260] >> [231  33  73 260]\n",
      "    [230  30  78 270] >> [234  17  83 270]\n",
      "    [230  31  89 288] >> [222  37  89 288]\n",
      "    [230  49  78 269] >> [231  48  69 260]\n",
      "    [230  30  78 270] >> [230  21  78 281]\n",
      "  - Adding hosts\n",
      "    [229,288,78,59], [229,288,80,33], [243,33,78,245], [231,29,72,262], [241,53,78,269], [231,33,73,260], [234,17,83,270], [222,37,89,288], [231,48,69,260], [230,21,78,281]\n",
      "\n",
      "# Generation 166\n"
     ]
    },
    {
     "data": {
      "text/plain": [
       "@ Training progress: 100.0%"
      ]
     },
     "metadata": {},
     "output_type": "display_data"
    },
    {
     "name": "stdout",
     "output_type": "stream",
     "text": [
      "Parameters saved at Log 05.08.2019 16.17.txt!\n",
      "\n",
      "# All hosts\n",
      "  1) [229  33  78 288]: 0.92138\t\t  2) [229  59  80 288]: 0.92000\t\t\n",
      "  3) [231  33  62 246]: 0.91862\t\t  4) [231  33  78 260]: 0.91862\t\t\n",
      "  5) [230  30  78 270]: 0.91724\t\t  6) [229  28  85 243]: 0.91724\t\t\n",
      "  7) [230  49  78 269]: 0.91586\t\t  8) [243  33  78 260]: 0.91586\t\t\n",
      "  9) [231  41  89 288]: 0.91586\t\t 10) [230  31  89 288]: 0.91448\t\t\n",
      " 11) [231  48  69 260]: 0.88138\t\t 12) [231  33  73 260]: 0.87724\t\t\n",
      " 13) [243  33  78 245]: 0.86069\t\t 14) [231  29  72 262]: 0.85931\t\t\n",
      " 15) [222  37  89 288]: 0.85517\t\t 16) [234  17  83 270]: 0.84828\t\t\n",
      " 17) [230  21  78 281]: 0.81379\t\t 18) [229 288  80  33]: 0.80966\t\t\n",
      " 19) [241  53  78 269]: 0.76690\t\t 20) [229 288  78  59]: 0.65241\t\t\n",
      "- Average score: 0.87000\n",
      "\n",
      "- Evolving the hosts\n",
      "  - Removing half of the weaker hosts\n",
      "  - Crossovering top 2 hosts\n",
      "    [229  33  78 288] & [229  59  80 288] >> [0, 1] & [0, 1] >> [229  59  78 288] & [229  33  80 288]\n",
      "  - Mutating remaining top hosts\n",
      "    [231  41  89 288] >> [238  32 100 298]\n",
      "    [231  33  62 246] >> [220  18  77 262]\n",
      "    [231  33  78 260] >> [244  33  78 261]\n",
      "    [231  33  62 246] >> [236  21  70 244]\n",
      "    [229  28  85 243] >> [231  37  90 244]\n",
      "    [243  33  78 260] >> [243  38  87 268]\n",
      "    [231  41  89 288] >> [221  37  81 285]\n",
      "    [231  33  78 260] >> [221  44  78 252]\n",
      "  - Adding hosts\n",
      "    [229,59,78,288], [229,33,80,288], [238,32,100,298], [220,18,77,262], [244,33,78,261], [236,21,70,244], [231,37,90,244], [243,38,87,268], [221,37,81,285], [221,44,78,252]\n",
      "\n",
      "# Generation 167\n"
     ]
    },
    {
     "data": {
      "text/plain": [
       "@ Training progress: 100.0%"
      ]
     },
     "metadata": {},
     "output_type": "display_data"
    },
    {
     "name": "stdout",
     "output_type": "stream",
     "text": [
      "Parameters saved at Log 05.08.2019 16.17.txt!\n",
      "\n",
      "# All hosts\n",
      "  1) [229  33  78 288]: 0.92138\t\t  2) [229  59  80 288]: 0.92000\t\t\n",
      "  3) [231  33  62 246]: 0.91862\t\t  4) [231  33  78 260]: 0.91862\t\t\n",
      "  5) [230  30  78 270]: 0.91724\t\t  6) [229  28  85 243]: 0.91724\t\t\n",
      "  7) [230  49  78 269]: 0.91586\t\t  8) [243  33  78 260]: 0.91586\t\t\n",
      "  9) [231  41  89 288]: 0.91586\t\t 10) [230  31  89 288]: 0.91448\t\t\n",
      " 11) [244  33  78 261]: 0.90483\t\t 12) [229  33  80 288]: 0.87586\t\t\n",
      " 13) [220  18  77 262]: 0.84000\t\t 14) [236  21  70 244]: 0.82897\t\t\n",
      " 15) [238  32 100 298]: 0.82897\t\t 16) [221  44  78 252]: 0.82897\t\t\n",
      " 17) [229  59  78 288]: 0.80414\t\t 18) [231  37  90 244]: 0.77517\t\t\n",
      " 19) [221  37  81 285]: 0.77241\t\t 20) [243  38  87 268]: 0.76828\t\t\n",
      "- Average score: 0.87014\n",
      "\n",
      "- Evolving the hosts\n",
      "  - Removing half of the weaker hosts\n",
      "  - Crossovering top 2 hosts\n",
      "    [229  33  78 288] & [229  59  80 288] >> [1, 3] & [1, 3] >> [229  59  78 288] & [229  33  80 288]\n",
      "  - Mutating remaining top hosts\n",
      "    [231  41  89 288] >> [231  34  73 288]\n",
      "    [231  33  78 260] >> [231  33  81 252]\n",
      "    [230  30  78 270] >> [230  30  66 268]\n",
      "    [229  33  78 288] >> [223  47  63 274]\n",
      "    [229  28  85 243] >> [245  28  85 245]\n",
      "    [230  30  78 270] >> [230  27  85 262]\n",
      "    [231  33  62 246] >> [231  36  62 261]\n",
      "    [230  30  78 270] >> [240  44  70 270]\n",
      "  - Adding hosts\n",
      "    [229,59,78,288], [229,33,80,288], [231,34,73,288], [231,33,81,252], [230,30,66,268], [223,47,63,274], [245,28,85,245], [230,27,85,262], [231,36,62,261], [240,44,70,270]\n",
      "\n",
      "# Generation 168\n"
     ]
    },
    {
     "data": {
      "text/plain": [
       "@ Training progress: 100.0%"
      ]
     },
     "metadata": {},
     "output_type": "display_data"
    },
    {
     "name": "stdout",
     "output_type": "stream",
     "text": [
      "Parameters saved at Log 05.08.2019 16.17.txt!\n",
      "\n",
      "# All hosts\n",
      "  1) [229  33  78 288]: 0.92138\t\t  2) [229  59  80 288]: 0.92000\t\t\n",
      "  3) [231  33  62 246]: 0.91862\t\t  4) [231  33  78 260]: 0.91862\t\t\n",
      "  5) [230  30  78 270]: 0.91724\t\t  6) [229  28  85 243]: 0.91724\t\t\n",
      "  7) [230  49  78 269]: 0.91586\t\t  8) [243  33  78 260]: 0.91586\t\t\n",
      "  9) [231  41  89 288]: 0.91586\t\t 10) [230  31  89 288]: 0.91448\t\t\n",
      " 11) [231  33  81 252]: 0.86345\t\t 12) [223  47  63 274]: 0.86069\t\t\n",
      " 13) [240  44  70 270]: 0.83310\t\t 14) [229  33  80 288]: 0.83310\t\t\n",
      " 15) [230  27  85 262]: 0.81103\t\t 16) [245  28  85 245]: 0.78759\t\t\n",
      " 17) [231  34  73 288]: 0.76690\t\t 18) [229  59  78 288]: 0.75724\t\t\n",
      " 19) [230  30  66 268]: 0.74483\t\t 20) [231  36  62 261]: 0.71448\t\t\n",
      "- Average score: 0.85738\n",
      "\n",
      "- Evolving the hosts\n",
      "  - Removing half of the weaker hosts\n",
      "  - Crossovering top 2 hosts\n",
      "    [229  33  78 288] & [229  59  80 288] >> [1, 2] & [2, 1] >> [229  80  59 288] & [229  78  33 288]\n",
      "  - Mutating remaining top hosts\n",
      "    [231  41  89 288] >> [231  45  89 290]\n",
      "    [229  33  78 288] >> [229  33  78 297]\n",
      "    [230  31  89 288] >> [229  34  79 279]\n",
      "    [231  33  62 246] >> [230  36  62 246]\n",
      "    [230  31  89 288] >> [230  40  93 273]\n",
      "    [230  30  78 270] >> [229  30  78 271]\n",
      "    [229  59  80 288] >> [219  54  78 278]\n",
      "    [230  31  89 288] >> [245  19  96 294]\n",
      "  - Adding hosts\n",
      "    [229,80,59,288], [229,78,33,288], [231,45,89,290], [229,33,78,297], [229,34,79,279], [230,36,62,246], [230,40,93,273], [229,30,78,271], [219,54,78,278], [245,19,96,294]\n",
      "\n",
      "# Generation 169\n"
     ]
    },
    {
     "data": {
      "text/plain": [
       "@ Training progress: 100.0%"
      ]
     },
     "metadata": {},
     "output_type": "display_data"
    },
    {
     "name": "stdout",
     "output_type": "stream",
     "text": [
      "Parameters saved at Log 05.08.2019 16.17.txt!\n",
      "\n",
      "# All hosts\n",
      "  1) [229  33  78 288]: 0.92138\t\t  2) [229  59  80 288]: 0.92000\t\t\n",
      "  3) [231  33  62 246]: 0.91862\t\t  4) [231  33  78 260]: 0.91862\t\t\n",
      "  5) [230  30  78 270]: 0.91724\t\t  6) [229  28  85 243]: 0.91724\t\t\n",
      "  7) [230  49  78 269]: 0.91586\t\t  8) [243  33  78 260]: 0.91586\t\t\n",
      "  9) [231  41  89 288]: 0.91586\t\t 10) [230  31  89 288]: 0.91448\t\t\n",
      " 11) [229  33  78 297]: 0.86069\t\t 12) [229  30  78 271]: 0.85241\t\t\n",
      " 13) [231  45  89 290]: 0.84276\t\t 14) [230  40  93 273]: 0.83034\t\t\n",
      " 15) [219  54  78 278]: 0.81241\t\t 16) [230  36  62 246]: 0.80552\t\t\n",
      " 17) [229  78  33 288]: 0.78897\t\t 18) [229  34  79 279]: 0.78345\t\t\n",
      " 19) [229  80  59 288]: 0.77793\t\t 20) [245  19  96 294]: 0.72966\t\t\n",
      "- Average score: 0.86297\n",
      "\n",
      "- Evolving the hosts\n",
      "  - Removing half of the weaker hosts\n",
      "  - Crossovering top 2 hosts\n",
      "    [229  33  78 288] & [229  59  80 288] >> [1, 2, 3] & [3, 1, 2] >> [229 288  59  80] & [229  78 288  33]\n",
      "  - Mutating remaining top hosts\n",
      "    [230  31  89 288] >> [230  38  76 288]\n",
      "    [231  33  78 260] >> [231  22  78 260]\n",
      "    [230  31  89 288] >> [233  31 102 288]\n",
      "    [229  33  78 288] >> [240  33  68 282]\n",
      "    [229  33  78 288] >> [217  30  71 285]\n",
      "    [230  30  78 270] >> [213  30  78 255]\n",
      "    [230  31  89 288] >> [245  34  89 305]\n",
      "    [230  31  89 288] >> [224  44  85 303]\n",
      "  - Adding hosts\n",
      "    [229,288,59,80], [229,78,288,33], [230,38,76,288], [231,22,78,260], [233,31,102,288], [240,33,68,282], [217,30,71,285], [213,30,78,255], [245,34,89,305], [224,44,85,303]\n",
      "\n",
      "# Generation 170\n"
     ]
    },
    {
     "data": {
      "text/plain": [
       "@ Training progress: 100.0%"
      ]
     },
     "metadata": {},
     "output_type": "display_data"
    },
    {
     "name": "stdout",
     "output_type": "stream",
     "text": [
      "Parameters saved at Log 05.08.2019 16.17.txt!\n",
      "\n",
      "# All hosts\n",
      "  1) [229  33  78 288]: 0.92138\t\t  2) [229  59  80 288]: 0.92000\t\t\n",
      "  3) [231  33  62 246]: 0.91862\t\t  4) [231  33  78 260]: 0.91862\t\t\n",
      "  5) [230  30  78 270]: 0.91724\t\t  6) [229  28  85 243]: 0.91724\t\t\n",
      "  7) [230  49  78 269]: 0.91586\t\t  8) [243  33  78 260]: 0.91586\t\t\n",
      "  9) [231  41  89 288]: 0.91586\t\t 10) [230  31  89 288]: 0.91448\t\t\n",
      " 11) [213  30  78 255]: 0.86483\t\t 12) [217  30  71 285]: 0.86345\t\t\n",
      " 13) [240  33  68 282]: 0.83310\t\t 14) [229  78 288  33]: 0.82483\t\t\n",
      " 15) [229 288  59  80]: 0.82483\t\t 16) [224  44  85 303]: 0.81655\t\t\n",
      " 17) [231  22  78 260]: 0.80828\t\t 18) [245  34  89 305]: 0.80690\t\t\n",
      " 19) [233  31 102 288]: 0.78345\t\t 20) [230  38  76 288]: 0.73379\t\t\n",
      "- Average score: 0.86676\n",
      "\n",
      "- Evolving the hosts\n",
      "  - Removing half of the weaker hosts\n",
      "  - Crossovering top 2 hosts\n",
      "    [229  33  78 288] & [229  59  80 288] >> [0, 2, 3] & [3, 0, 2] >> [288  33 229  80] & [ 78  59 288 229]\n",
      "  - Mutating remaining top hosts\n",
      "    [229  33  78 288] >> [229  22  78 276]\n",
      "    [229  33  78 288] >> [229  33  78 279]\n",
      "    [229  33  78 288] >> [226  33  89 288]\n",
      "    [230  31  89 288] >> [232  16  89 298]\n",
      "    [230  30  78 270] >> [223  42  78 270]\n",
      "    [230  30  78 270] >> [215  22  90 285]\n",
      "    [231  33  62 246] >> [229  32  76 246]\n",
      "    [231  41  89 288] >> [231  41 100 292]\n",
      "  - Adding hosts\n",
      "    [288,33,229,80], [78,59,288,229], [229,22,78,276], [229,33,78,279], [226,33,89,288], [232,16,89,298], [223,42,78,270], [215,22,90,285], [229,32,76,246], [231,41,100,292]\n",
      "\n",
      "# Generation 171\n"
     ]
    },
    {
     "data": {
      "text/plain": [
       "@ Training progress: 100.0%"
      ]
     },
     "metadata": {},
     "output_type": "display_data"
    },
    {
     "name": "stdout",
     "output_type": "stream",
     "text": [
      "Parameters saved at Log 05.08.2019 16.17.txt!\n",
      "\n",
      "# All hosts\n",
      "  1) [229  33  78 288]: 0.92138\t\t  2) [229  59  80 288]: 0.92000\t\t\n",
      "  3) [231  33  62 246]: 0.91862\t\t  4) [231  33  78 260]: 0.91862\t\t\n",
      "  5) [230  30  78 270]: 0.91724\t\t  6) [229  28  85 243]: 0.91724\t\t\n",
      "  7) [230  49  78 269]: 0.91586\t\t  8) [243  33  78 260]: 0.91586\t\t\n",
      "  9) [231  41  89 288]: 0.91586\t\t 10) [230  31  89 288]: 0.91448\t\t\n",
      " 11) [229  33  78 279]: 0.89103\t\t 12) [232  16  89 298]: 0.88414\t\t\n",
      " 13) [ 78  59 288 229]: 0.88276\t\t 14) [226  33  89 288]: 0.87034\t\t\n",
      " 15) [229  32  76 246]: 0.86345\t\t 16) [223  42  78 270]: 0.86207\t\t\n",
      " 17) [288  33 229  80]: 0.84138\t\t 18) [215  22  90 285]: 0.82483\t\t\n",
      " 19) [229  22  78 276]: 0.77103\t\t 20) [231  41 100 292]: 0.74345\t\t\n",
      "- Average score: 0.88048\n",
      "\n",
      "- Evolving the hosts\n",
      "  - Removing half of the weaker hosts\n",
      "  - Crossovering top 2 hosts\n",
      "    [229  33  78 288] & [229  59  80 288] >> [0, 1, 2] & [2, 0, 1] >> [ 80 229  59 288] & [ 33  78 229 288]\n",
      "  - Mutating remaining top hosts\n",
      "    [231  33  62 246] >> [224  50  63 235]\n",
      "    [230  30  78 270] >> [230  21  74 257]\n",
      "    [229  59  80 288] >> [226  49  96 283]\n",
      "    [229  28  85 243] >> [243  44  85 227]\n",
      "    [230  49  78 269] >> [215  49  76 261]\n",
      "    [230  49  78 269] >> [228  60  79 271]\n",
      "    [230  49  78 269] >> [230  58  90 269]\n",
      "    [243  33  78 260] >> [242  33  77 254]\n",
      "  - Adding hosts\n",
      "    [80,229,59,288], [33,78,229,288], [224,50,63,235], [230,21,74,257], [226,49,96,283], [243,44,85,227], [215,49,76,261], [228,60,79,271], [230,58,90,269], [242,33,77,254]\n",
      "\n",
      "# Generation 172\n"
     ]
    },
    {
     "data": {
      "text/plain": [
       "@ Training progress: 100.0%"
      ]
     },
     "metadata": {},
     "output_type": "display_data"
    },
    {
     "name": "stdout",
     "output_type": "stream",
     "text": [
      "Parameters saved at Log 05.08.2019 16.17.txt!\n",
      "\n",
      "# All hosts\n",
      "  1) [229  33  78 288]: 0.92138\t\t  2) [229  59  80 288]: 0.92000\t\t\n",
      "  3) [231  33  62 246]: 0.91862\t\t  4) [231  33  78 260]: 0.91862\t\t\n",
      "  5) [230  30  78 270]: 0.91724\t\t  6) [229  28  85 243]: 0.91724\t\t\n",
      "  7) [230  49  78 269]: 0.91586\t\t  8) [243  33  78 260]: 0.91586\t\t\n",
      "  9) [231  41  89 288]: 0.91586\t\t 10) [230  31  89 288]: 0.91448\t\t\n",
      " 11) [226  49  96 283]: 0.87310\t\t 12) [230  21  74 257]: 0.87172\t\t\n",
      " 13) [230  58  90 269]: 0.86483\t\t 14) [224  50  63 235]: 0.85931\t\t\n",
      " 15) [228  60  79 271]: 0.85931\t\t 16) [ 80 229  59 288]: 0.84276\t\t\n",
      " 17) [215  49  76 261]: 0.84000\t\t 18) [ 33  78 229 288]: 0.83172\t\t\n",
      " 19) [243  44  85 227]: 0.79310\t\t 20) [242  33  77 254]: 0.74621\t\t\n",
      "- Average score: 0.87786\n",
      "\n",
      "- Evolving the hosts\n",
      "  - Removing half of the weaker hosts\n",
      "  - Crossovering top 2 hosts\n",
      "    [229  33  78 288] & [229  59  80 288] >> [0, 1, 3] & [1, 0, 3] >> [ 59 229  78 288] & [ 33 229  80 288]\n",
      "  - Mutating remaining top hosts\n",
      "    [230  49  78 269] >> [238  49  78 265]\n",
      "    [230  49  78 269] >> [233  49  90 282]\n",
      "    [231  33  78 260] >> [247  36  78 260]\n",
      "    [229  59  80 288] >> [229  53  67 288]\n",
      "    [229  33  78 288] >> [229  22  91 278]\n",
      "    [231  41  89 288] >> [231  28 104 288]\n",
      "    [230  49  78 269] >> [213  44  78 269]\n",
      "    [230  30  78 270] >> [229  25  93 270]\n",
      "  - Adding hosts\n",
      "    [59,229,78,288], [33,229,80,288], [238,49,78,265], [233,49,90,282], [247,36,78,260], [229,53,67,288], [229,22,91,278], [231,28,104,288], [213,44,78,269], [229,25,93,270]\n",
      "\n",
      "# Generation 173\n"
     ]
    },
    {
     "data": {
      "text/plain": [
       "@ Training progress: 100.0%"
      ]
     },
     "metadata": {},
     "output_type": "display_data"
    },
    {
     "name": "stdout",
     "output_type": "stream",
     "text": [
      "Parameters saved at Log 05.08.2019 16.17.txt!\n",
      "\n",
      "# All hosts\n",
      "  1) [229  33  78 288]: 0.92138\t\t  2) [229  59  80 288]: 0.92000\t\t\n",
      "  3) [231  33  62 246]: 0.91862\t\t  4) [231  33  78 260]: 0.91862\t\t\n",
      "  5) [230  30  78 270]: 0.91724\t\t  6) [229  28  85 243]: 0.91724\t\t\n",
      "  7) [230  49  78 269]: 0.91586\t\t  8) [243  33  78 260]: 0.91586\t\t\n",
      "  9) [231  41  89 288]: 0.91586\t\t 10) [230  31  89 288]: 0.91448\t\t\n",
      " 11) [229  25  93 270]: 0.89793\t\t 12) [238  49  78 265]: 0.89103\t\t\n",
      " 13) [213  44  78 269]: 0.88966\t\t 14) [233  49  90 282]: 0.88966\t\t\n",
      " 15) [231  28 104 288]: 0.83862\t\t 16) [229  53  67 288]: 0.77517\t\t\n",
      " 17) [229  22  91 278]: 0.76690\t\t 18) [ 59 229  78 288]: 0.76000\t\t\n",
      " 19) [247  36  78 260]: 0.72966\t\t 20) [ 33 229  80 288]: 0.71724\t\t\n",
      "- Average score: 0.86655\n",
      "\n",
      "- Evolving the hosts\n",
      "  - Removing half of the weaker hosts\n",
      "  - Crossovering top 2 hosts\n",
      "    [229  33  78 288] & [229  59  80 288] >> [1, 3] & [1, 3] >> [229  59  78 288] & [229  33  80 288]\n",
      "  - Mutating remaining top hosts\n",
      "    [230  30  78 270] >> [237  30  78 270]\n",
      "    [229  28  85 243] >> [216  28  73 234]\n",
      "    [229  33  78 288] >> [237  33  64 303]\n",
      "    [231  33  62 246] >> [222  33  62 241]\n",
      "    [230  30  78 270] >> [220  44  84 282]\n",
      "    [243  33  78 260] >> [235  41  69 269]\n",
      "    [230  31  89 288] >> [230  31  81 288]\n",
      "    [230  31  89 288] >> [230  21  92 288]\n",
      "  - Adding hosts\n",
      "    [229,59,78,288], [229,33,80,288], [237,30,78,270], [216,28,73,234], [237,33,64,303], [222,33,62,241], [220,44,84,282], [235,41,69,269], [230,31,81,288], [230,21,92,288]\n",
      "\n",
      "# Generation 174\n"
     ]
    },
    {
     "data": {
      "text/plain": [
       "@ Training progress: 100.0%"
      ]
     },
     "metadata": {},
     "output_type": "display_data"
    },
    {
     "name": "stdout",
     "output_type": "stream",
     "text": [
      "Parameters saved at Log 05.08.2019 16.17.txt!\n",
      "\n",
      "# All hosts\n",
      "  1) [229  33  78 288]: 0.92138\t\t  2) [229  59  80 288]: 0.92000\t\t\n",
      "  3) [231  33  62 246]: 0.91862\t\t  4) [231  33  78 260]: 0.91862\t\t\n",
      "  5) [230  30  78 270]: 0.91724\t\t  6) [229  28  85 243]: 0.91724\t\t\n",
      "  7) [230  49  78 269]: 0.91586\t\t  8) [243  33  78 260]: 0.91586\t\t\n",
      "  9) [231  41  89 288]: 0.91586\t\t 10) [230  31  89 288]: 0.91448\t\t\n",
      " 11) [216  28  73 234]: 0.88552\t\t 12) [220  44  84 282]: 0.87448\t\t\n",
      " 13) [237  33  64 303]: 0.85517\t\t 14) [229  59  78 288]: 0.84690\t\t\n",
      " 15) [230  31  81 288]: 0.83172\t\t 16) [230  21  92 288]: 0.81103\t\t\n",
      " 17) [229  33  80 288]: 0.78759\t\t 18) [235  41  69 269]: 0.71862\t\t\n",
      " 19) [237  30  78 270]: 0.70621\t\t 20) [222  33  62 241]: 0.67172\t\t\n",
      "- Average score: 0.85821\n",
      "\n",
      "- Evolving the hosts\n",
      "  - Removing half of the weaker hosts\n",
      "  - Crossovering top 2 hosts\n",
      "    [229  33  78 288] & [229  59  80 288] >> [0, 1, 2, 3] & [3, 2, 1, 0] >> [288  80  59 229] & [288  78  33 229]\n",
      "  - Mutating remaining top hosts\n",
      "    [230  30  78 270] >> [241  28  78 279]\n",
      "    [229  28  85 243] >> [216  26  80 243]\n",
      "    [230  31  89 288] >> [230  31  72 288]\n",
      "    [231  41  89 288] >> [222  45 102 288]\n",
      "    [231  33  62 246] >> [231  16  62 260]\n",
      "    [230  30  78 270] >> [230  20  89 270]\n",
      "    [243  33  78 260] >> [253  33  78 260]\n",
      "    [243  33  78 260] >> [235  39  78 245]\n",
      "  - Adding hosts\n",
      "    [288,80,59,229], [288,78,33,229], [241,28,78,279], [216,26,80,243], [230,31,72,288], [222,45,102,288], [231,16,62,260], [230,20,89,270], [253,33,78,260], [235,39,78,245]\n",
      "\n",
      "# Generation 175\n"
     ]
    },
    {
     "data": {
      "text/plain": [
       "@ Training progress: 100.0%"
      ]
     },
     "metadata": {},
     "output_type": "display_data"
    },
    {
     "name": "stdout",
     "output_type": "stream",
     "text": [
      "Parameters saved at Log 05.08.2019 16.17.txt!\n",
      "\n",
      "# All hosts\n",
      "  1) [229  33  78 288]: 0.92138\t\t  2) [229  59  80 288]: 0.92000\t\t\n",
      "  3) [231  33  62 246]: 0.91862\t\t  4) [231  33  78 260]: 0.91862\t\t\n",
      "  5) [230  30  78 270]: 0.91724\t\t  6) [229  28  85 243]: 0.91724\t\t\n",
      "  7) [230  49  78 269]: 0.91586\t\t  8) [243  33  78 260]: 0.91586\t\t\n",
      "  9) [231  41  89 288]: 0.91586\t\t 10) [230  31  89 288]: 0.91448\t\t\n",
      " 11) [230  20  89 270]: 0.90345\t\t 12) [288  78  33 229]: 0.86069\t\t\n",
      " 13) [241  28  78 279]: 0.85793\t\t 14) [216  26  80 243]: 0.85241\t\t\n",
      " 15) [231  16  62 260]: 0.84690\t\t 16) [288  80  59 229]: 0.84000\t\t\n",
      " 17) [222  45 102 288]: 0.83034\t\t 18) [230  31  72 288]: 0.82759\t\t\n",
      " 19) [253  33  78 260]: 0.82483\t\t 20) [235  39  78 245]: 0.77241\t\t\n",
      "- Average score: 0.87959\n",
      "\n",
      "- Evolving the hosts\n",
      "  - Removing half of the weaker hosts\n",
      "  - Crossovering top 2 hosts\n",
      "    [229  33  78 288] & [229  59  80 288] >> [1, 3] & [3, 1] >> [229 288  78  59] & [229 288  80  33]\n",
      "  - Mutating remaining top hosts\n",
      "    [230  31  89 288] >> [225  31  89 298]\n",
      "    [231  41  89 288] >> [228  24  89 299]\n",
      "    [230  49  78 269] >> [242  43  78 269]\n",
      "    [243  33  78 260] >> [228  33  77 267]\n",
      "    [243  33  78 260] >> [226  33  66 260]\n",
      "    [229  28  85 243] >> [239  28 101 235]\n",
      "    [231  33  78 260] >> [223  37  75 243]\n",
      "    [229  28  85 243] >> [229  22  85 248]\n",
      "  - Adding hosts\n",
      "    [229,288,78,59], [229,288,80,33], [225,31,89,298], [228,24,89,299], [242,43,78,269], [228,33,77,267], [226,33,66,260], [239,28,101,235], [223,37,75,243], [229,22,85,248]\n",
      "\n",
      "# Generation 176\n"
     ]
    },
    {
     "data": {
      "text/plain": [
       "@ Training progress: 100.0%"
      ]
     },
     "metadata": {},
     "output_type": "display_data"
    },
    {
     "name": "stdout",
     "output_type": "stream",
     "text": [
      "Parameters saved at Log 05.08.2019 16.17.txt!\n",
      "\n",
      "# All hosts\n",
      "  1) [229  33  78 288]: 0.92138\t\t  2) [229  59  80 288]: 0.92000\t\t\n",
      "  3) [231  33  62 246]: 0.91862\t\t  4) [231  33  78 260]: 0.91862\t\t\n",
      "  5) [230  30  78 270]: 0.91724\t\t  6) [229  28  85 243]: 0.91724\t\t\n",
      "  7) [230  49  78 269]: 0.91586\t\t  8) [243  33  78 260]: 0.91586\t\t\n",
      "  9) [231  41  89 288]: 0.91586\t\t 10) [230  31  89 288]: 0.91448\t\t\n",
      " 11) [239  28 101 235]: 0.86897\t\t 12) [242  43  78 269]: 0.84828\t\t\n",
      " 13) [229 288  80  33]: 0.84690\t\t 14) [226  33  66 260]: 0.84276\t\t\n",
      " 15) [225  31  89 298]: 0.83586\t\t 16) [228  24  89 299]: 0.82069\t\t\n",
      " 17) [229 288  78  59]: 0.75448\t\t 18) [223  37  75 243]: 0.73655\t\t\n",
      " 19) [228  33  77 267]: 0.72690\t\t 20) [229  22  85 248]: 0.64000\t\t\n",
      "- Average score: 0.85483\n",
      "\n",
      "- Evolving the hosts\n",
      "  - Removing half of the weaker hosts\n",
      "  - Crossovering top 2 hosts\n",
      "    [229  33  78 288] & [229  59  80 288] >> [0, 2] & [2, 0] >> [ 80  33 229 288] & [ 78  59 229 288]\n",
      "  - Mutating remaining top hosts\n",
      "    [230  31  89 288] >> [236  31  89 282]\n",
      "    [229  33  78 288] >> [219  42  78 277]\n",
      "    [229  28  85 243] >> [213  28  75 243]\n",
      "    [231  33  62 246] >> [231  49  62 239]\n",
      "    [230  31  89 288] >> [230  17  76 288]\n",
      "    [230  49  78 269] >> [226  64  68 269]\n",
      "    [230  31  89 288] >> [230  23  90 288]\n",
      "    [229  28  85 243] >> [215  13  80 240]\n",
      "  - Adding hosts\n",
      "    [80,33,229,288], [78,59,229,288], [236,31,89,282], [219,42,78,277], [213,28,75,243], [231,49,62,239], [230,17,76,288], [226,64,68,269], [230,23,90,288], [215,13,80,240]\n",
      "\n",
      "# Generation 177\n"
     ]
    },
    {
     "data": {
      "text/plain": [
       "@ Training progress: 100.0%"
      ]
     },
     "metadata": {},
     "output_type": "display_data"
    },
    {
     "name": "stdout",
     "output_type": "stream",
     "text": [
      "Parameters saved at Log 05.08.2019 16.17.txt!\n",
      "\n",
      "# All hosts\n",
      "  1) [229  33  78 288]: 0.92138\t\t  2) [229  59  80 288]: 0.92000\t\t\n",
      "  3) [231  33  62 246]: 0.91862\t\t  4) [231  33  78 260]: 0.91862\t\t\n",
      "  5) [230  30  78 270]: 0.91724\t\t  6) [229  28  85 243]: 0.91724\t\t\n",
      "  7) [230  49  78 269]: 0.91586\t\t  8) [243  33  78 260]: 0.91586\t\t\n",
      "  9) [231  41  89 288]: 0.91586\t\t 10) [230  31  89 288]: 0.91448\t\t\n",
      " 11) [213  28  75 243]: 0.90207\t\t 12) [236  31  89 282]: 0.87862\t\t\n",
      " 13) [ 80  33 229 288]: 0.87586\t\t 14) [219  42  78 277]: 0.86207\t\t\n",
      " 15) [230  23  90 288]: 0.82759\t\t 16) [231  49  62 239]: 0.82207\t\t\n",
      " 17) [215  13  80 240]: 0.79586\t\t 18) [226  64  68 269]: 0.78897\t\t\n",
      " 19) [230  17  76 288]: 0.78897\t\t 20) [ 78  59 229 288]: 0.76138\t\t\n",
      "- Average score: 0.87393\n",
      "\n",
      "- Evolving the hosts\n",
      "  - Removing half of the weaker hosts\n",
      "  - Crossovering top 2 hosts\n",
      "    [229  33  78 288] & [229  59  80 288] >> [0, 2, 3] & [2, 0, 3] >> [ 80  33 229 288] & [ 78  59 229 288]\n",
      "  - Mutating remaining top hosts\n",
      "    [231  33  62 246] >> [231  33  70 229]\n",
      "    [243  33  78 260] >> [235  33  75 270]\n",
      "    [230  30  78 270] >> [229  26  73 274]\n",
      "    [231  33  62 246] >> [219  40  73 230]\n",
      "    [230  31  89 288] >> [230  14 100 288]\n",
      "    [230  49  78 269] >> [222  59  95 276]\n",
      "    [231  33  62 246] >> [247  33  75 237]\n",
      "    [231  33  78 260] >> [227  49  73 252]\n",
      "  - Adding hosts\n",
      "    [80,33,229,288], [78,59,229,288], [231,33,70,229], [235,33,75,270], [229,26,73,274], [219,40,73,230], [230,14,100,288], [222,59,95,276], [247,33,75,237], [227,49,73,252]\n",
      "\n",
      "# Generation 178\n"
     ]
    },
    {
     "data": {
      "text/plain": [
       "@ Training progress: 100.0%"
      ]
     },
     "metadata": {},
     "output_type": "display_data"
    },
    {
     "name": "stdout",
     "output_type": "stream",
     "text": [
      "Parameters saved at Log 05.08.2019 16.17.txt!\n",
      "\n",
      "# All hosts\n",
      "  1) [229  33  78 288]: 0.92138\t\t  2) [229  59  80 288]: 0.92000\t\t\n",
      "  3) [231  33  62 246]: 0.91862\t\t  4) [231  33  78 260]: 0.91862\t\t\n",
      "  5) [230  30  78 270]: 0.91724\t\t  6) [229  28  85 243]: 0.91724\t\t\n",
      "  7) [230  49  78 269]: 0.91586\t\t  8) [243  33  78 260]: 0.91586\t\t\n",
      "  9) [231  41  89 288]: 0.91586\t\t 10) [230  31  89 288]: 0.91448\t\t\n",
      " 11) [230  14 100 288]: 0.90483\t\t 12) [227  49  73 252]: 0.88966\t\t\n",
      " 13) [219  40  73 230]: 0.88276\t\t 14) [ 80  33 229 288]: 0.88138\t\t\n",
      " 15) [235  33  75 270]: 0.87724\t\t 16) [ 78  59 229 288]: 0.83862\t\t\n",
      " 17) [231  33  70 229]: 0.81655\t\t 18) [229  26  73 274]: 0.79034\t\t\n",
      " 19) [222  59  95 276]: 0.74897\t\t 20) [247  33  75 237]: 0.72414\t\t\n",
      "- Average score: 0.87648\n",
      "\n",
      "- Evolving the hosts\n",
      "  - Removing half of the weaker hosts\n",
      "  - Crossovering top 2 hosts\n",
      "    [229  33  78 288] & [229  59  80 288] >> [0, 1, 2, 3] & [2, 3, 0, 1] >> [ 80 288 229  59] & [ 78 288 229  33]\n",
      "  - Mutating remaining top hosts\n",
      "    [229  33  78 288] >> [229  38  84 282]\n",
      "    [231  33  62 246] >> [226  45  56 240]\n",
      "    [230  30  78 270] >> [243  45  64 287]\n",
      "    [230  31  89 288] >> [214  30 103 284]\n",
      "    [229  28  85 243] >> [229  11  85 243]\n",
      "    [231  41  89 288] >> [227  49  89 273]\n",
      "    [229  33  78 288] >> [229  22  78 281]\n",
      "    [230  49  78 269] >> [218  40  81 254]\n",
      "  - Adding hosts\n",
      "    [80,288,229,59], [78,288,229,33], [229,38,84,282], [226,45,56,240], [243,45,64,287], [214,30,103,284], [229,11,85,243], [227,49,89,273], [229,22,78,281], [218,40,81,254]\n",
      "\n",
      "# Generation 179\n"
     ]
    },
    {
     "data": {
      "text/plain": [
       "@ Training progress: 100.0%"
      ]
     },
     "metadata": {},
     "output_type": "display_data"
    },
    {
     "name": "stdout",
     "output_type": "stream",
     "text": [
      "Parameters saved at Log 05.08.2019 16.17.txt!\n",
      "\n",
      "# All hosts\n",
      "  1) [229  33  78 288]: 0.92138\t\t  2) [229  59  80 288]: 0.92000\t\t\n",
      "  3) [231  33  62 246]: 0.91862\t\t  4) [231  33  78 260]: 0.91862\t\t\n",
      "  5) [230  30  78 270]: 0.91724\t\t  6) [229  28  85 243]: 0.91724\t\t\n",
      "  7) [230  49  78 269]: 0.91586\t\t  8) [243  33  78 260]: 0.91586\t\t\n",
      "  9) [231  41  89 288]: 0.91586\t\t 10) [230  31  89 288]: 0.91448\t\t\n",
      " 11) [229  38  84 282]: 0.89241\t\t 12) [229  22  78 281]: 0.88000\t\t\n",
      " 13) [227  49  89 273]: 0.83724\t\t 14) [229  11  85 243]: 0.81241\t\t\n",
      " 15) [218  40  81 254]: 0.79448\t\t 16) [243  45  64 287]: 0.78897\t\t\n",
      " 17) [226  45  56 240]: 0.77793\t\t 18) [ 78 288 229  33]: 0.73793\t\t\n",
      " 19) [214  30 103 284]: 0.68138\t\t 20) [ 80 288 229  59]: 0.66345\t\t\n",
      "- Average score: 0.85207\n",
      "\n",
      "- Evolving the hosts\n",
      "  - Removing half of the weaker hosts\n",
      "  - Crossovering top 2 hosts\n",
      "    [229  33  78 288] & [229  59  80 288] >> [0, 1, 2, 3] & [1, 3, 0, 2] >> [ 59 288 229  80] & [ 78 229 288  33]\n",
      "  - Mutating remaining top hosts\n",
      "    [230  31  89 288] >> [228  25  72 288]\n",
      "    [243  33  78 260] >> [237  33  86 260]\n",
      "    [231  41  89 288] >> [218  36  89 288]\n",
      "    [230  30  78 270] >> [230  43  78 275]\n",
      "    [231  41  89 288] >> [231  48  78 283]\n",
      "    [231  41  89 288] >> [231  52 104 302]\n",
      "    [230  49  78 269] >> [228  49  78 252]\n",
      "    [243  33  78 260] >> [248  19  94 256]\n",
      "  - Adding hosts\n",
      "    [59,288,229,80], [78,229,288,33], [228,25,72,288], [237,33,86,260], [218,36,89,288], [230,43,78,275], [231,48,78,283], [231,52,104,302], [228,49,78,252], [248,19,94,256]\n",
      "\n",
      "# Generation 180\n"
     ]
    },
    {
     "data": {
      "text/plain": [
       "@ Training progress: 100.0%"
      ]
     },
     "metadata": {},
     "output_type": "display_data"
    },
    {
     "name": "stdout",
     "output_type": "stream",
     "text": [
      "Parameters saved at Log 05.08.2019 16.17.txt!\n",
      "\n",
      "# All hosts\n",
      "  1) [229  33  78 288]: 0.92138\t\t  2) [229  59  80 288]: 0.92000\t\t\n",
      "  3) [231  33  62 246]: 0.91862\t\t  4) [231  33  78 260]: 0.91862\t\t\n",
      "  5) [230  30  78 270]: 0.91724\t\t  6) [229  28  85 243]: 0.91724\t\t\n",
      "  7) [230  49  78 269]: 0.91586\t\t  8) [243  33  78 260]: 0.91586\t\t\n",
      "  9) [231  41  89 288]: 0.91586\t\t 10) [230  31  89 288]: 0.91448\t\t\n",
      " 11) [218  36  89 288]: 0.89655\t\t 12) [228  25  72 288]: 0.86897\t\t\n",
      " 13) [228  49  78 252]: 0.83862\t\t 14) [ 59 288 229  80]: 0.82207\t\t\n",
      " 15) [248  19  94 256]: 0.82207\t\t 16) [231  48  78 283]: 0.81655\t\t\n",
      " 17) [230  43  78 275]: 0.80138\t\t 18) [ 78 229 288  33]: 0.79448\t\t\n",
      " 19) [237  33  86 260]: 0.75448\t\t 20) [231  52 104 302]: 0.72414\t\t\n",
      "- Average score: 0.86572\n",
      "\n",
      "- Evolving the hosts\n",
      "  - Removing half of the weaker hosts\n",
      "  - Crossovering top 2 hosts\n",
      "    [229  33  78 288] & [229  59  80 288] >> [0, 1, 3] & [0, 3, 1] >> [229 288  78  59] & [229 288  80  33]\n",
      "  - Mutating remaining top hosts\n",
      "    [230  30  78 270] >> [222  21  88 270]\n",
      "    [231  33  78 260] >> [235  48  78 264]\n",
      "    [230  31  89 288] >> [230  29 106 298]\n",
      "    [230  31  89 288] >> [243  31 100 275]\n",
      "    [231  41  89 288] >> [216  54  77 288]\n",
      "    [230  30  78 270] >> [230  31  94 270]\n",
      "    [231  41  89 288] >> [231  57  73 274]\n",
      "    [230  31  89 288] >> [230  31  85 274]\n",
      "  - Adding hosts\n",
      "    [229,288,78,59], [229,288,80,33], [222,21,88,270], [235,48,78,264], [230,29,106,298], [243,31,100,275], [216,54,77,288], [230,31,94,270], [231,57,73,274], [230,31,85,274]\n",
      "\n",
      "# Generation 181\n"
     ]
    },
    {
     "data": {
      "text/plain": [
       "@ Training progress: 100.0%"
      ]
     },
     "metadata": {},
     "output_type": "display_data"
    },
    {
     "name": "stdout",
     "output_type": "stream",
     "text": [
      "Parameters saved at Log 05.08.2019 16.17.txt!\n",
      "\n",
      "# All hosts\n",
      "  1) [229  33  78 288]: 0.92138\t\t  2) [229  59  80 288]: 0.92000\t\t\n",
      "  3) [231  33  62 246]: 0.91862\t\t  4) [231  33  78 260]: 0.91862\t\t\n",
      "  5) [230  30  78 270]: 0.91724\t\t  6) [229  28  85 243]: 0.91724\t\t\n",
      "  7) [230  49  78 269]: 0.91586\t\t  8) [243  33  78 260]: 0.91586\t\t\n",
      "  9) [230  31  94 270]: 0.91586\t\t 10) [231  41  89 288]: 0.91586\t\t\n",
      " 11) [230  31  89 288]: 0.91448\t\t 12) [216  54  77 288]: 0.90483\t\t\n",
      " 13) [243  31 100 275]: 0.90207\t\t 14) [230  29 106 298]: 0.89931\t\t\n",
      " 15) [235  48  78 264]: 0.89655\t\t 16) [231  57  73 274]: 0.88966\t\t\n",
      " 17) [229 288  78  59]: 0.85655\t\t 18) [230  31  85 274]: 0.81931\t\t\n",
      " 19) [229 288  80  33]: 0.71862\t\t 20) [222  21  88 270]: 0.69655\t\t\n",
      "- Average score: 0.88372\n",
      "\n",
      "- Evolving the hosts\n",
      "  - Removing half of the weaker hosts\n",
      "  - Crossovering top 2 hosts\n",
      "    [229  33  78 288] & [229  59  80 288] >> [0, 2, 3] & [3, 0, 2] >> [288  33 229  80] & [ 78  59 288 229]\n",
      "  - Mutating remaining top hosts\n",
      "    [231  33  78 260] >> [233  21  62 267]\n",
      "    [229  59  80 288] >> [232  59  71 295]\n",
      "    [229  59  80 288] >> [228  59  63 298]\n",
      "    [231  33  78 260] >> [241  30  75 260]\n",
      "    [229  28  85 243] >> [223  39  87 243]\n",
      "    [229  59  80 288] >> [220  59  77 288]\n",
      "    [230  49  78 269] >> [242  36  78 269]\n",
      "    [229  59  80 288] >> [218  72  80 288]\n",
      "  - Adding hosts\n",
      "    [288,33,229,80], [78,59,288,229], [233,21,62,267], [232,59,71,295], [228,59,63,298], [241,30,75,260], [223,39,87,243], [220,59,77,288], [242,36,78,269], [218,72,80,288]\n",
      "\n",
      "# Generation 182\n"
     ]
    },
    {
     "data": {
      "text/plain": [
       "@ Training progress: 100.0%"
      ]
     },
     "metadata": {},
     "output_type": "display_data"
    },
    {
     "name": "stdout",
     "output_type": "stream",
     "text": [
      "Parameters saved at Log 05.08.2019 16.17.txt!\n",
      "\n",
      "# All hosts\n",
      "  1) [229  33  78 288]: 0.92138\t\t  2) [229  59  80 288]: 0.92000\t\t\n",
      "  3) [231  33  62 246]: 0.91862\t\t  4) [231  33  78 260]: 0.91862\t\t\n",
      "  5) [230  30  78 270]: 0.91724\t\t  6) [229  28  85 243]: 0.91724\t\t\n",
      "  7) [230  49  78 269]: 0.91586\t\t  8) [243  33  78 260]: 0.91586\t\t\n",
      "  9) [230  31  94 270]: 0.91586\t\t 10) [231  41  89 288]: 0.91586\t\t\n",
      " 11) [ 78  59 288 229]: 0.88138\t\t 12) [232  59  71 295]: 0.88138\t\t\n",
      " 13) [223  39  87 243]: 0.87724\t\t 14) [242  36  78 269]: 0.85793\t\t\n",
      " 15) [218  72  80 288]: 0.85379\t\t 16) [241  30  75 260]: 0.84690\t\t\n",
      " 17) [220  59  77 288]: 0.83310\t\t 18) [288  33 229  80]: 0.81793\t\t\n",
      " 19) [228  59  63 298]: 0.78345\t\t 20) [233  21  62 267]: 0.70483\t\t\n",
      "- Average score: 0.87572\n",
      "\n",
      "- Evolving the hosts\n",
      "  - Removing half of the weaker hosts\n",
      "  - Crossovering top 2 hosts\n",
      "    [229  33  78 288] & [229  59  80 288] >> [3] & [3] >> [229  33  78 288] & [229  59  80 288]\n",
      "  - Mutating remaining top hosts\n",
      "    [231  33  78 260] >> [241  33  87 260]\n",
      "    [229  28  85 243] >> [229  22  95 234]\n",
      "    [229  28  85 243] >> [226  45  79 243]\n",
      "    [229  33  78 288] >> [244  43  78 288]\n",
      "    [229  59  80 288] >> [229  49  72 288]\n",
      "    [231  41  89 288] >> [247  34 100 279]\n",
      "    [230  30  78 270] >> [247  38  78 270]\n",
      "    [229  28  85 243] >> [229  32  85 240]\n",
      "  - Adding hosts\n",
      "    [229,33,78,288], [229,59,80,288], [241,33,87,260], [229,22,95,234], [226,45,79,243], [244,43,78,288], [229,49,72,288], [247,34,100,279], [247,38,78,270], [229,32,85,240]\n",
      "\n",
      "# Generation 183\n"
     ]
    },
    {
     "data": {
      "text/plain": [
       "@ Training progress: 100.0%"
      ]
     },
     "metadata": {},
     "output_type": "display_data"
    },
    {
     "name": "stdout",
     "output_type": "stream",
     "text": [
      "Parameters saved at Log 05.08.2019 16.17.txt!\n",
      "\n",
      "# All hosts\n",
      "  1) [229  33  78 288]: 0.92138\t\t  2) [229  59  80 288]: 0.92000\t\t\n",
      "  3) [231  33  62 246]: 0.91862\t\t  4) [231  33  78 260]: 0.91862\t\t\n",
      "  5) [230  30  78 270]: 0.91724\t\t  6) [229  28  85 243]: 0.91724\t\t\n",
      "  7) [230  49  78 269]: 0.91586\t\t  8) [243  33  78 260]: 0.91586\t\t\n",
      "  9) [230  31  94 270]: 0.91586\t\t 10) [231  41  89 288]: 0.91586\t\t\n",
      " 11) [229  32  85 240]: 0.90069\t\t 12) [244  43  78 288]: 0.88276\t\t\n",
      " 13) [226  45  79 243]: 0.87448\t\t 14) [229  59  80 288]: 0.86897\t\t\n",
      " 15) [247  38  78 270]: 0.83586\t\t 16) [241  33  87 260]: 0.83310\t\t\n",
      " 17) [229  33  78 288]: 0.81241\t\t 18) [229  49  72 288]: 0.80552\t\t\n",
      " 19) [229  22  95 234]: 0.80414\t\t 20) [247  34 100 279]: 0.59448\t\t\n",
      "- Average score: 0.86945\n",
      "\n",
      "- Evolving the hosts\n",
      "  - Removing half of the weaker hosts\n",
      "  - Crossovering top 2 hosts\n",
      "    [229  33  78 288] & [229  59  80 288] >> [0, 2, 3] & [2, 0, 3] >> [ 80  33 229 288] & [ 78  59 229 288]\n",
      "  - Mutating remaining top hosts\n",
      "    [229  33  78 288] >> [221  21  87 289]\n",
      "    [231  41  89 288] >> [231  58 104 285]\n",
      "    [229  33  78 288] >> [225  16  70 299]\n",
      "    [231  41  89 288] >> [246  41  89 287]\n",
      "    [231  41  89 288] >> [234  57  89 272]\n",
      "    [231  33  78 260] >> [243  33  78 260]\n",
      "    [229  59  80 288] >> [220  59  75 288]\n",
      "    [230  49  78 269] >> [244  49  87 269]\n",
      "  - Adding hosts\n",
      "    [80,33,229,288], [78,59,229,288], [221,21,87,289], [231,58,104,285], [225,16,70,299], [246,41,89,287], [234,57,89,272], [243,33,78,260], [220,59,75,288], [244,49,87,269]\n",
      "\n",
      "# Generation 184\n"
     ]
    },
    {
     "data": {
      "text/plain": [
       "@ Training progress: 100.0%"
      ]
     },
     "metadata": {},
     "output_type": "display_data"
    },
    {
     "name": "stdout",
     "output_type": "stream",
     "text": [
      "Parameters saved at Log 05.08.2019 16.17.txt!\n",
      "\n",
      "# All hosts\n",
      "  1) [229  33  78 288]: 0.92138\t\t  2) [229  59  80 288]: 0.92000\t\t\n",
      "  3) [231  33  62 246]: 0.91862\t\t  4) [231  33  78 260]: 0.91862\t\t\n",
      "  5) [230  30  78 270]: 0.91724\t\t  6) [229  28  85 243]: 0.91724\t\t\n",
      "  7) [230  49  78 269]: 0.91586\t\t  8) [243  33  78 260]: 0.91586\t\t\n",
      "  9) [230  31  94 270]: 0.91586\t\t 10) [231  41  89 288]: 0.91586\t\t\n",
      " 11) [221  21  87 289]: 0.89517\t\t 12) [231  58 104 285]: 0.87034\t\t\n",
      " 13) [220  59  75 288]: 0.85655\t\t 14) [ 80  33 229 288]: 0.84966\t\t\n",
      " 15) [ 78  59 229 288]: 0.84000\t\t 16) [234  57  89 272]: 0.82759\t\t\n",
      " 17) [243  33  78 260]: 0.81655\t\t 18) [244  49  87 269]: 0.80138\t\t\n",
      " 19) [225  16  70 299]: 0.78897\t\t 20) [246  41  89 287]: 0.76966\t\t\n",
      "- Average score: 0.87462\n",
      "\n",
      "- Evolving the hosts\n",
      "  - Removing half of the weaker hosts\n",
      "  - Crossovering top 2 hosts\n",
      "    [229  33  78 288] & [229  59  80 288] >> [0, 2] & [0, 2] >> [229  33  80 288] & [229  59  78 288]\n",
      "  - Mutating remaining top hosts\n",
      "    [243  33  78 260] >> [243  35  81 267]\n",
      "    [231  33  78 260] >> [237  40  78 260]\n",
      "    [229  59  80 288] >> [238  64  86 273]\n",
      "    [229  28  85 243] >> [217  14  96 234]\n",
      "    [230  30  78 270] >> [242  22  71 270]\n",
      "    [231  33  62 246] >> [220  33  77 236]\n",
      "    [230  31  94 270] >> [230  31  79 261]\n",
      "    [231  33  78 260] >> [232  33  78 245]\n",
      "  - Adding hosts\n",
      "    [229,33,80,288], [229,59,78,288], [243,35,81,267], [237,40,78,260], [238,64,86,273], [217,14,96,234], [242,22,71,270], [220,33,77,236], [230,31,79,261], [232,33,78,245]\n",
      "\n",
      "# Generation 185\n"
     ]
    },
    {
     "data": {
      "text/plain": [
       "@ Training progress: 100.0%"
      ]
     },
     "metadata": {},
     "output_type": "display_data"
    },
    {
     "name": "stdout",
     "output_type": "stream",
     "text": [
      "Parameters saved at Log 05.08.2019 16.17.txt!\n",
      "\n",
      "# All hosts\n",
      "  1) [229  33  78 288]: 0.92138\t\t  2) [229  59  80 288]: 0.92000\t\t\n",
      "  3) [231  33  62 246]: 0.91862\t\t  4) [231  33  78 260]: 0.91862\t\t\n",
      "  5) [230  30  78 270]: 0.91724\t\t  6) [229  28  85 243]: 0.91724\t\t\n",
      "  7) [230  49  78 269]: 0.91586\t\t  8) [243  33  78 260]: 0.91586\t\t\n",
      "  9) [230  31  94 270]: 0.91586\t\t 10) [231  41  89 288]: 0.91586\t\t\n",
      " 11) [229  33  80 288]: 0.87586\t\t 12) [242  22  71 270]: 0.86621\t\t\n",
      " 13) [237  40  78 260]: 0.86483\t\t 14) [220  33  77 236]: 0.80828\t\t\n",
      " 15) [230  31  79 261]: 0.78483\t\t 16) [217  14  96 234]: 0.77379\t\t\n",
      " 17) [229  59  78 288]: 0.76828\t\t 18) [243  35  81 267]: 0.74759\t\t\n",
      " 19) [238  64  86 273]: 0.72690\t\t 20) [232  33  78 245]: 0.72552\t\t\n",
      "- Average score: 0.85593\n",
      "\n",
      "- Evolving the hosts\n",
      "  - Removing half of the weaker hosts\n",
      "  - Crossovering top 2 hosts\n",
      "    [229  33  78 288] & [229  59  80 288] >> [0, 1, 2, 3] & [2, 0, 1, 3] >> [ 80 229  59 288] & [ 33  78 229 288]\n",
      "  - Mutating remaining top hosts\n",
      "    [231  41  89 288] >> [231  30  89 296]\n",
      "    [231  33  78 260] >> [231  16  76 277]\n",
      "    [229  33  78 288] >> [240  48  82 292]\n",
      "    [229  59  80 288] >> [246  57  80 288]\n",
      "    [243  33  78 260] >> [243  33  69 260]\n",
      "    [230  31  94 270] >> [214  35  94 269]\n",
      "    [230  30  78 270] >> [230  42  71 260]\n",
      "    [243  33  78 260] >> [243  16  73 253]\n",
      "  - Adding hosts\n",
      "    [80,229,59,288], [33,78,229,288], [231,30,89,296], [231,16,76,277], [240,48,82,292], [246,57,80,288], [243,33,69,260], [214,35,94,269], [230,42,71,260], [243,16,73,253]\n",
      "\n",
      "# Generation 186\n"
     ]
    },
    {
     "data": {
      "text/plain": [
       "@ Training progress: 100.0%"
      ]
     },
     "metadata": {},
     "output_type": "display_data"
    },
    {
     "name": "stdout",
     "output_type": "stream",
     "text": [
      "Parameters saved at Log 05.08.2019 16.17.txt!\n",
      "\n",
      "# All hosts\n",
      "  1) [229  33  78 288]: 0.92138\t\t  2) [229  59  80 288]: 0.92000\t\t\n",
      "  3) [231  33  62 246]: 0.91862\t\t  4) [231  33  78 260]: 0.91862\t\t\n",
      "  5) [230  30  78 270]: 0.91724\t\t  6) [229  28  85 243]: 0.91724\t\t\n",
      "  7) [230  49  78 269]: 0.91586\t\t  8) [243  33  78 260]: 0.91586\t\t\n",
      "  9) [230  31  94 270]: 0.91586\t\t 10) [231  41  89 288]: 0.91586\t\t\n",
      " 11) [231  16  76 277]: 0.87034\t\t 12) [214  35  94 269]: 0.86207\t\t\n",
      " 13) [240  48  82 292]: 0.85931\t\t 14) [243  16  73 253]: 0.85517\t\t\n",
      " 15) [231  30  89 296]: 0.84690\t\t 16) [ 80 229  59 288]: 0.84414\t\t\n",
      " 17) [243  33  69 260]: 0.76414\t\t 18) [230  42  71 260]: 0.75034\t\t\n",
      " 19) [246  57  80 288]: 0.74483\t\t 20) [ 33  78 229 288]: 0.73655\t\t\n",
      "- Average score: 0.86552\n",
      "\n",
      "- Evolving the hosts\n",
      "  - Removing half of the weaker hosts\n",
      "  - Crossovering top 2 hosts\n",
      "    [229  33  78 288] & [229  59  80 288] >> [0, 1, 3] & [3, 1, 0] >> [288  59  78 229] & [288  33  80 229]\n",
      "  - Mutating remaining top hosts\n",
      "    [231  33  62 246] >> [234  20  62 246]\n",
      "    [231  33  78 260] >> [231  42  85 261]\n",
      "    [229  28  85 243] >> [244  22  73 260]\n",
      "    [230  30  78 270] >> [230  39  79 276]\n",
      "    [230  49  78 269] >> [225  42  86 270]\n",
      "    [230  49  78 269] >> [230  57  84 266]\n",
      "    [230  31  94 270] >> [234  25 101 266]\n",
      "    [231  33  62 246] >> [218  33  74 235]\n",
      "  - Adding hosts\n",
      "    [288,59,78,229], [288,33,80,229], [234,20,62,246], [231,42,85,261], [244,22,73,260], [230,39,79,276], [225,42,86,270], [230,57,84,266], [234,25,101,266], [218,33,74,235]\n",
      "\n",
      "# Generation 187\n"
     ]
    },
    {
     "data": {
      "text/plain": [
       "@ Training progress: 100.0%"
      ]
     },
     "metadata": {},
     "output_type": "display_data"
    },
    {
     "name": "stdout",
     "output_type": "stream",
     "text": [
      "Parameters saved at Log 05.08.2019 16.17.txt!\n",
      "\n",
      "# All hosts\n",
      "  1) [229  33  78 288]: 0.92138\t\t  2) [229  59  80 288]: 0.92000\t\t\n",
      "  3) [231  33  62 246]: 0.91862\t\t  4) [231  33  78 260]: 0.91862\t\t\n",
      "  5) [230  30  78 270]: 0.91724\t\t  6) [229  28  85 243]: 0.91724\t\t\n",
      "  7) [230  49  78 269]: 0.91586\t\t  8) [243  33  78 260]: 0.91586\t\t\n",
      "  9) [230  31  94 270]: 0.91586\t\t 10) [231  41  89 288]: 0.91586\t\t\n",
      " 11) [231  42  85 261]: 0.90483\t\t 12) [234  25 101 266]: 0.90345\t\t\n",
      " 13) [230  57  84 266]: 0.89241\t\t 14) [244  22  73 260]: 0.87862\t\t\n",
      " 15) [234  20  62 246]: 0.86207\t\t 16) [288  59  78 229]: 0.84276\t\t\n",
      " 17) [230  39  79 276]: 0.83724\t\t 18) [225  42  86 270]: 0.80690\t\t\n",
      " 19) [288  33  80 229]: 0.80690\t\t 20) [218  33  74 235]: 0.74069\t\t\n",
      "- Average score: 0.88262\n",
      "\n",
      "- Evolving the hosts\n",
      "  - Removing half of the weaker hosts\n",
      "  - Crossovering top 2 hosts\n",
      "    [229  33  78 288] & [229  59  80 288] >> [0, 2, 3] & [2, 0, 3] >> [ 80  33 229 288] & [ 78  59 229 288]\n",
      "  - Mutating remaining top hosts\n",
      "    [230  31  94 270] >> [230  31  94 259]\n",
      "    [229  28  85 243] >> [214  26  80 255]\n",
      "    [231  33  62 246] >> [247  18  52 233]\n",
      "    [231  33  78 260] >> [232  44  76 260]\n",
      "    [230  49  78 269] >> [222  49  78 269]\n",
      "    [243  33  78 260] >> [260  18  89 263]\n",
      "    [230  30  78 270] >> [246  19  67 270]\n",
      "    [229  59  80 288] >> [217  59  96 288]\n",
      "  - Adding hosts\n",
      "    [80,33,229,288], [78,59,229,288], [230,31,94,259], [214,26,80,255], [247,18,52,233], [232,44,76,260], [222,49,78,269], [260,18,89,263], [246,19,67,270], [217,59,96,288]\n",
      "\n",
      "# Generation 188\n"
     ]
    },
    {
     "data": {
      "text/plain": [
       "@ Training progress: 100.0%"
      ]
     },
     "metadata": {},
     "output_type": "display_data"
    },
    {
     "name": "stdout",
     "output_type": "stream",
     "text": [
      "Parameters saved at Log 05.08.2019 16.17.txt!\n",
      "\n",
      "# All hosts\n",
      "  1) [229  33  78 288]: 0.92138\t\t  2) [229  59  80 288]: 0.92000\t\t\n",
      "  3) [231  33  62 246]: 0.91862\t\t  4) [231  33  78 260]: 0.91862\t\t\n",
      "  5) [ 78  59 229 288]: 0.91724\t\t  6) [230  30  78 270]: 0.91724\t\t\n",
      "  7) [229  28  85 243]: 0.91724\t\t  8) [230  49  78 269]: 0.91586\t\t\n",
      "  9) [243  33  78 260]: 0.91586\t\t 10) [230  31  94 270]: 0.91586\t\t\n",
      " 11) [231  41  89 288]: 0.91586\t\t 12) [217  59  96 288]: 0.87586\t\t\n",
      " 13) [232  44  76 260]: 0.87034\t\t 14) [260  18  89 263]: 0.86345\t\t\n",
      " 15) [222  49  78 269]: 0.83724\t\t 16) [230  31  94 259]: 0.82759\t\t\n",
      " 17) [246  19  67 270]: 0.81379\t\t 18) [ 80  33 229 288]: 0.77655\t\t\n",
      " 19) [214  26  80 255]: 0.74345\t\t 20) [247  18  52 233]: 0.71448\t\t\n",
      "- Average score: 0.87083\n",
      "\n",
      "- Evolving the hosts\n",
      "  - Removing half of the weaker hosts\n",
      "  - Crossovering top 2 hosts\n",
      "    [229  33  78 288] & [229  59  80 288] >> [1, 2, 3] & [1, 2, 3] >> [229  59  80 288] & [229  33  78 288]\n",
      "  - Mutating remaining top hosts\n",
      "    [ 78  59 229 288] >> [ 65  59 224 282]\n",
      "    [229  33  78 288] >> [227  33  73 292]\n",
      "    [231  33  62 246] >> [224  23  70 246]\n",
      "    [229  28  85 243] >> [229  28  68 243]\n",
      "    [229  28  85 243] >> [227  13  98 243]\n",
      "    [231  33  62 246] >> [220  33  67 239]\n",
      "    [229  33  78 288] >> [229  27  64 280]\n",
      "    [230  31  94 270] >> [217  45  94 279]\n",
      "  - Adding hosts\n",
      "    [229,59,80,288], [229,33,78,288], [65,59,224,282], [227,33,73,292], [224,23,70,246], [229,28,68,243], [227,13,98,243], [220,33,67,239], [229,27,64,280], [217,45,94,279]\n",
      "\n",
      "# Generation 189\n"
     ]
    },
    {
     "data": {
      "text/plain": [
       "@ Training progress: 100.0%"
      ]
     },
     "metadata": {},
     "output_type": "display_data"
    },
    {
     "name": "stdout",
     "output_type": "stream",
     "text": [
      "Parameters saved at Log 05.08.2019 16.17.txt!\n",
      "\n",
      "# All hosts\n",
      "  1) [229  33  78 288]: 0.92138\t\t  2) [229  59  80 288]: 0.92000\t\t\n",
      "  3) [231  33  62 246]: 0.91862\t\t  4) [231  33  78 260]: 0.91862\t\t\n",
      "  5) [ 78  59 229 288]: 0.91724\t\t  6) [230  30  78 270]: 0.91724\t\t\n",
      "  7) [229  28  85 243]: 0.91724\t\t  8) [230  49  78 269]: 0.91586\t\t\n",
      "  9) [243  33  78 260]: 0.91586\t\t 10) [230  31  94 270]: 0.91586\t\t\n",
      " 11) [229  28  68 243]: 0.88276\t\t 12) [220  33  67 239]: 0.87724\t\t\n",
      " 13) [227  33  73 292]: 0.86759\t\t 14) [229  59  80 288]: 0.86483\t\t\n",
      " 15) [ 65  59 224 282]: 0.86345\t\t 16) [217  45  94 279]: 0.85793\t\t\n",
      " 17) [224  23  70 246]: 0.84552\t\t 18) [229  27  64 280]: 0.80552\t\t\n",
      " 19) [227  13  98 243]: 0.77241\t\t 20) [229  33  78 288]: 0.68828\t\t\n",
      "- Average score: 0.87517\n",
      "\n",
      "- Evolving the hosts\n",
      "  - Removing half of the weaker hosts\n",
      "  - Crossovering top 2 hosts\n",
      "    [229  33  78 288] & [229  59  80 288] >> [1, 2, 3] & [1, 2, 3] >> [229  59  80 288] & [229  33  78 288]\n",
      "  - Mutating remaining top hosts\n",
      "    [230  31  94 270] >> [237  31  80 270]\n",
      "    [231  33  62 246] >> [237  48  62 262]\n",
      "    [231  33  62 246] >> [231  32  76 249]\n",
      "    [231  33  62 246] >> [231  35  62 231]\n",
      "    [ 78  59 229 288] >> [ 89  71 224 289]\n",
      "    [243  33  78 260] >> [235  19  76 256]\n",
      "    [230  31  94 270] >> [221  38  95 270]\n",
      "    [230  30  78 270] >> [241  39  78 270]\n",
      "  - Adding hosts\n",
      "    [229,59,80,288], [229,33,78,288], [237,31,80,270], [237,48,62,262], [231,32,76,249], [231,35,62,231], [89,71,224,289], [235,19,76,256], [221,38,95,270], [241,39,78,270]\n",
      "\n",
      "# Generation 190\n"
     ]
    },
    {
     "data": {
      "text/plain": [
       "@ Training progress: 100.0%"
      ]
     },
     "metadata": {},
     "output_type": "display_data"
    },
    {
     "name": "stdout",
     "output_type": "stream",
     "text": [
      "Parameters saved at Log 05.08.2019 16.17.txt!\n",
      "\n",
      "# All hosts\n",
      "  1) [229  33  78 288]: 0.92138\t\t  2) [229  59  80 288]: 0.92000\t\t\n",
      "  3) [231  33  62 246]: 0.91862\t\t  4) [231  33  78 260]: 0.91862\t\t\n",
      "  5) [ 78  59 229 288]: 0.91724\t\t  6) [230  30  78 270]: 0.91724\t\t\n",
      "  7) [229  28  85 243]: 0.91724\t\t  8) [230  49  78 269]: 0.91586\t\t\n",
      "  9) [243  33  78 260]: 0.91586\t\t 10) [230  31  94 270]: 0.91586\t\t\n",
      " 11) [229  33  78 288]: 0.90345\t\t 12) [231  35  62 231]: 0.88966\t\t\n",
      " 13) [ 89  71 224 289]: 0.88414\t\t 14) [231  32  76 249]: 0.88276\t\t\n",
      " 15) [237  31  80 270]: 0.87034\t\t 16) [241  39  78 270]: 0.84690\t\t\n",
      " 17) [237  48  62 262]: 0.83172\t\t 18) [235  19  76 256]: 0.78345\t\t\n",
      " 19) [229  59  80 288]: 0.75310\t\t 20) [221  38  95 270]: 0.74759\t\t\n",
      "- Average score: 0.87855\n",
      "\n",
      "- Evolving the hosts\n",
      "  - Removing half of the weaker hosts\n",
      "  - Crossovering top 2 hosts\n",
      "    [229  33  78 288] & [229  59  80 288] >> [1, 2, 3] & [3, 1, 2] >> [229 288  59  80] & [229  78 288  33]\n",
      "  - Mutating remaining top hosts\n",
      "    [ 78  59 229 288] >> [ 78  63 229 288]\n",
      "    [ 78  59 229 288] >> [ 76  57 229 287]\n",
      "    [230  49  78 269] >> [230  50  75 276]\n",
      "    [230  30  78 270] >> [241  23  78 270]\n",
      "    [ 78  59 229 288] >> [ 92  59 231 293]\n",
      "    [ 78  59 229 288] >> [ 93  46 230 291]\n",
      "    [229  59  80 288] >> [229  59  81 301]\n",
      "    [229  59  80 288] >> [232  59  69 276]\n",
      "  - Adding hosts\n",
      "    [229,288,59,80], [229,78,288,33], [78,63,229,288], [76,57,229,287], [230,50,75,276], [241,23,78,270], [92,59,231,293], [93,46,230,291], [229,59,81,301], [232,59,69,276]\n",
      "\n",
      "# Generation 191\n"
     ]
    },
    {
     "data": {
      "text/plain": [
       "@ Training progress: 100.0%"
      ]
     },
     "metadata": {},
     "output_type": "display_data"
    },
    {
     "name": "stdout",
     "output_type": "stream",
     "text": [
      "Parameters saved at Log 05.08.2019 16.17.txt!\n",
      "\n",
      "# All hosts\n",
      "  1) [229  33  78 288]: 0.92138\t\t  2) [229  59  80 288]: 0.92000\t\t\n",
      "  3) [231  33  62 246]: 0.91862\t\t  4) [231  33  78 260]: 0.91862\t\t\n",
      "  5) [ 78  59 229 288]: 0.91724\t\t  6) [230  30  78 270]: 0.91724\t\t\n",
      "  7) [229  28  85 243]: 0.91724\t\t  8) [230  49  78 269]: 0.91586\t\t\n",
      "  9) [243  33  78 260]: 0.91586\t\t 10) [230  31  94 270]: 0.91586\t\t\n",
      " 11) [ 93  46 230 291]: 0.90759\t\t 12) [230  50  75 276]: 0.86759\t\t\n",
      " 13) [229  59  81 301]: 0.85517\t\t 14) [ 76  57 229 287]: 0.84552\t\t\n",
      " 15) [229 288  59  80]: 0.84552\t\t 16) [229  78 288  33]: 0.82207\t\t\n",
      " 17) [ 92  59 231 293]: 0.78759\t\t 18) [241  23  78 270]: 0.78483\t\t\n",
      " 19) [ 78  63 229 288]: 0.74483\t\t 20) [232  59  69 276]: 0.71034\t\t\n",
      "- Average score: 0.86745\n",
      "\n",
      "- Evolving the hosts\n",
      "  - Removing half of the weaker hosts\n",
      "  - Crossovering top 2 hosts\n",
      "    [229  33  78 288] & [229  59  80 288] >> [0, 1] & [1, 0] >> [ 59 229  78 288] & [ 33 229  80 288]\n",
      "  - Mutating remaining top hosts\n",
      "    [230  30  78 270] >> [214  16  83 281]\n",
      "    [230  31  94 270] >> [233  31 105 270]\n",
      "    [229  33  78 288] >> [244  30  89 289]\n",
      "    [230  30  78 270] >> [236  16  81 274]\n",
      "    [230  31  94 270] >> [232  33  83 263]\n",
      "    [231  33  62 246] >> [231  35  70 261]\n",
      "    [231  33  78 260] >> [233  33  67 260]\n",
      "    [243  33  78 260] >> [243  33  70 260]\n",
      "  - Adding hosts\n",
      "    [59,229,78,288], [33,229,80,288], [214,16,83,281], [233,31,105,270], [244,30,89,289], [236,16,81,274], [232,33,83,263], [231,35,70,261], [233,33,67,260], [243,33,70,260]\n",
      "\n",
      "# Generation 192\n"
     ]
    },
    {
     "data": {
      "text/plain": [
       "@ Training progress: 100.0%"
      ]
     },
     "metadata": {},
     "output_type": "display_data"
    },
    {
     "name": "stdout",
     "output_type": "stream",
     "text": [
      "Parameters saved at Log 05.08.2019 16.17.txt!\n",
      "\n",
      "# All hosts\n",
      "  1) [229  33  78 288]: 0.92138\t\t  2) [229  59  80 288]: 0.92000\t\t\n",
      "  3) [231  33  62 246]: 0.91862\t\t  4) [231  33  78 260]: 0.91862\t\t\n",
      "  5) [ 78  59 229 288]: 0.91724\t\t  6) [230  30  78 270]: 0.91724\t\t\n",
      "  7) [229  28  85 243]: 0.91724\t\t  8) [230  49  78 269]: 0.91586\t\t\n",
      "  9) [243  33  78 260]: 0.91586\t\t 10) [230  31  94 270]: 0.91586\t\t\n",
      " 11) [236  16  81 274]: 0.90345\t\t 12) [232  33  83 263]: 0.89931\t\t\n",
      " 13) [233  31 105 270]: 0.87310\t\t 14) [244  30  89 289]: 0.85931\t\t\n",
      " 15) [243  33  70 260]: 0.83172\t\t 16) [233  33  67 260]: 0.81379\t\t\n",
      " 17) [ 33 229  80 288]: 0.80552\t\t 18) [214  16  83 281]: 0.80414\t\t\n",
      " 19) [ 59 229  78 288]: 0.79862\t\t 20) [231  35  70 261]: 0.77517\t\t\n",
      "- Average score: 0.87710\n",
      "\n",
      "- Evolving the hosts\n",
      "  - Removing half of the weaker hosts\n",
      "  - Crossovering top 2 hosts\n",
      "    [229  33  78 288] & [229  59  80 288] >> [0, 2] & [2, 0] >> [ 80  33 229 288] & [ 78  59 229 288]\n",
      "  - Mutating remaining top hosts\n",
      "    [230  31  94 270] >> [230  34 105 262]\n",
      "    [230  30  78 270] >> [230  30  94 273]\n",
      "    [243  33  78 260] >> [231  30  78 249]\n",
      "    [ 78  59 229 288] >> [ 78  57 227 301]\n",
      "    [231  33  78 260] >> [244  38  91 269]\n",
      "    [231  33  78 260] >> [231  33  86 249]\n",
      "    [229  28  85 243] >> [239  41  92 238]\n",
      "    [229  33  78 288] >> [242  33  78 297]\n",
      "  - Adding hosts\n",
      "    [80,33,229,288], [78,59,229,288], [230,34,105,262], [230,30,94,273], [231,30,78,249], [78,57,227,301], [244,38,91,269], [231,33,86,249], [239,41,92,238], [242,33,78,297]\n",
      "\n",
      "# Generation 193\n"
     ]
    },
    {
     "data": {
      "text/plain": [
       "@ Training progress: 100.0%"
      ]
     },
     "metadata": {},
     "output_type": "display_data"
    },
    {
     "name": "stdout",
     "output_type": "stream",
     "text": [
      "Parameters saved at Log 05.08.2019 16.17.txt!\n",
      "\n",
      "# All hosts\n",
      "  1) [229  33  78 288]: 0.92138\t\t  2) [229  59  80 288]: 0.92000\t\t\n",
      "  3) [231  33  62 246]: 0.91862\t\t  4) [231  33  78 260]: 0.91862\t\t\n",
      "  5) [ 78  59 229 288]: 0.91724\t\t  6) [230  30  78 270]: 0.91724\t\t\n",
      "  7) [229  28  85 243]: 0.91724\t\t  8) [230  49  78 269]: 0.91586\t\t\n",
      "  9) [243  33  78 260]: 0.91586\t\t 10) [230  31  94 270]: 0.91586\t\t\n",
      " 11) [231  30  78 249]: 0.89655\t\t 12) [244  38  91 269]: 0.86897\t\t\n",
      " 13) [230  34 105 262]: 0.83586\t\t 14) [230  30  94 273]: 0.80966\t\t\n",
      " 15) [ 78  57 227 301]: 0.80828\t\t 16) [242  33  78 297]: 0.79034\t\t\n",
      " 17) [ 80  33 229 288]: 0.78759\t\t 18) [ 78  59 229 288]: 0.77517\t\t\n",
      " 19) [239  41  92 238]: 0.73517\t\t 20) [231  33  86 249]: 0.72276\t\t\n",
      "- Average score: 0.86041\n",
      "\n",
      "- Evolving the hosts\n",
      "  - Removing half of the weaker hosts\n",
      "  - Crossovering top 2 hosts\n",
      "    [229  33  78 288] & [229  59  80 288] >> [0, 1, 3] & [3, 1, 0] >> [288  59  78 229] & [288  33  80 229]\n",
      "  - Mutating remaining top hosts\n",
      "    [229  33  78 288] >> [240  33  82 286]\n",
      "    [231  33  62 246] >> [231  33  62 250]\n",
      "    [230  31  94 270] >> [230  32  94 270]\n",
      "    [ 78  59 229 288] >> [ 74  56 229 288]\n",
      "    [230  30  78 270] >> [222  30  78 270]\n",
      "    [243  33  78 260] >> [243  33  72 260]\n",
      "    [ 78  59 229 288] >> [ 67  59 242 288]\n",
      "    [231  33  62 246] >> [231  20  62 246]\n",
      "  - Adding hosts\n",
      "    [288,59,78,229], [288,33,80,229], [240,33,82,286], [231,33,62,250], [230,32,94,270], [74,56,229,288], [222,30,78,270], [243,33,72,260], [67,59,242,288], [231,20,62,246]\n",
      "\n",
      "# Generation 194\n"
     ]
    },
    {
     "data": {
      "text/plain": [
       "@ Training progress: 100.0%"
      ]
     },
     "metadata": {},
     "output_type": "display_data"
    },
    {
     "name": "stdout",
     "output_type": "stream",
     "text": [
      "Parameters saved at Log 05.08.2019 16.17.txt!\n",
      "\n",
      "# All hosts\n",
      "  1) [229  33  78 288]: 0.92138\t\t  2) [229  59  80 288]: 0.92000\t\t\n",
      "  3) [231  33  62 246]: 0.91862\t\t  4) [231  33  78 260]: 0.91862\t\t\n",
      "  5) [ 78  59 229 288]: 0.91724\t\t  6) [230  30  78 270]: 0.91724\t\t\n",
      "  7) [229  28  85 243]: 0.91724\t\t  8) [230  49  78 269]: 0.91586\t\t\n",
      "  9) [243  33  78 260]: 0.91586\t\t 10) [230  31  94 270]: 0.91586\t\t\n",
      " 11) [222  30  78 270]: 0.90207\t\t 12) [230  32  94 270]: 0.87586\t\t\n",
      " 13) [288  59  78 229]: 0.86207\t\t 14) [288  33  80 229]: 0.84966\t\t\n",
      " 15) [231  33  62 250]: 0.83310\t\t 16) [243  33  72 260]: 0.82207\t\t\n",
      " 17) [ 74  56 229 288]: 0.78621\t\t 18) [231  20  62 246]: 0.77517\t\t\n",
      " 19) [240  33  82 286]: 0.75586\t\t 20) [ 67  59 242 288]: 0.73517\t\t\n",
      "- Average score: 0.86876\n",
      "\n",
      "- Evolving the hosts\n",
      "  - Removing half of the weaker hosts\n",
      "  - Crossovering top 2 hosts\n",
      "    [229  33  78 288] & [229  59  80 288] >> [0] & [0] >> [229  33  78 288] & [229  59  80 288]\n",
      "  - Mutating remaining top hosts\n",
      "    [229  33  78 288] >> [232  45  91 288]\n",
      "    [229  28  85 243] >> [218  28  70 254]\n",
      "    [231  33  78 260] >> [231  25  91 260]\n",
      "    [230  30  78 270] >> [219  17  86 261]\n",
      "    [ 78  59 229 288] >> [ 82  59 214 276]\n",
      "    [229  28  85 243] >> [224  23  85 243]\n",
      "    [231  33  62 246] >> [231  38  62 231]\n",
      "    [231  33  78 260] >> [231  34  78 260]\n",
      "  - Adding hosts\n",
      "    [229,33,78,288], [229,59,80,288], [232,45,91,288], [218,28,70,254], [231,25,91,260], [219,17,86,261], [82,59,214,276], [224,23,85,243], [231,38,62,231], [231,34,78,260]\n",
      "\n",
      "# Generation 195\n"
     ]
    },
    {
     "data": {
      "text/plain": [
       "@ Training progress: 100.0%"
      ]
     },
     "metadata": {},
     "output_type": "display_data"
    },
    {
     "name": "stdout",
     "output_type": "stream",
     "text": [
      "Parameters saved at Log 05.08.2019 16.17.txt!\n",
      "\n",
      "# All hosts\n",
      "  1) [229  33  78 288]: 0.92138\t\t  2) [229  59  80 288]: 0.92000\t\t\n",
      "  3) [231  33  62 246]: 0.91862\t\t  4) [231  33  78 260]: 0.91862\t\t\n",
      "  5) [ 78  59 229 288]: 0.91724\t\t  6) [230  30  78 270]: 0.91724\t\t\n",
      "  7) [229  28  85 243]: 0.91724\t\t  8) [230  49  78 269]: 0.91586\t\t\n",
      "  9) [243  33  78 260]: 0.91586\t\t 10) [230  31  94 270]: 0.91586\t\t\n",
      " 11) [224  23  85 243]: 0.89103\t\t 12) [229  59  80 288]: 0.88966\t\t\n",
      " 13) [232  45  91 288]: 0.87724\t\t 14) [231  38  62 231]: 0.86897\t\t\n",
      " 15) [229  33  78 288]: 0.85241\t\t 16) [231  34  78 260]: 0.84414\t\t\n",
      " 17) [ 82  59 214 276]: 0.78483\t\t 18) [218  28  70 254]: 0.77103\t\t\n",
      " 19) [231  25  91 260]: 0.75862\t\t 20) [219  17  86 261]: 0.71034\t\t\n",
      "- Average score: 0.87131\n",
      "\n",
      "- Evolving the hosts\n",
      "  - Removing half of the weaker hosts\n",
      "  - Crossovering top 2 hosts\n",
      "    [229  33  78 288] & [229  59  80 288] >> [1, 2, 3] & [3, 1, 2] >> [229 288  59  80] & [229  78 288  33]\n",
      "  - Mutating remaining top hosts\n",
      "    [230  30  78 270] >> [230  19  84 265]\n",
      "    [230  49  78 269] >> [217  46  83 270]\n",
      "    [231  33  62 246] >> [218  25  69 257]\n",
      "    [230  31  94 270] >> [215  46  94 267]\n",
      "    [230  31  94 270] >> [240  20  94 286]\n",
      "    [243  33  78 260] >> [234  43  91 275]\n",
      "    [229  28  85 243] >> [239  41  85 252]\n",
      "    [229  28  85 243] >> [229  28  85 246]\n",
      "  - Adding hosts\n",
      "    [229,288,59,80], [229,78,288,33], [230,19,84,265], [217,46,83,270], [218,25,69,257], [215,46,94,267], [240,20,94,286], [234,43,91,275], [239,41,85,252], [229,28,85,246]\n",
      "\n",
      "# Generation 196\n"
     ]
    },
    {
     "data": {
      "text/plain": [
       "@ Training progress: 100.0%"
      ]
     },
     "metadata": {},
     "output_type": "display_data"
    },
    {
     "name": "stdout",
     "output_type": "stream",
     "text": [
      "Parameters saved at Log 05.08.2019 16.17.txt!\n",
      "\n",
      "# All hosts\n",
      "  1) [229  33  78 288]: 0.92138\t\t  2) [229  59  80 288]: 0.92000\t\t\n",
      "  3) [231  33  62 246]: 0.91862\t\t  4) [231  33  78 260]: 0.91862\t\t\n",
      "  5) [ 78  59 229 288]: 0.91724\t\t  6) [230  30  78 270]: 0.91724\t\t\n",
      "  7) [229  28  85 243]: 0.91724\t\t  8) [230  49  78 269]: 0.91586\t\t\n",
      "  9) [243  33  78 260]: 0.91586\t\t 10) [230  31  94 270]: 0.91586\t\t\n",
      " 11) [229  28  85 246]: 0.89241\t\t 12) [218  25  69 257]: 0.88828\t\t\n",
      " 13) [230  19  84 265]: 0.88000\t\t 14) [215  46  94 267]: 0.87448\t\t\n",
      " 15) [239  41  85 252]: 0.85931\t\t 16) [217  46  83 270]: 0.85517\t\t\n",
      " 17) [229  78 288  33]: 0.82759\t\t 18) [229 288  59  80]: 0.81931\t\t\n",
      " 19) [234  43  91 275]: 0.79862\t\t 20) [240  20  94 286]: 0.75172\t\t\n",
      "- Average score: 0.88124\n",
      "\n",
      "- Evolving the hosts\n",
      "  - Removing half of the weaker hosts\n",
      "  - Crossovering top 2 hosts\n",
      "    [229  33  78 288] & [229  59  80 288] >> [2, 3] & [3, 2] >> [229  33 288  80] & [229  59 288  78]\n",
      "  - Mutating remaining top hosts\n",
      "    [229  33  78 288] >> [228  33  92 288]\n",
      "    [230  31  94 270] >> [230  46  94 266]\n",
      "    [230  31  94 270] >> [230  31  98 285]\n",
      "    [230  31  94 270] >> [237  19  94 266]\n",
      "    [230  31  94 270] >> [230  31 106 273]\n",
      "    [229  33  78 288] >> [239  35  78 288]\n",
      "    [ 78  59 229 288] >> [ 71  74 223 288]\n",
      "    [229  33  78 288] >> [229  19  78 288]\n",
      "  - Adding hosts\n",
      "    [229,33,288,80], [229,59,288,78], [228,33,92,288], [230,46,94,266], [230,31,98,285], [237,19,94,266], [230,31,106,273], [239,35,78,288], [71,74,223,288], [229,19,78,288]\n",
      "\n",
      "# Generation 197\n"
     ]
    },
    {
     "data": {
      "text/plain": [
       "@ Training progress: 100.0%"
      ]
     },
     "metadata": {},
     "output_type": "display_data"
    },
    {
     "name": "stdout",
     "output_type": "stream",
     "text": [
      "Parameters saved at Log 05.08.2019 16.17.txt!\n",
      "\n",
      "# All hosts\n",
      "  1) [229  33  78 288]: 0.92138\t\t  2) [229  59  80 288]: 0.92000\t\t\n",
      "  3) [231  33  62 246]: 0.91862\t\t  4) [231  33  78 260]: 0.91862\t\t\n",
      "  5) [ 78  59 229 288]: 0.91724\t\t  6) [230  30  78 270]: 0.91724\t\t\n",
      "  7) [229  28  85 243]: 0.91724\t\t  8) [230  49  78 269]: 0.91586\t\t\n",
      "  9) [243  33  78 260]: 0.91586\t\t 10) [230  31  94 270]: 0.91586\t\t\n",
      " 11) [230  31 106 273]: 0.89517\t\t 12) [229  19  78 288]: 0.88828\t\t\n",
      " 13) [ 71  74 223 288]: 0.88000\t\t 14) [239  35  78 288]: 0.86759\t\t\n",
      " 15) [228  33  92 288]: 0.85655\t\t 16) [229  59 288  78]: 0.85655\t\t\n",
      " 17) [237  19  94 266]: 0.83586\t\t 18) [230  31  98 285]: 0.78621\t\t\n",
      " 19) [230  46  94 266]: 0.74207\t\t 20) [229  33 288  80]: 0.73931\t\t\n",
      "- Average score: 0.87628\n",
      "\n",
      "- Evolving the hosts\n",
      "  - Removing half of the weaker hosts\n",
      "  - Crossovering top 2 hosts\n",
      "    [229  33  78 288] & [229  59  80 288] >> [0, 1, 2, 3] & [1, 0, 2, 3] >> [ 59 229  80 288] & [ 33 229  78 288]\n",
      "  - Mutating remaining top hosts\n",
      "    [243  33  78 260] >> [243  33  75 267]\n",
      "    [ 78  59 229 288] >> [ 85  66 229 283]\n",
      "    [231  33  62 246] >> [232  33  78 256]\n",
      "    [230  31  94 270] >> [217  17  94 267]\n",
      "    [229  28  85 243] >> [224  23  70 238]\n",
      "    [230  31  94 270] >> [230  47  79 281]\n",
      "    [230  30  78 270] >> [230  35  64 270]\n",
      "    [230  30  78 270] >> [230  32  78 283]\n",
      "  - Adding hosts\n",
      "    [59,229,80,288], [33,229,78,288], [243,33,75,267], [85,66,229,283], [232,33,78,256], [217,17,94,267], [224,23,70,238], [230,47,79,281], [230,35,64,270], [230,32,78,283]\n",
      "\n",
      "# Generation 198\n"
     ]
    },
    {
     "data": {
      "text/plain": [
       "@ Training progress: 100.0%"
      ]
     },
     "metadata": {},
     "output_type": "display_data"
    },
    {
     "name": "stdout",
     "output_type": "stream",
     "text": [
      "Parameters saved at Log 05.08.2019 16.17.txt!\n",
      "\n",
      "# All hosts\n",
      "  1) [229  33  78 288]: 0.92138\t\t  2) [229  59  80 288]: 0.92000\t\t\n",
      "  3) [231  33  62 246]: 0.91862\t\t  4) [231  33  78 260]: 0.91862\t\t\n",
      "  5) [ 78  59 229 288]: 0.91724\t\t  6) [230  30  78 270]: 0.91724\t\t\n",
      "  7) [229  28  85 243]: 0.91724\t\t  8) [230  49  78 269]: 0.91586\t\t\n",
      "  9) [243  33  78 260]: 0.91586\t\t 10) [230  31  94 270]: 0.91586\t\t\n",
      " 11) [224  23  70 238]: 0.90207\t\t 12) [230  32  78 283]: 0.89241\t\t\n",
      " 13) [232  33  78 256]: 0.85655\t\t 14) [230  35  64 270]: 0.83586\t\t\n",
      " 15) [ 59 229  80 288]: 0.83310\t\t 16) [243  33  75 267]: 0.80138\t\t\n",
      " 17) [ 33 229  78 288]: 0.80138\t\t 18) [217  17  94 267]: 0.77241\t\t\n",
      " 19) [ 85  66 229 283]: 0.76000\t\t 20) [230  47  79 281]: 0.74897\t\t\n",
      "- Average score: 0.86910\n",
      "\n",
      "- Evolving the hosts\n",
      "  - Removing half of the weaker hosts\n",
      "  - Crossovering top 2 hosts\n",
      "    [229  33  78 288] & [229  59  80 288] >> [1, 2, 3] & [2, 3, 1] >> [229  80 288  59] & [229 288  33  78]\n",
      "  - Mutating remaining top hosts\n",
      "    [229  59  80 288] >> [240  65  71 288]\n",
      "    [230  30  78 270] >> [227  25  78 276]\n",
      "    [230  30  78 270] >> [230  19  78 260]\n",
      "    [ 78  59 229 288] >> [ 79  70 238 297]\n",
      "    [ 78  59 229 288] >> [ 90  47 216 290]\n",
      "    [231  33  78 260] >> [231  31  78 260]\n",
      "    [229  59  80 288] >> [238  59  80 273]\n",
      "    [229  28  85 243] >> [213  30  85 243]\n",
      "  - Adding hosts\n",
      "    [229,80,288,59], [229,288,33,78], [240,65,71,288], [227,25,78,276], [230,19,78,260], [79,70,238,297], [90,47,216,290], [231,31,78,260], [238,59,80,273], [213,30,85,243]\n",
      "\n",
      "# Generation 199\n"
     ]
    },
    {
     "data": {
      "text/plain": [
       "@ Training progress: 100.0%"
      ]
     },
     "metadata": {},
     "output_type": "display_data"
    },
    {
     "name": "stdout",
     "output_type": "stream",
     "text": [
      "Parameters saved at Log 05.08.2019 16.17.txt!\n",
      "\n",
      "# All hosts\n",
      "  1) [229  33  78 288]: 0.92138\t\t  2) [229  59  80 288]: 0.92000\t\t\n",
      "  3) [231  33  62 246]: 0.91862\t\t  4) [231  33  78 260]: 0.91862\t\t\n",
      "  5) [ 78  59 229 288]: 0.91724\t\t  6) [230  30  78 270]: 0.91724\t\t\n",
      "  7) [229  28  85 243]: 0.91724\t\t  8) [230  49  78 269]: 0.91586\t\t\n",
      "  9) [243  33  78 260]: 0.91586\t\t 10) [230  31  94 270]: 0.91586\t\t\n",
      " 11) [230  19  78 260]: 0.91172\t\t 12) [ 79  70 238 297]: 0.87724\t\t\n",
      " 13) [ 90  47 216 290]: 0.86897\t\t 14) [227  25  78 276]: 0.86345\t\t\n",
      " 15) [231  31  78 260]: 0.84966\t\t 16) [213  30  85 243]: 0.83448\t\t\n",
      " 17) [229  80 288  59]: 0.80414\t\t 18) [229 288  33  78]: 0.79724\t\t\n",
      " 19) [240  65  71 288]: 0.76414\t\t 20) [238  59  80 273]: 0.73655\t\t\n",
      "- Average score: 0.87428\n",
      "\n",
      "- Evolving the hosts\n",
      "  - Removing half of the weaker hosts\n",
      "  - Crossovering top 2 hosts\n",
      "    [229  33  78 288] & [229  59  80 288] >> [0, 2, 3] & [0, 2, 3] >> [229  33  80 288] & [229  59  78 288]\n",
      "  - Mutating remaining top hosts\n",
      "    [229  33  78 288] >> [229  33  67 288]\n",
      "    [229  33  78 288] >> [229  26  78 286]\n",
      "    [230  49  78 269] >> [225  60  93 262]\n",
      "    [230  31  94 270] >> [217  43  94 286]\n",
      "    [229  33  78 288] >> [232  44  76 288]\n",
      "    [229  33  78 288] >> [223  33  78 289]\n",
      "    [229  33  78 288] >> [220  28  75 275]\n",
      "    [230  30  78 270] >> [235  24  69 272]\n",
      "  - Adding hosts\n",
      "    [229,33,80,288], [229,59,78,288], [229,33,67,288], [229,26,78,286], [225,60,93,262], [217,43,94,286], [232,44,76,288], [223,33,78,289], [220,28,75,275], [235,24,69,272]\n",
      "\n",
      "# Generation 200\n"
     ]
    },
    {
     "data": {
      "text/plain": [
       "@ Training progress: 100.0%"
      ]
     },
     "metadata": {},
     "output_type": "display_data"
    },
    {
     "name": "stdout",
     "output_type": "stream",
     "text": [
      "Parameters saved at Log 05.08.2019 16.17.txt!\n",
      "\n",
      "# All hosts\n",
      "  1) [229  33  78 288]: 0.92138\t\t  2) [229  59  80 288]: 0.92000\t\t\n",
      "  3) [231  33  62 246]: 0.91862\t\t  4) [231  33  78 260]: 0.91862\t\t\n",
      "  5) [ 78  59 229 288]: 0.91724\t\t  6) [230  30  78 270]: 0.91724\t\t\n",
      "  7) [229  28  85 243]: 0.91724\t\t  8) [230  49  78 269]: 0.91586\t\t\n",
      "  9) [243  33  78 260]: 0.91586\t\t 10) [230  31  94 270]: 0.91586\t\t\n",
      " 11) [223  33  78 289]: 0.89517\t\t 12) [217  43  94 286]: 0.89379\t\t\n",
      " 13) [229  33  67 288]: 0.87172\t\t 14) [225  60  93 262]: 0.86069\t\t\n",
      " 15) [229  59  78 288]: 0.85379\t\t 16) [232  44  76 288]: 0.85103\t\t\n",
      " 17) [220  28  75 275]: 0.84000\t\t 18) [229  33  80 288]: 0.78483\t\t\n",
      " 19) [235  24  69 272]: 0.73517\t\t 20) [229  26  78 286]: 0.69931\t\t\n",
      "- Average score: 0.87317\n",
      "\n",
      "- Evolving the hosts\n",
      "  - Removing half of the weaker hosts\n",
      "  - Crossovering top 2 hosts\n",
      "    [229  33  78 288] & [229  59  80 288] >> [0, 1, 2] & [0, 1, 2] >> [229  59  80 288] & [229  33  78 288]\n",
      "  - Mutating remaining top hosts\n",
      "    [ 78  59 229 288] >> [ 77  70 237 288]\n",
      "    [ 78  59 229 288] >> [ 78  64 240 280]\n",
      "    [243  33  78 260] >> [245  33  79 259]\n",
      "    [229  28  85 243] >> [221  16  79 252]\n",
      "    [243  33  78 260] >> [251  22  78 260]\n",
      "    [243  33  78 260] >> [239  33  72 260]\n",
      "    [230  30  78 270] >> [224  19  78 265]\n",
      "    [229  28  85 243] >> [234  28  78 227]\n",
      "  - Adding hosts\n",
      "    [229,59,80,288], [229,33,78,288], [77,70,237,288], [78,64,240,280], [245,33,79,259], [221,16,79,252], [251,22,78,260], [239,33,72,260], [224,19,78,265], [234,28,78,227]\n",
      "\n",
      "# Generation 201\n"
     ]
    },
    {
     "data": {
      "text/plain": [
       "@ Training progress: 100.0%"
      ]
     },
     "metadata": {},
     "output_type": "display_data"
    },
    {
     "name": "stdout",
     "output_type": "stream",
     "text": [
      "Parameters saved at Log 05.08.2019 16.17.txt!\n",
      "\n",
      "# All hosts\n",
      "  1) [229  33  78 288]: 0.92138\t\t  2) [229  59  80 288]: 0.92000\t\t\n",
      "  3) [231  33  62 246]: 0.91862\t\t  4) [231  33  78 260]: 0.91862\t\t\n",
      "  5) [ 78  59 229 288]: 0.91724\t\t  6) [230  30  78 270]: 0.91724\t\t\n",
      "  7) [229  28  85 243]: 0.91724\t\t  8) [230  49  78 269]: 0.91586\t\t\n",
      "  9) [243  33  78 260]: 0.91586\t\t 10) [230  31  94 270]: 0.91586\t\t\n",
      " 11) [245  33  79 259]: 0.91034\t\t 12) [ 77  70 237 288]: 0.90069\t\t\n",
      " 13) [229  59  80 288]: 0.87310\t\t 14) [229  33  78 288]: 0.86897\t\t\n",
      " 15) [ 78  64 240 280]: 0.83034\t\t 16) [234  28  78 227]: 0.81103\t\t\n",
      " 17) [239  33  72 260]: 0.81103\t\t 18) [221  16  79 252]: 0.78345\t\t\n",
      " 19) [224  19  78 265]: 0.75448\t\t 20) [251  22  78 260]: 0.65379\t\t\n",
      "- Average score: 0.86876\n",
      "\n",
      "- Evolving the hosts\n",
      "  - Removing half of the weaker hosts\n",
      "  - Crossovering top 2 hosts\n",
      "    [229  33  78 288] & [229  59  80 288] >> [0, 1, 2] & [2, 0, 1] >> [ 80 229  59 288] & [ 33  78 229 288]\n",
      "  - Mutating remaining top hosts\n",
      "    [ 78  59 229 288] >> [ 78  59 217 288]\n",
      "    [229  59  80 288] >> [241  67  95 288]\n",
      "    [229  33  78 288] >> [244  33  78 272]\n",
      "    [229  33  78 288] >> [220  42  83 303]\n",
      "    [230  31  94 270] >> [218  31  94 255]\n",
      "    [229  33  78 288] >> [231  26  65 274]\n",
      "    [243  33  78 260] >> [247  26  78 253]\n",
      "    [231  33  78 260] >> [231  33  78 265]\n",
      "  - Adding hosts\n",
      "    [80,229,59,288], [33,78,229,288], [78,59,217,288], [241,67,95,288], [244,33,78,272], [220,42,83,303], [218,31,94,255], [231,26,65,274], [247,26,78,253], [231,33,78,265]\n",
      "\n",
      "# Generation 202\n"
     ]
    },
    {
     "data": {
      "text/plain": [
       "@ Training progress: 100.0%"
      ]
     },
     "metadata": {},
     "output_type": "display_data"
    },
    {
     "name": "stdout",
     "output_type": "stream",
     "text": [
      "Parameters saved at Log 05.08.2019 16.17.txt!\n",
      "\n",
      "# All hosts\n",
      "  1) [229  33  78 288]: 0.92138\t\t  2) [229  59  80 288]: 0.92000\t\t\n",
      "  3) [231  33  62 246]: 0.91862\t\t  4) [231  33  78 260]: 0.91862\t\t\n",
      "  5) [ 78  59 229 288]: 0.91724\t\t  6) [230  30  78 270]: 0.91724\t\t\n",
      "  7) [229  28  85 243]: 0.91724\t\t  8) [230  49  78 269]: 0.91586\t\t\n",
      "  9) [243  33  78 260]: 0.91586\t\t 10) [218  31  94 255]: 0.91586\t\t\n",
      " 11) [230  31  94 270]: 0.91586\t\t 12) [ 33  78 229 288]: 0.90069\t\t\n",
      " 13) [244  33  78 272]: 0.89655\t\t 14) [241  67  95 288]: 0.86759\t\t\n",
      " 15) [247  26  78 253]: 0.85517\t\t 16) [220  42  83 303]: 0.83448\t\t\n",
      " 17) [231  26  65 274]: 0.82621\t\t 18) [231  33  78 265]: 0.82483\t\t\n",
      " 19) [ 80 229  59 288]: 0.81793\t\t 20) [ 78  59 217 288]: 0.78345\t\t\n",
      "- Average score: 0.88503\n",
      "\n",
      "- Evolving the hosts\n",
      "  - Removing half of the weaker hosts\n",
      "  - Crossovering top 2 hosts\n",
      "    [229  33  78 288] & [229  59  80 288] >> [0, 1, 2] & [1, 0, 2] >> [ 59 229  80 288] & [ 33 229  78 288]\n",
      "  - Mutating remaining top hosts\n",
      "    [229  59  80 288] >> [229  59  75 288]\n",
      "    [243  33  78 260] >> [243  17  90 260]\n",
      "    [231  33  78 260] >> [237  34  92 260]\n",
      "    [229  33  78 288] >> [218  30  78 290]\n",
      "    [229  28  85 243] >> [238  14  85 248]\n",
      "    [229  59  80 288] >> [235  59  77 299]\n",
      "    [243  33  78 260] >> [244  33  89 270]\n",
      "    [230  49  78 269] >> [218  53  78 263]\n",
      "  - Adding hosts\n",
      "    [59,229,80,288], [33,229,78,288], [229,59,75,288], [243,17,90,260], [237,34,92,260], [218,30,78,290], [238,14,85,248], [235,59,77,299], [244,33,89,270], [218,53,78,263]\n",
      "\n",
      "# Generation 203\n"
     ]
    },
    {
     "data": {
      "text/plain": [
       "@ Training progress: 100.0%"
      ]
     },
     "metadata": {},
     "output_type": "display_data"
    },
    {
     "name": "stdout",
     "output_type": "stream",
     "text": [
      "Parameters saved at Log 05.08.2019 16.17.txt!\n",
      "\n",
      "# All hosts\n",
      "  1) [229  33  78 288]: 0.92138\t\t  2) [229  59  80 288]: 0.92000\t\t\n",
      "  3) [231  33  62 246]: 0.91862\t\t  4) [231  33  78 260]: 0.91862\t\t\n",
      "  5) [ 78  59 229 288]: 0.91724\t\t  6) [230  30  78 270]: 0.91724\t\t\n",
      "  7) [229  28  85 243]: 0.91724\t\t  8) [230  49  78 269]: 0.91586\t\t\n",
      "  9) [243  33  78 260]: 0.91586\t\t 10) [218  31  94 255]: 0.91586\t\t\n",
      " 11) [235  59  77 299]: 0.90207\t\t 12) [237  34  92 260]: 0.88414\t\t\n",
      " 13) [218  53  78 263]: 0.87448\t\t 14) [238  14  85 248]: 0.86759\t\t\n",
      " 15) [ 33 229  78 288]: 0.84966\t\t 16) [229  59  75 288]: 0.84414\t\t\n",
      " 17) [ 59 229  80 288]: 0.83724\t\t 18) [244  33  89 270]: 0.81103\t\t\n",
      " 19) [218  30  78 290]: 0.78897\t\t 20) [243  17  90 260]: 0.76414\t\t\n",
      "- Average score: 0.88007\n",
      "\n",
      "- Evolving the hosts\n",
      "  - Removing half of the weaker hosts\n",
      "  - Crossovering top 2 hosts\n",
      "    [229  33  78 288] & [229  59  80 288] >> [1, 3] & [3, 1] >> [229 288  78  59] & [229 288  80  33]\n",
      "  - Mutating remaining top hosts\n",
      "    [231  33  62 246] >> [236  46  62 244]\n",
      "    [229  59  80 288] >> [235  44  80 277]\n",
      "    [243  33  78 260] >> [243  33  78 274]\n",
      "    [231  33  62 246] >> [231  45  78 246]\n",
      "    [218  31  94 255] >> [218  31  94 255]\n",
      "    [229  59  80 288] >> [229  59  83 288]\n",
      "    [229  28  85 243] >> [235  28  97 243]\n",
      "    [229  28  85 243] >> [227  30  85 243]\n",
      "  - Adding hosts\n",
      "    [229,288,78,59], [229,288,80,33], [236,46,62,244], [235,44,80,277], [243,33,78,274], [231,45,78,246], [218,31,94,255], [229,59,83,288], [235,28,97,243], [227,30,85,243]\n",
      "\n",
      "# Generation 204\n"
     ]
    },
    {
     "data": {
      "text/plain": [
       "@ Training progress: 100.0%"
      ]
     },
     "metadata": {},
     "output_type": "display_data"
    },
    {
     "name": "stdout",
     "output_type": "stream",
     "text": [
      "Parameters saved at Log 05.08.2019 16.17.txt!\n",
      "\n",
      "# All hosts\n",
      "  1) [229  33  78 288]: 0.92138\t\t  2) [229  59  80 288]: 0.92000\t\t\n",
      "  3) [231  33  62 246]: 0.91862\t\t  4) [231  33  78 260]: 0.91862\t\t\n",
      "  5) [ 78  59 229 288]: 0.91724\t\t  6) [230  30  78 270]: 0.91724\t\t\n",
      "  7) [229  28  85 243]: 0.91724\t\t  8) [230  49  78 269]: 0.91586\t\t\n",
      "  9) [243  33  78 260]: 0.91586\t\t 10) [218  31  94 255]: 0.91586\t\t\n",
      " 11) [229 288  78  59]: 0.89931\t\t 12) [231  45  78 246]: 0.86483\t\t\n",
      " 13) [235  28  97 243]: 0.85517\t\t 14) [218  31  94 255]: 0.85379\t\t\n",
      " 15) [235  44  80 277]: 0.84966\t\t 16) [227  30  85 243]: 0.84276\t\t\n",
      " 17) [243  33  78 274]: 0.83586\t\t 18) [229  59  83 288]: 0.82069\t\t\n",
      " 19) [236  46  62 244]: 0.80000\t\t 20) [229 288  80  33]: 0.58621\t\t\n",
      "- Average score: 0.86931\n",
      "\n",
      "- Evolving the hosts\n",
      "  - Removing half of the weaker hosts\n",
      "  - Crossovering top 2 hosts\n",
      "    [229  33  78 288] & [229  59  80 288] >> [1, 2, 3] & [2, 1, 3] >> [229  80  59 288] & [229  78  33 288]\n",
      "  - Mutating remaining top hosts\n",
      "    [230  49  78 269] >> [230  49  94 273]\n",
      "    [229  33  78 288] >> [236  19  78 272]\n",
      "    [230  30  78 270] >> [230  30  78 274]\n",
      "    [231  33  62 246] >> [219  24  62 257]\n",
      "    [229  28  85 243] >> [229  23  91 236]\n",
      "    [229  59  80 288] >> [223  73  80 303]\n",
      "    [231  33  62 246] >> [231  30  76 246]\n",
      "    [230  30  78 270] >> [230  30  78 265]\n",
      "  - Adding hosts\n",
      "    [229,80,59,288], [229,78,33,288], [230,49,94,273], [236,19,78,272], [230,30,78,274], [219,24,62,257], [229,23,91,236], [223,73,80,303], [231,30,76,246], [230,30,78,265]\n",
      "\n",
      "# Generation 205\n"
     ]
    },
    {
     "data": {
      "text/plain": [
       "@ Training progress: 100.0%"
      ]
     },
     "metadata": {},
     "output_type": "display_data"
    },
    {
     "name": "stdout",
     "output_type": "stream",
     "text": [
      "Parameters saved at Log 05.08.2019 16.17.txt!\n",
      "\n",
      "# All hosts\n",
      "  1) [229  33  78 288]: 0.92138\t\t  2) [229  59  80 288]: 0.92000\t\t\n",
      "  3) [231  33  62 246]: 0.91862\t\t  4) [231  33  78 260]: 0.91862\t\t\n",
      "  5) [ 78  59 229 288]: 0.91724\t\t  6) [230  30  78 270]: 0.91724\t\t\n",
      "  7) [229  28  85 243]: 0.91724\t\t  8) [230  49  78 269]: 0.91586\t\t\n",
      "  9) [243  33  78 260]: 0.91586\t\t 10) [218  31  94 255]: 0.91586\t\t\n",
      " 11) [236  19  78 272]: 0.89793\t\t 12) [230  30  78 265]: 0.89517\t\t\n",
      " 13) [230  30  78 274]: 0.88138\t\t 14) [231  30  76 246]: 0.84690\t\t\n",
      " 15) [219  24  62 257]: 0.84690\t\t 16) [229  78  33 288]: 0.82483\t\t\n",
      " 17) [229  23  91 236]: 0.78069\t\t 18) [223  73  80 303]: 0.78069\t\t\n",
      " 19) [230  49  94 273]: 0.73517\t\t 20) [229  80  59 288]: 0.71862\t\t\n",
      "- Average score: 0.86931\n",
      "\n",
      "- Evolving the hosts\n",
      "  - Removing half of the weaker hosts\n",
      "  - Crossovering top 2 hosts\n",
      "    [229  33  78 288] & [229  59  80 288] >> [1, 3] & [3, 1] >> [229 288  78  59] & [229 288  80  33]\n",
      "  - Mutating remaining top hosts\n",
      "    [ 78  59 229 288] >> [ 83  65 242 288]\n",
      "    [229  28  85 243] >> [229  32  98 256]\n",
      "    [ 78  59 229 288] >> [ 78  53 229 288]\n",
      "    [231  33  62 246] >> [231  30  75 257]\n",
      "    [218  31  94 255] >> [216  31  94 244]\n",
      "    [229  28  85 243] >> [231  23  79 239]\n",
      "    [230  30  78 270] >> [246  20  77 271]\n",
      "    [231  33  62 246] >> [218  33  62 246]\n",
      "  - Adding hosts\n",
      "    [229,288,78,59], [229,288,80,33], [83,65,242,288], [229,32,98,256], [78,53,229,288], [231,30,75,257], [216,31,94,244], [231,23,79,239], [246,20,77,271], [218,33,62,246]\n",
      "\n",
      "# Generation 206\n"
     ]
    },
    {
     "data": {
      "text/plain": [
       "@ Training progress: 100.0%"
      ]
     },
     "metadata": {},
     "output_type": "display_data"
    },
    {
     "name": "stdout",
     "output_type": "stream",
     "text": [
      "Parameters saved at Log 05.08.2019 16.17.txt!\n",
      "\n",
      "# All hosts\n",
      "  1) [229  33  78 288]: 0.92138\t\t  2) [229  59  80 288]: 0.92000\t\t\n",
      "  3) [231  33  62 246]: 0.91862\t\t  4) [231  33  78 260]: 0.91862\t\t\n",
      "  5) [ 78  59 229 288]: 0.91724\t\t  6) [230  30  78 270]: 0.91724\t\t\n",
      "  7) [229  28  85 243]: 0.91724\t\t  8) [230  49  78 269]: 0.91586\t\t\n",
      "  9) [243  33  78 260]: 0.91586\t\t 10) [218  31  94 255]: 0.91586\t\t\n",
      " 11) [218  33  62 246]: 0.89931\t\t 12) [ 78  53 229 288]: 0.89655\t\t\n",
      " 13) [246  20  77 271]: 0.89103\t\t 14) [229  32  98 256]: 0.83172\t\t\n",
      " 15) [229 288  80  33]: 0.82345\t\t 16) [ 83  65 242 288]: 0.79862\t\t\n",
      " 17) [229 288  78  59]: 0.79586\t\t 18) [216  31  94 244]: 0.79034\t\t\n",
      " 19) [231  23  79 239]: 0.77379\t\t 20) [231  30  75 257]: 0.71862\t\t\n",
      "- Average score: 0.86986\n",
      "\n",
      "- Evolving the hosts\n",
      "  - Removing half of the weaker hosts\n",
      "  - Crossovering top 2 hosts\n",
      "    [229  33  78 288] & [229  59  80 288] >> [1, 2, 3] & [2, 1, 3] >> [229  80  59 288] & [229  78  33 288]\n",
      "  - Mutating remaining top hosts\n",
      "    [231  33  62 246] >> [223  47  50 238]\n",
      "    [243  33  78 260] >> [238  39  93 259]\n",
      "    [218  31  94 255] >> [218  31  89 266]\n",
      "    [231  33  78 260] >> [231  33  75 270]\n",
      "    [230  49  78 269] >> [239  55  78 281]\n",
      "    [231  33  62 246] >> [238  37  48 246]\n",
      "    [229  33  78 288] >> [229  33  90 279]\n",
      "    [230  49  78 269] >> [232  34  80 282]\n",
      "  - Adding hosts\n",
      "    [229,80,59,288], [229,78,33,288], [223,47,50,238], [238,39,93,259], [218,31,89,266], [231,33,75,270], [239,55,78,281], [238,37,48,246], [229,33,90,279], [232,34,80,282]\n",
      "\n",
      "# Generation 207\n"
     ]
    },
    {
     "data": {
      "text/plain": [
       "@ Training progress: 100.0%"
      ]
     },
     "metadata": {},
     "output_type": "display_data"
    },
    {
     "name": "stdout",
     "output_type": "stream",
     "text": [
      "Parameters saved at Log 05.08.2019 16.17.txt!\n",
      "\n",
      "# All hosts\n",
      "  1) [229  33  78 288]: 0.92138\t\t  2) [229  59  80 288]: 0.92000\t\t\n",
      "  3) [231  33  62 246]: 0.91862\t\t  4) [231  33  78 260]: 0.91862\t\t\n",
      "  5) [ 78  59 229 288]: 0.91724\t\t  6) [230  30  78 270]: 0.91724\t\t\n",
      "  7) [229  28  85 243]: 0.91724\t\t  8) [230  49  78 269]: 0.91586\t\t\n",
      "  9) [243  33  78 260]: 0.91586\t\t 10) [218  31  94 255]: 0.91586\t\t\n",
      " 11) [229  80  59 288]: 0.88966\t\t 12) [232  34  80 282]: 0.87724\t\t\n",
      " 13) [238  37  48 246]: 0.86207\t\t 14) [229  78  33 288]: 0.85655\t\t\n",
      " 15) [238  39  93 259]: 0.83724\t\t 16) [231  33  75 270]: 0.82621\t\t\n",
      " 17) [229  33  90 279]: 0.79448\t\t 18) [223  47  50 238]: 0.78483\t\t\n",
      " 19) [239  55  78 281]: 0.76276\t\t 20) [218  31  89 266]: 0.69103\t\t\n",
      "- Average score: 0.86800\n",
      "\n",
      "- Evolving the hosts\n",
      "  - Removing half of the weaker hosts\n",
      "  - Crossovering top 2 hosts\n",
      "    [229  33  78 288] & [229  59  80 288] >> [1, 2, 3] & [3, 1, 2] >> [229 288  59  80] & [229  78 288  33]\n",
      "  - Mutating remaining top hosts\n",
      "    [ 78  59 229 288] >> [ 88  67 244 288]\n",
      "    [231  33  62 246] >> [231  45  62 259]\n",
      "    [229  33  78 288] >> [229  42  93 288]\n",
      "    [229  28  85 243] >> [240  28  80 243]\n",
      "    [230  49  78 269] >> [230  65  92 269]\n",
      "    [229  33  78 288] >> [236  33  63 276]\n",
      "    [229  59  80 288] >> [229  59  81 288]\n",
      "    [229  28  85 243] >> [229  18  86 231]\n",
      "  - Adding hosts\n",
      "    [229,288,59,80], [229,78,288,33], [88,67,244,288], [231,45,62,259], [229,42,93,288], [240,28,80,243], [230,65,92,269], [236,33,63,276], [229,59,81,288], [229,18,86,231]\n",
      "\n",
      "# Generation 208\n"
     ]
    },
    {
     "data": {
      "text/plain": [
       "@ Training progress: 100.0%"
      ]
     },
     "metadata": {},
     "output_type": "display_data"
    },
    {
     "name": "stdout",
     "output_type": "stream",
     "text": [
      "Parameters saved at Log 05.08.2019 16.17.txt!\n",
      "\n",
      "# All hosts\n",
      "  1) [229  33  78 288]: 0.92138\t\t  2) [229  59  80 288]: 0.92000\t\t\n",
      "  3) [231  33  62 246]: 0.91862\t\t  4) [231  33  78 260]: 0.91862\t\t\n",
      "  5) [ 78  59 229 288]: 0.91724\t\t  6) [230  30  78 270]: 0.91724\t\t\n",
      "  7) [229  28  85 243]: 0.91724\t\t  8) [230  49  78 269]: 0.91586\t\t\n",
      "  9) [243  33  78 260]: 0.91586\t\t 10) [218  31  94 255]: 0.91586\t\t\n",
      " 11) [240  28  80 243]: 0.89655\t\t 12) [229 288  59  80]: 0.88138\t\t\n",
      " 13) [231  45  62 259]: 0.87586\t\t 14) [229  42  93 288]: 0.85103\t\t\n",
      " 15) [229  18  86 231]: 0.84138\t\t 16) [229  59  81 288]: 0.82621\t\t\n",
      " 17) [230  65  92 269]: 0.82621\t\t 18) [229  78 288  33]: 0.78759\t\t\n",
      " 19) [ 88  67 244 288]: 0.76690\t\t 20) [236  33  63 276]: 0.73655\t\t\n",
      "- Average score: 0.87338\n",
      "\n",
      "- Evolving the hosts\n",
      "  - Removing half of the weaker hosts\n",
      "  - Crossovering top 2 hosts\n",
      "    [229  33  78 288] & [229  59  80 288] >> [1, 2, 3] & [3, 2, 1] >> [229 288  80  59] & [229 288  78  33]\n",
      "  - Mutating remaining top hosts\n",
      "    [231  33  78 260] >> [235  39  78 275]\n",
      "    [218  31  94 255] >> [218  38 105 247]\n",
      "    [218  31  94 255] >> [202  31  94 257]\n",
      "    [231  33  62 246] >> [247  34  46 246]\n",
      "    [231  33  62 246] >> [235  48  66 244]\n",
      "    [ 78  59 229 288] >> [ 65  58 229 283]\n",
      "    [229  33  78 288] >> [244  35  78 288]\n",
      "    [231  33  78 260] >> [231  22  80 260]\n",
      "  - Adding hosts\n",
      "    [229,288,80,59], [229,288,78,33], [235,39,78,275], [218,38,105,247], [202,31,94,257], [247,34,46,246], [235,48,66,244], [65,58,229,283], [244,35,78,288], [231,22,80,260]\n",
      "\n",
      "# Generation 209\n"
     ]
    },
    {
     "data": {
      "text/plain": [
       "@ Training progress: 100.0%"
      ]
     },
     "metadata": {},
     "output_type": "display_data"
    },
    {
     "name": "stdout",
     "output_type": "stream",
     "text": [
      "Parameters saved at Log 05.08.2019 16.17.txt!\n",
      "\n",
      "# All hosts\n",
      "  1) [229  33  78 288]: 0.92138\t\t  2) [229  59  80 288]: 0.92000\t\t\n",
      "  3) [231  33  62 246]: 0.91862\t\t  4) [231  33  78 260]: 0.91862\t\t\n",
      "  5) [ 78  59 229 288]: 0.91724\t\t  6) [230  30  78 270]: 0.91724\t\t\n",
      "  7) [229  28  85 243]: 0.91724\t\t  8) [230  49  78 269]: 0.91586\t\t\n",
      "  9) [243  33  78 260]: 0.91586\t\t 10) [218  31  94 255]: 0.91586\t\t\n",
      " 11) [ 65  58 229 283]: 0.89517\t\t 12) [218  38 105 247]: 0.89241\t\t\n",
      " 13) [247  34  46 246]: 0.88414\t\t 14) [244  35  78 288]: 0.85931\t\t\n",
      " 15) [235  48  66 244]: 0.84414\t\t 16) [235  39  78 275]: 0.80690\t\t\n",
      " 17) [229 288  78  33]: 0.77793\t\t 18) [202  31  94 257]: 0.77655\t\t\n",
      " 19) [231  22  80 260]: 0.76414\t\t 20) [229 288  80  59]: 0.74759\t\t\n",
      "- Average score: 0.87131\n",
      "\n",
      "- Evolving the hosts\n",
      "  - Removing half of the weaker hosts\n",
      "  - Crossovering top 2 hosts\n",
      "    [229  33  78 288] & [229  59  80 288] >> [2, 3] & [3, 2] >> [229  33 288  80] & [229  59 288  78]\n",
      "  - Mutating remaining top hosts\n",
      "    [230  49  78 269] >> [223  52  73 273]\n",
      "    [ 78  59 229 288] >> [ 75  59 229 284]\n",
      "    [243  33  78 260] >> [243  37  67 260]\n",
      "    [230  30  78 270] >> [216  30  87 275]\n",
      "    [230  49  78 269] >> [214  42  78 265]\n",
      "    [229  33  78 288] >> [213  27  78 286]\n",
      "    [229  28  85 243] >> [232  23  94 244]\n",
      "    [229  33  78 288] >> [229  43  78 288]\n",
      "  - Adding hosts\n",
      "    [229,33,288,80], [229,59,288,78], [223,52,73,273], [75,59,229,284], [243,37,67,260], [216,30,87,275], [214,42,78,265], [213,27,78,286], [232,23,94,244], [229,43,78,288]\n",
      "\n",
      "# Generation 210\n"
     ]
    },
    {
     "data": {
      "text/plain": [
       "@ Training progress: 100.0%"
      ]
     },
     "metadata": {},
     "output_type": "display_data"
    },
    {
     "name": "stdout",
     "output_type": "stream",
     "text": [
      "Parameters saved at Log 05.08.2019 16.17.txt!\n",
      "\n",
      "# All hosts\n",
      "  1) [229  33  78 288]: 0.92138\t\t  2) [229  59  80 288]: 0.92000\t\t\n",
      "  3) [231  33  62 246]: 0.91862\t\t  4) [231  33  78 260]: 0.91862\t\t\n",
      "  5) [ 78  59 229 288]: 0.91724\t\t  6) [230  30  78 270]: 0.91724\t\t\n",
      "  7) [229  28  85 243]: 0.91724\t\t  8) [230  49  78 269]: 0.91586\t\t\n",
      "  9) [243  33  78 260]: 0.91586\t\t 10) [218  31  94 255]: 0.91586\t\t\n",
      " 11) [243  37  67 260]: 0.85793\t\t 12) [223  52  73 273]: 0.85517\t\t\n",
      " 13) [232  23  94 244]: 0.84828\t\t 14) [229  59 288  78]: 0.84000\t\t\n",
      " 15) [229  43  78 288]: 0.83586\t\t 16) [ 75  59 229 284]: 0.82069\t\t\n",
      " 17) [214  42  78 265]: 0.80690\t\t 18) [216  30  87 275]: 0.80414\t\t\n",
      " 19) [213  27  78 286]: 0.78345\t\t 20) [229  33 288  80]: 0.74345\t\t\n",
      "- Average score: 0.86869\n",
      "\n",
      "- Evolving the hosts\n",
      "  - Removing half of the weaker hosts\n",
      "  - Crossovering top 2 hosts\n",
      "    [229  33  78 288] & [229  59  80 288] >> [0, 1, 2] & [1, 0, 2] >> [ 59 229  80 288] & [ 33 229  78 288]\n",
      "  - Mutating remaining top hosts\n",
      "    [218  31  94 255] >> [218  41  96 255]\n",
      "    [229  28  85 243] >> [229  28  95 238]\n",
      "    [243  33  78 260] >> [246  33  92 252]\n",
      "    [230  49  78 269] >> [233  50  90 269]\n",
      "    [229  59  80 288] >> [229  62  76 275]\n",
      "    [ 78  59 229 288] >> [ 77  59 217 288]\n",
      "    [229  59  80 288] >> [243  46  80 281]\n",
      "    [ 78  59 229 288] >> [ 78  46 229 274]\n",
      "  - Adding hosts\n",
      "    [59,229,80,288], [33,229,78,288], [218,41,96,255], [229,28,95,238], [246,33,92,252], [233,50,90,269], [229,62,76,275], [77,59,217,288], [243,46,80,281], [78,46,229,274]\n",
      "\n",
      "# Generation 211\n"
     ]
    },
    {
     "data": {
      "text/plain": [
       "@ Training progress: 100.0%"
      ]
     },
     "metadata": {},
     "output_type": "display_data"
    },
    {
     "name": "stdout",
     "output_type": "stream",
     "text": [
      "Parameters saved at Log 05.08.2019 16.17.txt!\n",
      "\n",
      "# All hosts\n",
      "  1) [229  33  78 288]: 0.92138\t\t  2) [229  59  80 288]: 0.92000\t\t\n",
      "  3) [231  33  62 246]: 0.91862\t\t  4) [231  33  78 260]: 0.91862\t\t\n",
      "  5) [ 78  59 229 288]: 0.91724\t\t  6) [230  30  78 270]: 0.91724\t\t\n",
      "  7) [229  28  85 243]: 0.91724\t\t  8) [230  49  78 269]: 0.91586\t\t\n",
      "  9) [243  33  78 260]: 0.91586\t\t 10) [218  31  94 255]: 0.91586\t\t\n",
      " 11) [ 59 229  80 288]: 0.88828\t\t 12) [229  62  76 275]: 0.88552\t\t\n",
      " 13) [218  41  96 255]: 0.88552\t\t 14) [246  33  92 252]: 0.86207\t\t\n",
      " 15) [229  28  95 238]: 0.83310\t\t 16) [ 33 229  78 288]: 0.83172\t\t\n",
      " 17) [ 78  46 229 274]: 0.82483\t\t 18) [233  50  90 269]: 0.82345\t\t\n",
      " 19) [ 77  59 217 288]: 0.78483\t\t 20) [243  46  80 281]: 0.74483\t\t\n",
      "- Average score: 0.87710\n",
      "\n",
      "- Evolving the hosts\n",
      "  - Removing half of the weaker hosts\n",
      "  - Crossovering top 2 hosts\n",
      "    [229  33  78 288] & [229  59  80 288] >> [0, 1, 2] & [0, 1, 2] >> [229  59  80 288] & [229  33  78 288]\n",
      "  - Mutating remaining top hosts\n",
      "    [229  33  78 288] >> [229  33  78 296]\n",
      "    [218  31  94 255] >> [205  27  95 255]\n",
      "    [ 78  59 229 288] >> [ 82  59 217 283]\n",
      "    [243  33  78 260] >> [259  26  94 267]\n",
      "    [243  33  78 260] >> [252  33  66 276]\n",
      "    [230  49  78 269] >> [230  55  63 264]\n",
      "    [230  30  78 270] >> [244  30  65 270]\n",
      "    [231  33  62 246] >> [221  30  62 252]\n",
      "  - Adding hosts\n",
      "    [229,59,80,288], [229,33,78,288], [229,33,78,296], [205,27,95,255], [82,59,217,283], [259,26,94,267], [252,33,66,276], [230,55,63,264], [244,30,65,270], [221,30,62,252]\n",
      "\n",
      "# Generation 212\n"
     ]
    },
    {
     "data": {
      "text/plain": [
       "@ Training progress: 100.0%"
      ]
     },
     "metadata": {},
     "output_type": "display_data"
    },
    {
     "name": "stdout",
     "output_type": "stream",
     "text": [
      "Parameters saved at Log 05.08.2019 16.17.txt!\n",
      "\n",
      "# All hosts\n",
      "  1) [229  33  78 288]: 0.92138\t\t  2) [229  59  80 288]: 0.92000\t\t\n",
      "  3) [231  33  62 246]: 0.91862\t\t  4) [231  33  78 260]: 0.91862\t\t\n",
      "  5) [ 78  59 229 288]: 0.91724\t\t  6) [230  30  78 270]: 0.91724\t\t\n",
      "  7) [229  28  85 243]: 0.91724\t\t  8) [230  49  78 269]: 0.91586\t\t\n",
      "  9) [243  33  78 260]: 0.91586\t\t 10) [218  31  94 255]: 0.91586\t\t\n",
      " 11) [205  27  95 255]: 0.90621\t\t 12) [259  26  94 267]: 0.89655\t\t\n",
      " 13) [252  33  66 276]: 0.86207\t\t 14) [230  55  63 264]: 0.84828\t\t\n",
      " 15) [244  30  65 270]: 0.84138\t\t 16) [ 82  59 217 283]: 0.82897\t\t\n",
      " 17) [229  33  78 288]: 0.81931\t\t 18) [221  30  62 252]: 0.80414\t\t\n",
      " 19) [229  33  78 296]: 0.77241\t\t 20) [229  59  80 288]: 0.69655\t\t\n",
      "- Average score: 0.87269\n",
      "\n",
      "- Evolving the hosts\n",
      "  - Removing half of the weaker hosts\n",
      "  - Crossovering top 2 hosts\n",
      "    [229  33  78 288] & [229  59  80 288] >> [0, 2] & [0, 2] >> [229  33  80 288] & [229  59  78 288]\n",
      "  - Mutating remaining top hosts\n",
      "    [243  33  78 260] >> [243  33  78 273]\n",
      "    [ 78  59 229 288] >> [ 90  71 235 282]\n",
      "    [ 78  59 229 288] >> [ 84  59 229 296]\n",
      "    [ 78  59 229 288] >> [ 78  46 229 277]\n",
      "    [230  49  78 269] >> [230  49  82 269]\n",
      "    [230  30  78 270] >> [219  30  82 258]\n",
      "    [243  33  78 260] >> [257  39  85 260]\n",
      "    [243  33  78 260] >> [237  33  78 260]\n",
      "  - Adding hosts\n",
      "    [229,33,80,288], [229,59,78,288], [243,33,78,273], [90,71,235,282], [84,59,229,296], [78,46,229,277], [230,49,82,269], [219,30,82,258], [257,39,85,260], [237,33,78,260]\n",
      "\n",
      "# Generation 213\n"
     ]
    },
    {
     "data": {
      "text/plain": [
       "@ Training progress: 100.0%"
      ]
     },
     "metadata": {},
     "output_type": "display_data"
    },
    {
     "name": "stdout",
     "output_type": "stream",
     "text": [
      "Parameters saved at Log 05.08.2019 16.17.txt!\n",
      "\n",
      "# All hosts\n",
      "  1) [229  33  78 288]: 0.92138\t\t  2) [229  59  80 288]: 0.92000\t\t\n",
      "  3) [231  33  62 246]: 0.91862\t\t  4) [231  33  78 260]: 0.91862\t\t\n",
      "  5) [ 78  59 229 288]: 0.91724\t\t  6) [230  30  78 270]: 0.91724\t\t\n",
      "  7) [229  28  85 243]: 0.91724\t\t  8) [230  49  78 269]: 0.91586\t\t\n",
      "  9) [243  33  78 260]: 0.91586\t\t 10) [218  31  94 255]: 0.91586\t\t\n",
      " 11) [229  33  80 288]: 0.90483\t\t 12) [257  39  85 260]: 0.88828\t\t\n",
      " 13) [229  59  78 288]: 0.87034\t\t 14) [219  30  82 258]: 0.86483\t\t\n",
      " 15) [ 90  71 235 282]: 0.86345\t\t 16) [ 78  46 229 277]: 0.85241\t\t\n",
      " 17) [243  33  78 273]: 0.84966\t\t 18) [230  49  82 269]: 0.84690\t\t\n",
      " 19) [ 84  59 229 296]: 0.82759\t\t 20) [237  33  78 260]: 0.78345\t\t\n",
      "- Average score: 0.88648\n",
      "\n",
      "- Evolving the hosts\n",
      "  - Removing half of the weaker hosts\n",
      "  - Crossovering top 2 hosts\n",
      "    [229  33  78 288] & [229  59  80 288] >> [0, 1, 3] & [1, 0, 3] >> [ 59 229  78 288] & [ 33 229  80 288]\n",
      "  - Mutating remaining top hosts\n",
      "    [243  33  78 260] >> [254  44  78 253]\n",
      "    [243  33  78 260] >> [236  38  83 261]\n",
      "    [231  33  62 246] >> [223  33  62 252]\n",
      "    [243  33  78 260] >> [243  22  65 272]\n",
      "    [230  30  78 270] >> [230  42  67 270]\n",
      "    [231  33  62 246] >> [231  47  62 251]\n",
      "    [ 78  59 229 288] >> [ 71  71 229 288]\n",
      "    [231  33  78 260] >> [231  30  89 260]\n",
      "  - Adding hosts\n",
      "    [59,229,78,288], [33,229,80,288], [254,44,78,253], [236,38,83,261], [223,33,62,252], [243,22,65,272], [230,42,67,270], [231,47,62,251], [71,71,229,288], [231,30,89,260]\n",
      "\n",
      "# Generation 214\n"
     ]
    },
    {
     "data": {
      "text/plain": [
       "@ Training progress: 100.0%"
      ]
     },
     "metadata": {},
     "output_type": "display_data"
    },
    {
     "name": "stdout",
     "output_type": "stream",
     "text": [
      "Parameters saved at Log 05.08.2019 16.17.txt!\n",
      "\n",
      "# All hosts\n",
      "  1) [229  33  78 288]: 0.92138\t\t  2) [229  59  80 288]: 0.92000\t\t\n",
      "  3) [231  33  62 246]: 0.91862\t\t  4) [231  33  78 260]: 0.91862\t\t\n",
      "  5) [ 78  59 229 288]: 0.91724\t\t  6) [230  30  78 270]: 0.91724\t\t\n",
      "  7) [229  28  85 243]: 0.91724\t\t  8) [230  49  78 269]: 0.91586\t\t\n",
      "  9) [243  33  78 260]: 0.91586\t\t 10) [218  31  94 255]: 0.91586\t\t\n",
      " 11) [254  44  78 253]: 0.90345\t\t 12) [ 71  71 229 288]: 0.89655\t\t\n",
      " 13) [230  42  67 270]: 0.89517\t\t 14) [236  38  83 261]: 0.89379\t\t\n",
      " 15) [243  22  65 272]: 0.86207\t\t 16) [231  47  62 251]: 0.85241\t\t\n",
      " 17) [ 59 229  78 288]: 0.85241\t\t 18) [223  33  62 252]: 0.79034\t\t\n",
      " 19) [231  30  89 260]: 0.78069\t\t 20) [ 33 229  80 288]: 0.77103\t\t\n",
      "- Average score: 0.88379\n",
      "\n",
      "- Evolving the hosts\n",
      "  - Removing half of the weaker hosts\n",
      "  - Crossovering top 2 hosts\n",
      "    [229  33  78 288] & [229  59  80 288] >> [0, 1, 2] & [1, 0, 2] >> [ 59 229  80 288] & [ 33 229  78 288]\n",
      "  - Mutating remaining top hosts\n",
      "    [230  30  78 270] >> [233  19  65 270]\n",
      "    [231  33  62 246] >> [216  33  62 244]\n",
      "    [231  33  62 246] >> [231  18  62 246]\n",
      "    [231  33  62 246] >> [241  31  62 241]\n",
      "    [229  28  85 243] >> [240  30  82 259]\n",
      "    [230  30  78 270] >> [241  30  65 256]\n",
      "    [243  33  78 260] >> [252  31  90 260]\n",
      "    [243  33  78 260] >> [243  17  78 259]\n",
      "  - Adding hosts\n",
      "    [59,229,80,288], [33,229,78,288], [233,19,65,270], [216,33,62,244], [231,18,62,246], [241,31,62,241], [240,30,82,259], [241,30,65,256], [252,31,90,260], [243,17,78,259]\n",
      "\n",
      "# Generation 215\n"
     ]
    },
    {
     "data": {
      "text/plain": [
       "@ Training progress: 100.0%"
      ]
     },
     "metadata": {},
     "output_type": "display_data"
    },
    {
     "name": "stdout",
     "output_type": "stream",
     "text": [
      "Parameters saved at Log 05.08.2019 16.17.txt!\n",
      "\n",
      "# All hosts\n",
      "  1) [229  33  78 288]: 0.92138\t\t  2) [229  59  80 288]: 0.92000\t\t\n",
      "  3) [231  33  62 246]: 0.91862\t\t  4) [231  33  78 260]: 0.91862\t\t\n",
      "  5) [ 78  59 229 288]: 0.91724\t\t  6) [230  30  78 270]: 0.91724\t\t\n",
      "  7) [229  28  85 243]: 0.91724\t\t  8) [230  49  78 269]: 0.91586\t\t\n",
      "  9) [243  33  78 260]: 0.91586\t\t 10) [218  31  94 255]: 0.91586\t\t\n",
      " 11) [240  30  82 259]: 0.86483\t\t 12) [241  30  65 256]: 0.86483\t\t\n",
      " 13) [241  31  62 241]: 0.86207\t\t 14) [252  31  90 260]: 0.85793\t\t\n",
      " 15) [243  17  78 259]: 0.84828\t\t 16) [ 59 229  80 288]: 0.84138\t\t\n",
      " 17) [233  19  65 270]: 0.82621\t\t 18) [216  33  62 244]: 0.82345\t\t\n",
      " 19) [ 33 229  78 288]: 0.81103\t\t 20) [231  18  62 246]: 0.79310\t\t\n",
      "- Average score: 0.87855\n",
      "\n",
      "- Evolving the hosts\n",
      "  - Removing half of the weaker hosts\n",
      "  - Crossovering top 2 hosts\n",
      "    [229  33  78 288] & [229  59  80 288] >> [0, 1, 2] & [2, 1, 0] >> [ 80  59 229 288] & [ 78  33 229 288]\n",
      "  - Mutating remaining top hosts\n",
      "    [231  33  62 246] >> [231  22  69 246]\n",
      "    [231  33  62 246] >> [243  33  77 246]\n",
      "    [229  59  80 288] >> [229  49  67 288]\n",
      "    [ 78  59 229 288] >> [ 78  62 226 288]\n",
      "    [231  33  62 246] >> [220  21  62 246]\n",
      "    [229  59  80 288] >> [213  73  82 288]\n",
      "    [229  33  78 288] >> [238  33  72 299]\n",
      "    [229  28  85 243] >> [219  27  86 229]\n",
      "  - Adding hosts\n",
      "    [80,59,229,288], [78,33,229,288], [231,22,69,246], [243,33,77,246], [229,49,67,288], [78,62,226,288], [220,21,62,246], [213,73,82,288], [238,33,72,299], [219,27,86,229]\n",
      "\n",
      "# Generation 216\n"
     ]
    },
    {
     "data": {
      "text/plain": [
       "@ Training progress: 100.0%"
      ]
     },
     "metadata": {},
     "output_type": "display_data"
    },
    {
     "name": "stdout",
     "output_type": "stream",
     "text": [
      "Parameters saved at Log 05.08.2019 16.17.txt!\n",
      "\n",
      "# All hosts\n",
      "  1) [229  33  78 288]: 0.92138\t\t  2) [229  59  80 288]: 0.92000\t\t\n",
      "  3) [231  33  62 246]: 0.91862\t\t  4) [231  33  78 260]: 0.91862\t\t\n",
      "  5) [ 78  59 229 288]: 0.91724\t\t  6) [230  30  78 270]: 0.91724\t\t\n",
      "  7) [229  28  85 243]: 0.91724\t\t  8) [230  49  78 269]: 0.91586\t\t\n",
      "  9) [243  33  78 260]: 0.91586\t\t 10) [218  31  94 255]: 0.91586\t\t\n",
      " 11) [231  22  69 246]: 0.89793\t\t 12) [ 78  62 226 288]: 0.86345\t\t\n",
      " 13) [ 78  33 229 288]: 0.85793\t\t 14) [238  33  72 299]: 0.84138\t\t\n",
      " 15) [243  33  77 246]: 0.83862\t\t 16) [ 80  59 229 288]: 0.81103\t\t\n",
      " 17) [213  73  82 288]: 0.79034\t\t 18) [229  49  67 288]: 0.75724\t\t\n",
      " 19) [220  21  62 246]: 0.74069\t\t 20) [219  27  86 229]: 0.70897\t\t\n",
      "- Average score: 0.86428\n",
      "\n",
      "- Evolving the hosts\n",
      "  - Removing half of the weaker hosts\n",
      "  - Crossovering top 2 hosts\n",
      "    [229  33  78 288] & [229  59  80 288] >> [0, 1, 3] & [1, 0, 3] >> [ 59 229  78 288] & [ 33 229  80 288]\n",
      "  - Mutating remaining top hosts\n",
      "    [ 78  59 229 288] >> [ 77  59 231 275]\n",
      "    [231  33  78 260] >> [239  47  65 262]\n",
      "    [229  59  80 288] >> [239  74  80 274]\n",
      "    [230  49  78 269] >> [246  36  89 255]\n",
      "    [229  59  80 288] >> [224  57  91 288]\n",
      "    [231  33  78 260] >> [231  35  78 245]\n",
      "    [229  33  78 288] >> [229  33  84 277]\n",
      "    [230  30  78 270] >> [232  33  77 264]\n",
      "  - Adding hosts\n",
      "    [59,229,78,288], [33,229,80,288], [77,59,231,275], [239,47,65,262], [239,74,80,274], [246,36,89,255], [224,57,91,288], [231,35,78,245], [229,33,84,277], [232,33,77,264]\n",
      "\n",
      "# Generation 217\n"
     ]
    },
    {
     "data": {
      "text/plain": [
       "@ Training progress: 100.0%"
      ]
     },
     "metadata": {},
     "output_type": "display_data"
    },
    {
     "name": "stdout",
     "output_type": "stream",
     "text": [
      "Parameters saved at Log 05.08.2019 16.17.txt!\n",
      "\n",
      "# All hosts\n",
      "  1) [229  33  78 288]: 0.92138\t\t  2) [229  59  80 288]: 0.92000\t\t\n",
      "  3) [231  33  62 246]: 0.91862\t\t  4) [231  33  78 260]: 0.91862\t\t\n",
      "  5) [ 78  59 229 288]: 0.91724\t\t  6) [230  30  78 270]: 0.91724\t\t\n",
      "  7) [229  28  85 243]: 0.91724\t\t  8) [230  49  78 269]: 0.91586\t\t\n",
      "  9) [243  33  78 260]: 0.91586\t\t 10) [218  31  94 255]: 0.91586\t\t\n",
      " 11) [239  47  65 262]: 0.88552\t\t 12) [224  57  91 288]: 0.88000\t\t\n",
      " 13) [232  33  77 264]: 0.87310\t\t 14) [ 33 229  80 288]: 0.82483\t\t\n",
      " 15) [ 77  59 231 275]: 0.82207\t\t 16) [231  35  78 245]: 0.81379\t\t\n",
      " 17) [ 59 229  78 288]: 0.80966\t\t 18) [229  33  84 277]: 0.77655\t\t\n",
      " 19) [246  36  89 255]: 0.77517\t\t 20) [239  74  80 274]: 0.72414\t\t\n",
      "- Average score: 0.86814\n",
      "\n",
      "- Evolving the hosts\n",
      "  - Removing half of the weaker hosts\n",
      "  - Crossovering top 2 hosts\n",
      "    [229  33  78 288] & [229  59  80 288] >> [0, 1] & [1, 0] >> [ 59 229  78 288] & [ 33 229  80 288]\n",
      "  - Mutating remaining top hosts\n",
      "    [230  30  78 270] >> [219  41  78 264]\n",
      "    [243  33  78 260] >> [243  30  78 248]\n",
      "    [231  33  62 246] >> [231  19  64 232]\n",
      "    [229  33  78 288] >> [241  18  77 288]\n",
      "    [229  33  78 288] >> [222  33  83 288]\n",
      "    [218  31  94 255] >> [221  24  94 255]\n",
      "    [218  31  94 255] >> [217  31  94 260]\n",
      "    [230  49  78 269] >> [238  41  89 269]\n",
      "  - Adding hosts\n",
      "    [59,229,78,288], [33,229,80,288], [219,41,78,264], [243,30,78,248], [231,19,64,232], [241,18,77,288], [222,33,83,288], [221,24,94,255], [217,31,94,260], [238,41,89,269]\n",
      "\n",
      "# Generation 218\n"
     ]
    },
    {
     "data": {
      "text/plain": [
       "@ Training progress: 100.0%"
      ]
     },
     "metadata": {},
     "output_type": "display_data"
    },
    {
     "name": "stdout",
     "output_type": "stream",
     "text": [
      "Parameters saved at Log 05.08.2019 16.17.txt!\n",
      "\n",
      "# All hosts\n",
      "  1) [229  33  78 288]: 0.92138\t\t  2) [229  59  80 288]: 0.92000\t\t\n",
      "  3) [231  33  62 246]: 0.91862\t\t  4) [231  33  78 260]: 0.91862\t\t\n",
      "  5) [ 78  59 229 288]: 0.91724\t\t  6) [230  30  78 270]: 0.91724\t\t\n",
      "  7) [229  28  85 243]: 0.91724\t\t  8) [230  49  78 269]: 0.91586\t\t\n",
      "  9) [243  33  78 260]: 0.91586\t\t 10) [218  31  94 255]: 0.91586\t\t\n",
      " 11) [231  19  64 232]: 0.89931\t\t 12) [ 33 229  80 288]: 0.89655\t\t\n",
      " 13) [243  30  78 248]: 0.88828\t\t 14) [219  41  78 264]: 0.86897\t\t\n",
      " 15) [221  24  94 255]: 0.86483\t\t 16) [222  33  83 288]: 0.85517\t\t\n",
      " 17) [241  18  77 288]: 0.84000\t\t 18) [238  41  89 269]: 0.78897\t\t\n",
      " 19) [217  31  94 260]: 0.76000\t\t 20) [ 59 229  78 288]: 0.67310\t\t\n",
      "- Average score: 0.87566\n",
      "\n",
      "- Evolving the hosts\n",
      "  - Removing half of the weaker hosts\n",
      "  - Crossovering top 2 hosts\n",
      "    [229  33  78 288] & [229  59  80 288] >> [0, 2, 3] & [3, 0, 2] >> [288  33 229  80] & [ 78  59 288 229]\n",
      "  - Mutating remaining top hosts\n",
      "    [231  33  78 260] >> [231  39  78 260]\n",
      "    [231  33  62 246] >> [236  33  66 234]\n",
      "    [229  28  85 243] >> [245  28  99 241]\n",
      "    [229  59  80 288] >> [238  59  73 288]\n",
      "    [231  33  78 260] >> [226  33  78 251]\n",
      "    [231  33  62 246] >> [227  26  53 246]\n",
      "    [ 78  59 229 288] >> [ 84  59 229 290]\n",
      "    [230  49  78 269] >> [236  46  75 273]\n",
      "  - Adding hosts\n",
      "    [288,33,229,80], [78,59,288,229], [231,39,78,260], [236,33,66,234], [245,28,99,241], [238,59,73,288], [226,33,78,251], [227,26,53,246], [84,59,229,290], [236,46,75,273]\n",
      "\n",
      "# Generation 219\n"
     ]
    },
    {
     "data": {
      "text/plain": [
       "@ Training progress: 100.0%"
      ]
     },
     "metadata": {},
     "output_type": "display_data"
    },
    {
     "name": "stdout",
     "output_type": "stream",
     "text": [
      "Parameters saved at Log 05.08.2019 16.17.txt!\n",
      "\n",
      "# All hosts\n",
      "  1) [229  33  78 288]: 0.92138\t\t  2) [229  59  80 288]: 0.92000\t\t\n",
      "  3) [231  33  62 246]: 0.91862\t\t  4) [231  33  78 260]: 0.91862\t\t\n",
      "  5) [ 78  59 229 288]: 0.91724\t\t  6) [230  30  78 270]: 0.91724\t\t\n",
      "  7) [229  28  85 243]: 0.91724\t\t  8) [230  49  78 269]: 0.91586\t\t\n",
      "  9) [243  33  78 260]: 0.91586\t\t 10) [218  31  94 255]: 0.91586\t\t\n",
      " 11) [238  59  73 288]: 0.91448\t\t 12) [ 84  59 229 290]: 0.89379\t\t\n",
      " 13) [227  26  53 246]: 0.89379\t\t 14) [245  28  99 241]: 0.88966\t\t\n",
      " 15) [236  33  66 234]: 0.87448\t\t 16) [ 78  59 288 229]: 0.85793\t\t\n",
      " 17) [236  46  75 273]: 0.82759\t\t 18) [226  33  78 251]: 0.81241\t\t\n",
      " 19) [288  33 229  80]: 0.80828\t\t 20) [231  39  78 260]: 0.79448\t\t\n",
      "- Average score: 0.88724\n",
      "\n",
      "- Evolving the hosts\n",
      "  - Removing half of the weaker hosts\n",
      "  - Crossovering top 2 hosts\n",
      "    [229  33  78 288] & [229  59  80 288] >> [0, 1, 3] & [1, 0, 3] >> [ 59 229  78 288] & [ 33 229  80 288]\n",
      "  - Mutating remaining top hosts\n",
      "    [231  33  62 246] >> [231  33  55 251]\n",
      "    [229  33  78 288] >> [229  35  73 288]\n",
      "    [229  33  78 288] >> [215  33  94 274]\n",
      "    [229  59  80 288] >> [227  70  87 292]\n",
      "    [231  33  62 246] >> [231  33  59 246]\n",
      "    [231  33  62 246] >> [229  46  50 231]\n",
      "    [231  33  78 260] >> [234  33  91 252]\n",
      "    [231  33  62 246] >> [229  34  77 237]\n",
      "  - Adding hosts\n",
      "    [59,229,78,288], [33,229,80,288], [231,33,55,251], [229,35,73,288], [215,33,94,274], [227,70,87,292], [231,33,59,246], [229,46,50,231], [234,33,91,252], [229,34,77,237]\n",
      "\n",
      "# Generation 220\n"
     ]
    },
    {
     "data": {
      "text/plain": [
       "@ Training progress: 100.0%"
      ]
     },
     "metadata": {},
     "output_type": "display_data"
    },
    {
     "name": "stdout",
     "output_type": "stream",
     "text": [
      "Parameters saved at Log 05.08.2019 16.17.txt!\n",
      "\n",
      "# All hosts\n",
      "  1) [229  33  78 288]: 0.92138\t\t  2) [229  59  80 288]: 0.92000\t\t\n",
      "  3) [231  33  62 246]: 0.91862\t\t  4) [231  33  78 260]: 0.91862\t\t\n",
      "  5) [ 78  59 229 288]: 0.91724\t\t  6) [230  30  78 270]: 0.91724\t\t\n",
      "  7) [229  28  85 243]: 0.91724\t\t  8) [230  49  78 269]: 0.91586\t\t\n",
      "  9) [243  33  78 260]: 0.91586\t\t 10) [218  31  94 255]: 0.91586\t\t\n",
      " 11) [227  70  87 292]: 0.89103\t\t 12) [231  33  59 246]: 0.87448\t\t\n",
      " 13) [234  33  91 252]: 0.86483\t\t 14) [229  34  77 237]: 0.86069\t\t\n",
      " 15) [231  33  55 251]: 0.84966\t\t 16) [ 59 229  78 288]: 0.84690\t\t\n",
      " 17) [215  33  94 274]: 0.82897\t\t 18) [229  46  50 231]: 0.82207\t\t\n",
      " 19) [229  35  73 288]: 0.82207\t\t 20) [ 33 229  80 288]: 0.65103\t\t\n",
      "- Average score: 0.87448\n",
      "\n",
      "- Evolving the hosts\n",
      "  - Removing half of the weaker hosts\n",
      "  - Crossovering top 2 hosts\n",
      "    [229  33  78 288] & [229  59  80 288] >> [1, 2, 3] & [3, 1, 2] >> [229 288  59  80] & [229  78 288  33]\n",
      "  - Mutating remaining top hosts\n",
      "    [243  33  78 260] >> [243  33  94 260]\n",
      "    [230  49  78 269] >> [220  40  94 269]\n",
      "    [229  59  80 288] >> [224  47  80 288]\n",
      "    [231  33  62 246] >> [225  33  52 240]\n",
      "    [229  28  85 243] >> [223  28  79 243]\n",
      "    [243  33  78 260] >> [243  20  90 245]\n",
      "    [229  59  80 288] >> [222  54  70 293]\n",
      "    [ 78  59 229 288] >> [ 78  63 238 272]\n",
      "  - Adding hosts\n",
      "    [229,288,59,80], [229,78,288,33], [243,33,94,260], [220,40,94,269], [224,47,80,288], [225,33,52,240], [223,28,79,243], [243,20,90,245], [222,54,70,293], [78,63,238,272]\n",
      "\n",
      "# Generation 221\n"
     ]
    },
    {
     "data": {
      "text/plain": [
       "@ Training progress: 100.0%"
      ]
     },
     "metadata": {},
     "output_type": "display_data"
    },
    {
     "name": "stdout",
     "output_type": "stream",
     "text": [
      "Parameters saved at Log 05.08.2019 16.17.txt!\n",
      "\n",
      "# All hosts\n",
      "  1) [229  33  78 288]: 0.92138\t\t  2) [229  59  80 288]: 0.92000\t\t\n",
      "  3) [231  33  62 246]: 0.91862\t\t  4) [231  33  78 260]: 0.91862\t\t\n",
      "  5) [ 78  59 229 288]: 0.91724\t\t  6) [230  30  78 270]: 0.91724\t\t\n",
      "  7) [229  28  85 243]: 0.91724\t\t  8) [230  49  78 269]: 0.91586\t\t\n",
      "  9) [243  33  78 260]: 0.91586\t\t 10) [218  31  94 255]: 0.91586\t\t\n",
      " 11) [224  47  80 288]: 0.87586\t\t 12) [220  40  94 269]: 0.87448\t\t\n",
      " 13) [225  33  52 240]: 0.86483\t\t 14) [ 78  63 238 272]: 0.83448\t\t\n",
      " 15) [243  20  90 245]: 0.81103\t\t 16) [243  33  94 260]: 0.79448\t\t\n",
      " 17) [222  54  70 293]: 0.78207\t\t 18) [229 288  59  80]: 0.77931\t\t\n",
      " 19) [229  78 288  33]: 0.75862\t\t 20) [223  28  79 243]: 0.72690\t\t\n",
      "- Average score: 0.86400\n",
      "\n",
      "- Evolving the hosts\n",
      "  - Removing half of the weaker hosts\n",
      "  - Crossovering top 2 hosts\n",
      "    [229  33  78 288] & [229  59  80 288] >> [0, 1, 2, 3] & [2, 1, 0, 3] >> [ 80  59 229 288] & [ 78  33 229 288]\n",
      "  - Mutating remaining top hosts\n",
      "    [229  28  85 243] >> [244  28  78 255]\n",
      "    [243  33  78 260] >> [229  46  78 260]\n",
      "    [231  33  62 246] >> [231  32  57 242]\n",
      "    [243  33  78 260] >> [259  33  93 260]\n",
      "    [230  49  78 269] >> [230  40  79 261]\n",
      "    [230  30  78 270] >> [219  17  70 286]\n",
      "    [230  30  78 270] >> [217  31  64 285]\n",
      "    [229  33  78 288] >> [215  48  78 299]\n",
      "  - Adding hosts\n",
      "    [80,59,229,288], [78,33,229,288], [244,28,78,255], [229,46,78,260], [231,32,57,242], [259,33,93,260], [230,40,79,261], [219,17,70,286], [217,31,64,285], [215,48,78,299]\n",
      "\n",
      "# Generation 222\n"
     ]
    },
    {
     "data": {
      "text/plain": [
       "@ Training progress: 100.0%"
      ]
     },
     "metadata": {},
     "output_type": "display_data"
    },
    {
     "name": "stdout",
     "output_type": "stream",
     "text": [
      "Parameters saved at Log 05.08.2019 16.17.txt!\n",
      "\n",
      "# All hosts\n",
      "  1) [229  33  78 288]: 0.92138\t\t  2) [229  59  80 288]: 0.92000\t\t\n",
      "  3) [231  33  62 246]: 0.91862\t\t  4) [231  33  78 260]: 0.91862\t\t\n",
      "  5) [ 78  59 229 288]: 0.91724\t\t  6) [230  30  78 270]: 0.91724\t\t\n",
      "  7) [229  28  85 243]: 0.91724\t\t  8) [230  49  78 269]: 0.91586\t\t\n",
      "  9) [243  33  78 260]: 0.91586\t\t 10) [218  31  94 255]: 0.91586\t\t\n",
      " 11) [231  32  57 242]: 0.89793\t\t 12) [219  17  70 286]: 0.86483\t\t\n",
      " 13) [ 78  33 229 288]: 0.85793\t\t 14) [217  31  64 285]: 0.85517\t\t\n",
      " 15) [215  48  78 299]: 0.83034\t\t 16) [229  46  78 260]: 0.82759\t\t\n",
      " 17) [230  40  79 261]: 0.82483\t\t 18) [244  28  78 255]: 0.79862\t\t\n",
      " 19) [ 80  59 229 288]: 0.79310\t\t 20) [259  33  93 260]: 0.74069\t\t\n",
      "- Average score: 0.87345\n",
      "\n",
      "- Evolving the hosts\n",
      "  - Removing half of the weaker hosts\n",
      "  - Crossovering top 2 hosts\n",
      "    [229  33  78 288] & [229  59  80 288] >> [0, 1, 2, 3] & [0, 1, 2, 3] >> [229  59  80 288] & [229  33  78 288]\n",
      "  - Mutating remaining top hosts\n",
      "    [243  33  78 260] >> [243  33  74 260]\n",
      "    [230  49  78 269] >> [242  33  78 269]\n",
      "    [218  31  94 255] >> [220  31  85 255]\n",
      "    [ 78  59 229 288] >> [ 72  59 229 284]\n",
      "    [218  31  94 255] >> [217  45  94 245]\n",
      "    [231  33  62 246] >> [246  18  68 257]\n",
      "    [218  31  94 255] >> [230  32  94 244]\n",
      "    [230  30  78 270] >> [226  30  78 270]\n",
      "  - Adding hosts\n",
      "    [229,59,80,288], [229,33,78,288], [243,33,74,260], [242,33,78,269], [220,31,85,255], [72,59,229,284], [217,45,94,245], [246,18,68,257], [230,32,94,244], [226,30,78,270]\n",
      "\n",
      "# Generation 223\n"
     ]
    },
    {
     "data": {
      "text/plain": [
       "@ Training progress: 100.0%"
      ]
     },
     "metadata": {},
     "output_type": "display_data"
    },
    {
     "name": "stdout",
     "output_type": "stream",
     "text": [
      "Parameters saved at Log 05.08.2019 16.17.txt!\n",
      "\n",
      "# All hosts\n",
      "  1) [229  33  78 288]: 0.92138\t\t  2) [229  59  80 288]: 0.92000\t\t\n",
      "  3) [231  33  62 246]: 0.91862\t\t  4) [230  32  94 244]: 0.91862\t\t\n",
      "  5) [231  33  78 260]: 0.91862\t\t  6) [ 78  59 229 288]: 0.91724\t\t\n",
      "  7) [230  30  78 270]: 0.91724\t\t  8) [229  28  85 243]: 0.91724\t\t\n",
      "  9) [230  49  78 269]: 0.91586\t\t 10) [243  33  78 260]: 0.91586\t\t\n",
      " 11) [218  31  94 255]: 0.91586\t\t 12) [242  33  78 269]: 0.84552\t\t\n",
      " 13) [229  33  78 288]: 0.83448\t\t 14) [229  59  80 288]: 0.82897\t\t\n",
      " 15) [226  30  78 270]: 0.82345\t\t 16) [243  33  74 260]: 0.82207\t\t\n",
      " 17) [ 72  59 229 284]: 0.81793\t\t 18) [220  31  85 255]: 0.77931\t\t\n",
      " 19) [217  45  94 245]: 0.76966\t\t 20) [246  18  68 257]: 0.75586\t\t\n",
      "- Average score: 0.86869\n",
      "\n",
      "- Evolving the hosts\n",
      "  - Removing half of the weaker hosts\n",
      "  - Crossovering top 2 hosts\n",
      "    [229  33  78 288] & [229  59  80 288] >> [1, 2, 3] & [1, 2, 3] >> [229  59  80 288] & [229  33  78 288]\n",
      "  - Mutating remaining top hosts\n",
      "    [230  30  78 270] >> [237  30  78 264]\n",
      "    [230  32  94 244] >> [230  37 107 234]\n",
      "    [230  49  78 269] >> [235  62  86 256]\n",
      "    [229  33  78 288] >> [229  33  79 274]\n",
      "    [230  49  78 269] >> [232  57  78 256]\n",
      "    [231  33  78 260] >> [231  40  78 261]\n",
      "    [231  33  78 260] >> [219  33  77 271]\n",
      "    [229  28  85 243] >> [215  28  85 243]\n",
      "  - Adding hosts\n",
      "    [229,59,80,288], [229,33,78,288], [237,30,78,264], [230,37,107,234], [235,62,86,256], [229,33,79,274], [232,57,78,256], [231,40,78,261], [219,33,77,271], [215,28,85,243]\n",
      "\n",
      "# Generation 224\n"
     ]
    },
    {
     "data": {
      "text/plain": [
       "@ Training progress: 100.0%"
      ]
     },
     "metadata": {},
     "output_type": "display_data"
    },
    {
     "name": "stdout",
     "output_type": "stream",
     "text": [
      "Parameters saved at Log 05.08.2019 16.17.txt!\n",
      "\n",
      "# All hosts\n",
      "  1) [229  33  78 288]: 0.92138\t\t  2) [229  59  80 288]: 0.92000\t\t\n",
      "  3) [231  33  62 246]: 0.91862\t\t  4) [230  32  94 244]: 0.91862\t\t\n",
      "  5) [231  33  78 260]: 0.91862\t\t  6) [ 78  59 229 288]: 0.91724\t\t\n",
      "  7) [230  30  78 270]: 0.91724\t\t  8) [229  28  85 243]: 0.91724\t\t\n",
      "  9) [230  49  78 269]: 0.91586\t\t 10) [243  33  78 260]: 0.91586\t\t\n",
      " 11) [237  30  78 264]: 0.90069\t\t 12) [230  37 107 234]: 0.89379\t\t\n",
      " 13) [231  40  78 261]: 0.88828\t\t 14) [232  57  78 256]: 0.88552\t\t\n",
      " 15) [229  33  79 274]: 0.87034\t\t 16) [229  59  80 288]: 0.80828\t\t\n",
      " 17) [229  33  78 288]: 0.77793\t\t 18) [219  33  77 271]: 0.74897\t\t\n",
      " 19) [215  28  85 243]: 0.74345\t\t 20) [235  62  86 256]: 0.71448\t\t\n",
      "- Average score: 0.87062\n",
      "\n",
      "- Evolving the hosts\n",
      "  - Removing half of the weaker hosts\n",
      "  - Crossovering top 2 hosts\n",
      "    [229  33  78 288] & [229  59  80 288] >> [0, 2, 3] & [0, 2, 3] >> [229  33  80 288] & [229  59  78 288]\n",
      "  - Mutating remaining top hosts\n",
      "    [231  33  78 260] >> [231  20  93 248]\n",
      "    [230  49  78 269] >> [226  49  78 269]\n",
      "    [229  59  80 288] >> [232  58  66 288]\n",
      "    [229  28  85 243] >> [229  25  88 255]\n",
      "    [230  30  78 270] >> [230  18  72 273]\n",
      "    [231  33  62 246] >> [231  27  71 262]\n",
      "    [229  33  78 288] >> [233  33  84 299]\n",
      "    [231  33  78 260] >> [231  23  83 261]\n",
      "  - Adding hosts\n",
      "    [229,33,80,288], [229,59,78,288], [231,20,93,248], [226,49,78,269], [232,58,66,288], [229,25,88,255], [230,18,72,273], [231,27,71,262], [233,33,84,299], [231,23,83,261]\n",
      "\n",
      "# Generation 225\n"
     ]
    },
    {
     "data": {
      "text/plain": [
       "@ Training progress: 100.0%"
      ]
     },
     "metadata": {},
     "output_type": "display_data"
    },
    {
     "name": "stdout",
     "output_type": "stream",
     "text": [
      "Parameters saved at Log 05.08.2019 16.17.txt!\n",
      "\n",
      "# All hosts\n",
      "  1) [229  33  78 288]: 0.92138\t\t  2) [229  59  80 288]: 0.92000\t\t\n",
      "  3) [231  33  62 246]: 0.91862\t\t  4) [230  32  94 244]: 0.91862\t\t\n",
      "  5) [231  33  78 260]: 0.91862\t\t  6) [ 78  59 229 288]: 0.91724\t\t\n",
      "  7) [230  30  78 270]: 0.91724\t\t  8) [229  28  85 243]: 0.91724\t\t\n",
      "  9) [230  49  78 269]: 0.91586\t\t 10) [243  33  78 260]: 0.91586\t\t\n",
      " 11) [230  18  72 273]: 0.90483\t\t 12) [229  33  80 288]: 0.90483\t\t\n",
      " 13) [229  25  88 255]: 0.89241\t\t 14) [229  59  78 288]: 0.85517\t\t\n",
      " 15) [232  58  66 288]: 0.85103\t\t 16) [226  49  78 269]: 0.84276\t\t\n",
      " 17) [231  23  83 261]: 0.79586\t\t 18) [233  33  84 299]: 0.78483\t\t\n",
      " 19) [231  27  71 262]: 0.77241\t\t 20) [231  20  93 248]: 0.75310\t\t\n",
      "- Average score: 0.87690\n",
      "\n",
      "- Evolving the hosts\n",
      "  - Removing half of the weaker hosts\n",
      "  - Crossovering top 2 hosts\n",
      "    [229  33  78 288] & [229  59  80 288] >> [1, 2, 3] & [2, 1, 3] >> [229  80  59 288] & [229  78  33 288]\n",
      "  - Mutating remaining top hosts\n",
      "    [230  30  78 270] >> [223  35  88 270]\n",
      "    [231  33  78 260] >> [231  33  78 260]\n",
      "    [230  32  94 244] >> [230  21  94 243]\n",
      "    [229  59  80 288] >> [244  59  85 278]\n",
      "    [243  33  78 260] >> [243  39  94 271]\n",
      "    [231  33  78 260] >> [231  33  81 257]\n",
      "    [230  32  94 244] >> [239  31  99 244]\n",
      "    [231  33  62 246] >> [220  33  62 246]\n",
      "  - Adding hosts\n",
      "    [229,80,59,288], [229,78,33,288], [223,35,88,270], [231,33,78,260], [230,21,94,243], [244,59,85,278], [243,39,94,271], [231,33,81,257], [239,31,99,244], [220,33,62,246]\n",
      "\n",
      "# Generation 226\n"
     ]
    },
    {
     "data": {
      "text/plain": [
       "@ Training progress: 100.0%"
      ]
     },
     "metadata": {},
     "output_type": "display_data"
    },
    {
     "name": "stdout",
     "output_type": "stream",
     "text": [
      "Parameters saved at Log 05.08.2019 16.17.txt!\n",
      "\n",
      "# All hosts\n",
      "  1) [229  33  78 288]: 0.92138\t\t  2) [229  59  80 288]: 0.92000\t\t\n",
      "  3) [231  33  62 246]: 0.91862\t\t  4) [230  32  94 244]: 0.91862\t\t\n",
      "  5) [231  33  78 260]: 0.91862\t\t  6) [ 78  59 229 288]: 0.91724\t\t\n",
      "  7) [230  30  78 270]: 0.91724\t\t  8) [229  28  85 243]: 0.91724\t\t\n",
      "  9) [230  49  78 269]: 0.91586\t\t 10) [243  33  78 260]: 0.91586\t\t\n",
      " 11) [229  78  33 288]: 0.89241\t\t 12) [244  59  85 278]: 0.85103\t\t\n",
      " 13) [229  80  59 288]: 0.84138\t\t 14) [239  31  99 244]: 0.83862\t\t\n",
      " 15) [223  35  88 270]: 0.83586\t\t 16) [231  33  81 257]: 0.82345\t\t\n",
      " 17) [231  33  78 260]: 0.79586\t\t 18) [243  39  94 271]: 0.78621\t\t\n",
      " 19) [230  21  94 243]: 0.72828\t\t 20) [220  33  62 246]: 0.68690\t\t\n",
      "- Average score: 0.86303\n",
      "\n",
      "- Evolving the hosts\n",
      "  - Removing half of the weaker hosts\n",
      "  - Crossovering top 2 hosts\n",
      "    [229  33  78 288] & [229  59  80 288] >> [0, 1, 2] & [2, 0, 1] >> [ 80 229  59 288] & [ 33  78 229 288]\n",
      "  - Mutating remaining top hosts\n",
      "    [229  33  78 288] >> [226  26  91 272]\n",
      "    [231  33  78 260] >> [231  28  64 245]\n",
      "    [231  33  62 246] >> [236  33  62 233]\n",
      "    [ 78  59 229 288] >> [ 66  65 233 302]\n",
      "    [229  59  80 288] >> [229  48  91 281]\n",
      "    [229  33  78 288] >> [229  35  78 277]\n",
      "    [230  30  78 270] >> [230  30  89 260]\n",
      "    [231  33  62 246] >> [231  21  62 246]\n",
      "  - Adding hosts\n",
      "    [80,229,59,288], [33,78,229,288], [226,26,91,272], [231,28,64,245], [236,33,62,233], [66,65,233,302], [229,48,91,281], [229,35,78,277], [230,30,89,260], [231,21,62,246]\n",
      "\n",
      "# Generation 227\n"
     ]
    },
    {
     "data": {
      "text/plain": [
       "@ Training progress: 100.0%"
      ]
     },
     "metadata": {},
     "output_type": "display_data"
    },
    {
     "name": "stdout",
     "output_type": "stream",
     "text": [
      "Parameters saved at Log 05.08.2019 16.17.txt!\n",
      "\n",
      "# All hosts\n",
      "  1) [229  33  78 288]: 0.92138\t\t  2) [229  59  80 288]: 0.92000\t\t\n",
      "  3) [231  33  62 246]: 0.91862\t\t  4) [230  32  94 244]: 0.91862\t\t\n",
      "  5) [231  33  78 260]: 0.91862\t\t  6) [ 78  59 229 288]: 0.91724\t\t\n",
      "  7) [230  30  78 270]: 0.91724\t\t  8) [229  28  85 243]: 0.91724\t\t\n",
      "  9) [230  49  78 269]: 0.91586\t\t 10) [243  33  78 260]: 0.91586\t\t\n",
      " 11) [ 66  65 233 302]: 0.90897\t\t 12) [236  33  62 233]: 0.87172\t\t\n",
      " 13) [ 80 229  59 288]: 0.85241\t\t 14) [229  48  91 281]: 0.84828\t\t\n",
      " 15) [229  35  78 277]: 0.81517\t\t 16) [231  28  64 245]: 0.81103\t\t\n",
      " 17) [230  30  89 260]: 0.79724\t\t 18) [231  21  62 246]: 0.77793\t\t\n",
      " 19) [ 33  78 229 288]: 0.75724\t\t 20) [226  26  91 272]: 0.73793\t\t\n",
      "- Average score: 0.86793\n",
      "\n",
      "- Evolving the hosts\n",
      "  - Removing half of the weaker hosts\n",
      "  - Crossovering top 2 hosts\n",
      "    [229  33  78 288] & [229  59  80 288] >> [0, 2] & [0, 2] >> [229  33  80 288] & [229  59  78 288]\n",
      "  - Mutating remaining top hosts\n",
      "    [243  33  78 260] >> [243  37  91 246]\n",
      "    [ 78  59 229 288] >> [ 71  59 229 289]\n",
      "    [229  33  78 288] >> [229  34  74 288]\n",
      "    [230  30  78 270] >> [230  30  88 270]\n",
      "    [230  32  94 244] >> [230  33  94 236]\n",
      "    [230  49  78 269] >> [246  45  65 277]\n",
      "    [229  28  85 243] >> [229  25  89 243]\n",
      "    [230  30  78 270] >> [241  30  78 270]\n",
      "  - Adding hosts\n",
      "    [229,33,80,288], [229,59,78,288], [243,37,91,246], [71,59,229,289], [229,34,74,288], [230,30,88,270], [230,33,94,236], [246,45,65,277], [229,25,89,243], [241,30,78,270]\n",
      "\n",
      "# Generation 228\n"
     ]
    },
    {
     "data": {
      "text/plain": [
       "@ Training progress: 100.0%"
      ]
     },
     "metadata": {},
     "output_type": "display_data"
    },
    {
     "name": "stdout",
     "output_type": "stream",
     "text": [
      "Parameters saved at Log 05.08.2019 16.17.txt!\n",
      "\n",
      "# All hosts\n",
      "  1) [229  33  78 288]: 0.92138\t\t  2) [229  59  80 288]: 0.92000\t\t\n",
      "  3) [231  33  62 246]: 0.91862\t\t  4) [230  32  94 244]: 0.91862\t\t\n",
      "  5) [231  33  78 260]: 0.91862\t\t  6) [ 78  59 229 288]: 0.91724\t\t\n",
      "  7) [230  30  78 270]: 0.91724\t\t  8) [229  28  85 243]: 0.91724\t\t\n",
      "  9) [230  49  78 269]: 0.91586\t\t 10) [243  33  78 260]: 0.91586\t\t\n",
      " 11) [229  25  89 243]: 0.88276\t\t 12) [229  33  80 288]: 0.87586\t\t\n",
      " 13) [246  45  65 277]: 0.86897\t\t 14) [241  30  78 270]: 0.85931\t\t\n",
      " 15) [229  59  78 288]: 0.82621\t\t 16) [243  37  91 246]: 0.80138\t\t\n",
      " 17) [ 71  59 229 289]: 0.78897\t\t 18) [230  33  94 236]: 0.77931\t\t\n",
      " 19) [230  30  88 270]: 0.77793\t\t 20) [229  34  74 288]: 0.76138\t\t\n",
      "- Average score: 0.87014\n",
      "\n",
      "- Evolving the hosts\n",
      "  - Removing half of the weaker hosts\n",
      "  - Crossovering top 2 hosts\n",
      "    [229  33  78 288] & [229  59  80 288] >> [1, 2, 3] & [3, 2, 1] >> [229 288  80  59] & [229 288  78  33]\n",
      "  - Mutating remaining top hosts\n",
      "    [230  30  78 270] >> [229  40  80 285]\n",
      "    [230  32  94 244] >> [234  21  87 257]\n",
      "    [230  30  78 270] >> [241  35  73 270]\n",
      "    [230  49  78 269] >> [237  49  78 263]\n",
      "    [229  59  80 288] >> [229  61  80 288]\n",
      "    [ 78  59 229 288] >> [ 91  73 229 272]\n",
      "    [229  28  85 243] >> [217  39  85 248]\n",
      "    [ 78  59 229 288] >> [ 78  59 222 300]\n",
      "  - Adding hosts\n",
      "    [229,288,80,59], [229,288,78,33], [229,40,80,285], [234,21,87,257], [241,35,73,270], [237,49,78,263], [229,61,80,288], [91,73,229,272], [217,39,85,248], [78,59,222,300]\n",
      "\n",
      "# Generation 229\n"
     ]
    },
    {
     "data": {
      "text/plain": [
       "@ Training progress: 100.0%"
      ]
     },
     "metadata": {},
     "output_type": "display_data"
    },
    {
     "name": "stdout",
     "output_type": "stream",
     "text": [
      "Parameters saved at Log 05.08.2019 16.17.txt!\n",
      "\n",
      "# All hosts\n",
      "  1) [229  33  78 288]: 0.92138\t\t  2) [229  59  80 288]: 0.92000\t\t\n",
      "  3) [231  33  62 246]: 0.91862\t\t  4) [230  32  94 244]: 0.91862\t\t\n",
      "  5) [231  33  78 260]: 0.91862\t\t  6) [ 78  59 229 288]: 0.91724\t\t\n",
      "  7) [230  30  78 270]: 0.91724\t\t  8) [229  28  85 243]: 0.91724\t\t\n",
      "  9) [230  49  78 269]: 0.91586\t\t 10) [243  33  78 260]: 0.91586\t\t\n",
      " 11) [229  61  80 288]: 0.90345\t\t 12) [237  49  78 263]: 0.88828\t\t\n",
      " 13) [ 78  59 222 300]: 0.87034\t\t 14) [234  21  87 257]: 0.84414\t\t\n",
      " 15) [ 91  73 229 272]: 0.83034\t\t 16) [229 288  80  59]: 0.80414\t\t\n",
      " 17) [241  35  73 270]: 0.78207\t\t 18) [229  40  80 285]: 0.77793\t\t\n",
      " 19) [217  39  85 248]: 0.76276\t\t 20) [229 288  78  33]: 0.70207\t\t\n",
      "- Average score: 0.86731\n",
      "\n",
      "- Evolving the hosts\n",
      "  - Removing half of the weaker hosts\n",
      "  - Crossovering top 2 hosts\n",
      "    [229  33  78 288] & [229  59  80 288] >> [0, 3] & [3, 0] >> [288  33  78 229] & [288  59  80 229]\n",
      "  - Mutating remaining top hosts\n",
      "    [ 78  59 229 288] >> [ 78  45 229 288]\n",
      "    [231  33  78 260] >> [223  17  71 253]\n",
      "    [230  49  78 269] >> [230  58  78 262]\n",
      "    [230  30  78 270] >> [219  38  78 270]\n",
      "    [230  49  78 269] >> [230  37  78 269]\n",
      "    [ 78  59 229 288] >> [ 80  59 219 293]\n",
      "    [230  30  78 270] >> [230  30  83 284]\n",
      "    [243  33  78 260] >> [243  20  78 260]\n",
      "  - Adding hosts\n",
      "    [288,33,78,229], [288,59,80,229], [78,45,229,288], [223,17,71,253], [230,58,78,262], [219,38,78,270], [230,37,78,269], [80,59,219,293], [230,30,83,284], [243,20,78,260]\n",
      "\n",
      "# Generation 230\n"
     ]
    },
    {
     "data": {
      "text/plain": [
       "@ Training progress: 100.0%"
      ]
     },
     "metadata": {},
     "output_type": "display_data"
    },
    {
     "name": "stdout",
     "output_type": "stream",
     "text": [
      "Parameters saved at Log 05.08.2019 16.17.txt!\n",
      "\n",
      "# All hosts\n",
      "  1) [229  33  78 288]: 0.92138\t\t  2) [229  59  80 288]: 0.92000\t\t\n",
      "  3) [231  33  62 246]: 0.91862\t\t  4) [230  32  94 244]: 0.91862\t\t\n",
      "  5) [231  33  78 260]: 0.91862\t\t  6) [ 78  59 229 288]: 0.91724\t\t\n",
      "  7) [230  30  78 270]: 0.91724\t\t  8) [229  28  85 243]: 0.91724\t\t\n",
      "  9) [230  49  78 269]: 0.91586\t\t 10) [243  33  78 260]: 0.91586\t\t\n",
      " 11) [ 80  59 219 293]: 0.89793\t\t 12) [243  20  78 260]: 0.87724\t\t\n",
      " 13) [230  37  78 269]: 0.85931\t\t 14) [288  59  80 229]: 0.84138\t\t\n",
      " 15) [230  58  78 262]: 0.83724\t\t 16) [ 78  45 229 288]: 0.83310\t\t\n",
      " 17) [230  30  83 284]: 0.80966\t\t 18) [219  38  78 270]: 0.77103\t\t\n",
      " 19) [288  33  78 229]: 0.72690\t\t 20) [223  17  71 253]: 0.68138\t\t\n",
      "- Average score: 0.86579\n",
      "\n",
      "- Evolving the hosts\n",
      "  - Removing half of the weaker hosts\n",
      "  - Crossovering top 2 hosts\n",
      "    [229  33  78 288] & [229  59  80 288] >> [0, 2, 3] & [0, 3, 2] >> [229  33 288  80] & [229  59 288  78]\n",
      "  - Mutating remaining top hosts\n",
      "    [231  33  78 260] >> [224  31  78 269]\n",
      "    [229  28  85 243] >> [229  27  85 232]\n",
      "    [231  33  62 246] >> [231  33  51 252]\n",
      "    [231  33  78 260] >> [231  42  80 260]\n",
      "    [229  28  85 243] >> [229  28  85 243]\n",
      "    [230  32  94 244] >> [243  32 110 244]\n",
      "    [230  30  78 270] >> [220  21  80 270]\n",
      "    [ 78  59 229 288] >> [ 78  59 242 304]\n",
      "  - Adding hosts\n",
      "    [229,33,288,80], [229,59,288,78], [224,31,78,269], [229,27,85,232], [231,33,51,252], [231,42,80,260], [229,28,85,243], [243,32,110,244], [220,21,80,270], [78,59,242,304]\n",
      "\n",
      "# Generation 231\n"
     ]
    },
    {
     "data": {
      "text/plain": [
       "@ Training progress: 100.0%"
      ]
     },
     "metadata": {},
     "output_type": "display_data"
    },
    {
     "name": "stdout",
     "output_type": "stream",
     "text": [
      "Parameters saved at Log 05.08.2019 16.17.txt!\n",
      "\n",
      "# All hosts\n",
      "  1) [229  33  78 288]: 0.92138\t\t  2) [229  59  80 288]: 0.92000\t\t\n",
      "  3) [231  33  62 246]: 0.91862\t\t  4) [230  32  94 244]: 0.91862\t\t\n",
      "  5) [231  33  78 260]: 0.91862\t\t  6) [ 78  59 229 288]: 0.91724\t\t\n",
      "  7) [230  30  78 270]: 0.91724\t\t  8) [229  28  85 243]: 0.91724\t\t\n",
      "  9) [230  49  78 269]: 0.91586\t\t 10) [243  33  78 260]: 0.91586\t\t\n",
      " 11) [224  31  78 269]: 0.89655\t\t 12) [229  28  85 243]: 0.89655\t\t\n",
      " 13) [229  27  85 232]: 0.87034\t\t 14) [ 78  59 242 304]: 0.85103\t\t\n",
      " 15) [231  42  80 260]: 0.84138\t\t 16) [229  59 288  78]: 0.84138\t\t\n",
      " 17) [229  33 288  80]: 0.83310\t\t 18) [231  33  51 252]: 0.81931\t\t\n",
      " 19) [243  32 110 244]: 0.77379\t\t 20) [220  21  80 270]: 0.75172\t\t\n",
      "- Average score: 0.87779\n",
      "\n",
      "- Evolving the hosts\n",
      "  - Removing half of the weaker hosts\n",
      "  - Crossovering top 2 hosts\n",
      "    [229  33  78 288] & [229  59  80 288] >> [1, 2] & [1, 2] >> [229  59  80 288] & [229  33  78 288]\n",
      "  - Mutating remaining top hosts\n",
      "    [231  33  78 260] >> [231  48  79 269]\n",
      "    [ 78  59 229 288] >> [ 68  59 229 301]\n",
      "    [231  33  78 260] >> [234  33  78 260]\n",
      "    [229  33  78 288] >> [214  36  78 286]\n",
      "    [ 78  59 229 288] >> [ 78  59 229 288]\n",
      "    [231  33  62 246] >> [231  33  78 253]\n",
      "    [ 78  59 229 288] >> [ 64  49 214 299]\n",
      "    [230  49  78 269] >> [222  52  63 269]\n",
      "  - Adding hosts\n",
      "    [229,59,80,288], [229,33,78,288], [231,48,79,269], [68,59,229,301], [234,33,78,260], [214,36,78,286], [78,59,229,288], [231,33,78,253], [64,49,214,299], [222,52,63,269]\n",
      "\n",
      "# Generation 232\n"
     ]
    },
    {
     "data": {
      "text/plain": [
       "@ Training progress: 100.0%"
      ]
     },
     "metadata": {},
     "output_type": "display_data"
    },
    {
     "name": "stdout",
     "output_type": "stream",
     "text": [
      "Parameters saved at Log 05.08.2019 16.17.txt!\n",
      "\n",
      "# All hosts\n",
      "  1) [229  33  78 288]: 0.92138\t\t  2) [229  59  80 288]: 0.92000\t\t\n",
      "  3) [231  33  62 246]: 0.91862\t\t  4) [230  32  94 244]: 0.91862\t\t\n",
      "  5) [231  33  78 260]: 0.91862\t\t  6) [ 78  59 229 288]: 0.91724\t\t\n",
      "  7) [230  30  78 270]: 0.91724\t\t  8) [229  28  85 243]: 0.91724\t\t\n",
      "  9) [230  49  78 269]: 0.91586\t\t 10) [243  33  78 260]: 0.91586\t\t\n",
      " 11) [ 68  59 229 301]: 0.87448\t\t 12) [229  33  78 288]: 0.85241\t\t\n",
      " 13) [231  48  79 269]: 0.84552\t\t 14) [222  52  63 269]: 0.84414\t\t\n",
      " 15) [214  36  78 286]: 0.78897\t\t 16) [231  33  78 253]: 0.78621\t\t\n",
      " 17) [234  33  78 260]: 0.77793\t\t 18) [ 78  59 229 288]: 0.75586\t\t\n",
      " 19) [229  59  80 288]: 0.74621\t\t 20) [ 64  49 214 299]: 0.74069\t\t\n",
      "- Average score: 0.85966\n",
      "\n",
      "- Evolving the hosts\n",
      "  - Removing half of the weaker hosts\n",
      "  - Crossovering top 2 hosts\n",
      "    [229  33  78 288] & [229  59  80 288] >> [1, 2, 3] & [2, 1, 3] >> [229  80  59 288] & [229  78  33 288]\n",
      "  - Mutating remaining top hosts\n",
      "    [230  30  78 270] >> [224  15  71 269]\n",
      "    [231  33  62 246] >> [231  25  56 246]\n",
      "    [230  32  94 244] >> [214  20  88 252]\n",
      "    [ 78  59 229 288] >> [ 79  71 234 302]\n",
      "    [229  59  80 288] >> [245  59  80 276]\n",
      "    [231  33  62 246] >> [225  21  66 240]\n",
      "    [231  33  62 246] >> [231  33  62 262]\n",
      "    [243  33  78 260] >> [243  28  93 244]\n",
      "  - Adding hosts\n",
      "    [229,80,59,288], [229,78,33,288], [224,15,71,269], [231,25,56,246], [214,20,88,252], [79,71,234,302], [245,59,80,276], [225,21,66,240], [231,33,62,262], [243,28,93,244]\n",
      "\n",
      "# Generation 233\n"
     ]
    },
    {
     "data": {
      "text/plain": [
       "@ Training progress: 100.0%"
      ]
     },
     "metadata": {},
     "output_type": "display_data"
    },
    {
     "name": "stdout",
     "output_type": "stream",
     "text": [
      "Parameters saved at Log 05.08.2019 16.17.txt!\n",
      "\n",
      "# All hosts\n",
      "  1) [229  33  78 288]: 0.92138\t\t  2) [229  59  80 288]: 0.92000\t\t\n",
      "  3) [231  33  62 246]: 0.91862\t\t  4) [230  32  94 244]: 0.91862\t\t\n",
      "  5) [231  33  78 260]: 0.91862\t\t  6) [ 78  59 229 288]: 0.91724\t\t\n",
      "  7) [230  30  78 270]: 0.91724\t\t  8) [229  28  85 243]: 0.91724\t\t\n",
      "  9) [230  49  78 269]: 0.91586\t\t 10) [243  33  78 260]: 0.91586\t\t\n",
      " 11) [229  80  59 288]: 0.83448\t\t 12) [214  20  88 252]: 0.81931\t\t\n",
      " 13) [225  21  66 240]: 0.81931\t\t 14) [245  59  80 276]: 0.80552\t\t\n",
      " 15) [229  78  33 288]: 0.80276\t\t 16) [243  28  93 244]: 0.78483\t\t\n",
      " 17) [231  33  62 262]: 0.77379\t\t 18) [ 79  71 234 302]: 0.73655\t\t\n",
      " 19) [224  15  71 269]: 0.73517\t\t 20) [231  25  56 246]: 0.69793\t\t\n",
      "- Average score: 0.84952\n",
      "\n",
      "- Evolving the hosts\n",
      "  - Removing half of the weaker hosts\n",
      "  - Crossovering top 2 hosts\n",
      "    [229  33  78 288] & [229  59  80 288] >> [0, 3] & [3, 0] >> [288  33  78 229] & [288  59  80 229]\n",
      "  - Mutating remaining top hosts\n",
      "    [243  33  78 260] >> [243  29  68 254]\n",
      "    [231  33  62 246] >> [225  37  75 241]\n",
      "    [230  49  78 269] >> [243  62  90 269]\n",
      "    [ 78  59 229 288] >> [ 66  49 241 288]\n",
      "    [230  49  78 269] >> [230  49  78 269]\n",
      "    [229  28  85 243] >> [228  28  75 236]\n",
      "    [229  28  85 243] >> [234  12  72 245]\n",
      "    [230  32  94 244] >> [221  31  94 257]\n",
      "  - Adding hosts\n",
      "    [288,33,78,229], [288,59,80,229], [243,29,68,254], [225,37,75,241], [243,62,90,269], [66,49,241,288], [230,49,78,269], [228,28,75,236], [234,12,72,245], [221,31,94,257]\n",
      "\n",
      "# Generation 234\n"
     ]
    },
    {
     "data": {
      "text/plain": [
       "@ Training progress: 100.0%"
      ]
     },
     "metadata": {},
     "output_type": "display_data"
    },
    {
     "name": "stdout",
     "output_type": "stream",
     "text": [
      "Parameters saved at Log 05.08.2019 16.17.txt!\n",
      "\n",
      "# All hosts\n",
      "  1) [229  33  78 288]: 0.92138\t\t  2) [229  59  80 288]: 0.92000\t\t\n",
      "  3) [231  33  62 246]: 0.91862\t\t  4) [230  32  94 244]: 0.91862\t\t\n",
      "  5) [231  33  78 260]: 0.91862\t\t  6) [ 78  59 229 288]: 0.91724\t\t\n",
      "  7) [230  30  78 270]: 0.91724\t\t  8) [229  28  85 243]: 0.91724\t\t\n",
      "  9) [230  49  78 269]: 0.91586\t\t 10) [243  33  78 260]: 0.91586\t\t\n",
      " 11) [228  28  75 236]: 0.90207\t\t 12) [234  12  72 245]: 0.89379\t\t\n",
      " 13) [243  29  68 254]: 0.88828\t\t 14) [221  31  94 257]: 0.87310\t\t\n",
      " 15) [288  33  78 229]: 0.87310\t\t 16) [230  49  78 269]: 0.87034\t\t\n",
      " 17) [225  37  75 241]: 0.86897\t\t 18) [243  62  90 269]: 0.86069\t\t\n",
      " 19) [288  59  80 229]: 0.82207\t\t 20) [ 66  49 241 288]: 0.79862\t\t\n",
      "- Average score: 0.89159\n",
      "\n",
      "- Evolving the hosts\n",
      "  - Removing half of the weaker hosts\n",
      "  - Crossovering top 2 hosts\n",
      "    [229  33  78 288] & [229  59  80 288] >> [0, 2] & [0, 2] >> [229  33  80 288] & [229  59  78 288]\n",
      "  - Mutating remaining top hosts\n",
      "    [231  33  78 260] >> [245  45  78 267]\n",
      "    [ 78  59 229 288] >> [ 89  59 229 304]\n",
      "    [230  32  94 244] >> [230  16  94 231]\n",
      "    [229  59  80 288] >> [229  51  80 288]\n",
      "    [230  30  78 270] >> [236  37  71 270]\n",
      "    [229  28  85 243] >> [240  28  90 245]\n",
      "    [243  33  78 260] >> [248  32  67 260]\n",
      "    [229  59  80 288] >> [240  59  79 274]\n",
      "  - Adding hosts\n",
      "    [229,33,80,288], [229,59,78,288], [245,45,78,267], [89,59,229,304], [230,16,94,231], [229,51,80,288], [236,37,71,270], [240,28,90,245], [248,32,67,260], [240,59,79,274]\n",
      "\n",
      "# Generation 235\n"
     ]
    },
    {
     "data": {
      "text/plain": [
       "@ Training progress: 100.0%"
      ]
     },
     "metadata": {},
     "output_type": "display_data"
    },
    {
     "name": "stdout",
     "output_type": "stream",
     "text": [
      "Parameters saved at Log 05.08.2019 16.17.txt!\n",
      "\n",
      "# All hosts\n",
      "  1) [229  33  78 288]: 0.92138\t\t  2) [229  59  80 288]: 0.92000\t\t\n",
      "  3) [231  33  62 246]: 0.91862\t\t  4) [230  32  94 244]: 0.91862\t\t\n",
      "  5) [231  33  78 260]: 0.91862\t\t  6) [ 78  59 229 288]: 0.91724\t\t\n",
      "  7) [230  30  78 270]: 0.91724\t\t  8) [229  28  85 243]: 0.91724\t\t\n",
      "  9) [230  49  78 269]: 0.91586\t\t 10) [243  33  78 260]: 0.91586\t\t\n",
      " 11) [240  59  79 274]: 0.87034\t\t 12) [245  45  78 267]: 0.85793\t\t\n",
      " 13) [229  33  80 288]: 0.84690\t\t 14) [230  16  94 231]: 0.83862\t\t\n",
      " 15) [248  32  67 260]: 0.83172\t\t 16) [229  51  80 288]: 0.82897\t\t\n",
      " 17) [236  37  71 270]: 0.81793\t\t 18) [240  28  90 245]: 0.78897\t\t\n",
      " 19) [ 89  59 229 304]: 0.75862\t\t 20) [229  59  78 288]: 0.72000\t\t\n",
      "- Average score: 0.86703\n",
      "\n",
      "- Evolving the hosts\n",
      "  - Removing half of the weaker hosts\n",
      "  - Crossovering top 2 hosts\n",
      "    [229  33  78 288] & [229  59  80 288] >> [0, 1, 2, 3] & [0, 3, 1, 2] >> [229 288  59  80] & [229  78 288  33]\n",
      "  - Mutating remaining top hosts\n",
      "    [229  33  78 288] >> [218  41  88 288]\n",
      "    [ 78  59 229 288] >> [ 84  67 214 288]\n",
      "    [230  30  78 270] >> [246  22  79 270]\n",
      "    [230  32  94 244] >> [230  41  88 255]\n",
      "    [231  33  78 260] >> [220  33  78 256]\n",
      "    [230  49  78 269] >> [229  49  78 269]\n",
      "    [230  32  94 244] >> [218  46  93 260]\n",
      "    [230  32  94 244] >> [230  21  79 244]\n",
      "  - Adding hosts\n",
      "    [229,288,59,80], [229,78,288,33], [218,41,88,288], [84,67,214,288], [246,22,79,270], [230,41,88,255], [220,33,78,256], [229,49,78,269], [218,46,93,260], [230,21,79,244]\n",
      "\n",
      "# Generation 236\n"
     ]
    },
    {
     "data": {
      "text/plain": [
       "@ Training progress: 100.0%"
      ]
     },
     "metadata": {},
     "output_type": "display_data"
    },
    {
     "name": "stdout",
     "output_type": "stream",
     "text": [
      "Parameters saved at Log 05.08.2019 16.17.txt!\n",
      "\n",
      "# All hosts\n",
      "  1) [229  33  78 288]: 0.92138\t\t  2) [229  59  80 288]: 0.92000\t\t\n",
      "  3) [231  33  62 246]: 0.91862\t\t  4) [230  32  94 244]: 0.91862\t\t\n",
      "  5) [231  33  78 260]: 0.91862\t\t  6) [ 78  59 229 288]: 0.91724\t\t\n",
      "  7) [230  30  78 270]: 0.91724\t\t  8) [229  28  85 243]: 0.91724\t\t\n",
      "  9) [230  49  78 269]: 0.91586\t\t 10) [243  33  78 260]: 0.91586\t\t\n",
      " 11) [229  49  78 269]: 0.90345\t\t 12) [220  33  78 256]: 0.88000\t\t\n",
      " 13) [218  46  93 260]: 0.87586\t\t 14) [230  41  88 255]: 0.87034\t\t\n",
      " 15) [218  41  88 288]: 0.86897\t\t 16) [230  21  79 244]: 0.86345\t\t\n",
      " 17) [ 84  67 214 288]: 0.83586\t\t 18) [246  22  79 270]: 0.80000\t\t\n",
      " 19) [229  78 288  33]: 0.73931\t\t 20) [229 288  59  80]: 0.71862\t\t\n",
      "- Average score: 0.87683\n",
      "\n",
      "- Evolving the hosts\n",
      "  - Removing half of the weaker hosts\n",
      "  - Crossovering top 2 hosts\n",
      "    [229  33  78 288] & [229  59  80 288] >> [0, 1, 2, 3] & [0, 2, 3, 1] >> [229  80 288  59] & [229 288  33  78]\n",
      "  - Mutating remaining top hosts\n",
      "    [243  33  78 260] >> [233  32  65 271]\n",
      "    [230  49  78 269] >> [234  63  78 256]\n",
      "    [229  28  85 243] >> [229  28  71 243]\n",
      "    [231  33  62 246] >> [221  33  62 247]\n",
      "    [243  33  78 260] >> [243  45  90 271]\n",
      "    [ 78  59 229 288] >> [ 65  59 242 288]\n",
      "    [243  33  78 260] >> [245  33  78 258]\n",
      "    [229  33  78 288] >> [229  39  76 278]\n",
      "  - Adding hosts\n",
      "    [229,80,288,59], [229,288,33,78], [233,32,65,271], [234,63,78,256], [229,28,71,243], [221,33,62,247], [243,45,90,271], [65,59,242,288], [245,33,78,258], [229,39,76,278]\n",
      "\n",
      "# Generation 237\n"
     ]
    },
    {
     "data": {
      "text/plain": [
       "@ Training progress: 100.0%"
      ]
     },
     "metadata": {},
     "output_type": "display_data"
    },
    {
     "name": "stdout",
     "output_type": "stream",
     "text": [
      "Parameters saved at Log 05.08.2019 16.17.txt!\n",
      "\n",
      "# All hosts\n",
      "  1) [221  33  62 247]: 0.92690\t\t  2) [229  33  78 288]: 0.92138\t\t\n",
      "  3) [229  59  80 288]: 0.92000\t\t  4) [231  33  62 246]: 0.91862\t\t\n",
      "  5) [230  32  94 244]: 0.91862\t\t  6) [231  33  78 260]: 0.91862\t\t\n",
      "  7) [ 78  59 229 288]: 0.91724\t\t  8) [230  30  78 270]: 0.91724\t\t\n",
      "  9) [229  28  85 243]: 0.91724\t\t 10) [230  49  78 269]: 0.91586\t\t\n",
      " 11) [243  33  78 260]: 0.91586\t\t 12) [245  33  78 258]: 0.89655\t\t\n",
      " 13) [ 65  59 242 288]: 0.88966\t\t 14) [229  28  71 243]: 0.85103\t\t\n",
      " 15) [243  45  90 271]: 0.84000\t\t 16) [233  32  65 271]: 0.82483\t\t\n",
      " 17) [234  63  78 256]: 0.80828\t\t 18) [229  39  76 278]: 0.79172\t\t\n",
      " 19) [229 288  33  78]: 0.74345\t\t 20) [229  80 288  59]: 0.73103\t\t\n",
      "- Average score: 0.87421\n",
      "\n",
      "- Evolving the hosts\n",
      "  - Removing half of the weaker hosts\n",
      "  - Crossovering top 2 hosts\n",
      "    [221  33  62 247] & [229  33  78 288] >> [1, 2, 3] & [2, 3, 1] >> [221  78 288  33] & [229 247  33  62]\n",
      "  - Mutating remaining top hosts\n",
      "    [231  33  62 246] >> [231  20  68 254]\n",
      "    [ 78  59 229 288] >> [ 80  59 218 302]\n",
      "    [229  33  78 288] >> [229  33  78 293]\n",
      "    [231  33  62 246] >> [231  24  60 246]\n",
      "    [231  33  78 260] >> [231  33  77 248]\n",
      "    [229  28  85 243] >> [237  22  83 248]\n",
      "    [229  59  80 288] >> [229  63  80 288]\n",
      "    [229  59  80 288] >> [219  55  85 299]\n",
      "  - Adding hosts\n",
      "    [221,78,288,33], [229,247,33,62], [231,20,68,254], [80,59,218,302], [229,33,78,293], [231,24,60,246], [231,33,77,248], [237,22,83,248], [229,63,80,288], [219,55,85,299]\n",
      "\n",
      "# Generation 238\n"
     ]
    },
    {
     "data": {
      "text/plain": [
       "@ Training progress: 100.0%"
      ]
     },
     "metadata": {},
     "output_type": "display_data"
    },
    {
     "name": "stdout",
     "output_type": "stream",
     "text": [
      "Parameters saved at Log 05.08.2019 16.17.txt!\n",
      "\n",
      "# All hosts\n",
      "  1) [221  33  62 247]: 0.92690\t\t  2) [229  33  78 288]: 0.92138\t\t\n",
      "  3) [229  59  80 288]: 0.92000\t\t  4) [231  33  62 246]: 0.91862\t\t\n",
      "  5) [230  32  94 244]: 0.91862\t\t  6) [231  33  78 260]: 0.91862\t\t\n",
      "  7) [ 78  59 229 288]: 0.91724\t\t  8) [230  30  78 270]: 0.91724\t\t\n",
      "  9) [229  28  85 243]: 0.91724\t\t 10) [230  49  78 269]: 0.91586\t\t\n",
      " 11) [221  78 288  33]: 0.88828\t\t 12) [231  20  68 254]: 0.88138\t\t\n",
      " 13) [ 80  59 218 302]: 0.88138\t\t 14) [219  55  85 299]: 0.86345\t\t\n",
      " 15) [231  24  60 246]: 0.85655\t\t 16) [229 247  33  62]: 0.84690\t\t\n",
      " 17) [229  33  78 293]: 0.80276\t\t 18) [231  33  77 248]: 0.80000\t\t\n",
      " 19) [237  22  83 248]: 0.76828\t\t 20) [229  63  80 288]: 0.73379\t\t\n",
      "- Average score: 0.87572\n",
      "\n",
      "- Evolving the hosts\n",
      "  - Removing half of the weaker hosts\n",
      "  - Crossovering top 2 hosts\n",
      "    [221  33  62 247] & [229  33  78 288] >> [0, 1, 3] & [1, 0, 3] >> [ 33 229  62 288] & [ 33 221  78 247]\n",
      "  - Mutating remaining top hosts\n",
      "    [221  33  62 247] >> [225  33  78 247]\n",
      "    [231  33  62 246] >> [231  33  62 246]\n",
      "    [ 78  59 229 288] >> [ 78  52 234 288]\n",
      "    [ 78  59 229 288] >> [ 90  59 236 288]\n",
      "    [230  30  78 270] >> [228  30  78 270]\n",
      "    [231  33  62 246] >> [225  33  53 261]\n",
      "    [230  30  78 270] >> [240  30  86 274]\n",
      "    [231  33  78 260] >> [217  38  78 252]\n",
      "  - Adding hosts\n",
      "    [33,229,62,288], [33,221,78,247], [225,33,78,247], [231,33,62,246], [78,52,234,288], [90,59,236,288], [228,30,78,270], [225,33,53,261], [240,30,86,274], [217,38,78,252]\n",
      "\n",
      "# Generation 239\n"
     ]
    },
    {
     "data": {
      "text/plain": [
       "@ Training progress: 100.0%"
      ]
     },
     "metadata": {},
     "output_type": "display_data"
    },
    {
     "name": "stdout",
     "output_type": "stream",
     "text": [
      "Parameters saved at Log 05.08.2019 16.17.txt!\n",
      "\n",
      "# All hosts\n",
      "  1) [221  33  62 247]: 0.92690\t\t  2) [229  33  78 288]: 0.92138\t\t\n",
      "  3) [229  59  80 288]: 0.92000\t\t  4) [231  33  62 246]: 0.91862\t\t\n",
      "  5) [230  32  94 244]: 0.91862\t\t  6) [231  33  78 260]: 0.91862\t\t\n",
      "  7) [ 78  59 229 288]: 0.91724\t\t  8) [230  30  78 270]: 0.91724\t\t\n",
      "  9) [229  28  85 243]: 0.91724\t\t 10) [230  49  78 269]: 0.91586\t\t\n",
      " 11) [228  30  78 270]: 0.91310\t\t 12) [240  30  86 274]: 0.90069\t\t\n",
      " 13) [217  38  78 252]: 0.87586\t\t 14) [225  33  78 247]: 0.85379\t\t\n",
      " 15) [225  33  53 261]: 0.82069\t\t 16) [ 78  52 234 288]: 0.80690\t\t\n",
      " 17) [ 33 221  78 247]: 0.79862\t\t 18) [231  33  62 246]: 0.78069\t\t\n",
      " 19) [ 33 229  62 288]: 0.70483\t\t 20) [ 90  59 236 288]: 0.67310\t\t\n",
      "- Average score: 0.86600\n",
      "\n",
      "- Evolving the hosts\n",
      "  - Removing half of the weaker hosts\n",
      "  - Crossovering top 2 hosts\n",
      "    [221  33  62 247] & [229  33  78 288] >> [0, 2] & [2, 0] >> [ 78  33 229 247] & [ 62  33 221 288]\n",
      "  - Mutating remaining top hosts\n",
      "    [229  28  85 243] >> [240  30  85 243]\n",
      "    [231  33  78 260] >> [231  33  87 260]\n",
      "    [229  59  80 288] >> [229  59  64 288]\n",
      "    [231  33  62 246] >> [224  33  62 245]\n",
      "    [229  28  85 243] >> [224  28  85 246]\n",
      "    [229  33  78 288] >> [229  33  78 297]\n",
      "    [231  33  62 246] >> [231  30  69 243]\n",
      "    [231  33  78 260] >> [230  42  80 260]\n",
      "  - Adding hosts\n",
      "    [78,33,229,247], [62,33,221,288], [240,30,85,243], [231,33,87,260], [229,59,64,288], [224,33,62,245], [224,28,85,246], [229,33,78,297], [231,30,69,243], [230,42,80,260]\n",
      "\n",
      "# Generation 240\n"
     ]
    },
    {
     "data": {
      "text/plain": [
       "@ Training progress: 100.0%"
      ]
     },
     "metadata": {},
     "output_type": "display_data"
    },
    {
     "name": "stdout",
     "output_type": "stream",
     "text": [
      "Parameters saved at Log 05.08.2019 16.17.txt!\n",
      "\n",
      "# All hosts\n",
      "  1) [221  33  62 247]: 0.92690\t\t  2) [229  33  78 288]: 0.92138\t\t\n",
      "  3) [229  59  80 288]: 0.92000\t\t  4) [231  33  62 246]: 0.91862\t\t\n",
      "  5) [230  32  94 244]: 0.91862\t\t  6) [231  33  78 260]: 0.91862\t\t\n",
      "  7) [ 78  59 229 288]: 0.91724\t\t  8) [230  30  78 270]: 0.91724\t\t\n",
      "  9) [229  28  85 243]: 0.91724\t\t 10) [230  49  78 269]: 0.91586\t\t\n",
      " 11) [231  33  87 260]: 0.91586\t\t 12) [224  28  85 246]: 0.88414\t\t\n",
      " 13) [240  30  85 243]: 0.85793\t\t 14) [ 62  33 221 288]: 0.83448\t\t\n",
      " 15) [224  33  62 245]: 0.82069\t\t 16) [229  33  78 297]: 0.81241\t\t\n",
      " 17) [ 78  33 229 247]: 0.76966\t\t 18) [230  42  80 260]: 0.76552\t\t\n",
      " 19) [229  59  64 288]: 0.75586\t\t 20) [231  30  69 243]: 0.70483\t\t\n",
      "- Average score: 0.86566\n",
      "\n",
      "- Evolving the hosts\n",
      "  - Removing half of the weaker hosts\n",
      "  - Crossovering top 2 hosts\n",
      "    [221  33  62 247] & [229  33  78 288] >> [0, 1, 3] & [0, 3, 1] >> [229 288  62  33] & [221 247  78  33]\n",
      "  - Mutating remaining top hosts\n",
      "    [221  33  62 247] >> [221  33  59 261]\n",
      "    [230  32  94 244] >> [217  32  84 244]\n",
      "    [231  33  62 246] >> [216  44  49 246]\n",
      "    [229  33  78 288] >> [237  33  82 288]\n",
      "    [221  33  62 247] >> [221  33  55 247]\n",
      "    [231  33  62 246] >> [231  27  62 246]\n",
      "    [229  28  85 243] >> [229  19  85 245]\n",
      "    [229  33  78 288] >> [229  33  78 288]\n",
      "  - Adding hosts\n",
      "    [229,288,62,33], [221,247,78,33], [221,33,59,261], [217,32,84,244], [216,44,49,246], [237,33,82,288], [221,33,55,247], [231,27,62,246], [229,19,85,245], [229,33,78,288]\n",
      "\n",
      "# Generation 241\n"
     ]
    },
    {
     "data": {
      "text/plain": [
       "@ Training progress: 100.0%"
      ]
     },
     "metadata": {},
     "output_type": "display_data"
    },
    {
     "name": "stdout",
     "output_type": "stream",
     "text": [
      "Parameters saved at Log 05.08.2019 16.17.txt!\n",
      "\n",
      "# All hosts\n",
      "  1) [221  33  62 247]: 0.92690\t\t  2) [229  33  78 288]: 0.92138\t\t\n",
      "  3) [229  59  80 288]: 0.92000\t\t  4) [231  33  62 246]: 0.91862\t\t\n",
      "  5) [230  32  94 244]: 0.91862\t\t  6) [231  33  78 260]: 0.91862\t\t\n",
      "  7) [ 78  59 229 288]: 0.91724\t\t  8) [230  30  78 270]: 0.91724\t\t\n",
      "  9) [229  28  85 243]: 0.91724\t\t 10) [230  49  78 269]: 0.91586\t\t\n",
      " 11) [237  33  82 288]: 0.90345\t\t 12) [221 247  78  33]: 0.88690\t\t\n",
      " 13) [231  27  62 246]: 0.84000\t\t 14) [221  33  55 247]: 0.80828\t\t\n",
      " 15) [229  19  85 245]: 0.80690\t\t 16) [229  33  78 288]: 0.80000\t\t\n",
      " 17) [221  33  59 261]: 0.78759\t\t 18) [217  32  84 244]: 0.77793\t\t\n",
      " 19) [216  44  49 246]: 0.73517\t\t 20) [229 288  62  33]: 0.59724\t\t\n",
      "- Average score: 0.85676\n",
      "\n",
      "- Evolving the hosts\n",
      "  - Removing half of the weaker hosts\n",
      "  - Crossovering top 2 hosts\n",
      "    [221  33  62 247] & [229  33  78 288] >> [1, 2, 3] & [1, 2, 3] >> [221  33  78 288] & [229  33  62 247]\n",
      "  - Mutating remaining top hosts\n",
      "    [230  30  78 270] >> [243  33  78 266]\n",
      "    [ 78  59 229 288] >> [ 78  63 224 281]\n",
      "    [229  59  80 288] >> [215  67  76 284]\n",
      "    [230  30  78 270] >> [217  30  78 274]\n",
      "    [221  33  62 247] >> [228  25  61 247]\n",
      "    [ 78  59 229 288] >> [ 74  70 235 288]\n",
      "    [230  30  78 270] >> [230  30  78 274]\n",
      "    [230  32  94 244] >> [230  39  94 244]\n",
      "  - Adding hosts\n",
      "    [221,33,78,288], [229,33,62,247], [243,33,78,266], [78,63,224,281], [215,67,76,284], [217,30,78,274], [228,25,61,247], [74,70,235,288], [230,30,78,274], [230,39,94,244]\n",
      "\n",
      "# Generation 242\n"
     ]
    },
    {
     "data": {
      "text/plain": [
       "@ Training progress: 100.0%"
      ]
     },
     "metadata": {},
     "output_type": "display_data"
    },
    {
     "name": "stdout",
     "output_type": "stream",
     "text": [
      "Parameters saved at Log 05.08.2019 16.17.txt!\n",
      "\n",
      "# All hosts\n",
      "  1) [221  33  62 247]: 0.92690\t\t  2) [229  33  78 288]: 0.92138\t\t\n",
      "  3) [229  59  80 288]: 0.92000\t\t  4) [231  33  62 246]: 0.91862\t\t\n",
      "  5) [230  32  94 244]: 0.91862\t\t  6) [231  33  78 260]: 0.91862\t\t\n",
      "  7) [ 78  59 229 288]: 0.91724\t\t  8) [230  30  78 270]: 0.91724\t\t\n",
      "  9) [229  28  85 243]: 0.91724\t\t 10) [230  49  78 269]: 0.91586\t\t\n",
      " 11) [221  33  78 288]: 0.89103\t\t 12) [228  25  61 247]: 0.86069\t\t\n",
      " 13) [230  39  94 244]: 0.85103\t\t 14) [243  33  78 266]: 0.83586\t\t\n",
      " 15) [217  30  78 274]: 0.83586\t\t 16) [ 74  70 235 288]: 0.81241\t\t\n",
      " 17) [215  67  76 284]: 0.80414\t\t 18) [229  33  62 247]: 0.79310\t\t\n",
      " 19) [230  30  78 274]: 0.77517\t\t 20) [ 78  63 224 281]: 0.67448\t\t\n",
      "- Average score: 0.86628\n",
      "\n",
      "- Evolving the hosts\n",
      "  - Removing half of the weaker hosts\n",
      "  - Crossovering top 2 hosts\n",
      "    [221  33  62 247] & [229  33  78 288] >> [0, 1] & [0, 1] >> [229  33  62 247] & [221  33  78 288]\n",
      "  - Mutating remaining top hosts\n",
      "    [230  30  78 270] >> [220  42  94 270]\n",
      "    [231  33  62 246] >> [231  19  62 246]\n",
      "    [231  33  62 246] >> [243  31  72 259]\n",
      "    [229  59  80 288] >> [222  61  95 278]\n",
      "    [ 78  59 229 288] >> [ 87  59 237 279]\n",
      "    [230  30  78 270] >> [230  30  63 284]\n",
      "    [231  33  62 246] >> [230  39  78 230]\n",
      "    [229  28  85 243] >> [240  28  72 251]\n",
      "  - Adding hosts\n",
      "    [229,33,62,247], [221,33,78,288], [220,42,94,270], [231,19,62,246], [243,31,72,259], [222,61,95,278], [87,59,237,279], [230,30,63,284], [230,39,78,230], [240,28,72,251]\n",
      "\n",
      "# Generation 243\n"
     ]
    },
    {
     "data": {
      "text/plain": [
       "@ Training progress: 100.0%"
      ]
     },
     "metadata": {},
     "output_type": "display_data"
    },
    {
     "name": "stdout",
     "output_type": "stream",
     "text": [
      "Parameters saved at Log 05.08.2019 16.17.txt!\n",
      "\n",
      "# All hosts\n",
      "  1) [221  33  62 247]: 0.92690\t\t  2) [229  33  78 288]: 0.92138\t\t\n",
      "  3) [229  59  80 288]: 0.92000\t\t  4) [231  33  62 246]: 0.91862\t\t\n",
      "  5) [230  32  94 244]: 0.91862\t\t  6) [231  33  78 260]: 0.91862\t\t\n",
      "  7) [ 78  59 229 288]: 0.91724\t\t  8) [230  30  78 270]: 0.91724\t\t\n",
      "  9) [229  28  85 243]: 0.91724\t\t 10) [230  49  78 269]: 0.91586\t\t\n",
      " 11) [230  30  63 284]: 0.90759\t\t 12) [ 87  59 237 279]: 0.86069\t\t\n",
      " 13) [221  33  78 288]: 0.85655\t\t 14) [220  42  94 270]: 0.85103\t\t\n",
      " 15) [243  31  72 259]: 0.84966\t\t 16) [240  28  72 251]: 0.83448\t\t\n",
      " 17) [222  61  95 278]: 0.82483\t\t 18) [231  19  62 246]: 0.78207\t\t\n",
      " 19) [229  33  62 247]: 0.72828\t\t 20) [230  39  78 230]: 0.70897\t\t\n",
      "- Average score: 0.86979\n",
      "\n",
      "- Evolving the hosts\n",
      "  - Removing half of the weaker hosts\n",
      "  - Crossovering top 2 hosts\n",
      "    [221  33  62 247] & [229  33  78 288] >> [1, 2, 3] & [2, 3, 1] >> [221  78 288  33] & [229 247  33  62]\n",
      "  - Mutating remaining top hosts\n",
      "    [230  49  78 269] >> [219  47  72 270]\n",
      "    [230  30  78 270] >> [243  30  78 276]\n",
      "    [229  59  80 288] >> [245  59  77 285]\n",
      "    [229  59  80 288] >> [229  45  93 288]\n",
      "    [231  33  62 246] >> [231  44  58 251]\n",
      "    [230  32  94 244] >> [236  32  81 233]\n",
      "    [231  33  62 246] >> [244  29  62 246]\n",
      "    [229  28  85 243] >> [240  15  85 243]\n",
      "  - Adding hosts\n",
      "    [221,78,288,33], [229,247,33,62], [219,47,72,270], [243,30,78,276], [245,59,77,285], [229,45,93,288], [231,44,58,251], [236,32,81,233], [244,29,62,246], [240,15,85,243]\n",
      "\n",
      "# Generation 244\n"
     ]
    },
    {
     "data": {
      "text/plain": [
       "@ Training progress: 100.0%"
      ]
     },
     "metadata": {},
     "output_type": "display_data"
    },
    {
     "name": "stdout",
     "output_type": "stream",
     "text": [
      "Parameters saved at Log 05.08.2019 16.17.txt!\n",
      "\n",
      "# All hosts\n",
      "  1) [221  33  62 247]: 0.92690\t\t  2) [229  33  78 288]: 0.92138\t\t\n",
      "  3) [229  59  80 288]: 0.92000\t\t  4) [231  33  62 246]: 0.91862\t\t\n",
      "  5) [230  32  94 244]: 0.91862\t\t  6) [231  33  78 260]: 0.91862\t\t\n",
      "  7) [ 78  59 229 288]: 0.91724\t\t  8) [230  30  78 270]: 0.91724\t\t\n",
      "  9) [229  28  85 243]: 0.91724\t\t 10) [230  49  78 269]: 0.91586\t\t\n",
      " 11) [229  45  93 288]: 0.89379\t\t 12) [240  15  85 243]: 0.88552\t\t\n",
      " 13) [221  78 288  33]: 0.87310\t\t 14) [219  47  72 270]: 0.85793\t\t\n",
      " 15) [229 247  33  62]: 0.85103\t\t 16) [236  32  81 233]: 0.83862\t\t\n",
      " 17) [244  29  62 246]: 0.82207\t\t 18) [245  59  77 285]: 0.81241\t\t\n",
      " 19) [231  44  58 251]: 0.80138\t\t 20) [243  30  78 276]: 0.75586\t\t\n",
      "- Average score: 0.87917\n",
      "\n",
      "- Evolving the hosts\n",
      "  - Removing half of the weaker hosts\n",
      "  - Crossovering top 2 hosts\n",
      "    [221  33  62 247] & [229  33  78 288] >> [0, 2] & [0, 2] >> [229  33  78 247] & [221  33  62 288]\n",
      "  - Mutating remaining top hosts\n",
      "    [229  59  80 288] >> [229  50  89 288]\n",
      "    [230  32  94 244] >> [230  20  94 258]\n",
      "    [230  49  78 269] >> [230  54  78 269]\n",
      "    [229  28  85 243] >> [214  17  95 240]\n",
      "    [231  33  62 246] >> [238  41  50 240]\n",
      "    [229  28  85 243] >> [245  31  85 243]\n",
      "    [231  33  62 246] >> [222  49  57 234]\n",
      "    [229  28  85 243] >> [217  37  80 235]\n",
      "  - Adding hosts\n",
      "    [229,33,78,247], [221,33,62,288], [229,50,89,288], [230,20,94,258], [230,54,78,269], [214,17,95,240], [238,41,50,240], [245,31,85,243], [222,49,57,234], [217,37,80,235]\n",
      "\n",
      "# Generation 245\n"
     ]
    },
    {
     "data": {
      "text/plain": [
       "@ Training progress: 100.0%"
      ]
     },
     "metadata": {},
     "output_type": "display_data"
    },
    {
     "name": "stdout",
     "output_type": "stream",
     "text": [
      "Parameters saved at Log 05.08.2019 16.17.txt!\n",
      "\n",
      "# All hosts\n",
      "  1) [221  33  62 247]: 0.92690\t\t  2) [229  33  78 288]: 0.92138\t\t\n",
      "  3) [229  59  80 288]: 0.92000\t\t  4) [231  33  62 246]: 0.91862\t\t\n",
      "  5) [230  32  94 244]: 0.91862\t\t  6) [231  33  78 260]: 0.91862\t\t\n",
      "  7) [ 78  59 229 288]: 0.91724\t\t  8) [230  30  78 270]: 0.91724\t\t\n",
      "  9) [229  28  85 243]: 0.91724\t\t 10) [230  49  78 269]: 0.91586\t\t\n",
      " 11) [222  49  57 234]: 0.87310\t\t 12) [230  20  94 258]: 0.85931\t\t\n",
      " 13) [217  37  80 235]: 0.85793\t\t 14) [238  41  50 240]: 0.84552\t\t\n",
      " 15) [245  31  85 243]: 0.84414\t\t 16) [229  33  78 247]: 0.76966\t\t\n",
      " 17) [230  54  78 269]: 0.75586\t\t 18) [229  50  89 288]: 0.74483\t\t\n",
      " 19) [214  17  95 240]: 0.72828\t\t 20) [221  33  62 288]: 0.69517\t\t\n",
      "- Average score: 0.85828\n",
      "\n",
      "- Evolving the hosts\n",
      "  - Removing half of the weaker hosts\n",
      "  - Crossovering top 2 hosts\n",
      "    [221  33  62 247] & [229  33  78 288] >> [0, 2, 3] & [0, 3, 2] >> [229  33 288  78] & [221  33 247  62]\n",
      "  - Mutating remaining top hosts\n",
      "    [ 78  59 229 288] >> [ 78  44 229 288]\n",
      "    [231  33  62 246] >> [242  49  68 230]\n",
      "    [231  33  62 246] >> [216  48  55 246]\n",
      "    [230  30  78 270] >> [230  30  87 281]\n",
      "    [229  59  80 288] >> [244  61  80 282]\n",
      "    [230  32  94 244] >> [223  29 101 243]\n",
      "    [230  30  78 270] >> [246  15  89 281]\n",
      "    [230  32  94 244] >> [227  29  97 245]\n",
      "  - Adding hosts\n",
      "    [229,33,288,78], [221,33,247,62], [78,44,229,288], [242,49,68,230], [216,48,55,246], [230,30,87,281], [244,61,80,282], [223,29,101,243], [246,15,89,281], [227,29,97,245]\n",
      "\n",
      "# Generation 246\n"
     ]
    },
    {
     "data": {
      "text/plain": [
       "@ Training progress: 100.0%"
      ]
     },
     "metadata": {},
     "output_type": "display_data"
    },
    {
     "name": "stdout",
     "output_type": "stream",
     "text": [
      "Parameters saved at Log 05.08.2019 16.17.txt!\n",
      "\n",
      "# All hosts\n",
      "  1) [221  33  62 247]: 0.92690\t\t  2) [229  33  78 288]: 0.92138\t\t\n",
      "  3) [229  59  80 288]: 0.92000\t\t  4) [231  33  62 246]: 0.91862\t\t\n",
      "  5) [230  32  94 244]: 0.91862\t\t  6) [231  33  78 260]: 0.91862\t\t\n",
      "  7) [ 78  59 229 288]: 0.91724\t\t  8) [230  30  78 270]: 0.91724\t\t\n",
      "  9) [229  28  85 243]: 0.91724\t\t 10) [230  49  78 269]: 0.91586\t\t\n",
      " 11) [227  29  97 245]: 0.89517\t\t 12) [229  33 288  78]: 0.88414\t\t\n",
      " 13) [216  48  55 246]: 0.85103\t\t 14) [244  61  80 282]: 0.82483\t\t\n",
      " 15) [ 78  44 229 288]: 0.79862\t\t 16) [242  49  68 230]: 0.79724\t\t\n",
      " 17) [221  33 247  62]: 0.78759\t\t 18) [230  30  87 281]: 0.78621\t\t\n",
      " 19) [246  15  89 281]: 0.76966\t\t 20) [223  29 101 243]: 0.74897\t\t\n",
      "- Average score: 0.86676\n",
      "\n",
      "- Evolving the hosts\n",
      "  - Removing half of the weaker hosts\n",
      "  - Crossovering top 2 hosts\n",
      "    [221  33  62 247] & [229  33  78 288] >> [0, 2, 3] & [3, 2, 0] >> [288  33  78 229] & [247  33  62 221]\n",
      "  - Mutating remaining top hosts\n",
      "    [230  49  78 269] >> [230  60  78 269]\n",
      "    [231  33  78 260] >> [231  17  67 260]\n",
      "    [231  33  62 246] >> [231  28  73 246]\n",
      "    [230  30  78 270] >> [240  27  78 270]\n",
      "    [230  32  94 244] >> [230  32 109 244]\n",
      "    [229  33  78 288] >> [229  33  78 288]\n",
      "    [230  30  78 270] >> [230  26  63 264]\n",
      "    [230  49  78 269] >> [230  49  68 270]\n",
      "  - Adding hosts\n",
      "    [288,33,78,229], [247,33,62,221], [230,60,78,269], [231,17,67,260], [231,28,73,246], [240,27,78,270], [230,32,109,244], [229,33,78,288], [230,26,63,264], [230,49,68,270]\n",
      "\n",
      "# Generation 247\n"
     ]
    },
    {
     "data": {
      "text/plain": [
       "@ Training progress: 100.0%"
      ]
     },
     "metadata": {},
     "output_type": "display_data"
    },
    {
     "name": "stdout",
     "output_type": "stream",
     "text": [
      "Parameters saved at Log 05.08.2019 16.17.txt!\n",
      "\n",
      "# All hosts\n",
      "  1) [221  33  62 247]: 0.92690\t\t  2) [229  33  78 288]: 0.92138\t\t\n",
      "  3) [229  59  80 288]: 0.92000\t\t  4) [231  33  62 246]: 0.91862\t\t\n",
      "  5) [230  32  94 244]: 0.91862\t\t  6) [231  33  78 260]: 0.91862\t\t\n",
      "  7) [ 78  59 229 288]: 0.91724\t\t  8) [230  30  78 270]: 0.91724\t\t\n",
      "  9) [229  28  85 243]: 0.91724\t\t 10) [230  49  78 269]: 0.91586\t\t\n",
      " 11) [230  49  68 270]: 0.88690\t\t 12) [288  33  78 229]: 0.86345\t\t\n",
      " 13) [231  28  73 246]: 0.86069\t\t 14) [240  27  78 270]: 0.85793\t\t\n",
      " 15) [230  60  78 269]: 0.84000\t\t 16) [230  26  63 264]: 0.83034\t\t\n",
      " 17) [231  17  67 260]: 0.82069\t\t 18) [229  33  78 288]: 0.75586\t\t\n",
      " 19) [230  32 109 244]: 0.74759\t\t 20) [247  33  62 221]: 0.73655\t\t\n",
      "- Average score: 0.86959\n",
      "\n",
      "- Evolving the hosts\n",
      "  - Removing half of the weaker hosts\n",
      "  - Crossovering top 2 hosts\n",
      "    [221  33  62 247] & [229  33  78 288] >> [0, 1, 3] & [0, 1, 3] >> [229  33  62 288] & [221  33  78 247]\n",
      "  - Mutating remaining top hosts\n",
      "    [230  49  78 269] >> [230  54  78 269]\n",
      "    [230  32  94 244] >> [235  24  94 257]\n",
      "    [230  49  78 269] >> [230  49  78 269]\n",
      "    [230  32  94 244] >> [230  32  94 229]\n",
      "    [230  30  78 270] >> [230  30  78 273]\n",
      "    [229  28  85 243] >> [217  27  85 255]\n",
      "    [231  33  62 246] >> [236  33  50 246]\n",
      "    [230  30  78 270] >> [232  30  84 262]\n",
      "  - Adding hosts\n",
      "    [229,33,62,288], [221,33,78,247], [230,54,78,269], [235,24,94,257], [230,49,78,269], [230,32,94,229], [230,30,78,273], [217,27,85,255], [236,33,50,246], [232,30,84,262]\n",
      "\n",
      "# Generation 248\n"
     ]
    },
    {
     "data": {
      "text/plain": [
       "@ Training progress: 100.0%"
      ]
     },
     "metadata": {},
     "output_type": "display_data"
    },
    {
     "name": "stdout",
     "output_type": "stream",
     "text": [
      "Parameters saved at Log 05.08.2019 16.17.txt!\n",
      "\n",
      "# All hosts\n",
      "  1) [221  33  62 247]: 0.92690\t\t  2) [229  33  78 288]: 0.92138\t\t\n",
      "  3) [229  59  80 288]: 0.92000\t\t  4) [231  33  62 246]: 0.91862\t\t\n",
      "  5) [230  32  94 244]: 0.91862\t\t  6) [231  33  78 260]: 0.91862\t\t\n",
      "  7) [ 78  59 229 288]: 0.91724\t\t  8) [230  30  78 270]: 0.91724\t\t\n",
      "  9) [229  28  85 243]: 0.91724\t\t 10) [230  49  78 269]: 0.91586\t\t\n",
      " 11) [221  33  78 247]: 0.89793\t\t 12) [229  33  62 288]: 0.88276\t\t\n",
      " 13) [236  33  50 246]: 0.88276\t\t 14) [230  30  78 273]: 0.87172\t\t\n",
      " 15) [217  27  85 255]: 0.86345\t\t 16) [230  32  94 229]: 0.81793\t\t\n",
      " 17) [230  49  78 269]: 0.81655\t\t 18) [235  24  94 257]: 0.81103\t\t\n",
      " 19) [232  30  84 262]: 0.81103\t\t 20) [230  54  78 269]: 0.76966\t\t\n",
      "- Average score: 0.88083\n",
      "\n",
      "- Evolving the hosts\n",
      "  - Removing half of the weaker hosts\n",
      "  - Crossovering top 2 hosts\n",
      "    [221  33  62 247] & [229  33  78 288] >> [0, 1, 2, 3] & [3, 1, 2, 0] >> [288  33  78 229] & [247  33  62 221]\n",
      "  - Mutating remaining top hosts\n",
      "    [230  49  78 269] >> [238  49  78 264]\n",
      "    [231  33  78 260] >> [231  33  69 265]\n",
      "    [231  33  62 246] >> [218  33  50 261]\n",
      "    [231  33  78 260] >> [215  32  88 260]\n",
      "    [221  33  62 247] >> [221  24  75 247]\n",
      "    [230  32  94 244] >> [230  38 107 244]\n",
      "    [229  59  80 288] >> [242  59  95 288]\n",
      "    [230  32  94 244] >> [221  36  99 256]\n",
      "  - Adding hosts\n",
      "    [288,33,78,229], [247,33,62,221], [238,49,78,264], [231,33,69,265], [218,33,50,261], [215,32,88,260], [221,24,75,247], [230,38,107,244], [242,59,95,288], [221,36,99,256]\n",
      "\n",
      "# Generation 249\n"
     ]
    },
    {
     "data": {
      "text/plain": [
       "@ Training progress: 100.0%"
      ]
     },
     "metadata": {},
     "output_type": "display_data"
    },
    {
     "name": "stdout",
     "output_type": "stream",
     "text": [
      "Parameters saved at Log 05.08.2019 16.17.txt!\n",
      "\n",
      "# All hosts\n",
      "  1) [221  33  62 247]: 0.92690\t\t  2) [229  33  78 288]: 0.92138\t\t\n",
      "  3) [229  59  80 288]: 0.92000\t\t  4) [231  33  62 246]: 0.91862\t\t\n",
      "  5) [230  32  94 244]: 0.91862\t\t  6) [231  33  78 260]: 0.91862\t\t\n",
      "  7) [230  38 107 244]: 0.91724\t\t  8) [ 78  59 229 288]: 0.91724\t\t\n",
      "  9) [230  30  78 270]: 0.91724\t\t 10) [229  28  85 243]: 0.91724\t\t\n",
      " 11) [230  49  78 269]: 0.91586\t\t 12) [247  33  62 221]: 0.85655\t\t\n",
      " 13) [242  59  95 288]: 0.84828\t\t 14) [221  36  99 256]: 0.84828\t\t\n",
      " 15) [215  32  88 260]: 0.83586\t\t 16) [238  49  78 264]: 0.80828\t\t\n",
      " 17) [221  24  75 247]: 0.77379\t\t 18) [288  33  78 229]: 0.76690\t\t\n",
      " 19) [231  33  69 265]: 0.74621\t\t 20) [218  33  50 261]: 0.72828\t\t\n",
      "- Average score: 0.86607\n",
      "\n"
     ]
    }
   ],
   "source": [
    "G = 250\n",
    "for g in range(G):\n",
    "    print(\"# Generation\", g)\n",
    "    evo.runTest()\n",
    "    evo.printHosts()\n",
    "    if (g < G-1):\n",
    "        evo.evolve(g)\n",
    "    print()"
   ]
  },
  {
   "cell_type": "code",
   "execution_count": 15,
   "metadata": {},
   "outputs": [
    {
     "data": {
      "text/plain": [
       "[<matplotlib.lines.Line2D at 0x1a647f92cf8>]"
      ]
     },
     "execution_count": 15,
     "metadata": {},
     "output_type": "execute_result"
    },
    {
     "data": {
      "image/png": "[encoded data removed]",
      "text/plain": [
       "<Figure size 432x288 with 1 Axes>"
      ]
     },
     "metadata": {
      "needs_background": "light"
     },
     "output_type": "display_data"
    }
   ],
   "source": [
    "plt.plot(evo.scores)"
   ]
  },
  {
   "cell_type": "code",
   "execution_count": 16,
   "metadata": {},
   "outputs": [
    {
     "name": "stdout",
     "output_type": "stream",
     "text": [
      "Parameters saved at Parameter 05.08.2019 21.44.txt!\n"
     ]
    }
   ],
   "source": [
    "evo.saveParameters(\"Parameter {date}.txt\".format(date=datetime.now().strftime(\"%d.%m.%Y %H.%M\")))"
   ]
  }
 ],
 "metadata": {
  "kernelspec": {
   "display_name": "Python 3",
   "language": "python",
   "name": "python3"
  },
  "language_info": {
   "codemirror_mode": {
    "name": "ipython",
    "version": 3
   },
   "file_extension": ".py",
   "mimetype": "text/x-python",
   "name": "python",
   "nbconvert_exporter": "python",
   "pygments_lexer": "ipython3",
   "version": "3.6.7"
  }
 },
 "nbformat": 4,
 "nbformat_minor": 2
}
